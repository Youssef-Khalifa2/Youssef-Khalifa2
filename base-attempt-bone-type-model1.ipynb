{
 "cells": [
  {
   "cell_type": "code",
   "execution_count": 1,
   "id": "35becf91",
   "metadata": {
    "execution": {
     "iopub.execute_input": "2024-06-09T09:16:32.666922Z",
     "iopub.status.busy": "2024-06-09T09:16:32.666603Z",
     "iopub.status.idle": "2024-06-09T09:16:45.774423Z",
     "shell.execute_reply": "2024-06-09T09:16:45.773628Z"
    },
    "papermill": {
     "duration": 13.115585,
     "end_time": "2024-06-09T09:16:45.776661",
     "exception": false,
     "start_time": "2024-06-09T09:16:32.661076",
     "status": "completed"
    },
    "tags": []
   },
   "outputs": [
    {
     "name": "stderr",
     "output_type": "stream",
     "text": [
      "2024-06-09 09:16:34.571715: E external/local_xla/xla/stream_executor/cuda/cuda_dnn.cc:9261] Unable to register cuDNN factory: Attempting to register factory for plugin cuDNN when one has already been registered\n",
      "2024-06-09 09:16:34.571819: E external/local_xla/xla/stream_executor/cuda/cuda_fft.cc:607] Unable to register cuFFT factory: Attempting to register factory for plugin cuFFT when one has already been registered\n",
      "2024-06-09 09:16:34.698164: E external/local_xla/xla/stream_executor/cuda/cuda_blas.cc:1515] Unable to register cuBLAS factory: Attempting to register factory for plugin cuBLAS when one has already been registered\n"
     ]
    }
   ],
   "source": [
    "import os\n",
    "import cv2\n",
    "import keras\n",
    "import shutil\n",
    "import random\n",
    "import gc\n",
    "import numpy as np\n",
    "import pandas as pd \n",
    "import tensorflow as tf\n",
    "from PIL import Image, UnidentifiedImageError\n",
    "from tensorflow.keras.preprocessing.image import load_img, img_to_array\n",
    "from tensorflow.keras.layers import Input, Average, Dense ,Layer\n",
    "from tensorflow.keras.layers import Dropout, GlobalAveragePooling2D, BatchNormalization,MaxPooling2D\n",
    "from tensorflow.keras.regularizers import l2\n",
    "from tensorflow.keras.layers import Concatenate, GlobalAveragePooling2D\n",
    "from sklearn.model_selection import train_test_split\n",
    "from keras.callbacks import EarlyStopping, ModelCheckpoint, LearningRateScheduler, TensorBoard\n",
    "from keras.layers import Concatenate\n",
    "from keras.models import load_model\n",
    "from tensorflow.keras.applications import Xception,EfficientNetB0\n",
    "from tensorflow.keras.utils import Sequence\n",
    "from tensorflow.keras import mixed_precision , applications,layers\n",
    "from keras.applications.resnet50 import preprocess_input\n",
    "mixed_precision.set_global_policy('mixed_float16')"
   ]
  },
  {
   "cell_type": "code",
   "execution_count": 2,
   "id": "be67c5c1",
   "metadata": {
    "execution": {
     "iopub.execute_input": "2024-06-09T09:16:45.786731Z",
     "iopub.status.busy": "2024-06-09T09:16:45.786200Z",
     "iopub.status.idle": "2024-06-09T09:16:45.790544Z",
     "shell.execute_reply": "2024-06-09T09:16:45.789832Z"
    },
    "papermill": {
     "duration": 0.011335,
     "end_time": "2024-06-09T09:16:45.792417",
     "exception": false,
     "start_time": "2024-06-09T09:16:45.781082",
     "status": "completed"
    },
    "tags": []
   },
   "outputs": [],
   "source": [
    "image_shape = (224, 224, 3)\n",
    "num_classes = 5  \n",
    "num_views = 7\n",
    "batch_size = 32"
   ]
  },
  {
   "cell_type": "code",
   "execution_count": 3,
   "id": "ef9bcd61",
   "metadata": {
    "execution": {
     "iopub.execute_input": "2024-06-09T09:16:45.801799Z",
     "iopub.status.busy": "2024-06-09T09:16:45.801276Z",
     "iopub.status.idle": "2024-06-09T09:16:45.807730Z",
     "shell.execute_reply": "2024-06-09T09:16:45.806928Z"
    },
    "papermill": {
     "duration": 0.013117,
     "end_time": "2024-06-09T09:16:45.809651",
     "exception": false,
     "start_time": "2024-06-09T09:16:45.796534",
     "status": "completed"
    },
    "tags": []
   },
   "outputs": [
    {
     "data": {
      "text/plain": [
       "'# Source path of the model\\nsource_path = \"/kaggle/input/bone-type-midway-multi/keras/xception-trails/1/xceptionattentionregularizedno-hypertuning.keras\"\\n\\n# Destination path where you can write\\ndestination_path = \"/kaggle/working/model.keras\"\\n\\n# Copy the model file\\nshutil.copyfile(source_path, destination_path)\\n\\n# Now load the model from the copied file\\nmodel = load_model(destination_path)'"
      ]
     },
     "execution_count": 3,
     "metadata": {},
     "output_type": "execute_result"
    }
   ],
   "source": [
    "'''# Source path of the model\n",
    "source_path = \"/kaggle/input/bone-type-midway-multi/keras/xception-trails/1/xceptionattentionregularizedno-hypertuning.keras\"\n",
    "\n",
    "# Destination path where you can write\n",
    "destination_path = \"/kaggle/working/model.keras\"\n",
    "\n",
    "# Copy the model file\n",
    "shutil.copyfile(source_path, destination_path)\n",
    "\n",
    "# Now load the model from the copied file\n",
    "model = load_model(destination_path)'''"
   ]
  },
  {
   "cell_type": "code",
   "execution_count": 4,
   "id": "d4445c38",
   "metadata": {
    "execution": {
     "iopub.execute_input": "2024-06-09T09:16:45.818838Z",
     "iopub.status.busy": "2024-06-09T09:16:45.818555Z",
     "iopub.status.idle": "2024-06-09T09:16:45.834413Z",
     "shell.execute_reply": "2024-06-09T09:16:45.833642Z"
    },
    "papermill": {
     "duration": 0.022409,
     "end_time": "2024-06-09T09:16:45.836156",
     "exception": false,
     "start_time": "2024-06-09T09:16:45.813747",
     "status": "completed"
    },
    "tags": []
   },
   "outputs": [],
   "source": [
    "class CustomDataGenerator(Sequence):\n",
    "    def __init__(self, image_paths, labels, batch_size, image_shape, num_classes, num_views=num_views):\n",
    "        super().__init__()\n",
    "        self.image_paths = list(image_paths)\n",
    "        self.labels = list(labels)\n",
    "        self.batch_size = batch_size\n",
    "        self.image_shape = image_shape\n",
    "        self.num_classes = num_classes\n",
    "        self.num_views = num_views\n",
    "        self.on_epoch_end()\n",
    "\n",
    "    def __len__(self):\n",
    "        return int(np.floor(len(self.image_paths) / self.batch_size))\n",
    "\n",
    "    def __getitem__(self, index):\n",
    "        indices = self.indices[index * self.batch_size:(index + 1) * self.batch_size]\n",
    "        batch_image_paths = [self.image_paths[i] for i in indices]\n",
    "        batch_labels = [self.labels[i] for i in indices]\n",
    "\n",
    "        images = []\n",
    "        for folder_path in batch_image_paths:\n",
    "            images.append(self._load_and_pad_images(folder_path, self.image_shape))\n",
    "\n",
    "        images = np.array(images)  # Shape: (batch_size, num_views, height, width, channels)\n",
    "        batch_labels = tf.keras.utils.to_categorical(batch_labels, num_classes=self.num_classes)\n",
    "\n",
    "        # Transpose the batch to separate views as different inputs\n",
    "        images = [images[:, i, :, :, :] for i in range(self.num_views)]\n",
    "        \n",
    "        # Convert to tuple of tensors\n",
    "        images = tuple(tf.convert_to_tensor(img) for img in images)\n",
    "        batch_labels = tf.convert_to_tensor(batch_labels)\n",
    "\n",
    "        return images, batch_labels\n",
    "\n",
    "    def on_epoch_end(self):\n",
    "        self.indices = np.arange(len(self.image_paths))\n",
    "        np.random.shuffle(self.indices)\n",
    "\n",
    "    def _load_and_pad_images(self, folder_path, image_shape):\n",
    "        image_paths = [os.path.join(folder_path, f) for f in os.listdir(folder_path)\n",
    "                       if f.endswith((\".jpg\", \".jpeg\", \".png\")) and not f.startswith(\"._\")]\n",
    "\n",
    "        if not image_paths:\n",
    "            logger.error(f\"No valid images found in folder: {folder_path}\")\n",
    "            return [np.zeros((image_shape[0], image_shape[1], image_shape[2]))] * self.num_views\n",
    "\n",
    "        if len(image_paths) > self.num_views:\n",
    "            image_paths = random.sample(image_paths, self.num_views)\n",
    "\n",
    "        processed_images = []\n",
    "        for image_path in image_paths:\n",
    "            try:\n",
    "                img = load_img(image_path, target_size=image_shape)\n",
    "                img_array = img_to_array(img)\n",
    "                img_array = img_array / 255.0\n",
    "                preprocessed_img_array = preprocess_input(img_array)\n",
    "                processed_images.append(preprocessed_img_array)\n",
    "            except Exception as e:\n",
    "                logger.warning(f\"Warning: Skipping unidentifiable image file: {image_path} due to {e}\")\n",
    "                processed_images.append(np.zeros((image_shape[0], image_shape[1], image_shape[2])))\n",
    "\n",
    "        while len(processed_images) < self.num_views:\n",
    "            processed_images.append(np.zeros((image_shape[0], image_shape[1], image_shape[2])))\n",
    "\n",
    "        return np.array(processed_images)\n"
   ]
  },
  {
   "cell_type": "code",
   "execution_count": 5,
   "id": "4cc6e54d",
   "metadata": {
    "execution": {
     "iopub.execute_input": "2024-06-09T09:16:45.845384Z",
     "iopub.status.busy": "2024-06-09T09:16:45.845144Z",
     "iopub.status.idle": "2024-06-09T09:16:45.953097Z",
     "shell.execute_reply": "2024-06-09T09:16:45.952126Z"
    },
    "papermill": {
     "duration": 0.11484,
     "end_time": "2024-06-09T09:16:45.955058",
     "exception": false,
     "start_time": "2024-06-09T09:16:45.840218",
     "status": "completed"
    },
    "tags": []
   },
   "outputs": [
    {
     "name": "stdout",
     "output_type": "stream",
     "text": [
      "                                                    Path Bone_type\n",
      "9666   /kaggle/input/mura-v11/MURA-v1.1/train/XR_WRIS...         1\n",
      "9719   /kaggle/input/mura-v11/MURA-v1.1/train/XR_WRIS...         1\n",
      "5328   /kaggle/input/mura-v11/MURA-v1.1/train/XR_FING...         4\n",
      "2159   /kaggle/input/mura-v11/MURA-v1.1/train/XR_SHOU...         0\n",
      "4740   /kaggle/input/mura-v11/MURA-v1.1/train/XR_FING...         4\n",
      "...                                                  ...       ...\n",
      "8405   /kaggle/input/mura-v11/MURA-v1.1/train/XR_WRIS...         1\n",
      "12424  /kaggle/input/mura-v11/MURA-v1.1/train/XR_HAND...         2\n",
      "905    /kaggle/input/mura-v11/MURA-v1.1/train/XR_SHOU...         0\n",
      "5784   /kaggle/input/mura-v11/MURA-v1.1/train/XR_ELBO...         3\n",
      "235    /kaggle/input/mura-v11/MURA-v1.1/train/XR_SHOU...         0\n",
      "\n",
      "[9590 rows x 2 columns]\n",
      "===============Done with training images===================\n",
      "===============Done with test images===================\n"
     ]
    }
   ],
   "source": [
    "bone_type_mapping = {'SHOULDER': 0, 'WRIST': 1, 'HAND': 2, 'ELBOW': 3, 'FINGER': 4}\n",
    "prefix = '/kaggle/input/mura-v11/'\n",
    "output_directory = '/kaggle/working'\n",
    "train_excel_file_path = '/kaggle/input/csv-for-multiview/Patients with bone type for multiview.csv'\n",
    "df = pd.read_csv(train_excel_file_path, header=None,names=['Path', 'Abnormal','Bone_type'])\n",
    "df = df[~df['Path'].str.contains('XR_FOREARM|XR_HUMERUS')]\n",
    "df['Bone_type'] = df['Bone_type'].map(bone_type_mapping).astype(int)\n",
    "paths = prefix + df['Path'].astype(str)\n",
    "labels = df['Bone_type']\n",
    "labels = labels.astype(str)\n",
    "t_images = pd.concat([paths, labels], axis=1)\n",
    "train_df, test_df = train_test_split(t_images, train_size=0.8, shuffle=True, random_state=1)\n",
    "print(train_df)\n",
    "print(\"===============Done with training images===================\")\n",
    "test_excel_file_path = '/kaggle/input/csv-for-multiview/validation Patients with bone type for multiview.csv'\n",
    "df = pd.read_csv(test_excel_file_path, header=None,names=['Path', 'Abnormal','Bone_type'])\n",
    "df = df[~df['Path'].str.contains('XR_FOREARM|XR_HUMERUS')]\n",
    "df['Bone_type'] = df['Bone_type'].map(bone_type_mapping).astype(int)\n",
    "paths = prefix + df['Path'].astype(str)\n",
    "labels = df['Bone_type']\n",
    "labels = labels.astype(str)\n",
    "v_images = pd.concat([paths, labels], axis=1)\n",
    "print(\"===============Done with test images===================\")"
   ]
  },
  {
   "cell_type": "code",
   "execution_count": 6,
   "id": "eb391afa",
   "metadata": {
    "_cell_guid": "b1076dfc-b9ad-4769-8c92-a6c4dae69d19",
    "_uuid": "8f2839f25d086af736a60e9eeb907d3b93b6e0e5",
    "execution": {
     "iopub.execute_input": "2024-06-09T09:16:45.964754Z",
     "iopub.status.busy": "2024-06-09T09:16:45.964469Z",
     "iopub.status.idle": "2024-06-09T09:16:45.973570Z",
     "shell.execute_reply": "2024-06-09T09:16:45.972904Z"
    },
    "papermill": {
     "duration": 0.016018,
     "end_time": "2024-06-09T09:16:45.975409",
     "exception": false,
     "start_time": "2024-06-09T09:16:45.959391",
     "status": "completed"
    },
    "tags": []
   },
   "outputs": [],
   "source": [
    "#Data Generators Initialization \n",
    "train_paths,train_labels = train_df['Path'] , train_df['Bone_type']\n",
    "valid_paths,valid_labels = test_df['Path'] , test_df['Bone_type']\n",
    "test_paths,test_labels = v_images['Path'] , v_images['Bone_type']\n",
    "\n",
    "train_generator = CustomDataGenerator(train_paths, train_labels, batch_size, image_shape, num_classes)\n",
    "valid_generator = CustomDataGenerator(valid_paths, valid_labels, batch_size, image_shape, num_classes)\n",
    "test_generator = CustomDataGenerator(test_paths, test_labels, batch_size, image_shape, num_classes)"
   ]
  },
  {
   "cell_type": "code",
   "execution_count": 7,
   "id": "11e19e86",
   "metadata": {
    "execution": {
     "iopub.execute_input": "2024-06-09T09:16:45.984932Z",
     "iopub.status.busy": "2024-06-09T09:16:45.984677Z",
     "iopub.status.idle": "2024-06-09T09:16:45.990428Z",
     "shell.execute_reply": "2024-06-09T09:16:45.989626Z"
    },
    "papermill": {
     "duration": 0.012557,
     "end_time": "2024-06-09T09:16:45.992244",
     "exception": false,
     "start_time": "2024-06-09T09:16:45.979687",
     "status": "completed"
    },
    "tags": []
   },
   "outputs": [],
   "source": [
    "#Callbacks Initialization\n",
    "checkpoint_path = '/kaggle/working/multiple_view_shoulder_v2.keras'\n",
    "Monitored_metric= 'val_loss' \n",
    "# Create an EarlyStopping callback\n",
    "early_stopping = EarlyStopping(monitor=Monitored_metric,  # The metric to monitor for early stopping\n",
    "                               patience=10,  # Number of epochs with no improvement after which training will be stopped\n",
    "                               verbose=1,  # Verbosity level\n",
    "                               restore_best_weights=True)  # Restore model weights from the epoch with the best value of the monitored metric\n",
    "\n",
    "# Create a ModelCheckpoint callback\n",
    "model_checkpoint = ModelCheckpoint(checkpoint_path,\n",
    "                                   monitor=Monitored_metric,  # The metric to monitor for saving the best model\n",
    "                                   save_best_only=True,  # Save only the best model\n",
    "                                   mode='min',  # Mode for the 'monitor' metric (e.g., 'min' for loss)\n",
    "                                   verbose=1)  # Verbosity level\n",
    "learn_control = tf.keras.callbacks.ReduceLROnPlateau(monitor=Monitored_metric, \n",
    "                                  patience=4,\n",
    "                                  verbose=1,\n",
    "                                  factor=0.2, \n",
    "                                  min_lr=1e-7)"
   ]
  },
  {
   "cell_type": "code",
   "execution_count": 8,
   "id": "6bd7a16e",
   "metadata": {
    "execution": {
     "iopub.execute_input": "2024-06-09T09:16:46.001796Z",
     "iopub.status.busy": "2024-06-09T09:16:46.001521Z",
     "iopub.status.idle": "2024-06-09T09:16:46.010276Z",
     "shell.execute_reply": "2024-06-09T09:16:46.009431Z"
    },
    "papermill": {
     "duration": 0.015631,
     "end_time": "2024-06-09T09:16:46.012164",
     "exception": false,
     "start_time": "2024-06-09T09:16:45.996533",
     "status": "completed"
    },
    "tags": []
   },
   "outputs": [],
   "source": [
    "@tf.keras.utils.register_keras_serializable(package='Custom', name='AttentionLayer')\n",
    "class AttentionLayer(Layer):\n",
    "    def __init__(self, **kwargs):\n",
    "        super(AttentionLayer, self).__init__(**kwargs)\n",
    "        self.dense = None\n",
    "        self.attention_weights = None\n",
    "\n",
    "    def build(self, input_shape):\n",
    "        self.dense = Dense(input_shape[-1], activation='tanh')\n",
    "        self.attention_weights = Dense(1)\n",
    "        super(AttentionLayer, self).build(input_shape)\n",
    "\n",
    "    def call(self, inputs):\n",
    "        dense_features = self.dense(inputs)\n",
    "        raw_attention_scores = self.attention_weights(dense_features)\n",
    "        attention_scores = tf.nn.softmax(raw_attention_scores, axis=1)\n",
    "        context_vector = tf.reduce_sum(attention_scores * inputs, axis=1)\n",
    "        return context_vector\n",
    "        return context_vector\n",
    "@tf.keras.utils.register_keras_serializable(package='Custom', name='StackLayer')\n",
    "class StackLayer(Layer):\n",
    "    def __init__(self, axis, **kwargs):\n",
    "        super(StackLayer, self).__init__(**kwargs)\n",
    "        self.axis = axis\n",
    "\n",
    "    def call(self, inputs):\n",
    "        return tf.stack(inputs, axis=self.axis)"
   ]
  },
  {
   "cell_type": "markdown",
   "id": "cb03d630",
   "metadata": {
    "papermill": {
     "duration": 0.004182,
     "end_time": "2024-06-09T09:16:46.020771",
     "exception": false,
     "start_time": "2024-06-09T09:16:46.016589",
     "status": "completed"
    },
    "tags": []
   },
   "source": []
  },
  {
   "cell_type": "code",
   "execution_count": 9,
   "id": "0fd03ef7",
   "metadata": {
    "execution": {
     "iopub.execute_input": "2024-06-09T09:16:46.030566Z",
     "iopub.status.busy": "2024-06-09T09:16:46.030307Z",
     "iopub.status.idle": "2024-06-09T09:16:48.675744Z",
     "shell.execute_reply": "2024-06-09T09:16:48.674894Z"
    },
    "papermill": {
     "duration": 2.653162,
     "end_time": "2024-06-09T09:16:48.678258",
     "exception": false,
     "start_time": "2024-06-09T09:16:46.025096",
     "status": "completed"
    },
    "tags": []
   },
   "outputs": [
    {
     "name": "stdout",
     "output_type": "stream",
     "text": [
      "Downloading data from https://storage.googleapis.com/tensorflow/keras-applications/xception/xception_weights_tf_dim_ordering_tf_kernels_notop.h5\n",
      "\u001b[1m83683744/83683744\u001b[0m \u001b[32m━━━━━━━━━━━━━━━━━━━━\u001b[0m\u001b[37m\u001b[0m \u001b[1m0s\u001b[0m 0us/step\n"
     ]
    },
    {
     "data": {
      "text/html": [
       "<pre style=\"white-space:pre;overflow-x:auto;line-height:normal;font-family:Menlo,'DejaVu Sans Mono',consolas,'Courier New',monospace\"><span style=\"font-weight: bold\">Model: \"functional_1\"</span>\n",
       "</pre>\n"
      ],
      "text/plain": [
       "\u001b[1mModel: \"functional_1\"\u001b[0m\n"
      ]
     },
     "metadata": {},
     "output_type": "display_data"
    },
    {
     "data": {
      "text/html": [
       "<pre style=\"white-space:pre;overflow-x:auto;line-height:normal;font-family:Menlo,'DejaVu Sans Mono',consolas,'Courier New',monospace\">┏━━━━━━━━━━━━━━━━━━━━━┳━━━━━━━━━━━━━━━━━━━┳━━━━━━━━━━━━┳━━━━━━━━━━━━━━━━━━━┓\n",
       "┃<span style=\"font-weight: bold\"> Layer (type)        </span>┃<span style=\"font-weight: bold\"> Output Shape      </span>┃<span style=\"font-weight: bold\">    Param # </span>┃<span style=\"font-weight: bold\"> Connected to      </span>┃\n",
       "┡━━━━━━━━━━━━━━━━━━━━━╇━━━━━━━━━━━━━━━━━━━╇━━━━━━━━━━━━╇━━━━━━━━━━━━━━━━━━━┩\n",
       "│ input_layer_1       │ (<span style=\"color: #00d7ff; text-decoration-color: #00d7ff\">None</span>, <span style=\"color: #00af00; text-decoration-color: #00af00\">224</span>, <span style=\"color: #00af00; text-decoration-color: #00af00\">224</span>,  │          <span style=\"color: #00af00; text-decoration-color: #00af00\">0</span> │ -                 │\n",
       "│ (<span style=\"color: #0087ff; text-decoration-color: #0087ff\">InputLayer</span>)        │ <span style=\"color: #00af00; text-decoration-color: #00af00\">3</span>)                │            │                   │\n",
       "├─────────────────────┼───────────────────┼────────────┼───────────────────┤\n",
       "│ input_layer_2       │ (<span style=\"color: #00d7ff; text-decoration-color: #00d7ff\">None</span>, <span style=\"color: #00af00; text-decoration-color: #00af00\">224</span>, <span style=\"color: #00af00; text-decoration-color: #00af00\">224</span>,  │          <span style=\"color: #00af00; text-decoration-color: #00af00\">0</span> │ -                 │\n",
       "│ (<span style=\"color: #0087ff; text-decoration-color: #0087ff\">InputLayer</span>)        │ <span style=\"color: #00af00; text-decoration-color: #00af00\">3</span>)                │            │                   │\n",
       "├─────────────────────┼───────────────────┼────────────┼───────────────────┤\n",
       "│ input_layer_3       │ (<span style=\"color: #00d7ff; text-decoration-color: #00d7ff\">None</span>, <span style=\"color: #00af00; text-decoration-color: #00af00\">224</span>, <span style=\"color: #00af00; text-decoration-color: #00af00\">224</span>,  │          <span style=\"color: #00af00; text-decoration-color: #00af00\">0</span> │ -                 │\n",
       "│ (<span style=\"color: #0087ff; text-decoration-color: #0087ff\">InputLayer</span>)        │ <span style=\"color: #00af00; text-decoration-color: #00af00\">3</span>)                │            │                   │\n",
       "├─────────────────────┼───────────────────┼────────────┼───────────────────┤\n",
       "│ input_layer_4       │ (<span style=\"color: #00d7ff; text-decoration-color: #00d7ff\">None</span>, <span style=\"color: #00af00; text-decoration-color: #00af00\">224</span>, <span style=\"color: #00af00; text-decoration-color: #00af00\">224</span>,  │          <span style=\"color: #00af00; text-decoration-color: #00af00\">0</span> │ -                 │\n",
       "│ (<span style=\"color: #0087ff; text-decoration-color: #0087ff\">InputLayer</span>)        │ <span style=\"color: #00af00; text-decoration-color: #00af00\">3</span>)                │            │                   │\n",
       "├─────────────────────┼───────────────────┼────────────┼───────────────────┤\n",
       "│ input_layer_5       │ (<span style=\"color: #00d7ff; text-decoration-color: #00d7ff\">None</span>, <span style=\"color: #00af00; text-decoration-color: #00af00\">224</span>, <span style=\"color: #00af00; text-decoration-color: #00af00\">224</span>,  │          <span style=\"color: #00af00; text-decoration-color: #00af00\">0</span> │ -                 │\n",
       "│ (<span style=\"color: #0087ff; text-decoration-color: #0087ff\">InputLayer</span>)        │ <span style=\"color: #00af00; text-decoration-color: #00af00\">3</span>)                │            │                   │\n",
       "├─────────────────────┼───────────────────┼────────────┼───────────────────┤\n",
       "│ input_layer_6       │ (<span style=\"color: #00d7ff; text-decoration-color: #00d7ff\">None</span>, <span style=\"color: #00af00; text-decoration-color: #00af00\">224</span>, <span style=\"color: #00af00; text-decoration-color: #00af00\">224</span>,  │          <span style=\"color: #00af00; text-decoration-color: #00af00\">0</span> │ -                 │\n",
       "│ (<span style=\"color: #0087ff; text-decoration-color: #0087ff\">InputLayer</span>)        │ <span style=\"color: #00af00; text-decoration-color: #00af00\">3</span>)                │            │                   │\n",
       "├─────────────────────┼───────────────────┼────────────┼───────────────────┤\n",
       "│ input_layer_7       │ (<span style=\"color: #00d7ff; text-decoration-color: #00d7ff\">None</span>, <span style=\"color: #00af00; text-decoration-color: #00af00\">224</span>, <span style=\"color: #00af00; text-decoration-color: #00af00\">224</span>,  │          <span style=\"color: #00af00; text-decoration-color: #00af00\">0</span> │ -                 │\n",
       "│ (<span style=\"color: #0087ff; text-decoration-color: #0087ff\">InputLayer</span>)        │ <span style=\"color: #00af00; text-decoration-color: #00af00\">3</span>)                │            │                   │\n",
       "├─────────────────────┼───────────────────┼────────────┼───────────────────┤\n",
       "│ xception            │ (<span style=\"color: #00d7ff; text-decoration-color: #00d7ff\">None</span>, <span style=\"color: #00af00; text-decoration-color: #00af00\">7</span>, <span style=\"color: #00af00; text-decoration-color: #00af00\">7</span>,      │ <span style=\"color: #00af00; text-decoration-color: #00af00\">20,861,480</span> │ input_layer_1[<span style=\"color: #00af00; text-decoration-color: #00af00\">0</span>]… │\n",
       "│ (<span style=\"color: #0087ff; text-decoration-color: #0087ff\">Functional</span>)        │ <span style=\"color: #00af00; text-decoration-color: #00af00\">2048</span>)             │            │ input_layer_2[<span style=\"color: #00af00; text-decoration-color: #00af00\">0</span>]… │\n",
       "│                     │                   │            │ input_layer_3[<span style=\"color: #00af00; text-decoration-color: #00af00\">0</span>]… │\n",
       "│                     │                   │            │ input_layer_4[<span style=\"color: #00af00; text-decoration-color: #00af00\">0</span>]… │\n",
       "│                     │                   │            │ input_layer_5[<span style=\"color: #00af00; text-decoration-color: #00af00\">0</span>]… │\n",
       "│                     │                   │            │ input_layer_6[<span style=\"color: #00af00; text-decoration-color: #00af00\">0</span>]… │\n",
       "│                     │                   │            │ input_layer_7[<span style=\"color: #00af00; text-decoration-color: #00af00\">0</span>]… │\n",
       "├─────────────────────┼───────────────────┼────────────┼───────────────────┤\n",
       "│ max_pooling2d       │ (<span style=\"color: #00d7ff; text-decoration-color: #00d7ff\">None</span>, <span style=\"color: #00af00; text-decoration-color: #00af00\">3</span>, <span style=\"color: #00af00; text-decoration-color: #00af00\">3</span>,      │          <span style=\"color: #00af00; text-decoration-color: #00af00\">0</span> │ xception[<span style=\"color: #00af00; text-decoration-color: #00af00\">0</span>][<span style=\"color: #00af00; text-decoration-color: #00af00\">0</span>]    │\n",
       "│ (<span style=\"color: #0087ff; text-decoration-color: #0087ff\">MaxPooling2D</span>)      │ <span style=\"color: #00af00; text-decoration-color: #00af00\">2048</span>)             │            │                   │\n",
       "├─────────────────────┼───────────────────┼────────────┼───────────────────┤\n",
       "│ max_pooling2d_1     │ (<span style=\"color: #00d7ff; text-decoration-color: #00d7ff\">None</span>, <span style=\"color: #00af00; text-decoration-color: #00af00\">3</span>, <span style=\"color: #00af00; text-decoration-color: #00af00\">3</span>,      │          <span style=\"color: #00af00; text-decoration-color: #00af00\">0</span> │ xception[<span style=\"color: #00af00; text-decoration-color: #00af00\">1</span>][<span style=\"color: #00af00; text-decoration-color: #00af00\">0</span>]    │\n",
       "│ (<span style=\"color: #0087ff; text-decoration-color: #0087ff\">MaxPooling2D</span>)      │ <span style=\"color: #00af00; text-decoration-color: #00af00\">2048</span>)             │            │                   │\n",
       "├─────────────────────┼───────────────────┼────────────┼───────────────────┤\n",
       "│ max_pooling2d_2     │ (<span style=\"color: #00d7ff; text-decoration-color: #00d7ff\">None</span>, <span style=\"color: #00af00; text-decoration-color: #00af00\">3</span>, <span style=\"color: #00af00; text-decoration-color: #00af00\">3</span>,      │          <span style=\"color: #00af00; text-decoration-color: #00af00\">0</span> │ xception[<span style=\"color: #00af00; text-decoration-color: #00af00\">2</span>][<span style=\"color: #00af00; text-decoration-color: #00af00\">0</span>]    │\n",
       "│ (<span style=\"color: #0087ff; text-decoration-color: #0087ff\">MaxPooling2D</span>)      │ <span style=\"color: #00af00; text-decoration-color: #00af00\">2048</span>)             │            │                   │\n",
       "├─────────────────────┼───────────────────┼────────────┼───────────────────┤\n",
       "│ max_pooling2d_3     │ (<span style=\"color: #00d7ff; text-decoration-color: #00d7ff\">None</span>, <span style=\"color: #00af00; text-decoration-color: #00af00\">3</span>, <span style=\"color: #00af00; text-decoration-color: #00af00\">3</span>,      │          <span style=\"color: #00af00; text-decoration-color: #00af00\">0</span> │ xception[<span style=\"color: #00af00; text-decoration-color: #00af00\">3</span>][<span style=\"color: #00af00; text-decoration-color: #00af00\">0</span>]    │\n",
       "│ (<span style=\"color: #0087ff; text-decoration-color: #0087ff\">MaxPooling2D</span>)      │ <span style=\"color: #00af00; text-decoration-color: #00af00\">2048</span>)             │            │                   │\n",
       "├─────────────────────┼───────────────────┼────────────┼───────────────────┤\n",
       "│ max_pooling2d_4     │ (<span style=\"color: #00d7ff; text-decoration-color: #00d7ff\">None</span>, <span style=\"color: #00af00; text-decoration-color: #00af00\">3</span>, <span style=\"color: #00af00; text-decoration-color: #00af00\">3</span>,      │          <span style=\"color: #00af00; text-decoration-color: #00af00\">0</span> │ xception[<span style=\"color: #00af00; text-decoration-color: #00af00\">4</span>][<span style=\"color: #00af00; text-decoration-color: #00af00\">0</span>]    │\n",
       "│ (<span style=\"color: #0087ff; text-decoration-color: #0087ff\">MaxPooling2D</span>)      │ <span style=\"color: #00af00; text-decoration-color: #00af00\">2048</span>)             │            │                   │\n",
       "├─────────────────────┼───────────────────┼────────────┼───────────────────┤\n",
       "│ max_pooling2d_5     │ (<span style=\"color: #00d7ff; text-decoration-color: #00d7ff\">None</span>, <span style=\"color: #00af00; text-decoration-color: #00af00\">3</span>, <span style=\"color: #00af00; text-decoration-color: #00af00\">3</span>,      │          <span style=\"color: #00af00; text-decoration-color: #00af00\">0</span> │ xception[<span style=\"color: #00af00; text-decoration-color: #00af00\">5</span>][<span style=\"color: #00af00; text-decoration-color: #00af00\">0</span>]    │\n",
       "│ (<span style=\"color: #0087ff; text-decoration-color: #0087ff\">MaxPooling2D</span>)      │ <span style=\"color: #00af00; text-decoration-color: #00af00\">2048</span>)             │            │                   │\n",
       "├─────────────────────┼───────────────────┼────────────┼───────────────────┤\n",
       "│ max_pooling2d_6     │ (<span style=\"color: #00d7ff; text-decoration-color: #00d7ff\">None</span>, <span style=\"color: #00af00; text-decoration-color: #00af00\">3</span>, <span style=\"color: #00af00; text-decoration-color: #00af00\">3</span>,      │          <span style=\"color: #00af00; text-decoration-color: #00af00\">0</span> │ xception[<span style=\"color: #00af00; text-decoration-color: #00af00\">6</span>][<span style=\"color: #00af00; text-decoration-color: #00af00\">0</span>]    │\n",
       "│ (<span style=\"color: #0087ff; text-decoration-color: #0087ff\">MaxPooling2D</span>)      │ <span style=\"color: #00af00; text-decoration-color: #00af00\">2048</span>)             │            │                   │\n",
       "├─────────────────────┼───────────────────┼────────────┼───────────────────┤\n",
       "│ global_average_poo… │ (<span style=\"color: #00d7ff; text-decoration-color: #00d7ff\">None</span>, <span style=\"color: #00af00; text-decoration-color: #00af00\">2048</span>)      │          <span style=\"color: #00af00; text-decoration-color: #00af00\">0</span> │ max_pooling2d[<span style=\"color: #00af00; text-decoration-color: #00af00\">0</span>]… │\n",
       "│ (<span style=\"color: #0087ff; text-decoration-color: #0087ff\">GlobalAveragePool…</span> │                   │            │                   │\n",
       "├─────────────────────┼───────────────────┼────────────┼───────────────────┤\n",
       "│ global_average_poo… │ (<span style=\"color: #00d7ff; text-decoration-color: #00d7ff\">None</span>, <span style=\"color: #00af00; text-decoration-color: #00af00\">2048</span>)      │          <span style=\"color: #00af00; text-decoration-color: #00af00\">0</span> │ max_pooling2d_1[<span style=\"color: #00af00; text-decoration-color: #00af00\">…</span> │\n",
       "│ (<span style=\"color: #0087ff; text-decoration-color: #0087ff\">GlobalAveragePool…</span> │                   │            │                   │\n",
       "├─────────────────────┼───────────────────┼────────────┼───────────────────┤\n",
       "│ global_average_poo… │ (<span style=\"color: #00d7ff; text-decoration-color: #00d7ff\">None</span>, <span style=\"color: #00af00; text-decoration-color: #00af00\">2048</span>)      │          <span style=\"color: #00af00; text-decoration-color: #00af00\">0</span> │ max_pooling2d_2[<span style=\"color: #00af00; text-decoration-color: #00af00\">…</span> │\n",
       "│ (<span style=\"color: #0087ff; text-decoration-color: #0087ff\">GlobalAveragePool…</span> │                   │            │                   │\n",
       "├─────────────────────┼───────────────────┼────────────┼───────────────────┤\n",
       "│ global_average_poo… │ (<span style=\"color: #00d7ff; text-decoration-color: #00d7ff\">None</span>, <span style=\"color: #00af00; text-decoration-color: #00af00\">2048</span>)      │          <span style=\"color: #00af00; text-decoration-color: #00af00\">0</span> │ max_pooling2d_3[<span style=\"color: #00af00; text-decoration-color: #00af00\">…</span> │\n",
       "│ (<span style=\"color: #0087ff; text-decoration-color: #0087ff\">GlobalAveragePool…</span> │                   │            │                   │\n",
       "├─────────────────────┼───────────────────┼────────────┼───────────────────┤\n",
       "│ global_average_poo… │ (<span style=\"color: #00d7ff; text-decoration-color: #00d7ff\">None</span>, <span style=\"color: #00af00; text-decoration-color: #00af00\">2048</span>)      │          <span style=\"color: #00af00; text-decoration-color: #00af00\">0</span> │ max_pooling2d_4[<span style=\"color: #00af00; text-decoration-color: #00af00\">…</span> │\n",
       "│ (<span style=\"color: #0087ff; text-decoration-color: #0087ff\">GlobalAveragePool…</span> │                   │            │                   │\n",
       "├─────────────────────┼───────────────────┼────────────┼───────────────────┤\n",
       "│ global_average_poo… │ (<span style=\"color: #00d7ff; text-decoration-color: #00d7ff\">None</span>, <span style=\"color: #00af00; text-decoration-color: #00af00\">2048</span>)      │          <span style=\"color: #00af00; text-decoration-color: #00af00\">0</span> │ max_pooling2d_5[<span style=\"color: #00af00; text-decoration-color: #00af00\">…</span> │\n",
       "│ (<span style=\"color: #0087ff; text-decoration-color: #0087ff\">GlobalAveragePool…</span> │                   │            │                   │\n",
       "├─────────────────────┼───────────────────┼────────────┼───────────────────┤\n",
       "│ global_average_poo… │ (<span style=\"color: #00d7ff; text-decoration-color: #00d7ff\">None</span>, <span style=\"color: #00af00; text-decoration-color: #00af00\">2048</span>)      │          <span style=\"color: #00af00; text-decoration-color: #00af00\">0</span> │ max_pooling2d_6[<span style=\"color: #00af00; text-decoration-color: #00af00\">…</span> │\n",
       "│ (<span style=\"color: #0087ff; text-decoration-color: #0087ff\">GlobalAveragePool…</span> │                   │            │                   │\n",
       "├─────────────────────┼───────────────────┼────────────┼───────────────────┤\n",
       "│ stack_layer         │ (<span style=\"color: #00d7ff; text-decoration-color: #00d7ff\">None</span>, <span style=\"color: #00af00; text-decoration-color: #00af00\">7</span>, <span style=\"color: #00af00; text-decoration-color: #00af00\">2048</span>)   │          <span style=\"color: #00af00; text-decoration-color: #00af00\">0</span> │ global_average_p… │\n",
       "│ (<span style=\"color: #0087ff; text-decoration-color: #0087ff\">StackLayer</span>)        │                   │            │ global_average_p… │\n",
       "│                     │                   │            │ global_average_p… │\n",
       "│                     │                   │            │ global_average_p… │\n",
       "│                     │                   │            │ global_average_p… │\n",
       "│                     │                   │            │ global_average_p… │\n",
       "│                     │                   │            │ global_average_p… │\n",
       "├─────────────────────┼───────────────────┼────────────┼───────────────────┤\n",
       "│ attention_layer     │ (<span style=\"color: #00d7ff; text-decoration-color: #00d7ff\">None</span>, <span style=\"color: #00af00; text-decoration-color: #00af00\">2048</span>)      │  <span style=\"color: #00af00; text-decoration-color: #00af00\">4,198,401</span> │ stack_layer[<span style=\"color: #00af00; text-decoration-color: #00af00\">0</span>][<span style=\"color: #00af00; text-decoration-color: #00af00\">0</span>] │\n",
       "│ (<span style=\"color: #0087ff; text-decoration-color: #0087ff\">AttentionLayer</span>)    │                   │            │                   │\n",
       "├─────────────────────┼───────────────────┼────────────┼───────────────────┤\n",
       "│ dense_2 (<span style=\"color: #0087ff; text-decoration-color: #0087ff\">Dense</span>)     │ (<span style=\"color: #00d7ff; text-decoration-color: #00d7ff\">None</span>, <span style=\"color: #00af00; text-decoration-color: #00af00\">512</span>)       │  <span style=\"color: #00af00; text-decoration-color: #00af00\">1,049,088</span> │ attention_layer[<span style=\"color: #00af00; text-decoration-color: #00af00\">…</span> │\n",
       "├─────────────────────┼───────────────────┼────────────┼───────────────────┤\n",
       "│ batch_normalizatio… │ (<span style=\"color: #00d7ff; text-decoration-color: #00d7ff\">None</span>, <span style=\"color: #00af00; text-decoration-color: #00af00\">512</span>)       │      <span style=\"color: #00af00; text-decoration-color: #00af00\">2,048</span> │ dense_2[<span style=\"color: #00af00; text-decoration-color: #00af00\">0</span>][<span style=\"color: #00af00; text-decoration-color: #00af00\">0</span>]     │\n",
       "│ (<span style=\"color: #0087ff; text-decoration-color: #0087ff\">BatchNormalizatio…</span> │                   │            │                   │\n",
       "├─────────────────────┼───────────────────┼────────────┼───────────────────┤\n",
       "│ dropout (<span style=\"color: #0087ff; text-decoration-color: #0087ff\">Dropout</span>)   │ (<span style=\"color: #00d7ff; text-decoration-color: #00d7ff\">None</span>, <span style=\"color: #00af00; text-decoration-color: #00af00\">512</span>)       │          <span style=\"color: #00af00; text-decoration-color: #00af00\">0</span> │ batch_normalizat… │\n",
       "├─────────────────────┼───────────────────┼────────────┼───────────────────┤\n",
       "│ dense_3 (<span style=\"color: #0087ff; text-decoration-color: #0087ff\">Dense</span>)     │ (<span style=\"color: #00d7ff; text-decoration-color: #00d7ff\">None</span>, <span style=\"color: #00af00; text-decoration-color: #00af00\">5</span>)         │      <span style=\"color: #00af00; text-decoration-color: #00af00\">2,565</span> │ dropout[<span style=\"color: #00af00; text-decoration-color: #00af00\">0</span>][<span style=\"color: #00af00; text-decoration-color: #00af00\">0</span>]     │\n",
       "└─────────────────────┴───────────────────┴────────────┴───────────────────┘\n",
       "</pre>\n"
      ],
      "text/plain": [
       "┏━━━━━━━━━━━━━━━━━━━━━┳━━━━━━━━━━━━━━━━━━━┳━━━━━━━━━━━━┳━━━━━━━━━━━━━━━━━━━┓\n",
       "┃\u001b[1m \u001b[0m\u001b[1mLayer (type)       \u001b[0m\u001b[1m \u001b[0m┃\u001b[1m \u001b[0m\u001b[1mOutput Shape     \u001b[0m\u001b[1m \u001b[0m┃\u001b[1m \u001b[0m\u001b[1m   Param #\u001b[0m\u001b[1m \u001b[0m┃\u001b[1m \u001b[0m\u001b[1mConnected to     \u001b[0m\u001b[1m \u001b[0m┃\n",
       "┡━━━━━━━━━━━━━━━━━━━━━╇━━━━━━━━━━━━━━━━━━━╇━━━━━━━━━━━━╇━━━━━━━━━━━━━━━━━━━┩\n",
       "│ input_layer_1       │ (\u001b[38;5;45mNone\u001b[0m, \u001b[38;5;34m224\u001b[0m, \u001b[38;5;34m224\u001b[0m,  │          \u001b[38;5;34m0\u001b[0m │ -                 │\n",
       "│ (\u001b[38;5;33mInputLayer\u001b[0m)        │ \u001b[38;5;34m3\u001b[0m)                │            │                   │\n",
       "├─────────────────────┼───────────────────┼────────────┼───────────────────┤\n",
       "│ input_layer_2       │ (\u001b[38;5;45mNone\u001b[0m, \u001b[38;5;34m224\u001b[0m, \u001b[38;5;34m224\u001b[0m,  │          \u001b[38;5;34m0\u001b[0m │ -                 │\n",
       "│ (\u001b[38;5;33mInputLayer\u001b[0m)        │ \u001b[38;5;34m3\u001b[0m)                │            │                   │\n",
       "├─────────────────────┼───────────────────┼────────────┼───────────────────┤\n",
       "│ input_layer_3       │ (\u001b[38;5;45mNone\u001b[0m, \u001b[38;5;34m224\u001b[0m, \u001b[38;5;34m224\u001b[0m,  │          \u001b[38;5;34m0\u001b[0m │ -                 │\n",
       "│ (\u001b[38;5;33mInputLayer\u001b[0m)        │ \u001b[38;5;34m3\u001b[0m)                │            │                   │\n",
       "├─────────────────────┼───────────────────┼────────────┼───────────────────┤\n",
       "│ input_layer_4       │ (\u001b[38;5;45mNone\u001b[0m, \u001b[38;5;34m224\u001b[0m, \u001b[38;5;34m224\u001b[0m,  │          \u001b[38;5;34m0\u001b[0m │ -                 │\n",
       "│ (\u001b[38;5;33mInputLayer\u001b[0m)        │ \u001b[38;5;34m3\u001b[0m)                │            │                   │\n",
       "├─────────────────────┼───────────────────┼────────────┼───────────────────┤\n",
       "│ input_layer_5       │ (\u001b[38;5;45mNone\u001b[0m, \u001b[38;5;34m224\u001b[0m, \u001b[38;5;34m224\u001b[0m,  │          \u001b[38;5;34m0\u001b[0m │ -                 │\n",
       "│ (\u001b[38;5;33mInputLayer\u001b[0m)        │ \u001b[38;5;34m3\u001b[0m)                │            │                   │\n",
       "├─────────────────────┼───────────────────┼────────────┼───────────────────┤\n",
       "│ input_layer_6       │ (\u001b[38;5;45mNone\u001b[0m, \u001b[38;5;34m224\u001b[0m, \u001b[38;5;34m224\u001b[0m,  │          \u001b[38;5;34m0\u001b[0m │ -                 │\n",
       "│ (\u001b[38;5;33mInputLayer\u001b[0m)        │ \u001b[38;5;34m3\u001b[0m)                │            │                   │\n",
       "├─────────────────────┼───────────────────┼────────────┼───────────────────┤\n",
       "│ input_layer_7       │ (\u001b[38;5;45mNone\u001b[0m, \u001b[38;5;34m224\u001b[0m, \u001b[38;5;34m224\u001b[0m,  │          \u001b[38;5;34m0\u001b[0m │ -                 │\n",
       "│ (\u001b[38;5;33mInputLayer\u001b[0m)        │ \u001b[38;5;34m3\u001b[0m)                │            │                   │\n",
       "├─────────────────────┼───────────────────┼────────────┼───────────────────┤\n",
       "│ xception            │ (\u001b[38;5;45mNone\u001b[0m, \u001b[38;5;34m7\u001b[0m, \u001b[38;5;34m7\u001b[0m,      │ \u001b[38;5;34m20,861,480\u001b[0m │ input_layer_1[\u001b[38;5;34m0\u001b[0m]… │\n",
       "│ (\u001b[38;5;33mFunctional\u001b[0m)        │ \u001b[38;5;34m2048\u001b[0m)             │            │ input_layer_2[\u001b[38;5;34m0\u001b[0m]… │\n",
       "│                     │                   │            │ input_layer_3[\u001b[38;5;34m0\u001b[0m]… │\n",
       "│                     │                   │            │ input_layer_4[\u001b[38;5;34m0\u001b[0m]… │\n",
       "│                     │                   │            │ input_layer_5[\u001b[38;5;34m0\u001b[0m]… │\n",
       "│                     │                   │            │ input_layer_6[\u001b[38;5;34m0\u001b[0m]… │\n",
       "│                     │                   │            │ input_layer_7[\u001b[38;5;34m0\u001b[0m]… │\n",
       "├─────────────────────┼───────────────────┼────────────┼───────────────────┤\n",
       "│ max_pooling2d       │ (\u001b[38;5;45mNone\u001b[0m, \u001b[38;5;34m3\u001b[0m, \u001b[38;5;34m3\u001b[0m,      │          \u001b[38;5;34m0\u001b[0m │ xception[\u001b[38;5;34m0\u001b[0m][\u001b[38;5;34m0\u001b[0m]    │\n",
       "│ (\u001b[38;5;33mMaxPooling2D\u001b[0m)      │ \u001b[38;5;34m2048\u001b[0m)             │            │                   │\n",
       "├─────────────────────┼───────────────────┼────────────┼───────────────────┤\n",
       "│ max_pooling2d_1     │ (\u001b[38;5;45mNone\u001b[0m, \u001b[38;5;34m3\u001b[0m, \u001b[38;5;34m3\u001b[0m,      │          \u001b[38;5;34m0\u001b[0m │ xception[\u001b[38;5;34m1\u001b[0m][\u001b[38;5;34m0\u001b[0m]    │\n",
       "│ (\u001b[38;5;33mMaxPooling2D\u001b[0m)      │ \u001b[38;5;34m2048\u001b[0m)             │            │                   │\n",
       "├─────────────────────┼───────────────────┼────────────┼───────────────────┤\n",
       "│ max_pooling2d_2     │ (\u001b[38;5;45mNone\u001b[0m, \u001b[38;5;34m3\u001b[0m, \u001b[38;5;34m3\u001b[0m,      │          \u001b[38;5;34m0\u001b[0m │ xception[\u001b[38;5;34m2\u001b[0m][\u001b[38;5;34m0\u001b[0m]    │\n",
       "│ (\u001b[38;5;33mMaxPooling2D\u001b[0m)      │ \u001b[38;5;34m2048\u001b[0m)             │            │                   │\n",
       "├─────────────────────┼───────────────────┼────────────┼───────────────────┤\n",
       "│ max_pooling2d_3     │ (\u001b[38;5;45mNone\u001b[0m, \u001b[38;5;34m3\u001b[0m, \u001b[38;5;34m3\u001b[0m,      │          \u001b[38;5;34m0\u001b[0m │ xception[\u001b[38;5;34m3\u001b[0m][\u001b[38;5;34m0\u001b[0m]    │\n",
       "│ (\u001b[38;5;33mMaxPooling2D\u001b[0m)      │ \u001b[38;5;34m2048\u001b[0m)             │            │                   │\n",
       "├─────────────────────┼───────────────────┼────────────┼───────────────────┤\n",
       "│ max_pooling2d_4     │ (\u001b[38;5;45mNone\u001b[0m, \u001b[38;5;34m3\u001b[0m, \u001b[38;5;34m3\u001b[0m,      │          \u001b[38;5;34m0\u001b[0m │ xception[\u001b[38;5;34m4\u001b[0m][\u001b[38;5;34m0\u001b[0m]    │\n",
       "│ (\u001b[38;5;33mMaxPooling2D\u001b[0m)      │ \u001b[38;5;34m2048\u001b[0m)             │            │                   │\n",
       "├─────────────────────┼───────────────────┼────────────┼───────────────────┤\n",
       "│ max_pooling2d_5     │ (\u001b[38;5;45mNone\u001b[0m, \u001b[38;5;34m3\u001b[0m, \u001b[38;5;34m3\u001b[0m,      │          \u001b[38;5;34m0\u001b[0m │ xception[\u001b[38;5;34m5\u001b[0m][\u001b[38;5;34m0\u001b[0m]    │\n",
       "│ (\u001b[38;5;33mMaxPooling2D\u001b[0m)      │ \u001b[38;5;34m2048\u001b[0m)             │            │                   │\n",
       "├─────────────────────┼───────────────────┼────────────┼───────────────────┤\n",
       "│ max_pooling2d_6     │ (\u001b[38;5;45mNone\u001b[0m, \u001b[38;5;34m3\u001b[0m, \u001b[38;5;34m3\u001b[0m,      │          \u001b[38;5;34m0\u001b[0m │ xception[\u001b[38;5;34m6\u001b[0m][\u001b[38;5;34m0\u001b[0m]    │\n",
       "│ (\u001b[38;5;33mMaxPooling2D\u001b[0m)      │ \u001b[38;5;34m2048\u001b[0m)             │            │                   │\n",
       "├─────────────────────┼───────────────────┼────────────┼───────────────────┤\n",
       "│ global_average_poo… │ (\u001b[38;5;45mNone\u001b[0m, \u001b[38;5;34m2048\u001b[0m)      │          \u001b[38;5;34m0\u001b[0m │ max_pooling2d[\u001b[38;5;34m0\u001b[0m]… │\n",
       "│ (\u001b[38;5;33mGlobalAveragePool…\u001b[0m │                   │            │                   │\n",
       "├─────────────────────┼───────────────────┼────────────┼───────────────────┤\n",
       "│ global_average_poo… │ (\u001b[38;5;45mNone\u001b[0m, \u001b[38;5;34m2048\u001b[0m)      │          \u001b[38;5;34m0\u001b[0m │ max_pooling2d_1[\u001b[38;5;34m…\u001b[0m │\n",
       "│ (\u001b[38;5;33mGlobalAveragePool…\u001b[0m │                   │            │                   │\n",
       "├─────────────────────┼───────────────────┼────────────┼───────────────────┤\n",
       "│ global_average_poo… │ (\u001b[38;5;45mNone\u001b[0m, \u001b[38;5;34m2048\u001b[0m)      │          \u001b[38;5;34m0\u001b[0m │ max_pooling2d_2[\u001b[38;5;34m…\u001b[0m │\n",
       "│ (\u001b[38;5;33mGlobalAveragePool…\u001b[0m │                   │            │                   │\n",
       "├─────────────────────┼───────────────────┼────────────┼───────────────────┤\n",
       "│ global_average_poo… │ (\u001b[38;5;45mNone\u001b[0m, \u001b[38;5;34m2048\u001b[0m)      │          \u001b[38;5;34m0\u001b[0m │ max_pooling2d_3[\u001b[38;5;34m…\u001b[0m │\n",
       "│ (\u001b[38;5;33mGlobalAveragePool…\u001b[0m │                   │            │                   │\n",
       "├─────────────────────┼───────────────────┼────────────┼───────────────────┤\n",
       "│ global_average_poo… │ (\u001b[38;5;45mNone\u001b[0m, \u001b[38;5;34m2048\u001b[0m)      │          \u001b[38;5;34m0\u001b[0m │ max_pooling2d_4[\u001b[38;5;34m…\u001b[0m │\n",
       "│ (\u001b[38;5;33mGlobalAveragePool…\u001b[0m │                   │            │                   │\n",
       "├─────────────────────┼───────────────────┼────────────┼───────────────────┤\n",
       "│ global_average_poo… │ (\u001b[38;5;45mNone\u001b[0m, \u001b[38;5;34m2048\u001b[0m)      │          \u001b[38;5;34m0\u001b[0m │ max_pooling2d_5[\u001b[38;5;34m…\u001b[0m │\n",
       "│ (\u001b[38;5;33mGlobalAveragePool…\u001b[0m │                   │            │                   │\n",
       "├─────────────────────┼───────────────────┼────────────┼───────────────────┤\n",
       "│ global_average_poo… │ (\u001b[38;5;45mNone\u001b[0m, \u001b[38;5;34m2048\u001b[0m)      │          \u001b[38;5;34m0\u001b[0m │ max_pooling2d_6[\u001b[38;5;34m…\u001b[0m │\n",
       "│ (\u001b[38;5;33mGlobalAveragePool…\u001b[0m │                   │            │                   │\n",
       "├─────────────────────┼───────────────────┼────────────┼───────────────────┤\n",
       "│ stack_layer         │ (\u001b[38;5;45mNone\u001b[0m, \u001b[38;5;34m7\u001b[0m, \u001b[38;5;34m2048\u001b[0m)   │          \u001b[38;5;34m0\u001b[0m │ global_average_p… │\n",
       "│ (\u001b[38;5;33mStackLayer\u001b[0m)        │                   │            │ global_average_p… │\n",
       "│                     │                   │            │ global_average_p… │\n",
       "│                     │                   │            │ global_average_p… │\n",
       "│                     │                   │            │ global_average_p… │\n",
       "│                     │                   │            │ global_average_p… │\n",
       "│                     │                   │            │ global_average_p… │\n",
       "├─────────────────────┼───────────────────┼────────────┼───────────────────┤\n",
       "│ attention_layer     │ (\u001b[38;5;45mNone\u001b[0m, \u001b[38;5;34m2048\u001b[0m)      │  \u001b[38;5;34m4,198,401\u001b[0m │ stack_layer[\u001b[38;5;34m0\u001b[0m][\u001b[38;5;34m0\u001b[0m] │\n",
       "│ (\u001b[38;5;33mAttentionLayer\u001b[0m)    │                   │            │                   │\n",
       "├─────────────────────┼───────────────────┼────────────┼───────────────────┤\n",
       "│ dense_2 (\u001b[38;5;33mDense\u001b[0m)     │ (\u001b[38;5;45mNone\u001b[0m, \u001b[38;5;34m512\u001b[0m)       │  \u001b[38;5;34m1,049,088\u001b[0m │ attention_layer[\u001b[38;5;34m…\u001b[0m │\n",
       "├─────────────────────┼───────────────────┼────────────┼───────────────────┤\n",
       "│ batch_normalizatio… │ (\u001b[38;5;45mNone\u001b[0m, \u001b[38;5;34m512\u001b[0m)       │      \u001b[38;5;34m2,048\u001b[0m │ dense_2[\u001b[38;5;34m0\u001b[0m][\u001b[38;5;34m0\u001b[0m]     │\n",
       "│ (\u001b[38;5;33mBatchNormalizatio…\u001b[0m │                   │            │                   │\n",
       "├─────────────────────┼───────────────────┼────────────┼───────────────────┤\n",
       "│ dropout (\u001b[38;5;33mDropout\u001b[0m)   │ (\u001b[38;5;45mNone\u001b[0m, \u001b[38;5;34m512\u001b[0m)       │          \u001b[38;5;34m0\u001b[0m │ batch_normalizat… │\n",
       "├─────────────────────┼───────────────────┼────────────┼───────────────────┤\n",
       "│ dense_3 (\u001b[38;5;33mDense\u001b[0m)     │ (\u001b[38;5;45mNone\u001b[0m, \u001b[38;5;34m5\u001b[0m)         │      \u001b[38;5;34m2,565\u001b[0m │ dropout[\u001b[38;5;34m0\u001b[0m][\u001b[38;5;34m0\u001b[0m]     │\n",
       "└─────────────────────┴───────────────────┴────────────┴───────────────────┘\n"
      ]
     },
     "metadata": {},
     "output_type": "display_data"
    },
    {
     "data": {
      "text/html": [
       "<pre style=\"white-space:pre;overflow-x:auto;line-height:normal;font-family:Menlo,'DejaVu Sans Mono',consolas,'Courier New',monospace\"><span style=\"font-weight: bold\"> Total params: </span><span style=\"color: #00af00; text-decoration-color: #00af00\">26,113,582</span> (99.62 MB)\n",
       "</pre>\n"
      ],
      "text/plain": [
       "\u001b[1m Total params: \u001b[0m\u001b[38;5;34m26,113,582\u001b[0m (99.62 MB)\n"
      ]
     },
     "metadata": {},
     "output_type": "display_data"
    },
    {
     "data": {
      "text/html": [
       "<pre style=\"white-space:pre;overflow-x:auto;line-height:normal;font-family:Menlo,'DejaVu Sans Mono',consolas,'Courier New',monospace\"><span style=\"font-weight: bold\"> Trainable params: </span><span style=\"color: #00af00; text-decoration-color: #00af00\">5,251,078</span> (20.03 MB)\n",
       "</pre>\n"
      ],
      "text/plain": [
       "\u001b[1m Trainable params: \u001b[0m\u001b[38;5;34m5,251,078\u001b[0m (20.03 MB)\n"
      ]
     },
     "metadata": {},
     "output_type": "display_data"
    },
    {
     "data": {
      "text/html": [
       "<pre style=\"white-space:pre;overflow-x:auto;line-height:normal;font-family:Menlo,'DejaVu Sans Mono',consolas,'Courier New',monospace\"><span style=\"font-weight: bold\"> Non-trainable params: </span><span style=\"color: #00af00; text-decoration-color: #00af00\">20,862,504</span> (79.58 MB)\n",
       "</pre>\n"
      ],
      "text/plain": [
       "\u001b[1m Non-trainable params: \u001b[0m\u001b[38;5;34m20,862,504\u001b[0m (79.58 MB)\n"
      ]
     },
     "metadata": {},
     "output_type": "display_data"
    }
   ],
   "source": [
    "from tensorflow.keras.models import Model\n",
    "#Model Architecture\n",
    "base_model = Xception(weights='imagenet', include_top=False, input_shape=image_shape)\n",
    "\n",
    "base_model.trainable = False\n",
    "\n",
    "inputs = [Input(shape=image_shape) for _ in range(num_views)]\n",
    "\n",
    "encoded_views = [base_model(view_input) for view_input in inputs]\n",
    "pooled_views = [MaxPooling2D(pool_size=(2, 2))(view_output) for view_output in encoded_views]\n",
    "# Apply GlobalAveragePooling to each view's output\n",
    "pooled_views = [GlobalAveragePooling2D()(view_output) for view_output in pooled_views]\n",
    "\n",
    "# Stack the pooled views to apply the attention mechanism\n",
    "stacked_views = StackLayer(axis=1)(pooled_views)  # Shape: (batch_size, num_views, feature_dim)\n",
    "    \n",
    "# Apply the attention layer\n",
    "context_vector = AttentionLayer()(stacked_views)\n",
    "\n",
    "# Add custom layers on top\n",
    "#x = Dense(1024, activation='relu', kernel_regularizer=l2(0.001))(context_vector)\n",
    "#x = BatchNormalization()(x)\n",
    "#x = Dropout(0.5)(x)\n",
    "#x = Dense(512, activation='relu', kernel_regularizer=l2(0.001))(x)\n",
    "#x = BatchNormalization()(x)\n",
    "#x = Dropout(0.5)(x)\n",
    "#x = Dense(1024, activation='relu', kernel_regularizer=l2(0.001))(x)\n",
    "#x = BatchNormalization()(x)\n",
    "#x = Dropout(0.5)(x)\n",
    "#predictions = Dense(num_classes, activation=\"softmax\", kernel_regularizer=l2(0.001))(x)\n",
    "\n",
    "x = Dense(512, activation='relu', kernel_regularizer=l2(0.001))(context_vector)\n",
    "x = BatchNormalization()(x)\n",
    "x = Dropout(0.5)(x)\n",
    "predictions = Dense(num_classes, activation=\"softmax\", kernel_regularizer=l2(0.001))(x)\n",
    "\n",
    "model = Model(inputs=inputs, outputs=predictions)\n",
    "model.compile(optimizer='nadam', loss='categorical_crossentropy', metrics=[\"accuracy\", \"recall\"])\n",
    "model.summary()"
   ]
  },
  {
   "cell_type": "code",
   "execution_count": 10,
   "id": "53a9f0e1",
   "metadata": {
    "execution": {
     "iopub.execute_input": "2024-06-09T09:16:48.692491Z",
     "iopub.status.busy": "2024-06-09T09:16:48.692230Z",
     "iopub.status.idle": "2024-06-09T15:18:45.962468Z",
     "shell.execute_reply": "2024-06-09T15:18:45.961638Z"
    },
    "papermill": {
     "duration": 21717.279796,
     "end_time": "2024-06-09T15:18:45.964764",
     "exception": false,
     "start_time": "2024-06-09T09:16:48.684968",
     "status": "completed"
    },
    "tags": []
   },
   "outputs": [
    {
     "name": "stdout",
     "output_type": "stream",
     "text": [
      "Epoch 1/80\n"
     ]
    },
    {
     "name": "stderr",
     "output_type": "stream",
     "text": [
      "WARNING: All log messages before absl::InitializeLog() is called are written to STDERR\n",
      "I0000 00:00:1717924683.819298      66 device_compiler.h:186] Compiled cluster using XLA!  This line is logged at most once for the lifetime of the process.\n"
     ]
    },
    {
     "name": "stdout",
     "output_type": "stream",
     "text": [
      "\n",
      "Epoch 1: val_loss improved from inf to 1.69236, saving model to /kaggle/working/multiple_view_shoulder_v2.keras\n",
      "299/299 - 825s - 3s/step - accuracy: 0.2846 - loss: 1.6947 - recall: 0.0013 - val_accuracy: 0.2889 - val_loss: 1.6924 - val_recall: 0.0000e+00 - learning_rate: 0.0010\n",
      "Epoch 2/80\n",
      "\n",
      "Epoch 2: val_loss did not improve from 1.69236\n",
      "299/299 - 440s - 1s/step - accuracy: 0.2857 - loss: 1.6030 - recall: 3.1355e-04 - val_accuracy: 0.2889 - val_loss: 1.8871 - val_recall: 0.0000e+00 - learning_rate: 0.0010\n",
      "Epoch 3/80\n",
      "\n",
      "Epoch 3: val_loss did not improve from 1.69236\n",
      "299/299 - 444s - 1s/step - accuracy: 0.2856 - loss: 1.5975 - recall: 4.1806e-04 - val_accuracy: 0.2914 - val_loss: 1.9301 - val_recall: 4.2230e-04 - learning_rate: 0.0010\n",
      "Epoch 4/80\n",
      "\n",
      "Epoch 4: val_loss did not improve from 1.69236\n",
      "299/299 - 451s - 2s/step - accuracy: 0.2852 - loss: 1.5996 - recall: 3.1355e-04 - val_accuracy: 0.2901 - val_loss: 2.2391 - val_recall: 0.2901 - learning_rate: 0.0010\n",
      "Epoch 5/80\n",
      "\n",
      "Epoch 5: val_loss did not improve from 1.69236\n",
      "\n",
      "Epoch 5: ReduceLROnPlateau reducing learning rate to 0.00020000000949949026.\n",
      "299/299 - 448s - 1s/step - accuracy: 0.2870 - loss: 1.5941 - recall: 6.2709e-04 - val_accuracy: 0.1423 - val_loss: 3.4953 - val_recall: 0.1423 - learning_rate: 0.0010\n",
      "Epoch 6/80\n",
      "\n",
      "Epoch 6: val_loss did not improve from 1.69236\n",
      "299/299 - 442s - 1s/step - accuracy: 0.2850 - loss: 1.5945 - recall: 5.2258e-04 - val_accuracy: 0.2893 - val_loss: 2.0440 - val_recall: 0.2893 - learning_rate: 2.0000e-04\n",
      "Epoch 7/80\n",
      "\n",
      "Epoch 7: val_loss improved from 1.69236 to 1.61456, saving model to /kaggle/working/multiple_view_shoulder_v2.keras\n",
      "299/299 - 436s - 1s/step - accuracy: 0.2868 - loss: 1.5865 - recall: 6.2709e-04 - val_accuracy: 0.2905 - val_loss: 1.6146 - val_recall: 8.4459e-04 - learning_rate: 2.0000e-04\n",
      "Epoch 8/80\n",
      "\n",
      "Epoch 8: val_loss improved from 1.61456 to 1.60211, saving model to /kaggle/working/multiple_view_shoulder_v2.keras\n",
      "299/299 - 466s - 2s/step - accuracy: 0.2879 - loss: 1.5863 - recall: 5.2258e-04 - val_accuracy: 0.2449 - val_loss: 1.6021 - val_recall: 4.2230e-04 - learning_rate: 2.0000e-04\n",
      "Epoch 9/80\n",
      "\n",
      "Epoch 9: val_loss did not improve from 1.60211\n",
      "299/299 - 434s - 1s/step - accuracy: 0.2885 - loss: 1.5863 - recall: 3.1355e-04 - val_accuracy: 0.2918 - val_loss: 1.6885 - val_recall: 4.2230e-04 - learning_rate: 2.0000e-04\n",
      "Epoch 10/80\n",
      "\n",
      "Epoch 10: val_loss did not improve from 1.60211\n",
      "299/299 - 437s - 1s/step - accuracy: 0.2890 - loss: 1.5840 - recall: 5.2258e-04 - val_accuracy: 0.2910 - val_loss: 3.7552 - val_recall: 0.2910 - learning_rate: 2.0000e-04\n",
      "Epoch 11/80\n",
      "\n",
      "Epoch 11: val_loss did not improve from 1.60211\n",
      "299/299 - 454s - 2s/step - accuracy: 0.2881 - loss: 1.5843 - recall: 6.2709e-04 - val_accuracy: 0.2458 - val_loss: 1.7968 - val_recall: 8.4459e-04 - learning_rate: 2.0000e-04\n",
      "Epoch 12/80\n",
      "\n",
      "Epoch 12: val_loss did not improve from 1.60211\n",
      "\n",
      "Epoch 12: ReduceLROnPlateau reducing learning rate to 4.0000001899898055e-05.\n",
      "299/299 - 433s - 1s/step - accuracy: 0.2861 - loss: 1.5836 - recall: 3.1355e-04 - val_accuracy: 0.1415 - val_loss: 1.8532 - val_recall: 8.4459e-04 - learning_rate: 2.0000e-04\n",
      "Epoch 13/80\n",
      "\n",
      "Epoch 13: val_loss improved from 1.60211 to 1.59999, saving model to /kaggle/working/multiple_view_shoulder_v2.keras\n",
      "299/299 - 465s - 2s/step - accuracy: 0.2881 - loss: 1.5838 - recall: 4.1806e-04 - val_accuracy: 0.2893 - val_loss: 1.6000 - val_recall: 4.2230e-04 - learning_rate: 4.0000e-05\n",
      "Epoch 14/80\n",
      "\n",
      "Epoch 14: val_loss did not improve from 1.59999\n",
      "299/299 - 426s - 1s/step - accuracy: 0.2877 - loss: 1.5849 - recall: 4.1806e-04 - val_accuracy: 0.2918 - val_loss: 1.6712 - val_recall: 4.2230e-04 - learning_rate: 4.0000e-05\n",
      "Epoch 15/80\n",
      "\n",
      "Epoch 15: val_loss did not improve from 1.59999\n",
      "299/299 - 421s - 1s/step - accuracy: 0.2876 - loss: 1.5837 - recall: 7.3161e-04 - val_accuracy: 0.2893 - val_loss: 1.6155 - val_recall: 4.2230e-04 - learning_rate: 4.0000e-05\n",
      "Epoch 16/80\n",
      "\n",
      "Epoch 16: val_loss improved from 1.59999 to 1.59140, saving model to /kaggle/working/multiple_view_shoulder_v2.keras\n",
      "299/299 - 443s - 1s/step - accuracy: 0.2873 - loss: 1.5829 - recall: 4.1806e-04 - val_accuracy: 0.2914 - val_loss: 1.5914 - val_recall: 0.0000e+00 - learning_rate: 4.0000e-05\n",
      "Epoch 17/80\n",
      "\n",
      "Epoch 17: val_loss improved from 1.59140 to 1.58656, saving model to /kaggle/working/multiple_view_shoulder_v2.keras\n",
      "299/299 - 421s - 1s/step - accuracy: 0.2872 - loss: 1.5824 - recall: 5.2258e-04 - val_accuracy: 0.2914 - val_loss: 1.5866 - val_recall: 4.2230e-04 - learning_rate: 4.0000e-05\n",
      "Epoch 18/80\n",
      "\n",
      "Epoch 18: val_loss did not improve from 1.58656\n",
      "299/299 - 421s - 1s/step - accuracy: 0.2894 - loss: 1.5817 - recall: 5.2258e-04 - val_accuracy: 0.2475 - val_loss: 1.6336 - val_recall: 8.4459e-04 - learning_rate: 4.0000e-05\n",
      "Epoch 19/80\n",
      "\n",
      "Epoch 19: val_loss did not improve from 1.58656\n",
      "299/299 - 449s - 2s/step - accuracy: 0.2874 - loss: 1.5823 - recall: 7.3161e-04 - val_accuracy: 0.2466 - val_loss: 1.6065 - val_recall: 4.2230e-04 - learning_rate: 4.0000e-05\n",
      "Epoch 20/80\n",
      "\n",
      "Epoch 20: val_loss did not improve from 1.58656\n",
      "299/299 - 422s - 1s/step - accuracy: 0.2876 - loss: 1.5839 - recall: 3.1355e-04 - val_accuracy: 0.2901 - val_loss: 1.5868 - val_recall: 8.4459e-04 - learning_rate: 4.0000e-05\n",
      "Epoch 21/80\n",
      "\n",
      "Epoch 21: val_loss did not improve from 1.58656\n",
      "\n",
      "Epoch 21: ReduceLROnPlateau reducing learning rate to 8.000000525498762e-06.\n",
      "299/299 - 433s - 1s/step - accuracy: 0.2867 - loss: 1.5827 - recall: 7.3161e-04 - val_accuracy: 0.2905 - val_loss: 1.6210 - val_recall: 4.2230e-04 - learning_rate: 4.0000e-05\n",
      "Epoch 22/80\n",
      "\n",
      "Epoch 22: val_loss improved from 1.58656 to 1.57924, saving model to /kaggle/working/multiple_view_shoulder_v2.keras\n",
      "299/299 - 419s - 1s/step - accuracy: 0.2880 - loss: 1.5819 - recall: 7.3161e-04 - val_accuracy: 0.2901 - val_loss: 1.5792 - val_recall: 8.4459e-04 - learning_rate: 8.0000e-06\n",
      "Epoch 23/80\n",
      "\n",
      "Epoch 23: val_loss did not improve from 1.57924\n",
      "299/299 - 431s - 1s/step - accuracy: 0.2864 - loss: 1.5810 - recall: 7.3161e-04 - val_accuracy: 0.2897 - val_loss: 1.5796 - val_recall: 4.2230e-04 - learning_rate: 8.0000e-06\n",
      "Epoch 24/80\n",
      "\n",
      "Epoch 24: val_loss did not improve from 1.57924\n",
      "299/299 - 445s - 1s/step - accuracy: 0.2876 - loss: 1.5803 - recall: 9.4064e-04 - val_accuracy: 0.2922 - val_loss: 1.5823 - val_recall: 8.4459e-04 - learning_rate: 8.0000e-06\n",
      "Epoch 25/80\n",
      "\n",
      "Epoch 25: val_loss did not improve from 1.57924\n",
      "299/299 - 420s - 1s/step - accuracy: 0.2875 - loss: 1.5824 - recall: 5.2258e-04 - val_accuracy: 0.2889 - val_loss: 1.5821 - val_recall: 4.2230e-04 - learning_rate: 8.0000e-06\n",
      "Epoch 26/80\n",
      "\n",
      "Epoch 26: val_loss did not improve from 1.57924\n",
      "\n",
      "Epoch 26: ReduceLROnPlateau reducing learning rate to 1.6000001778593287e-06.\n",
      "299/299 - 435s - 1s/step - accuracy: 0.2891 - loss: 1.5811 - recall: 6.2709e-04 - val_accuracy: 0.2905 - val_loss: 1.5811 - val_recall: 8.4459e-04 - learning_rate: 8.0000e-06\n",
      "Epoch 27/80\n",
      "\n",
      "Epoch 27: val_loss did not improve from 1.57924\n",
      "299/299 - 418s - 1s/step - accuracy: 0.2876 - loss: 1.5832 - recall: 3.1355e-04 - val_accuracy: 0.2897 - val_loss: 1.5800 - val_recall: 4.2230e-04 - learning_rate: 1.6000e-06\n",
      "Epoch 28/80\n",
      "\n",
      "Epoch 28: val_loss did not improve from 1.57924\n",
      "299/299 - 433s - 1s/step - accuracy: 0.2855 - loss: 1.5827 - recall: 6.2709e-04 - val_accuracy: 0.2897 - val_loss: 1.5799 - val_recall: 4.2230e-04 - learning_rate: 1.6000e-06\n",
      "Epoch 29/80\n",
      "\n",
      "Epoch 29: val_loss did not improve from 1.57924\n",
      "299/299 - 434s - 1s/step - accuracy: 0.2862 - loss: 1.5818 - recall: 5.2258e-04 - val_accuracy: 0.2901 - val_loss: 1.5794 - val_recall: 4.2230e-04 - learning_rate: 1.6000e-06\n",
      "Epoch 30/80\n",
      "\n",
      "Epoch 30: val_loss improved from 1.57924 to 1.57886, saving model to /kaggle/working/multiple_view_shoulder_v2.keras\n",
      "299/299 - 426s - 1s/step - accuracy: 0.2873 - loss: 1.5817 - recall: 7.3161e-04 - val_accuracy: 0.2901 - val_loss: 1.5789 - val_recall: 4.2230e-04 - learning_rate: 1.6000e-06\n",
      "Epoch 31/80\n",
      "\n",
      "Epoch 31: val_loss did not improve from 1.57886\n",
      "299/299 - 430s - 1s/step - accuracy: 0.2877 - loss: 1.5807 - recall: 7.3161e-04 - val_accuracy: 0.2897 - val_loss: 1.5798 - val_recall: 4.2230e-04 - learning_rate: 1.6000e-06\n",
      "Epoch 32/80\n",
      "\n",
      "Epoch 32: val_loss improved from 1.57886 to 1.57830, saving model to /kaggle/working/multiple_view_shoulder_v2.keras\n",
      "299/299 - 455s - 2s/step - accuracy: 0.2892 - loss: 1.5805 - recall: 5.2258e-04 - val_accuracy: 0.2918 - val_loss: 1.5783 - val_recall: 4.2230e-04 - learning_rate: 1.6000e-06\n",
      "Epoch 33/80\n",
      "\n",
      "Epoch 33: val_loss did not improve from 1.57830\n",
      "299/299 - 413s - 1s/step - accuracy: 0.2871 - loss: 1.5807 - recall: 4.1806e-04 - val_accuracy: 0.2889 - val_loss: 1.5796 - val_recall: 4.2230e-04 - learning_rate: 1.6000e-06\n",
      "Epoch 34/80\n",
      "\n",
      "Epoch 34: val_loss did not improve from 1.57830\n",
      "299/299 - 440s - 1s/step - accuracy: 0.2868 - loss: 1.5807 - recall: 4.1806e-04 - val_accuracy: 0.2901 - val_loss: 1.5792 - val_recall: 4.2230e-04 - learning_rate: 1.6000e-06\n",
      "Epoch 35/80\n",
      "\n",
      "Epoch 35: val_loss did not improve from 1.57830\n",
      "299/299 - 418s - 1s/step - accuracy: 0.2896 - loss: 1.5795 - recall: 6.2709e-04 - val_accuracy: 0.2905 - val_loss: 1.5789 - val_recall: 4.2230e-04 - learning_rate: 1.6000e-06\n",
      "Epoch 36/80\n",
      "\n",
      "Epoch 36: val_loss did not improve from 1.57830\n",
      "\n",
      "Epoch 36: ReduceLROnPlateau reducing learning rate to 3.200000264769187e-07.\n",
      "299/299 - 421s - 1s/step - accuracy: 0.2858 - loss: 1.5819 - recall: 5.2258e-04 - val_accuracy: 0.2910 - val_loss: 1.5788 - val_recall: 4.2230e-04 - learning_rate: 1.6000e-06\n",
      "Epoch 37/80\n",
      "\n",
      "Epoch 37: val_loss did not improve from 1.57830\n",
      "299/299 - 435s - 1s/step - accuracy: 0.2870 - loss: 1.5801 - recall: 7.3161e-04 - val_accuracy: 0.2914 - val_loss: 1.5783 - val_recall: 4.2230e-04 - learning_rate: 3.2000e-07\n",
      "Epoch 38/80\n",
      "\n",
      "Epoch 38: val_loss did not improve from 1.57830\n",
      "299/299 - 417s - 1s/step - accuracy: 0.2870 - loss: 1.5835 - recall: 3.1355e-04 - val_accuracy: 0.2897 - val_loss: 1.5800 - val_recall: 4.2230e-04 - learning_rate: 3.2000e-07\n",
      "Epoch 39/80\n",
      "\n",
      "Epoch 39: val_loss improved from 1.57830 to 1.57785, saving model to /kaggle/working/multiple_view_shoulder_v2.keras\n",
      "299/299 - 454s - 2s/step - accuracy: 0.2893 - loss: 1.5818 - recall: 5.2258e-04 - val_accuracy: 0.2914 - val_loss: 1.5778 - val_recall: 4.2230e-04 - learning_rate: 3.2000e-07\n",
      "Epoch 40/80\n",
      "\n",
      "Epoch 40: val_loss did not improve from 1.57785\n",
      "299/299 - 471s - 2s/step - accuracy: 0.2863 - loss: 1.5831 - recall: 3.1355e-04 - val_accuracy: 0.2905 - val_loss: 1.5784 - val_recall: 4.2230e-04 - learning_rate: 3.2000e-07\n",
      "Epoch 41/80\n",
      "\n",
      "Epoch 41: val_loss did not improve from 1.57785\n",
      "299/299 - 424s - 1s/step - accuracy: 0.2873 - loss: 1.5816 - recall: 6.2709e-04 - val_accuracy: 0.2880 - val_loss: 1.5798 - val_recall: 4.2230e-04 - learning_rate: 3.2000e-07\n",
      "Epoch 42/80\n",
      "\n",
      "Epoch 42: val_loss did not improve from 1.57785\n",
      "299/299 - 445s - 1s/step - accuracy: 0.2885 - loss: 1.5809 - recall: 6.2709e-04 - val_accuracy: 0.2918 - val_loss: 1.5787 - val_recall: 4.2230e-04 - learning_rate: 3.2000e-07\n",
      "Epoch 43/80\n",
      "\n",
      "Epoch 43: val_loss did not improve from 1.57785\n",
      "\n",
      "Epoch 43: ReduceLROnPlateau reducing learning rate to 1e-07.\n",
      "299/299 - 421s - 1s/step - accuracy: 0.2871 - loss: 1.5817 - recall: 5.2258e-04 - val_accuracy: 0.2918 - val_loss: 1.5785 - val_recall: 4.2230e-04 - learning_rate: 3.2000e-07\n",
      "Epoch 44/80\n",
      "\n",
      "Epoch 44: val_loss did not improve from 1.57785\n",
      "299/299 - 422s - 1s/step - accuracy: 0.2883 - loss: 1.5826 - recall: 3.1355e-04 - val_accuracy: 0.2910 - val_loss: 1.5792 - val_recall: 4.2230e-04 - learning_rate: 1.0000e-07\n",
      "Epoch 45/80\n",
      "\n",
      "Epoch 45: val_loss did not improve from 1.57785\n",
      "299/299 - 452s - 2s/step - accuracy: 0.2883 - loss: 1.5807 - recall: 7.3161e-04 - val_accuracy: 0.2893 - val_loss: 1.5792 - val_recall: 4.2230e-04 - learning_rate: 1.0000e-07\n",
      "Epoch 46/80\n",
      "\n",
      "Epoch 46: val_loss did not improve from 1.57785\n",
      "299/299 - 426s - 1s/step - accuracy: 0.2879 - loss: 1.5813 - recall: 8.3612e-04 - val_accuracy: 0.2893 - val_loss: 1.5794 - val_recall: 4.2230e-04 - learning_rate: 1.0000e-07\n",
      "Epoch 47/80\n",
      "\n",
      "Epoch 47: val_loss did not improve from 1.57785\n",
      "299/299 - 417s - 1s/step - accuracy: 0.2883 - loss: 1.5808 - recall: 8.3612e-04 - val_accuracy: 0.2889 - val_loss: 1.5795 - val_recall: 4.2230e-04 - learning_rate: 1.0000e-07\n",
      "Epoch 48/80\n",
      "\n",
      "Epoch 48: val_loss did not improve from 1.57785\n",
      "299/299 - 443s - 1s/step - accuracy: 0.2870 - loss: 1.5822 - recall: 5.2258e-04 - val_accuracy: 0.2901 - val_loss: 1.5796 - val_recall: 4.2230e-04 - learning_rate: 1.0000e-07\n",
      "Epoch 49/80\n",
      "\n",
      "Epoch 49: val_loss did not improve from 1.57785\n",
      "299/299 - 437s - 1s/step - accuracy: 0.2873 - loss: 1.5814 - recall: 6.2709e-04 - val_accuracy: 0.2901 - val_loss: 1.5799 - val_recall: 4.2230e-04 - learning_rate: 1.0000e-07\n",
      "Epoch 49: early stopping\n",
      "Restoring model weights from the end of the best epoch: 39.\n"
     ]
    }
   ],
   "source": [
    "history = model.fit(train_generator,\n",
    "                    validation_data=valid_generator,\n",
    "                    callbacks=[early_stopping,model_checkpoint, learn_control],\n",
    "                    epochs=80,\n",
    "                    verbose=2)"
   ]
  },
  {
   "cell_type": "code",
   "execution_count": 11,
   "id": "d621d3d8",
   "metadata": {
    "execution": {
     "iopub.execute_input": "2024-06-09T15:18:46.004941Z",
     "iopub.status.busy": "2024-06-09T15:18:46.004622Z",
     "iopub.status.idle": "2024-06-09T15:18:46.549091Z",
     "shell.execute_reply": "2024-06-09T15:18:46.548235Z"
    },
    "papermill": {
     "duration": 0.567412,
     "end_time": "2024-06-09T15:18:46.551164",
     "exception": false,
     "start_time": "2024-06-09T15:18:45.983752",
     "status": "completed"
    },
    "tags": []
   },
   "outputs": [
    {
     "data": {
      "text/plain": [
       "<Axes: >"
      ]
     },
     "execution_count": 11,
     "metadata": {},
     "output_type": "execute_result"
    },
    {
     "data": {
      "image/png": "[encoded data removed]",
      "text/plain": [
       "<Figure size 640x480 with 1 Axes>"
      ]
     },
     "metadata": {},
     "output_type": "display_data"
    },
    {
     "data": {
      "image/png": "[encoded data removed]",
      "text/plain": [
       "<Figure size 640x480 with 1 Axes>"
      ]
     },
     "metadata": {},
     "output_type": "display_data"
    }
   ],
   "source": [
    "history_df = pd.DataFrame(history.history)\n",
    "history_df[['loss', 'val_loss']].plot()\n",
    "history_df[['accuracy','recall']].plot()"
   ]
  },
  {
   "cell_type": "code",
   "execution_count": 12,
   "id": "46ef1073",
   "metadata": {
    "execution": {
     "iopub.execute_input": "2024-06-09T15:18:46.591745Z",
     "iopub.status.busy": "2024-06-09T15:18:46.591442Z",
     "iopub.status.idle": "2024-06-09T15:19:50.743466Z",
     "shell.execute_reply": "2024-06-09T15:19:50.742251Z"
    },
    "papermill": {
     "duration": 64.174181,
     "end_time": "2024-06-09T15:19:50.745505",
     "exception": false,
     "start_time": "2024-06-09T15:18:46.571324",
     "status": "completed"
    },
    "tags": []
   },
   "outputs": [
    {
     "name": "stdout",
     "output_type": "stream",
     "text": [
      "\u001b[1m29/29\u001b[0m \u001b[32m━━━━━━━━━━━━━━━━━━━━\u001b[0m\u001b[37m\u001b[0m \u001b[1m60s\u001b[0m 2s/step - accuracy: 0.2669 - loss: 1.6082 - recall: 0.0036\n",
      "Loss: 1.6074455976486206\n",
      "Accuracy: 0.2575431168079376\n"
     ]
    }
   ],
   "source": [
    "loss, accuracy,recall = model.evaluate(test_generator)\n",
    "print(f\"Loss: {loss}\")\n",
    "print(f\"Accuracy: {accuracy}\")"
   ]
  }
 ],
 "metadata": {
  "kaggle": {
   "accelerator": "gpu",
   "dataSources": [
    {
     "datasetId": 427555,
     "sourceId": 813639,
     "sourceType": "datasetVersion"
    },
    {
     "datasetId": 4776881,
     "sourceId": 8091050,
     "sourceType": "datasetVersion"
    },
    {
     "datasetId": 5064664,
     "sourceId": 8489424,
     "sourceType": "datasetVersion"
    },
    {
     "isSourceIdPinned": true,
     "modelInstanceId": 52667,
     "sourceId": 63143,
     "sourceType": "modelInstanceVersion"
    }
   ],
   "dockerImageVersionId": 30699,
   "isGpuEnabled": true,
   "isInternetEnabled": true,
   "language": "python",
   "sourceType": "notebook"
  },
  "kernelspec": {
   "display_name": "Python 3",
   "language": "python",
   "name": "python3"
  },
  "language_info": {
   "codemirror_mode": {
    "name": "ipython",
    "version": 3
   },
   "file_extension": ".py",
   "mimetype": "text/x-python",
   "name": "python",
   "nbconvert_exporter": "python",
   "pygments_lexer": "ipython3",
   "version": "3.10.13"
  },
  "papermill": {
   "default_parameters": {},
   "duration": 21804.380508,
   "end_time": "2024-06-09T15:19:54.312519",
   "environment_variables": {},
   "exception": null,
   "input_path": "__notebook__.ipynb",
   "output_path": "__notebook__.ipynb",
   "parameters": {},
   "start_time": "2024-06-09T09:16:29.932011",
   "version": "2.5.0"
  }
 },
 "nbformat": 4,
 "nbformat_minor": 5
}
