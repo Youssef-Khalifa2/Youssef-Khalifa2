{
 "cells": [
  {
   "cell_type": "code",
   "execution_count": 1,
   "id": "e696982a",
   "metadata": {
    "execution": {
     "iopub.execute_input": "2024-06-07T21:37:36.979463Z",
     "iopub.status.busy": "2024-06-07T21:37:36.978700Z",
     "iopub.status.idle": "2024-06-07T21:37:51.760414Z",
     "shell.execute_reply": "2024-06-07T21:37:51.759359Z"
    },
    "papermill": {
     "duration": 14.79176,
     "end_time": "2024-06-07T21:37:51.763036",
     "exception": false,
     "start_time": "2024-06-07T21:37:36.971276",
     "status": "completed"
    },
    "tags": []
   },
   "outputs": [
    {
     "name": "stderr",
     "output_type": "stream",
     "text": [
      "2024-06-07 21:37:39.053193: E external/local_xla/xla/stream_executor/cuda/cuda_dnn.cc:9261] Unable to register cuDNN factory: Attempting to register factory for plugin cuDNN when one has already been registered\n",
      "2024-06-07 21:37:39.053302: E external/local_xla/xla/stream_executor/cuda/cuda_fft.cc:607] Unable to register cuFFT factory: Attempting to register factory for plugin cuFFT when one has already been registered\n",
      "2024-06-07 21:37:39.187384: E external/local_xla/xla/stream_executor/cuda/cuda_blas.cc:1515] Unable to register cuBLAS factory: Attempting to register factory for plugin cuBLAS when one has already been registered\n"
     ]
    }
   ],
   "source": [
    "import os\n",
    "import cv2\n",
    "import keras\n",
    "import shutil\n",
    "import random\n",
    "import gc\n",
    "import numpy as np\n",
    "import pandas as pd \n",
    "import tensorflow as tf\n",
    "from PIL import Image, UnidentifiedImageError\n",
    "from tensorflow.keras.preprocessing.image import load_img, img_to_array\n",
    "from tensorflow.keras.layers import Input, Average, Dense ,Layer\n",
    "from tensorflow.keras.layers import Concatenate, GlobalAveragePooling2D\n",
    "from sklearn.model_selection import train_test_split\n",
    "from keras.callbacks import EarlyStopping, ModelCheckpoint, LearningRateScheduler, TensorBoard\n",
    "from keras.layers import Concatenate\n",
    "from keras.models import load_model\n",
    "from tensorflow.keras.applications import Xception,EfficientNetB0\n",
    "from tensorflow.keras.utils import Sequence\n",
    "from tensorflow.keras import mixed_precision , applications,layers\n",
    "from keras.applications.resnet50 import preprocess_input\n",
    "mixed_precision.set_global_policy('mixed_float16')"
   ]
  },
  {
   "cell_type": "code",
   "execution_count": 2,
   "id": "f86447ed",
   "metadata": {
    "execution": {
     "iopub.execute_input": "2024-06-07T21:37:51.775185Z",
     "iopub.status.busy": "2024-06-07T21:37:51.774582Z",
     "iopub.status.idle": "2024-06-07T21:37:51.779715Z",
     "shell.execute_reply": "2024-06-07T21:37:51.778860Z"
    },
    "papermill": {
     "duration": 0.01333,
     "end_time": "2024-06-07T21:37:51.781983",
     "exception": false,
     "start_time": "2024-06-07T21:37:51.768653",
     "status": "completed"
    },
    "tags": []
   },
   "outputs": [],
   "source": [
    "image_shape = (224, 224, 3)\n",
    "num_classes = 5  \n",
    "num_views = 7\n",
    "batch_size = 32"
   ]
  },
  {
   "cell_type": "code",
   "execution_count": 3,
   "id": "7cc5d1fe",
   "metadata": {
    "execution": {
     "iopub.execute_input": "2024-06-07T21:37:51.793462Z",
     "iopub.status.busy": "2024-06-07T21:37:51.793141Z",
     "iopub.status.idle": "2024-06-07T21:38:06.331136Z",
     "shell.execute_reply": "2024-06-07T21:38:06.329866Z"
    },
    "papermill": {
     "duration": 14.54679,
     "end_time": "2024-06-07T21:38:06.333757",
     "exception": false,
     "start_time": "2024-06-07T21:37:51.786967",
     "status": "completed"
    },
    "tags": []
   },
   "outputs": [],
   "source": [
    "# Source path of the model\n",
    "source_path = \"/kaggle/input/bone-type-midway-multi/keras/v2_eli_begad_7-6/3/multiple_view_shoulder_v2 (1).keras\"\n",
    "\n",
    "# Destination path where you can write\n",
    "destination_path = \"/kaggle/working/model.keras\"\n",
    "\n",
    "# Copy the model file\n",
    "shutil.copyfile(source_path, destination_path)\n",
    "\n",
    "# Now load the model from the copied file\n",
    "base_model = load_model(destination_path)"
   ]
  },
  {
   "cell_type": "code",
   "execution_count": 4,
   "id": "3f6a7d04",
   "metadata": {
    "execution": {
     "iopub.execute_input": "2024-06-07T21:38:06.346622Z",
     "iopub.status.busy": "2024-06-07T21:38:06.345747Z",
     "iopub.status.idle": "2024-06-07T21:38:06.364654Z",
     "shell.execute_reply": "2024-06-07T21:38:06.363607Z"
    },
    "papermill": {
     "duration": 0.027651,
     "end_time": "2024-06-07T21:38:06.367087",
     "exception": false,
     "start_time": "2024-06-07T21:38:06.339436",
     "status": "completed"
    },
    "tags": []
   },
   "outputs": [],
   "source": [
    "class CustomDataGenerator(Sequence):\n",
    "    def __init__(self, image_paths, labels, batch_size, image_shape, num_classes, num_views=num_views):\n",
    "        super().__init__()\n",
    "        self.image_paths = list(image_paths)\n",
    "        self.labels = list(labels)\n",
    "        self.batch_size = batch_size\n",
    "        self.image_shape = image_shape\n",
    "        self.num_classes = num_classes\n",
    "        self.num_views = num_views\n",
    "        self.on_epoch_end()\n",
    "\n",
    "    def __len__(self):\n",
    "        return int(np.floor(len(self.image_paths) / self.batch_size))\n",
    "\n",
    "    def __getitem__(self, index):\n",
    "        indices = self.indices[index * self.batch_size:(index + 1) * self.batch_size]\n",
    "        batch_image_paths = [self.image_paths[i] for i in indices]\n",
    "        batch_labels = [self.labels[i] for i in indices]\n",
    "\n",
    "        images = []\n",
    "        for folder_path in batch_image_paths:\n",
    "            images.append(self._load_and_pad_images(folder_path, self.image_shape))\n",
    "\n",
    "        images = np.array(images)  # Shape: (batch_size, num_views, height, width, channels)\n",
    "        batch_labels = tf.keras.utils.to_categorical(batch_labels, num_classes=self.num_classes)\n",
    "\n",
    "        # Transpose the batch to separate views as different inputs\n",
    "        images = [images[:, i, :, :, :] for i in range(self.num_views)]\n",
    "        \n",
    "        # Convert to tuple of tensors\n",
    "        images = tuple(tf.convert_to_tensor(img) for img in images)\n",
    "        batch_labels = tf.convert_to_tensor(batch_labels)\n",
    "\n",
    "        return images, batch_labels\n",
    "\n",
    "    def on_epoch_end(self):\n",
    "        self.indices = np.arange(len(self.image_paths))\n",
    "        np.random.shuffle(self.indices)\n",
    "\n",
    "    def _load_and_pad_images(self, folder_path, image_shape):\n",
    "        image_paths = [os.path.join(folder_path, f) for f in os.listdir(folder_path)\n",
    "                       if f.endswith((\".jpg\", \".jpeg\", \".png\")) and not f.startswith(\"._\")]\n",
    "\n",
    "        if not image_paths:\n",
    "            logger.error(f\"No valid images found in folder: {folder_path}\")\n",
    "            return [np.zeros((image_shape[0], image_shape[1], image_shape[2]))] * self.num_views\n",
    "\n",
    "        if len(image_paths) > self.num_views:\n",
    "            image_paths = random.sample(image_paths, self.num_views)\n",
    "\n",
    "        processed_images = []\n",
    "        for image_path in image_paths:\n",
    "            try:\n",
    "                img = load_img(image_path, target_size=image_shape)\n",
    "                img_array = img_to_array(img)\n",
    "                img_array = img_array / 255.0\n",
    "                preprocessed_img_array = preprocess_input(img_array)\n",
    "                processed_images.append(preprocessed_img_array)\n",
    "            except Exception as e:\n",
    "                logger.warning(f\"Warning: Skipping unidentifiable image file: {image_path} due to {e}\")\n",
    "                processed_images.append(np.zeros((image_shape[0], image_shape[1], image_shape[2])))\n",
    "\n",
    "        while len(processed_images) < self.num_views:\n",
    "            processed_images.append(np.zeros((image_shape[0], image_shape[1], image_shape[2])))\n",
    "\n",
    "        return np.array(processed_images)\n"
   ]
  },
  {
   "cell_type": "code",
   "execution_count": 5,
   "id": "f9d33ed9",
   "metadata": {
    "execution": {
     "iopub.execute_input": "2024-06-07T21:38:06.378940Z",
     "iopub.status.busy": "2024-06-07T21:38:06.378587Z",
     "iopub.status.idle": "2024-06-07T21:38:06.497473Z",
     "shell.execute_reply": "2024-06-07T21:38:06.496224Z"
    },
    "papermill": {
     "duration": 0.127641,
     "end_time": "2024-06-07T21:38:06.499968",
     "exception": false,
     "start_time": "2024-06-07T21:38:06.372327",
     "status": "completed"
    },
    "tags": []
   },
   "outputs": [
    {
     "name": "stdout",
     "output_type": "stream",
     "text": [
      "                                                    Path Bone_type\n",
      "9666   /kaggle/input/mura-v11/MURA-v1.1/train/XR_WRIS...         1\n",
      "9719   /kaggle/input/mura-v11/MURA-v1.1/train/XR_WRIS...         1\n",
      "5328   /kaggle/input/mura-v11/MURA-v1.1/train/XR_FING...         4\n",
      "2159   /kaggle/input/mura-v11/MURA-v1.1/train/XR_SHOU...         0\n",
      "4740   /kaggle/input/mura-v11/MURA-v1.1/train/XR_FING...         4\n",
      "...                                                  ...       ...\n",
      "8405   /kaggle/input/mura-v11/MURA-v1.1/train/XR_WRIS...         1\n",
      "12424  /kaggle/input/mura-v11/MURA-v1.1/train/XR_HAND...         2\n",
      "905    /kaggle/input/mura-v11/MURA-v1.1/train/XR_SHOU...         0\n",
      "5784   /kaggle/input/mura-v11/MURA-v1.1/train/XR_ELBO...         3\n",
      "235    /kaggle/input/mura-v11/MURA-v1.1/train/XR_SHOU...         0\n",
      "\n",
      "[9590 rows x 2 columns]\n",
      "===============Done with training images===================\n",
      "===============Done with test images===================\n"
     ]
    }
   ],
   "source": [
    "bone_type_mapping = {'SHOULDER': 0, 'WRIST': 1, 'HAND': 2, 'ELBOW': 3, 'FINGER': 4}\n",
    "prefix = '/kaggle/input/mura-v11/'\n",
    "output_directory = '/kaggle/working'\n",
    "train_excel_file_path = '/kaggle/input/csv-for-multiview/Patients with bone type for multiview.csv'\n",
    "df = pd.read_csv(train_excel_file_path, header=None,names=['Path', 'Abnormal','Bone_type'])\n",
    "df = df[~df['Path'].str.contains('XR_FOREARM|XR_HUMERUS')]\n",
    "df['Bone_type'] = df['Bone_type'].map(bone_type_mapping).astype(int)\n",
    "paths = prefix + df['Path'].astype(str)\n",
    "labels = df['Bone_type']\n",
    "labels = labels.astype(str)\n",
    "t_images = pd.concat([paths, labels], axis=1)\n",
    "train_df, test_df = train_test_split(t_images, train_size=0.8, shuffle=True, random_state=1)\n",
    "print(train_df)\n",
    "print(\"===============Done with training images===================\")\n",
    "test_excel_file_path = '/kaggle/input/csv-for-multiview/validation Patients with bone type for multiview.csv'\n",
    "df = pd.read_csv(test_excel_file_path, header=None,names=['Path', 'Abnormal','Bone_type'])\n",
    "df = df[~df['Path'].str.contains('XR_FOREARM|XR_HUMERUS')]\n",
    "df['Bone_type'] = df['Bone_type'].map(bone_type_mapping).astype(int)\n",
    "paths = prefix + df['Path'].astype(str)\n",
    "labels = df['Bone_type']\n",
    "labels = labels.astype(str)\n",
    "v_images = pd.concat([paths, labels], axis=1)\n",
    "print(\"===============Done with test images===================\")"
   ]
  },
  {
   "cell_type": "code",
   "execution_count": 6,
   "id": "a2ff9819",
   "metadata": {
    "_cell_guid": "b1076dfc-b9ad-4769-8c92-a6c4dae69d19",
    "_uuid": "8f2839f25d086af736a60e9eeb907d3b93b6e0e5",
    "execution": {
     "iopub.execute_input": "2024-06-07T21:38:06.513054Z",
     "iopub.status.busy": "2024-06-07T21:38:06.512659Z",
     "iopub.status.idle": "2024-06-07T21:38:06.526363Z",
     "shell.execute_reply": "2024-06-07T21:38:06.525528Z"
    },
    "papermill": {
     "duration": 0.022912,
     "end_time": "2024-06-07T21:38:06.528570",
     "exception": false,
     "start_time": "2024-06-07T21:38:06.505658",
     "status": "completed"
    },
    "tags": []
   },
   "outputs": [],
   "source": [
    "#Data Generators Initialization \n",
    "train_paths,train_labels = train_df['Path'] , train_df['Bone_type']\n",
    "valid_paths,valid_labels = test_df['Path'] , test_df['Bone_type']\n",
    "test_paths,test_labels = v_images['Path'] , v_images['Bone_type']\n",
    "\n",
    "train_generator = CustomDataGenerator(train_paths, train_labels, batch_size, image_shape, num_classes)\n",
    "valid_generator = CustomDataGenerator(valid_paths, valid_labels, batch_size, image_shape, num_classes)\n",
    "test_generator = CustomDataGenerator(test_paths, test_labels, batch_size, image_shape, num_classes)"
   ]
  },
  {
   "cell_type": "code",
   "execution_count": 7,
   "id": "8c661a16",
   "metadata": {
    "execution": {
     "iopub.execute_input": "2024-06-07T21:38:06.541563Z",
     "iopub.status.busy": "2024-06-07T21:38:06.540720Z",
     "iopub.status.idle": "2024-06-07T21:38:06.547838Z",
     "shell.execute_reply": "2024-06-07T21:38:06.546850Z"
    },
    "papermill": {
     "duration": 0.01584,
     "end_time": "2024-06-07T21:38:06.550035",
     "exception": false,
     "start_time": "2024-06-07T21:38:06.534195",
     "status": "completed"
    },
    "tags": []
   },
   "outputs": [],
   "source": [
    "#Callbacks Initialization\n",
    "checkpoint_path = '/kaggle/working/multiple_view_shoulder_v2.keras'\n",
    "Monitored_metric= 'val_loss' \n",
    "# Create an EarlyStopping callback\n",
    "early_stopping = EarlyStopping(monitor=Monitored_metric,  # The metric to monitor for early stopping\n",
    "                               patience=10,  # Number of epochs with no improvement after which training will be stopped\n",
    "                               verbose=1,  # Verbosity level\n",
    "                               restore_best_weights=True)  # Restore model weights from the epoch with the best value of the monitored metric\n",
    "\n",
    "# Create a ModelCheckpoint callback\n",
    "model_checkpoint = ModelCheckpoint(checkpoint_path,\n",
    "                                   monitor=Monitored_metric,  # The metric to monitor for saving the best model\n",
    "                                   save_best_only=True,  # Save only the best model\n",
    "                                   mode='min',  # Mode for the 'monitor' metric (e.g., 'min' for loss)\n",
    "                                   verbose=1)  # Verbosity level\n",
    "learn_control = tf.keras.callbacks.ReduceLROnPlateau(monitor=Monitored_metric, \n",
    "                                  patience=4,\n",
    "                                  verbose=1,\n",
    "                                  factor=0.2, \n",
    "                                  min_lr=1e-7)"
   ]
  },
  {
   "cell_type": "code",
   "execution_count": 8,
   "id": "c60ecdf1",
   "metadata": {
    "execution": {
     "iopub.execute_input": "2024-06-07T21:38:06.562083Z",
     "iopub.status.busy": "2024-06-07T21:38:06.561708Z",
     "iopub.status.idle": "2024-06-07T21:38:06.571664Z",
     "shell.execute_reply": "2024-06-07T21:38:06.570672Z"
    },
    "papermill": {
     "duration": 0.018349,
     "end_time": "2024-06-07T21:38:06.573786",
     "exception": false,
     "start_time": "2024-06-07T21:38:06.555437",
     "status": "completed"
    },
    "tags": []
   },
   "outputs": [],
   "source": [
    "class AttentionLayer(Layer):\n",
    "    def __init__(self, **kwargs):\n",
    "        super(AttentionLayer, self).__init__(**kwargs)\n",
    "        self.dense = None\n",
    "        self.attention_weights = None\n",
    "\n",
    "    def build(self, input_shape):\n",
    "        self.dense = Dense(input_shape[-1], activation='tanh')\n",
    "        self.attention_weights = Dense(1)\n",
    "        super(AttentionLayer, self).build(input_shape)\n",
    "\n",
    "    def call(self, inputs):\n",
    "        dense_features = self.dense(inputs)\n",
    "        raw_attention_scores = self.attention_weights(dense_features)\n",
    "        attention_scores = tf.nn.softmax(raw_attention_scores, axis=1)\n",
    "        context_vector = tf.reduce_sum(attention_scores * inputs, axis=1)\n",
    "        return context_vector\n",
    "        return context_vector\n",
    "    \n",
    "class StackLayer(Layer):\n",
    "    def __init__(self, axis, **kwargs):\n",
    "        super(StackLayer, self).__init__(**kwargs)\n",
    "        self.axis = axis\n",
    "\n",
    "    def call(self, inputs):\n",
    "        return tf.stack(inputs, axis=self.axis)"
   ]
  },
  {
   "cell_type": "markdown",
   "id": "5a09faf8",
   "metadata": {
    "papermill": {
     "duration": 0.004937,
     "end_time": "2024-06-07T21:38:06.584123",
     "exception": false,
     "start_time": "2024-06-07T21:38:06.579186",
     "status": "completed"
    },
    "tags": []
   },
   "source": []
  },
  {
   "cell_type": "code",
   "execution_count": 9,
   "id": "6657fd1d",
   "metadata": {
    "execution": {
     "iopub.execute_input": "2024-06-07T21:38:06.595903Z",
     "iopub.status.busy": "2024-06-07T21:38:06.595533Z",
     "iopub.status.idle": "2024-06-07T21:38:06.608400Z",
     "shell.execute_reply": "2024-06-07T21:38:06.607516Z"
    },
    "papermill": {
     "duration": 0.021181,
     "end_time": "2024-06-07T21:38:06.610522",
     "exception": false,
     "start_time": "2024-06-07T21:38:06.589341",
     "status": "completed"
    },
    "tags": []
   },
   "outputs": [],
   "source": [
    "'''from tensorflow.keras.models import Model\n",
    "#Model Architecture\n",
    "base_model = applications.ResNet50(weights='imagenet', include_top=False, input_shape=image_shape)\n",
    "\n",
    "for layer in base_model.layers:\n",
    "    layer.trainable = False\n",
    "\n",
    "encoded_views = []\n",
    "# Pass each view through the base model\n",
    "inputs = [Input(shape=image_shape) for _ in range(num_views)]\n",
    "for view_input in inputs:\n",
    "    x = base_model(view_input)\n",
    "    encoded_views.append(x)\n",
    "\n",
    "# Flatten the list of lists into a single list of tensors\n",
    "concatenated_features = layers.Concatenate(axis=-1)(encoded_views)\n",
    "x = layers.GlobalAveragePooling2D()(concatenated_features)\n",
    "\n",
    "# Add your custom layers on top of the base model \n",
    "x = layers.Dense(512, activation='relu')(x)\n",
    "x = layers.Dropout(0.5)(x)\n",
    "predictions = layers.Dense(num_classes, activation=\"softmax\")(x)\n",
    "# Create the model\n",
    "model = keras.Model(inputs=inputs, outputs=predictions)\n",
    "'''\n",
    "# Compile the model\n",
    "base_model.compile(optimizer=\"nadam\", loss='categorical_crossentropy', metrics=[\"accuracy\",\"recall\"])\n",
    "\n",
    "#model.summary()"
   ]
  },
  {
   "cell_type": "code",
   "execution_count": 10,
   "id": "9bb15720",
   "metadata": {
    "execution": {
     "iopub.execute_input": "2024-06-07T21:38:06.622499Z",
     "iopub.status.busy": "2024-06-07T21:38:06.622172Z",
     "iopub.status.idle": "2024-06-08T01:31:26.785874Z",
     "shell.execute_reply": "2024-06-08T01:31:26.784905Z"
    },
    "papermill": {
     "duration": 14000.172478,
     "end_time": "2024-06-08T01:31:26.788310",
     "exception": false,
     "start_time": "2024-06-07T21:38:06.615832",
     "status": "completed"
    },
    "tags": []
   },
   "outputs": [
    {
     "name": "stdout",
     "output_type": "stream",
     "text": [
      "Epoch 1/50\n"
     ]
    },
    {
     "name": "stderr",
     "output_type": "stream",
     "text": [
      "WARNING: All log messages before absl::InitializeLog() is called are written to STDERR\n",
      "I0000 00:00:1717796326.698698      69 device_compiler.h:186] Compiled cluster using XLA!  This line is logged at most once for the lifetime of the process.\n",
      "W0000 00:00:1717796326.766096      69 graph_launch.cc:671] Fallback to op-by-op mode because memset node breaks graph update\n",
      "W0000 00:00:1717796875.076629      66 graph_launch.cc:671] Fallback to op-by-op mode because memset node breaks graph update\n"
     ]
    },
    {
     "name": "stdout",
     "output_type": "stream",
     "text": [
      "\n",
      "Epoch 1: val_loss improved from inf to 1.35372, saving model to /kaggle/working/multiple_view_shoulder_v2.keras\n",
      "299/299 - 709s - 2s/step - accuracy: 0.3920 - loss: 1.4397 - recall: 0.0462 - val_accuracy: 0.4856 - val_loss: 1.3537 - val_recall: 0.0376 - learning_rate: 0.0010\n",
      "Epoch 2/50\n",
      "\n",
      "Epoch 2: val_loss improved from 1.35372 to 1.33336, saving model to /kaggle/working/multiple_view_shoulder_v2.keras\n",
      "299/299 - 454s - 2s/step - accuracy: 0.3889 - loss: 1.4465 - recall: 0.0545 - val_accuracy: 0.4890 - val_loss: 1.3334 - val_recall: 0.0465 - learning_rate: 0.0010\n",
      "Epoch 3/50\n",
      "\n",
      "Epoch 3: val_loss did not improve from 1.33336\n",
      "299/299 - 469s - 2s/step - accuracy: 0.3920 - loss: 1.4497 - recall: 0.0432 - val_accuracy: 0.4586 - val_loss: 1.3727 - val_recall: 0.0418 - learning_rate: 0.0010\n",
      "Epoch 4/50\n",
      "\n",
      "Epoch 4: val_loss did not improve from 1.33336\n",
      "299/299 - 454s - 2s/step - accuracy: 0.3934 - loss: 1.4440 - recall: 0.0490 - val_accuracy: 0.4688 - val_loss: 1.3558 - val_recall: 0.0503 - learning_rate: 0.0010\n",
      "Epoch 5/50\n",
      "\n",
      "Epoch 5: val_loss did not improve from 1.33336\n",
      "299/299 - 463s - 2s/step - accuracy: 0.3967 - loss: 1.4417 - recall: 0.0592 - val_accuracy: 0.4675 - val_loss: 1.3626 - val_recall: 0.0456 - learning_rate: 0.0010\n",
      "Epoch 6/50\n",
      "\n",
      "Epoch 6: val_loss did not improve from 1.33336\n",
      "\n",
      "Epoch 6: ReduceLROnPlateau reducing learning rate to 0.00020000000949949026.\n",
      "299/299 - 443s - 1s/step - accuracy: 0.3975 - loss: 1.4425 - recall: 0.0575 - val_accuracy: 0.4823 - val_loss: 1.3633 - val_recall: 0.0359 - learning_rate: 0.0010\n",
      "Epoch 7/50\n",
      "\n",
      "Epoch 7: val_loss did not improve from 1.33336\n",
      "299/299 - 470s - 2s/step - accuracy: 0.4102 - loss: 1.4324 - recall: 0.0616 - val_accuracy: 0.4907 - val_loss: 1.3343 - val_recall: 0.0486 - learning_rate: 2.0000e-04\n",
      "Epoch 8/50\n",
      "\n",
      "Epoch 8: val_loss did not improve from 1.33336\n",
      "299/299 - 452s - 2s/step - accuracy: 0.4056 - loss: 1.4364 - recall: 0.0594 - val_accuracy: 0.4844 - val_loss: 1.3352 - val_recall: 0.0498 - learning_rate: 2.0000e-04\n",
      "Epoch 9/50\n",
      "\n",
      "Epoch 9: val_loss improved from 1.33336 to 1.32984, saving model to /kaggle/working/multiple_view_shoulder_v2.keras\n",
      "299/299 - 440s - 1s/step - accuracy: 0.4067 - loss: 1.4325 - recall: 0.0579 - val_accuracy: 0.4916 - val_loss: 1.3298 - val_recall: 0.0481 - learning_rate: 2.0000e-04\n",
      "Epoch 10/50\n",
      "\n",
      "Epoch 10: val_loss did not improve from 1.32984\n",
      "299/299 - 420s - 1s/step - accuracy: 0.4082 - loss: 1.4269 - recall: 0.0614 - val_accuracy: 0.4818 - val_loss: 1.3447 - val_recall: 0.0422 - learning_rate: 2.0000e-04\n",
      "Epoch 11/50\n",
      "\n",
      "Epoch 11: val_loss improved from 1.32984 to 1.32556, saving model to /kaggle/working/multiple_view_shoulder_v2.keras\n",
      "299/299 - 436s - 1s/step - accuracy: 0.4144 - loss: 1.4215 - recall: 0.0631 - val_accuracy: 0.4899 - val_loss: 1.3256 - val_recall: 0.0524 - learning_rate: 2.0000e-04\n",
      "Epoch 12/50\n",
      "\n",
      "Epoch 12: val_loss did not improve from 1.32556\n",
      "299/299 - 431s - 1s/step - accuracy: 0.4100 - loss: 1.4283 - recall: 0.0599 - val_accuracy: 0.4907 - val_loss: 1.3335 - val_recall: 0.0460 - learning_rate: 2.0000e-04\n",
      "Epoch 13/50\n",
      "\n",
      "Epoch 13: val_loss did not improve from 1.32556\n",
      "299/299 - 444s - 1s/step - accuracy: 0.4069 - loss: 1.4287 - recall: 0.0569 - val_accuracy: 0.4764 - val_loss: 1.3479 - val_recall: 0.0435 - learning_rate: 2.0000e-04\n",
      "Epoch 14/50\n",
      "\n",
      "Epoch 14: val_loss did not improve from 1.32556\n",
      "299/299 - 433s - 1s/step - accuracy: 0.4090 - loss: 1.4248 - recall: 0.0615 - val_accuracy: 0.4831 - val_loss: 1.3379 - val_recall: 0.0469 - learning_rate: 2.0000e-04\n",
      "Epoch 15/50\n",
      "\n",
      "Epoch 15: val_loss did not improve from 1.32556\n",
      "\n",
      "Epoch 15: ReduceLROnPlateau reducing learning rate to 4.0000001899898055e-05.\n",
      "299/299 - 440s - 1s/step - accuracy: 0.4052 - loss: 1.4280 - recall: 0.0612 - val_accuracy: 0.4751 - val_loss: 1.3459 - val_recall: 0.0452 - learning_rate: 2.0000e-04\n",
      "Epoch 16/50\n",
      "\n",
      "Epoch 16: val_loss did not improve from 1.32556\n",
      "299/299 - 456s - 2s/step - accuracy: 0.4066 - loss: 1.4262 - recall: 0.0600 - val_accuracy: 0.4869 - val_loss: 1.3277 - val_recall: 0.0503 - learning_rate: 4.0000e-05\n",
      "Epoch 17/50\n",
      "\n",
      "Epoch 17: val_loss did not improve from 1.32556\n",
      "299/299 - 434s - 1s/step - accuracy: 0.4145 - loss: 1.4237 - recall: 0.0623 - val_accuracy: 0.4856 - val_loss: 1.3292 - val_recall: 0.0507 - learning_rate: 4.0000e-05\n",
      "Epoch 18/50\n",
      "\n",
      "Epoch 18: val_loss did not improve from 1.32556\n",
      "299/299 - 435s - 1s/step - accuracy: 0.4127 - loss: 1.4147 - recall: 0.0616 - val_accuracy: 0.4856 - val_loss: 1.3349 - val_recall: 0.0469 - learning_rate: 4.0000e-05\n",
      "Epoch 19/50\n",
      "\n",
      "Epoch 19: val_loss improved from 1.32556 to 1.32285, saving model to /kaggle/working/multiple_view_shoulder_v2.keras\n",
      "299/299 - 469s - 2s/step - accuracy: 0.4111 - loss: 1.4267 - recall: 0.0566 - val_accuracy: 0.4886 - val_loss: 1.3228 - val_recall: 0.0528 - learning_rate: 4.0000e-05\n",
      "Epoch 20/50\n",
      "\n",
      "Epoch 20: val_loss did not improve from 1.32285\n",
      "299/299 - 448s - 1s/step - accuracy: 0.4113 - loss: 1.4229 - recall: 0.0615 - val_accuracy: 0.4894 - val_loss: 1.3272 - val_recall: 0.0507 - learning_rate: 4.0000e-05\n",
      "Epoch 21/50\n",
      "\n",
      "Epoch 21: val_loss improved from 1.32285 to 1.32156, saving model to /kaggle/working/multiple_view_shoulder_v2.keras\n",
      "299/299 - 447s - 1s/step - accuracy: 0.4154 - loss: 1.4196 - recall: 0.0644 - val_accuracy: 0.4928 - val_loss: 1.3216 - val_recall: 0.0528 - learning_rate: 4.0000e-05\n",
      "Epoch 22/50\n",
      "\n",
      "Epoch 22: val_loss did not improve from 1.32156\n",
      "299/299 - 429s - 1s/step - accuracy: 0.4144 - loss: 1.4169 - recall: 0.0656 - val_accuracy: 0.4886 - val_loss: 1.3257 - val_recall: 0.0507 - learning_rate: 4.0000e-05\n",
      "Epoch 23/50\n",
      "\n",
      "Epoch 23: val_loss did not improve from 1.32156\n",
      "299/299 - 436s - 1s/step - accuracy: 0.4076 - loss: 1.4291 - recall: 0.0603 - val_accuracy: 0.4873 - val_loss: 1.3267 - val_recall: 0.0528 - learning_rate: 4.0000e-05\n",
      "Epoch 24/50\n",
      "\n",
      "Epoch 24: val_loss did not improve from 1.32156\n",
      "299/299 - 454s - 2s/step - accuracy: 0.4147 - loss: 1.4183 - recall: 0.0641 - val_accuracy: 0.4886 - val_loss: 1.3240 - val_recall: 0.0515 - learning_rate: 4.0000e-05\n",
      "Epoch 25/50\n",
      "\n",
      "Epoch 25: val_loss did not improve from 1.32156\n",
      "\n",
      "Epoch 25: ReduceLROnPlateau reducing learning rate to 8.000000525498762e-06.\n",
      "299/299 - 432s - 1s/step - accuracy: 0.4129 - loss: 1.4203 - recall: 0.0596 - val_accuracy: 0.4856 - val_loss: 1.3281 - val_recall: 0.0511 - learning_rate: 4.0000e-05\n",
      "Epoch 26/50\n",
      "\n",
      "Epoch 26: val_loss did not improve from 1.32156\n",
      "299/299 - 435s - 1s/step - accuracy: 0.4108 - loss: 1.4201 - recall: 0.0599 - val_accuracy: 0.4899 - val_loss: 1.3257 - val_recall: 0.0507 - learning_rate: 8.0000e-06\n",
      "Epoch 27/50\n",
      "\n",
      "Epoch 27: val_loss did not improve from 1.32156\n",
      "299/299 - 438s - 1s/step - accuracy: 0.4103 - loss: 1.4237 - recall: 0.0573 - val_accuracy: 0.4861 - val_loss: 1.3288 - val_recall: 0.0490 - learning_rate: 8.0000e-06\n",
      "Epoch 28/50\n",
      "\n",
      "Epoch 28: val_loss did not improve from 1.32156\n",
      "299/299 - 430s - 1s/step - accuracy: 0.4150 - loss: 1.4207 - recall: 0.0618 - val_accuracy: 0.4873 - val_loss: 1.3256 - val_recall: 0.0498 - learning_rate: 8.0000e-06\n",
      "Epoch 29/50\n",
      "\n",
      "Epoch 29: val_loss did not improve from 1.32156\n",
      "\n",
      "Epoch 29: ReduceLROnPlateau reducing learning rate to 1.6000001778593287e-06.\n",
      "299/299 - 425s - 1s/step - accuracy: 0.4138 - loss: 1.4201 - recall: 0.0610 - val_accuracy: 0.4911 - val_loss: 1.3239 - val_recall: 0.0511 - learning_rate: 8.0000e-06\n",
      "Epoch 30/50\n",
      "\n",
      "Epoch 30: val_loss did not improve from 1.32156\n",
      "299/299 - 428s - 1s/step - accuracy: 0.4134 - loss: 1.4210 - recall: 0.0594 - val_accuracy: 0.4903 - val_loss: 1.3257 - val_recall: 0.0498 - learning_rate: 1.6000e-06\n",
      "Epoch 31/50\n",
      "\n",
      "Epoch 31: val_loss did not improve from 1.32156\n",
      "299/299 - 442s - 1s/step - accuracy: 0.4164 - loss: 1.4168 - recall: 0.0623 - val_accuracy: 0.4899 - val_loss: 1.3254 - val_recall: 0.0503 - learning_rate: 1.6000e-06\n",
      "Epoch 31: early stopping\n",
      "Restoring model weights from the end of the best epoch: 21.\n"
     ]
    }
   ],
   "source": [
    "history = base_model.fit(train_generator,\n",
    "                    validation_data=valid_generator,\n",
    "                    callbacks=[early_stopping,model_checkpoint, learn_control],\n",
    "                    epochs=50,\n",
    "                    verbose=2)"
   ]
  },
  {
   "cell_type": "code",
   "execution_count": 11,
   "id": "098a16c2",
   "metadata": {
    "execution": {
     "iopub.execute_input": "2024-06-08T01:31:26.818233Z",
     "iopub.status.busy": "2024-06-08T01:31:26.817765Z",
     "iopub.status.idle": "2024-06-08T01:31:27.482022Z",
     "shell.execute_reply": "2024-06-08T01:31:27.481014Z"
    },
    "papermill": {
     "duration": 0.682201,
     "end_time": "2024-06-08T01:31:27.484346",
     "exception": false,
     "start_time": "2024-06-08T01:31:26.802145",
     "status": "completed"
    },
    "tags": []
   },
   "outputs": [
    {
     "data": {
      "text/plain": [
       "<Axes: >"
      ]
     },
     "execution_count": 11,
     "metadata": {},
     "output_type": "execute_result"
    },
    {
     "data": {
      "image/png": "[encoded data removed]",
      "text/plain": [
       "<Figure size 640x480 with 1 Axes>"
      ]
     },
     "metadata": {},
     "output_type": "display_data"
    },
    {
     "data": {
      "image/png": "[encoded data removed]",
      "text/plain": [
       "<Figure size 640x480 with 1 Axes>"
      ]
     },
     "metadata": {},
     "output_type": "display_data"
    }
   ],
   "source": [
    "history_df = pd.DataFrame(history.history)\n",
    "history_df[['loss', 'val_loss']].plot()\n",
    "history_df[['accuracy','recall']].plot()"
   ]
  },
  {
   "cell_type": "code",
   "execution_count": 12,
   "id": "2acaf590",
   "metadata": {
    "execution": {
     "iopub.execute_input": "2024-06-08T01:31:27.517070Z",
     "iopub.status.busy": "2024-06-08T01:31:27.516484Z",
     "iopub.status.idle": "2024-06-08T01:32:27.895341Z",
     "shell.execute_reply": "2024-06-08T01:32:27.894468Z"
    },
    "papermill": {
     "duration": 60.397497,
     "end_time": "2024-06-08T01:32:27.897473",
     "exception": false,
     "start_time": "2024-06-08T01:31:27.499976",
     "status": "completed"
    },
    "tags": []
   },
   "outputs": [
    {
     "name": "stdout",
     "output_type": "stream",
     "text": [
      "\u001b[1m29/29\u001b[0m \u001b[32m━━━━━━━━━━━━━━━━━━━━\u001b[0m\u001b[37m\u001b[0m \u001b[1m57s\u001b[0m 2s/step - accuracy: 0.4098 - loss: 1.3554 - recall: 0.0487\n",
      "Loss: 1.3583873510360718\n",
      "Accuracy: 0.4159482717514038\n"
     ]
    }
   ],
   "source": [
    "loss, accuracy,recall = base_model.evaluate(test_generator)\n",
    "print(f\"Loss: {loss}\")\n",
    "print(f\"Accuracy: {accuracy}\")"
   ]
  }
 ],
 "metadata": {
  "kaggle": {
   "accelerator": "gpu",
   "dataSources": [
    {
     "datasetId": 427555,
     "sourceId": 813639,
     "sourceType": "datasetVersion"
    },
    {
     "datasetId": 4776881,
     "sourceId": 8091050,
     "sourceType": "datasetVersion"
    },
    {
     "datasetId": 5064664,
     "sourceId": 8489424,
     "sourceType": "datasetVersion"
    },
    {
     "isSourceIdPinned": true,
     "modelInstanceId": 52016,
     "sourceId": 62630,
     "sourceType": "modelInstanceVersion"
    }
   ],
   "dockerImageVersionId": 30699,
   "isGpuEnabled": true,
   "isInternetEnabled": true,
   "language": "python",
   "sourceType": "notebook"
  },
  "kernelspec": {
   "display_name": "Python 3",
   "language": "python",
   "name": "python3"
  },
  "language_info": {
   "codemirror_mode": {
    "name": "ipython",
    "version": 3
   },
   "file_extension": ".py",
   "mimetype": "text/x-python",
   "name": "python",
   "nbconvert_exporter": "python",
   "pygments_lexer": "ipython3",
   "version": "3.10.13"
  },
  "papermill": {
   "default_parameters": {},
   "duration": 14097.059561,
   "end_time": "2024-06-08T01:32:30.919170",
   "environment_variables": {},
   "exception": null,
   "input_path": "__notebook__.ipynb",
   "output_path": "__notebook__.ipynb",
   "parameters": {},
   "start_time": "2024-06-07T21:37:33.859609",
   "version": "2.5.0"
  }
 },
 "nbformat": 4,
 "nbformat_minor": 5
}
