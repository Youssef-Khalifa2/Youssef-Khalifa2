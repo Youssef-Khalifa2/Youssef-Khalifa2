{
 "cells": [
  {
   "cell_type": "code",
   "execution_count": 1,
   "id": "8ae85d6f",
   "metadata": {
    "execution": {
     "iopub.execute_input": "2024-05-26T11:52:32.067893Z",
     "iopub.status.busy": "2024-05-26T11:52:32.067124Z",
     "iopub.status.idle": "2024-05-26T11:52:45.146167Z",
     "shell.execute_reply": "2024-05-26T11:52:45.145171Z"
    },
    "papermill": {
     "duration": 13.088187,
     "end_time": "2024-05-26T11:52:45.148764",
     "exception": false,
     "start_time": "2024-05-26T11:52:32.060577",
     "status": "completed"
    },
    "tags": []
   },
   "outputs": [
    {
     "name": "stderr",
     "output_type": "stream",
     "text": [
      "2024-05-26 11:52:33.982363: E external/local_xla/xla/stream_executor/cuda/cuda_dnn.cc:9261] Unable to register cuDNN factory: Attempting to register factory for plugin cuDNN when one has already been registered\n",
      "2024-05-26 11:52:33.982464: E external/local_xla/xla/stream_executor/cuda/cuda_fft.cc:607] Unable to register cuFFT factory: Attempting to register factory for plugin cuFFT when one has already been registered\n",
      "2024-05-26 11:52:34.105567: E external/local_xla/xla/stream_executor/cuda/cuda_blas.cc:1515] Unable to register cuBLAS factory: Attempting to register factory for plugin cuBLAS when one has already been registered\n"
     ]
    }
   ],
   "source": [
    "import os\n",
    "import cv2\n",
    "import keras\n",
    "import shutil\n",
    "import random\n",
    "import gc\n",
    "import numpy as np\n",
    "import pandas as pd \n",
    "import tensorflow as tf\n",
    "from PIL import Image, UnidentifiedImageError\n",
    "from tensorflow.keras.preprocessing.image import load_img, img_to_array\n",
    "from tensorflow.keras.layers import Input, Average, Dense\n",
    "from sklearn.model_selection import train_test_split\n",
    "from keras.callbacks import EarlyStopping, ModelCheckpoint, LearningRateScheduler, TensorBoard\n",
    "from keras.layers import Concatenate\n",
    "from keras.models import load_model\n",
    "from tensorflow.keras.utils import Sequence\n",
    "from tensorflow.keras import mixed_precision\n",
    "from keras.applications.resnet50 import preprocess_input\n",
    "mixed_precision.set_global_policy('mixed_float16')"
   ]
  },
  {
   "cell_type": "markdown",
   "id": "84d8b4db",
   "metadata": {
    "papermill": {
     "duration": 0.004391,
     "end_time": "2024-05-26T11:52:45.158141",
     "exception": false,
     "start_time": "2024-05-26T11:52:45.153750",
     "status": "completed"
    },
    "tags": []
   },
   "source": [
    "what i need to do is load the data of anything and try these bitches on it "
   ]
  },
  {
   "cell_type": "code",
   "execution_count": 2,
   "id": "c8003663",
   "metadata": {
    "execution": {
     "iopub.execute_input": "2024-05-26T11:52:45.168843Z",
     "iopub.status.busy": "2024-05-26T11:52:45.168215Z",
     "iopub.status.idle": "2024-05-26T11:52:59.930705Z",
     "shell.execute_reply": "2024-05-26T11:52:59.929832Z"
    },
    "papermill": {
     "duration": 14.770949,
     "end_time": "2024-05-26T11:52:59.933523",
     "exception": false,
     "start_time": "2024-05-26T11:52:45.162574",
     "status": "completed"
    },
    "tags": []
   },
   "outputs": [
    {
     "name": "stderr",
     "output_type": "stream",
     "text": [
      "/opt/conda/lib/python3.10/site-packages/keras/src/saving/saving_lib.py:418: UserWarning: Skipping variable loading for optimizer 'loss_scale_optimizer', because it has 442 variables whereas the saved optimizer has 438 variables. \n",
      "  trackable.load_own_variables(weights_store.get(inner_path))\n",
      "/opt/conda/lib/python3.10/site-packages/keras/src/saving/saving_lib.py:418: UserWarning: Skipping variable loading for optimizer 'adam', because it has 438 variables whereas the saved optimizer has 0 variables. \n",
      "  trackable.load_own_variables(weights_store.get(inner_path))\n"
     ]
    }
   ],
   "source": [
    "# Source path of the model\n",
    "source_path = \"/kaggle/input/bonetype/BoneType_ResNet50.keras\"\n",
    "\n",
    "# Destination path where you can write\n",
    "destination_path = \"/kaggle/working/model.keras\"\n",
    "\n",
    "# Copy the model file\n",
    "shutil.copyfile(source_path, destination_path)\n",
    "\n",
    "# Now load the model from the copied file\n",
    "base_model = load_model(destination_path)"
   ]
  },
  {
   "cell_type": "code",
   "execution_count": 3,
   "id": "d95a0504",
   "metadata": {
    "execution": {
     "iopub.execute_input": "2024-05-26T11:52:59.943816Z",
     "iopub.status.busy": "2024-05-26T11:52:59.943499Z",
     "iopub.status.idle": "2024-05-26T11:52:59.959899Z",
     "shell.execute_reply": "2024-05-26T11:52:59.959198Z"
    },
    "papermill": {
     "duration": 0.023618,
     "end_time": "2024-05-26T11:52:59.961784",
     "exception": false,
     "start_time": "2024-05-26T11:52:59.938166",
     "status": "completed"
    },
    "tags": []
   },
   "outputs": [],
   "source": [
    "class CustomDataGenerator(Sequence):\n",
    "    def __init__(self, image_paths, labels, batch_size, image_shape, num_classes, num_views=5):\n",
    "        super().__init__()\n",
    "        self.image_paths = list(image_paths)\n",
    "        self.labels = list(labels)\n",
    "        self.batch_size = batch_size\n",
    "        self.image_shape = image_shape\n",
    "        self.num_classes = num_classes\n",
    "        self.num_views = num_views\n",
    "        self.on_epoch_end()\n",
    "\n",
    "    def __len__(self):\n",
    "        return int(np.floor(len(self.image_paths) / self.batch_size))\n",
    "\n",
    "    def __getitem__(self, index):\n",
    "        indices = self.indices[index * self.batch_size:(index + 1) * self.batch_size]\n",
    "        batch_image_paths = [self.image_paths[i] for i in indices]\n",
    "        batch_labels = [self.labels[i] for i in indices]\n",
    "\n",
    "        images = []\n",
    "        for folder_path in batch_image_paths:\n",
    "            images.append(self._load_and_pad_images(folder_path, self.image_shape))\n",
    "\n",
    "        images = np.array(images)  # Shape: (batch_size, num_views, height, width, channels)\n",
    "        batch_labels = tf.keras.utils.to_categorical(batch_labels, num_classes=self.num_classes)\n",
    "\n",
    "        # Transpose the batch to separate views as different inputs\n",
    "        images = [images[:, i, :, :, :] for i in range(self.num_views)]\n",
    "        \n",
    "        # Convert to tuple of tensors\n",
    "        images = tuple(tf.convert_to_tensor(img) for img in images)\n",
    "        batch_labels = tf.convert_to_tensor(batch_labels)\n",
    "\n",
    "        return images, batch_labels\n",
    "\n",
    "    def on_epoch_end(self):\n",
    "        self.indices = np.arange(len(self.image_paths))\n",
    "        np.random.shuffle(self.indices)\n",
    "\n",
    "    def _load_and_pad_images(self, folder_path, image_shape):\n",
    "        image_paths = [os.path.join(folder_path, f) for f in os.listdir(folder_path)\n",
    "                       if f.endswith((\".jpg\", \".jpeg\", \".png\")) and not f.startswith(\"._\")]\n",
    "\n",
    "        if not image_paths:\n",
    "            logger.error(f\"No valid images found in folder: {folder_path}\")\n",
    "            return [np.zeros((image_shape[0], image_shape[1], image_shape[2]))] * self.num_views\n",
    "\n",
    "        if len(image_paths) > self.num_views:\n",
    "            image_paths = random.sample(image_paths, self.num_views)\n",
    "\n",
    "        processed_images = []\n",
    "        for image_path in image_paths:\n",
    "            try:\n",
    "                img = load_img(image_path, target_size=image_shape)\n",
    "                img_array = img_to_array(img)\n",
    "                img_array = img_array / 255.0\n",
    "                preprocessed_img_array = preprocess_input(img_array)\n",
    "                processed_images.append(preprocessed_img_array)\n",
    "            except Exception as e:\n",
    "                logger.warning(f\"Warning: Skipping unidentifiable image file: {image_path} due to {e}\")\n",
    "                processed_images.append(np.zeros((image_shape[0], image_shape[1], image_shape[2])))\n",
    "\n",
    "        while len(processed_images) < self.num_views:\n",
    "            processed_images.append(np.zeros((image_shape[0], image_shape[1], image_shape[2])))\n",
    "\n",
    "        return np.array(processed_images)\n"
   ]
  },
  {
   "cell_type": "code",
   "execution_count": 4,
   "id": "8bc483ad",
   "metadata": {
    "execution": {
     "iopub.execute_input": "2024-05-26T11:52:59.971502Z",
     "iopub.status.busy": "2024-05-26T11:52:59.971243Z",
     "iopub.status.idle": "2024-05-26T11:53:00.071842Z",
     "shell.execute_reply": "2024-05-26T11:53:00.070854Z"
    },
    "papermill": {
     "duration": 0.107752,
     "end_time": "2024-05-26T11:53:00.073931",
     "exception": false,
     "start_time": "2024-05-26T11:52:59.966179",
     "status": "completed"
    },
    "tags": []
   },
   "outputs": [
    {
     "name": "stdout",
     "output_type": "stream",
     "text": [
      "                                                    Path Bone_type\n",
      "9666   /kaggle/input/mura-v11/MURA-v1.1/train/XR_WRIS...         1\n",
      "9719   /kaggle/input/mura-v11/MURA-v1.1/train/XR_WRIS...         1\n",
      "5328   /kaggle/input/mura-v11/MURA-v1.1/train/XR_FING...         4\n",
      "2159   /kaggle/input/mura-v11/MURA-v1.1/train/XR_SHOU...         0\n",
      "4740   /kaggle/input/mura-v11/MURA-v1.1/train/XR_FING...         4\n",
      "...                                                  ...       ...\n",
      "8405   /kaggle/input/mura-v11/MURA-v1.1/train/XR_WRIS...         1\n",
      "12424  /kaggle/input/mura-v11/MURA-v1.1/train/XR_HAND...         2\n",
      "905    /kaggle/input/mura-v11/MURA-v1.1/train/XR_SHOU...         0\n",
      "5784   /kaggle/input/mura-v11/MURA-v1.1/train/XR_ELBO...         3\n",
      "235    /kaggle/input/mura-v11/MURA-v1.1/train/XR_SHOU...         0\n",
      "\n",
      "[9590 rows x 2 columns]\n",
      "===============Done with training images===================\n",
      "===============Done with test images===================\n"
     ]
    }
   ],
   "source": [
    "num_views = 6 \n",
    "bone_type_mapping = {'SHOULDER': 0, 'WRIST': 1, 'HAND': 2, 'ELBOW': 3, 'FINGER': 4}\n",
    "prefix = '/kaggle/input/mura-v11/'\n",
    "output_directory = '/kaggle/working'\n",
    "train_excel_file_path = '/kaggle/input/csv-for-multiview/Patients with bone type for multiview.csv'\n",
    "df = pd.read_csv(train_excel_file_path, header=None,names=['Path', 'Abnormal','Bone_type'])\n",
    "df = df[~df['Path'].str.contains('XR_FOREARM|XR_HUMERUS')]\n",
    "df['Bone_type'] = df['Bone_type'].map(bone_type_mapping).astype(int)\n",
    "paths = prefix + df['Path'].astype(str)\n",
    "labels = df['Bone_type']\n",
    "labels = labels.astype(str)\n",
    "t_images = pd.concat([paths, labels], axis=1)\n",
    "train_df, test_df = train_test_split(t_images, train_size=0.8, shuffle=True, random_state=1)\n",
    "print(train_df)\n",
    "print(\"===============Done with training images===================\")\n",
    "test_excel_file_path = '/kaggle/input/csv-for-multiview/validation Patients with bone type for multiview.csv'\n",
    "df = pd.read_csv(test_excel_file_path, header=None,names=['Path', 'Abnormal','Bone_type'])\n",
    "df = df[~df['Path'].str.contains('XR_FOREARM|XR_HUMERUS')]\n",
    "df['Bone_type'] = df['Bone_type'].map(bone_type_mapping).astype(int)\n",
    "paths = prefix + df['Path'].astype(str)\n",
    "labels = df['Bone_type']\n",
    "labels = labels.astype(str)\n",
    "v_images = pd.concat([paths, labels], axis=1)\n",
    "print(\"===============Done with test images===================\")"
   ]
  },
  {
   "cell_type": "code",
   "execution_count": 5,
   "id": "6cde04c1",
   "metadata": {
    "_cell_guid": "b1076dfc-b9ad-4769-8c92-a6c4dae69d19",
    "_uuid": "8f2839f25d086af736a60e9eeb907d3b93b6e0e5",
    "execution": {
     "iopub.execute_input": "2024-05-26T11:53:00.084616Z",
     "iopub.status.busy": "2024-05-26T11:53:00.084342Z",
     "iopub.status.idle": "2024-05-26T11:53:00.100714Z",
     "shell.execute_reply": "2024-05-26T11:53:00.099914Z"
    },
    "papermill": {
     "duration": 0.024077,
     "end_time": "2024-05-26T11:53:00.102695",
     "exception": false,
     "start_time": "2024-05-26T11:53:00.078618",
     "status": "completed"
    },
    "tags": []
   },
   "outputs": [
    {
     "data": {
      "text/plain": [
       "'train_data_generator = CustomDataGenerator(data_df=train_df,\\n                                           image_shape=image_shape,\\n                                           num_views=num_views,\\n                                           batch_size=32,\\n                                           num_classes=num_classes,\\n                                           shuffle=True)\\n\\nvalid_data_generator = CustomDataGenerator(data_df=test_df,\\n                                           image_shape=image_shape,\\n                                           num_views=num_views,\\n                                           batch_size=32,\\n                                           num_classes=num_classes,\\n                                           shuffle=True)\\n\\ntest_data_generator = CustomDataGenerator(data_df=v_images,\\n                                          image_shape=image_shape,\\n                                          num_views=num_views,\\n                                          batch_size=32,\\n                                          num_classes=num_classes,\\n                                          shuffle=True)\\n\\ndef data_generator(generator):\\n    for idx in range(len(generator)):\\n        batch_images, batch_labels = generator[idx]\\n        yield tuple(batch_images), batch_labels\\n\\ndef create_dataset(generator):\\n    dataset = tf.data.Dataset.from_generator(\\n        lambda: data_generator(generator),\\n        output_signature=(\\n            tuple(tf.TensorSpec(shape=(None,) + image_shape, dtype=tf.float32) for _ in range(num_views)),\\n            tf.TensorSpec(shape=(None, num_classes), dtype=tf.float32)  # Adjust shape for one-hot encoded labels\\n        )\\n    )\\n    return dataset.cache().prefetch(buffer_size=tf.data.experimental.AUTOTUNE)\\n\\ntrain_dataset = create_dataset(train_data_generator)\\nvalid_dataset = create_dataset(valid_data_generator)\\ntest_dataset = create_dataset(test_data_generator)\\n'"
      ]
     },
     "execution_count": 5,
     "metadata": {},
     "output_type": "execute_result"
    }
   ],
   "source": [
    "image_shape = (224, 224, 3)\n",
    "num_classes = 5  # Adjust this to the actual number of classes\n",
    "num_views = 5\n",
    "batch_size = 32\n",
    "train_paths,train_labels = train_df['Path'] , train_df['Bone_type']\n",
    "test_paths,test_labels = test_df['Path'] , test_df['Bone_type']\n",
    "valid_paths,valid_labels = v_images['Path'] , v_images['Bone_type']\n",
    "\n",
    "train_generator = CustomDataGenerator(train_paths, train_labels, batch_size, image_shape, num_classes)\n",
    "test_generator = CustomDataGenerator(valid_paths, valid_labels, batch_size, image_shape, num_classes)\n",
    "valid_generator = CustomDataGenerator(test_paths, test_labels, batch_size, image_shape, num_classes)\n",
    "\n",
    "'''train_data_generator = CustomDataGenerator(data_df=train_df,\n",
    "                                           image_shape=image_shape,\n",
    "                                           num_views=num_views,\n",
    "                                           batch_size=32,\n",
    "                                           num_classes=num_classes,\n",
    "                                           shuffle=True)\n",
    "\n",
    "valid_data_generator = CustomDataGenerator(data_df=test_df,\n",
    "                                           image_shape=image_shape,\n",
    "                                           num_views=num_views,\n",
    "                                           batch_size=32,\n",
    "                                           num_classes=num_classes,\n",
    "                                           shuffle=True)\n",
    "\n",
    "test_data_generator = CustomDataGenerator(data_df=v_images,\n",
    "                                          image_shape=image_shape,\n",
    "                                          num_views=num_views,\n",
    "                                          batch_size=32,\n",
    "                                          num_classes=num_classes,\n",
    "                                          shuffle=True)\n",
    "\n",
    "def data_generator(generator):\n",
    "    for idx in range(len(generator)):\n",
    "        batch_images, batch_labels = generator[idx]\n",
    "        yield tuple(batch_images), batch_labels\n",
    "\n",
    "def create_dataset(generator):\n",
    "    dataset = tf.data.Dataset.from_generator(\n",
    "        lambda: data_generator(generator),\n",
    "        output_signature=(\n",
    "            tuple(tf.TensorSpec(shape=(None,) + image_shape, dtype=tf.float32) for _ in range(num_views)),\n",
    "            tf.TensorSpec(shape=(None, num_classes), dtype=tf.float32)  # Adjust shape for one-hot encoded labels\n",
    "        )\n",
    "    )\n",
    "    return dataset.cache().prefetch(buffer_size=tf.data.experimental.AUTOTUNE)\n",
    "\n",
    "train_dataset = create_dataset(train_data_generator)\n",
    "valid_dataset = create_dataset(valid_data_generator)\n",
    "test_dataset = create_dataset(test_data_generator)\n",
    "'''"
   ]
  },
  {
   "cell_type": "code",
   "execution_count": 6,
   "id": "82e8f9be",
   "metadata": {
    "execution": {
     "iopub.execute_input": "2024-05-26T11:53:00.113238Z",
     "iopub.status.busy": "2024-05-26T11:53:00.112950Z",
     "iopub.status.idle": "2024-05-26T11:53:00.119170Z",
     "shell.execute_reply": "2024-05-26T11:53:00.118337Z"
    },
    "papermill": {
     "duration": 0.013707,
     "end_time": "2024-05-26T11:53:00.121149",
     "exception": false,
     "start_time": "2024-05-26T11:53:00.107442",
     "status": "completed"
    },
    "tags": []
   },
   "outputs": [],
   "source": [
    "#num_batches = 40\n",
    "#model.fit(train_dataset, epochs=10, steps_per_epoch=num_batches)\n",
    "checkpoint_path = '/kaggle/working/multiple_view_shoulder_v2.keras'\n",
    "Monitored_metric= 'val_loss' \n",
    "# Create an EarlyStopping callback\n",
    "early_stopping = EarlyStopping(monitor=Monitored_metric,  # The metric to monitor for early stopping\n",
    "                               patience=6,  # Number of epochs with no improvement after which training will be stopped\n",
    "                               verbose=1,  # Verbosity level\n",
    "                               restore_best_weights=True)  # Restore model weights from the epoch with the best value of the monitored metric\n",
    "\n",
    "# Create a ModelCheckpoint callback\n",
    "model_checkpoint = ModelCheckpoint(checkpoint_path,\n",
    "                                   monitor=Monitored_metric,  # The metric to monitor for saving the best model\n",
    "                                   save_best_only=True,  # Save only the best model\n",
    "                                   mode='min',  # Mode for the 'monitor' metric (e.g., 'min' for loss)\n",
    "                                   verbose=1)  # Verbosity level\n",
    "learn_control = tf.keras.callbacks.ReduceLROnPlateau(monitor=Monitored_metric, \n",
    "                                  patience=2,\n",
    "                                  verbose=1,\n",
    "                                  factor=0.2, \n",
    "                                  min_lr=1e-7)"
   ]
  },
  {
   "cell_type": "code",
   "execution_count": 7,
   "id": "ead7cc58",
   "metadata": {
    "execution": {
     "iopub.execute_input": "2024-05-26T11:53:00.131652Z",
     "iopub.status.busy": "2024-05-26T11:53:00.131364Z",
     "iopub.status.idle": "2024-05-26T11:53:00.174899Z",
     "shell.execute_reply": "2024-05-26T11:53:00.174173Z"
    },
    "papermill": {
     "duration": 0.051245,
     "end_time": "2024-05-26T11:53:00.176965",
     "exception": false,
     "start_time": "2024-05-26T11:53:00.125720",
     "status": "completed"
    },
    "tags": []
   },
   "outputs": [],
   "source": [
    "for layer in base_model.layers:\n",
    "    layer.trainable = False\n",
    "\n",
    "encoded_views = []\n",
    "# Pass each view through the base model\n",
    "inputs = [Input(shape=image_shape) for _ in range(num_views)]\n",
    "for view_input in inputs:\n",
    "    x = base_model(view_input)\n",
    "    encoded_views.append(x)\n",
    "\n",
    "# Flatten the list of lists into a single list of tensors\n",
    "flattened_views = [item for sublist in encoded_views for item in sublist]\n",
    "\n",
    "# Average the outputs from the base models\n",
    "averaged_features = Average()(flattened_views)\n",
    "\n",
    "# Add your custom layers on top of the base model \n",
    "predictions = Dense(5, activation=\"softmax\")(averaged_features)  # Output layer with sigmoid activation\n",
    "# Create the model\n",
    "model = keras.Model(inputs=inputs, outputs=predictions)\n",
    "\n",
    "# Compile the model\n",
    "model.compile(optimizer=\"nadam\", loss='categorical_crossentropy', metrics=[\"accuracy\",\"recall\"])"
   ]
  },
  {
   "cell_type": "code",
   "execution_count": 8,
   "id": "311b7110",
   "metadata": {
    "execution": {
     "iopub.execute_input": "2024-05-26T11:53:00.188442Z",
     "iopub.status.busy": "2024-05-26T11:53:00.187598Z",
     "iopub.status.idle": "2024-05-26T11:53:00.222365Z",
     "shell.execute_reply": "2024-05-26T11:53:00.221506Z"
    },
    "papermill": {
     "duration": 0.042282,
     "end_time": "2024-05-26T11:53:00.224203",
     "exception": false,
     "start_time": "2024-05-26T11:53:00.181921",
     "status": "completed"
    },
    "tags": []
   },
   "outputs": [
    {
     "data": {
      "text/html": [
       "<pre style=\"white-space:pre;overflow-x:auto;line-height:normal;font-family:Menlo,'DejaVu Sans Mono',consolas,'Courier New',monospace\"><span style=\"font-weight: bold\">Model: \"functional_1\"</span>\n",
       "</pre>\n"
      ],
      "text/plain": [
       "\u001b[1mModel: \"functional_1\"\u001b[0m\n"
      ]
     },
     "metadata": {},
     "output_type": "display_data"
    },
    {
     "data": {
      "text/html": [
       "<pre style=\"white-space:pre;overflow-x:auto;line-height:normal;font-family:Menlo,'DejaVu Sans Mono',consolas,'Courier New',monospace\">┏━━━━━━━━━━━━━━━━━━━━━┳━━━━━━━━━━━━━━━━━━━┳━━━━━━━━━━━━┳━━━━━━━━━━━━━━━━━━━┓\n",
       "┃<span style=\"font-weight: bold\"> Layer (type)        </span>┃<span style=\"font-weight: bold\"> Output Shape      </span>┃<span style=\"font-weight: bold\">    Param # </span>┃<span style=\"font-weight: bold\"> Connected to      </span>┃\n",
       "┡━━━━━━━━━━━━━━━━━━━━━╇━━━━━━━━━━━━━━━━━━━╇━━━━━━━━━━━━╇━━━━━━━━━━━━━━━━━━━┩\n",
       "│ input_layer         │ (<span style=\"color: #00d7ff; text-decoration-color: #00d7ff\">None</span>, <span style=\"color: #00af00; text-decoration-color: #00af00\">224</span>, <span style=\"color: #00af00; text-decoration-color: #00af00\">224</span>,  │          <span style=\"color: #00af00; text-decoration-color: #00af00\">0</span> │ -                 │\n",
       "│ (<span style=\"color: #0087ff; text-decoration-color: #0087ff\">InputLayer</span>)        │ <span style=\"color: #00af00; text-decoration-color: #00af00\">3</span>)                │            │                   │\n",
       "├─────────────────────┼───────────────────┼────────────┼───────────────────┤\n",
       "│ input_layer_1       │ (<span style=\"color: #00d7ff; text-decoration-color: #00d7ff\">None</span>, <span style=\"color: #00af00; text-decoration-color: #00af00\">224</span>, <span style=\"color: #00af00; text-decoration-color: #00af00\">224</span>,  │          <span style=\"color: #00af00; text-decoration-color: #00af00\">0</span> │ -                 │\n",
       "│ (<span style=\"color: #0087ff; text-decoration-color: #0087ff\">InputLayer</span>)        │ <span style=\"color: #00af00; text-decoration-color: #00af00\">3</span>)                │            │                   │\n",
       "├─────────────────────┼───────────────────┼────────────┼───────────────────┤\n",
       "│ input_layer_2       │ (<span style=\"color: #00d7ff; text-decoration-color: #00d7ff\">None</span>, <span style=\"color: #00af00; text-decoration-color: #00af00\">224</span>, <span style=\"color: #00af00; text-decoration-color: #00af00\">224</span>,  │          <span style=\"color: #00af00; text-decoration-color: #00af00\">0</span> │ -                 │\n",
       "│ (<span style=\"color: #0087ff; text-decoration-color: #0087ff\">InputLayer</span>)        │ <span style=\"color: #00af00; text-decoration-color: #00af00\">3</span>)                │            │                   │\n",
       "├─────────────────────┼───────────────────┼────────────┼───────────────────┤\n",
       "│ input_layer_3       │ (<span style=\"color: #00d7ff; text-decoration-color: #00d7ff\">None</span>, <span style=\"color: #00af00; text-decoration-color: #00af00\">224</span>, <span style=\"color: #00af00; text-decoration-color: #00af00\">224</span>,  │          <span style=\"color: #00af00; text-decoration-color: #00af00\">0</span> │ -                 │\n",
       "│ (<span style=\"color: #0087ff; text-decoration-color: #0087ff\">InputLayer</span>)        │ <span style=\"color: #00af00; text-decoration-color: #00af00\">3</span>)                │            │                   │\n",
       "├─────────────────────┼───────────────────┼────────────┼───────────────────┤\n",
       "│ input_layer_4       │ (<span style=\"color: #00d7ff; text-decoration-color: #00d7ff\">None</span>, <span style=\"color: #00af00; text-decoration-color: #00af00\">224</span>, <span style=\"color: #00af00; text-decoration-color: #00af00\">224</span>,  │          <span style=\"color: #00af00; text-decoration-color: #00af00\">0</span> │ -                 │\n",
       "│ (<span style=\"color: #0087ff; text-decoration-color: #0087ff\">InputLayer</span>)        │ <span style=\"color: #00af00; text-decoration-color: #00af00\">3</span>)                │            │                   │\n",
       "├─────────────────────┼───────────────────┼────────────┼───────────────────┤\n",
       "│ functional_1        │ (<span style=\"color: #00d7ff; text-decoration-color: #00d7ff\">None</span>, <span style=\"color: #00af00; text-decoration-color: #00af00\">5</span>)         │ <span style=\"color: #00af00; text-decoration-color: #00af00\">23,856,689</span> │ input_layer[<span style=\"color: #00af00; text-decoration-color: #00af00\">0</span>][<span style=\"color: #00af00; text-decoration-color: #00af00\">0</span>… │\n",
       "│ (<span style=\"color: #0087ff; text-decoration-color: #0087ff\">Functional</span>)        │                   │            │ input_layer_1[<span style=\"color: #00af00; text-decoration-color: #00af00\">0</span>]… │\n",
       "│                     │                   │            │ input_layer_2[<span style=\"color: #00af00; text-decoration-color: #00af00\">0</span>]… │\n",
       "│                     │                   │            │ input_layer_3[<span style=\"color: #00af00; text-decoration-color: #00af00\">0</span>]… │\n",
       "│                     │                   │            │ input_layer_4[<span style=\"color: #00af00; text-decoration-color: #00af00\">0</span>]… │\n",
       "├─────────────────────┼───────────────────┼────────────┼───────────────────┤\n",
       "│ average (<span style=\"color: #0087ff; text-decoration-color: #0087ff\">Average</span>)   │ (<span style=\"color: #00d7ff; text-decoration-color: #00d7ff\">None</span>, <span style=\"color: #00af00; text-decoration-color: #00af00\">5</span>)         │          <span style=\"color: #00af00; text-decoration-color: #00af00\">0</span> │ functional_1[<span style=\"color: #00af00; text-decoration-color: #00af00\">0</span>][<span style=\"color: #00af00; text-decoration-color: #00af00\">…</span> │\n",
       "│                     │                   │            │ functional_1[<span style=\"color: #00af00; text-decoration-color: #00af00\">1</span>][<span style=\"color: #00af00; text-decoration-color: #00af00\">…</span> │\n",
       "│                     │                   │            │ functional_1[<span style=\"color: #00af00; text-decoration-color: #00af00\">2</span>][<span style=\"color: #00af00; text-decoration-color: #00af00\">…</span> │\n",
       "│                     │                   │            │ functional_1[<span style=\"color: #00af00; text-decoration-color: #00af00\">3</span>][<span style=\"color: #00af00; text-decoration-color: #00af00\">…</span> │\n",
       "│                     │                   │            │ functional_1[<span style=\"color: #00af00; text-decoration-color: #00af00\">4</span>][<span style=\"color: #00af00; text-decoration-color: #00af00\">…</span> │\n",
       "├─────────────────────┼───────────────────┼────────────┼───────────────────┤\n",
       "│ dense (<span style=\"color: #0087ff; text-decoration-color: #0087ff\">Dense</span>)       │ (<span style=\"color: #00d7ff; text-decoration-color: #00d7ff\">None</span>, <span style=\"color: #00af00; text-decoration-color: #00af00\">5</span>)         │         <span style=\"color: #00af00; text-decoration-color: #00af00\">30</span> │ average[<span style=\"color: #00af00; text-decoration-color: #00af00\">0</span>][<span style=\"color: #00af00; text-decoration-color: #00af00\">0</span>]     │\n",
       "└─────────────────────┴───────────────────┴────────────┴───────────────────┘\n",
       "</pre>\n"
      ],
      "text/plain": [
       "┏━━━━━━━━━━━━━━━━━━━━━┳━━━━━━━━━━━━━━━━━━━┳━━━━━━━━━━━━┳━━━━━━━━━━━━━━━━━━━┓\n",
       "┃\u001b[1m \u001b[0m\u001b[1mLayer (type)       \u001b[0m\u001b[1m \u001b[0m┃\u001b[1m \u001b[0m\u001b[1mOutput Shape     \u001b[0m\u001b[1m \u001b[0m┃\u001b[1m \u001b[0m\u001b[1m   Param #\u001b[0m\u001b[1m \u001b[0m┃\u001b[1m \u001b[0m\u001b[1mConnected to     \u001b[0m\u001b[1m \u001b[0m┃\n",
       "┡━━━━━━━━━━━━━━━━━━━━━╇━━━━━━━━━━━━━━━━━━━╇━━━━━━━━━━━━╇━━━━━━━━━━━━━━━━━━━┩\n",
       "│ input_layer         │ (\u001b[38;5;45mNone\u001b[0m, \u001b[38;5;34m224\u001b[0m, \u001b[38;5;34m224\u001b[0m,  │          \u001b[38;5;34m0\u001b[0m │ -                 │\n",
       "│ (\u001b[38;5;33mInputLayer\u001b[0m)        │ \u001b[38;5;34m3\u001b[0m)                │            │                   │\n",
       "├─────────────────────┼───────────────────┼────────────┼───────────────────┤\n",
       "│ input_layer_1       │ (\u001b[38;5;45mNone\u001b[0m, \u001b[38;5;34m224\u001b[0m, \u001b[38;5;34m224\u001b[0m,  │          \u001b[38;5;34m0\u001b[0m │ -                 │\n",
       "│ (\u001b[38;5;33mInputLayer\u001b[0m)        │ \u001b[38;5;34m3\u001b[0m)                │            │                   │\n",
       "├─────────────────────┼───────────────────┼────────────┼───────────────────┤\n",
       "│ input_layer_2       │ (\u001b[38;5;45mNone\u001b[0m, \u001b[38;5;34m224\u001b[0m, \u001b[38;5;34m224\u001b[0m,  │          \u001b[38;5;34m0\u001b[0m │ -                 │\n",
       "│ (\u001b[38;5;33mInputLayer\u001b[0m)        │ \u001b[38;5;34m3\u001b[0m)                │            │                   │\n",
       "├─────────────────────┼───────────────────┼────────────┼───────────────────┤\n",
       "│ input_layer_3       │ (\u001b[38;5;45mNone\u001b[0m, \u001b[38;5;34m224\u001b[0m, \u001b[38;5;34m224\u001b[0m,  │          \u001b[38;5;34m0\u001b[0m │ -                 │\n",
       "│ (\u001b[38;5;33mInputLayer\u001b[0m)        │ \u001b[38;5;34m3\u001b[0m)                │            │                   │\n",
       "├─────────────────────┼───────────────────┼────────────┼───────────────────┤\n",
       "│ input_layer_4       │ (\u001b[38;5;45mNone\u001b[0m, \u001b[38;5;34m224\u001b[0m, \u001b[38;5;34m224\u001b[0m,  │          \u001b[38;5;34m0\u001b[0m │ -                 │\n",
       "│ (\u001b[38;5;33mInputLayer\u001b[0m)        │ \u001b[38;5;34m3\u001b[0m)                │            │                   │\n",
       "├─────────────────────┼───────────────────┼────────────┼───────────────────┤\n",
       "│ functional_1        │ (\u001b[38;5;45mNone\u001b[0m, \u001b[38;5;34m5\u001b[0m)         │ \u001b[38;5;34m23,856,689\u001b[0m │ input_layer[\u001b[38;5;34m0\u001b[0m][\u001b[38;5;34m0\u001b[0m… │\n",
       "│ (\u001b[38;5;33mFunctional\u001b[0m)        │                   │            │ input_layer_1[\u001b[38;5;34m0\u001b[0m]… │\n",
       "│                     │                   │            │ input_layer_2[\u001b[38;5;34m0\u001b[0m]… │\n",
       "│                     │                   │            │ input_layer_3[\u001b[38;5;34m0\u001b[0m]… │\n",
       "│                     │                   │            │ input_layer_4[\u001b[38;5;34m0\u001b[0m]… │\n",
       "├─────────────────────┼───────────────────┼────────────┼───────────────────┤\n",
       "│ average (\u001b[38;5;33mAverage\u001b[0m)   │ (\u001b[38;5;45mNone\u001b[0m, \u001b[38;5;34m5\u001b[0m)         │          \u001b[38;5;34m0\u001b[0m │ functional_1[\u001b[38;5;34m0\u001b[0m][\u001b[38;5;34m…\u001b[0m │\n",
       "│                     │                   │            │ functional_1[\u001b[38;5;34m1\u001b[0m][\u001b[38;5;34m…\u001b[0m │\n",
       "│                     │                   │            │ functional_1[\u001b[38;5;34m2\u001b[0m][\u001b[38;5;34m…\u001b[0m │\n",
       "│                     │                   │            │ functional_1[\u001b[38;5;34m3\u001b[0m][\u001b[38;5;34m…\u001b[0m │\n",
       "│                     │                   │            │ functional_1[\u001b[38;5;34m4\u001b[0m][\u001b[38;5;34m…\u001b[0m │\n",
       "├─────────────────────┼───────────────────┼────────────┼───────────────────┤\n",
       "│ dense (\u001b[38;5;33mDense\u001b[0m)       │ (\u001b[38;5;45mNone\u001b[0m, \u001b[38;5;34m5\u001b[0m)         │         \u001b[38;5;34m30\u001b[0m │ average[\u001b[38;5;34m0\u001b[0m][\u001b[38;5;34m0\u001b[0m]     │\n",
       "└─────────────────────┴───────────────────┴────────────┴───────────────────┘\n"
      ]
     },
     "metadata": {},
     "output_type": "display_data"
    },
    {
     "data": {
      "text/html": [
       "<pre style=\"white-space:pre;overflow-x:auto;line-height:normal;font-family:Menlo,'DejaVu Sans Mono',consolas,'Courier New',monospace\"><span style=\"font-weight: bold\"> Total params: </span><span style=\"color: #00af00; text-decoration-color: #00af00\">23,856,719</span> (91.01 MB)\n",
       "</pre>\n"
      ],
      "text/plain": [
       "\u001b[1m Total params: \u001b[0m\u001b[38;5;34m23,856,719\u001b[0m (91.01 MB)\n"
      ]
     },
     "metadata": {},
     "output_type": "display_data"
    },
    {
     "data": {
      "text/html": [
       "<pre style=\"white-space:pre;overflow-x:auto;line-height:normal;font-family:Menlo,'DejaVu Sans Mono',consolas,'Courier New',monospace\"><span style=\"font-weight: bold\"> Trainable params: </span><span style=\"color: #00af00; text-decoration-color: #00af00\">30</span> (120.00 B)\n",
       "</pre>\n"
      ],
      "text/plain": [
       "\u001b[1m Trainable params: \u001b[0m\u001b[38;5;34m30\u001b[0m (120.00 B)\n"
      ]
     },
     "metadata": {},
     "output_type": "display_data"
    },
    {
     "data": {
      "text/html": [
       "<pre style=\"white-space:pre;overflow-x:auto;line-height:normal;font-family:Menlo,'DejaVu Sans Mono',consolas,'Courier New',monospace\"><span style=\"font-weight: bold\"> Non-trainable params: </span><span style=\"color: #00af00; text-decoration-color: #00af00\">23,856,689</span> (91.01 MB)\n",
       "</pre>\n"
      ],
      "text/plain": [
       "\u001b[1m Non-trainable params: \u001b[0m\u001b[38;5;34m23,856,689\u001b[0m (91.01 MB)\n"
      ]
     },
     "metadata": {},
     "output_type": "display_data"
    }
   ],
   "source": [
    "model.summary()"
   ]
  },
  {
   "cell_type": "code",
   "execution_count": 9,
   "id": "51c58e16",
   "metadata": {
    "execution": {
     "iopub.execute_input": "2024-05-26T11:53:00.236221Z",
     "iopub.status.busy": "2024-05-26T11:53:00.235920Z",
     "iopub.status.idle": "2024-05-26T13:59:20.923841Z",
     "shell.execute_reply": "2024-05-26T13:59:20.922808Z"
    },
    "papermill": {
     "duration": 7581.019454,
     "end_time": "2024-05-26T13:59:21.249087",
     "exception": false,
     "start_time": "2024-05-26T11:53:00.229633",
     "status": "completed"
    },
    "tags": []
   },
   "outputs": [
    {
     "name": "stdout",
     "output_type": "stream",
     "text": [
      "Epoch 1/20\n"
     ]
    },
    {
     "name": "stderr",
     "output_type": "stream",
     "text": [
      "WARNING: All log messages before absl::InitializeLog() is called are written to STDERR\n",
      "I0000 00:00:1716724445.490606      67 device_compiler.h:186] Compiled cluster using XLA!  This line is logged at most once for the lifetime of the process.\n"
     ]
    },
    {
     "name": "stdout",
     "output_type": "stream",
     "text": [
      "\u001b[1m299/299\u001b[0m \u001b[32m━━━━━━━━━━━━━━━━━━━━\u001b[0m\u001b[37m\u001b[0m \u001b[1m0s\u001b[0m 2s/step - accuracy: 0.2856 - loss: 1.6010 - recall: 0.0000e+00\n",
      "Epoch 1: val_loss improved from inf to 1.57804, saving model to /kaggle/working/multiple_view_shoulder_v2.keras\n",
      "\u001b[1m299/299\u001b[0m \u001b[32m━━━━━━━━━━━━━━━━━━━━\u001b[0m\u001b[37m\u001b[0m \u001b[1m773s\u001b[0m 2s/step - accuracy: 0.2856 - loss: 1.6010 - recall: 0.0000e+00 - val_accuracy: 0.2905 - val_loss: 1.5780 - val_recall: 0.0000e+00 - learning_rate: 0.0010\n",
      "Epoch 2/20\n",
      "\u001b[1m299/299\u001b[0m \u001b[32m━━━━━━━━━━━━━━━━━━━━\u001b[0m\u001b[37m\u001b[0m \u001b[1m0s\u001b[0m 922ms/step - accuracy: 0.2716 - loss: 1.5932 - recall: 0.0000e+00\n",
      "Epoch 2: val_loss improved from 1.57804 to 1.57464, saving model to /kaggle/working/multiple_view_shoulder_v2.keras\n",
      "\u001b[1m299/299\u001b[0m \u001b[32m━━━━━━━━━━━━━━━━━━━━\u001b[0m\u001b[37m\u001b[0m \u001b[1m351s\u001b[0m 1s/step - accuracy: 0.2716 - loss: 1.5932 - recall: 0.0000e+00 - val_accuracy: 0.2905 - val_loss: 1.5746 - val_recall: 0.0000e+00 - learning_rate: 0.0010\n",
      "Epoch 3/20\n",
      "\u001b[1m299/299\u001b[0m \u001b[32m━━━━━━━━━━━━━━━━━━━━\u001b[0m\u001b[37m\u001b[0m \u001b[1m0s\u001b[0m 938ms/step - accuracy: 0.2822 - loss: 1.5850 - recall: 0.0000e+00\n",
      "Epoch 3: val_loss improved from 1.57464 to 1.57361, saving model to /kaggle/working/multiple_view_shoulder_v2.keras\n",
      "\u001b[1m299/299\u001b[0m \u001b[32m━━━━━━━━━━━━━━━━━━━━\u001b[0m\u001b[37m\u001b[0m \u001b[1m353s\u001b[0m 1s/step - accuracy: 0.2822 - loss: 1.5850 - recall: 0.0000e+00 - val_accuracy: 0.2910 - val_loss: 1.5736 - val_recall: 0.0000e+00 - learning_rate: 0.0010\n",
      "Epoch 4/20\n",
      "\u001b[1m299/299\u001b[0m \u001b[32m━━━━━━━━━━━━━━━━━━━━\u001b[0m\u001b[37m\u001b[0m \u001b[1m0s\u001b[0m 914ms/step - accuracy: 0.2837 - loss: 1.5796 - recall: 0.0000e+00\n",
      "Epoch 4: val_loss improved from 1.57361 to 1.57357, saving model to /kaggle/working/multiple_view_shoulder_v2.keras\n",
      "\u001b[1m299/299\u001b[0m \u001b[32m━━━━━━━━━━━━━━━━━━━━\u001b[0m\u001b[37m\u001b[0m \u001b[1m383s\u001b[0m 1s/step - accuracy: 0.2837 - loss: 1.5796 - recall: 0.0000e+00 - val_accuracy: 0.2918 - val_loss: 1.5736 - val_recall: 0.0000e+00 - learning_rate: 0.0010\n",
      "Epoch 5/20\n",
      "\u001b[1m299/299\u001b[0m \u001b[32m━━━━━━━━━━━━━━━━━━━━\u001b[0m\u001b[37m\u001b[0m \u001b[1m0s\u001b[0m 921ms/step - accuracy: 0.2969 - loss: 1.5758 - recall: 0.0000e+00\n",
      "Epoch 5: val_loss improved from 1.57357 to 1.57298, saving model to /kaggle/working/multiple_view_shoulder_v2.keras\n",
      "\u001b[1m299/299\u001b[0m \u001b[32m━━━━━━━━━━━━━━━━━━━━\u001b[0m\u001b[37m\u001b[0m \u001b[1m357s\u001b[0m 1s/step - accuracy: 0.2969 - loss: 1.5758 - recall: 0.0000e+00 - val_accuracy: 0.2905 - val_loss: 1.5730 - val_recall: 0.0000e+00 - learning_rate: 0.0010\n",
      "Epoch 6/20\n",
      "\u001b[1m299/299\u001b[0m \u001b[32m━━━━━━━━━━━━━━━━━━━━\u001b[0m\u001b[37m\u001b[0m \u001b[1m0s\u001b[0m 925ms/step - accuracy: 0.2887 - loss: 1.5784 - recall: 0.0000e+00\n",
      "Epoch 6: val_loss improved from 1.57298 to 1.57185, saving model to /kaggle/working/multiple_view_shoulder_v2.keras\n",
      "\u001b[1m299/299\u001b[0m \u001b[32m━━━━━━━━━━━━━━━━━━━━\u001b[0m\u001b[37m\u001b[0m \u001b[1m351s\u001b[0m 1s/step - accuracy: 0.2887 - loss: 1.5784 - recall: 0.0000e+00 - val_accuracy: 0.2910 - val_loss: 1.5719 - val_recall: 0.0000e+00 - learning_rate: 0.0010\n",
      "Epoch 7/20\n",
      "\u001b[1m299/299\u001b[0m \u001b[32m━━━━━━━━━━━━━━━━━━━━\u001b[0m\u001b[37m\u001b[0m \u001b[1m0s\u001b[0m 925ms/step - accuracy: 0.2834 - loss: 1.5818 - recall: 0.0000e+00\n",
      "Epoch 7: val_loss improved from 1.57185 to 1.57130, saving model to /kaggle/working/multiple_view_shoulder_v2.keras\n",
      "\u001b[1m299/299\u001b[0m \u001b[32m━━━━━━━━━━━━━━━━━━━━\u001b[0m\u001b[37m\u001b[0m \u001b[1m352s\u001b[0m 1s/step - accuracy: 0.2834 - loss: 1.5818 - recall: 0.0000e+00 - val_accuracy: 0.2901 - val_loss: 1.5713 - val_recall: 0.0000e+00 - learning_rate: 0.0010\n",
      "Epoch 8/20\n",
      "\u001b[1m299/299\u001b[0m \u001b[32m━━━━━━━━━━━━━━━━━━━━\u001b[0m\u001b[37m\u001b[0m \u001b[1m0s\u001b[0m 1s/step - accuracy: 0.2851 - loss: 1.5786 - recall: 0.0000e+00\n",
      "Epoch 8: val_loss improved from 1.57130 to 1.57016, saving model to /kaggle/working/multiple_view_shoulder_v2.keras\n",
      "\u001b[1m299/299\u001b[0m \u001b[32m━━━━━━━━━━━━━━━━━━━━\u001b[0m\u001b[37m\u001b[0m \u001b[1m376s\u001b[0m 1s/step - accuracy: 0.2851 - loss: 1.5786 - recall: 0.0000e+00 - val_accuracy: 0.2905 - val_loss: 1.5702 - val_recall: 0.0000e+00 - learning_rate: 0.0010\n",
      "Epoch 9/20\n",
      "\u001b[1m299/299\u001b[0m \u001b[32m━━━━━━━━━━━━━━━━━━━━\u001b[0m\u001b[37m\u001b[0m \u001b[1m0s\u001b[0m 924ms/step - accuracy: 0.2927 - loss: 1.5754 - recall: 0.0000e+00\n",
      "Epoch 9: val_loss did not improve from 1.57016\n",
      "\u001b[1m299/299\u001b[0m \u001b[32m━━━━━━━━━━━━━━━━━━━━\u001b[0m\u001b[37m\u001b[0m \u001b[1m347s\u001b[0m 1s/step - accuracy: 0.2926 - loss: 1.5754 - recall: 0.0000e+00 - val_accuracy: 0.2897 - val_loss: 1.5709 - val_recall: 0.0000e+00 - learning_rate: 0.0010\n",
      "Epoch 10/20\n",
      "\u001b[1m299/299\u001b[0m \u001b[32m━━━━━━━━━━━━━━━━━━━━\u001b[0m\u001b[37m\u001b[0m \u001b[1m0s\u001b[0m 947ms/step - accuracy: 0.2891 - loss: 1.5748 - recall: 0.0000e+00\n",
      "Epoch 10: val_loss improved from 1.57016 to 1.56936, saving model to /kaggle/working/multiple_view_shoulder_v2.keras\n",
      "\u001b[1m299/299\u001b[0m \u001b[32m━━━━━━━━━━━━━━━━━━━━\u001b[0m\u001b[37m\u001b[0m \u001b[1m362s\u001b[0m 1s/step - accuracy: 0.2891 - loss: 1.5748 - recall: 0.0000e+00 - val_accuracy: 0.2910 - val_loss: 1.5694 - val_recall: 0.0000e+00 - learning_rate: 0.0010\n",
      "Epoch 11/20\n",
      "\u001b[1m299/299\u001b[0m \u001b[32m━━━━━━━━━━━━━━━━━━━━\u001b[0m\u001b[37m\u001b[0m \u001b[1m0s\u001b[0m 926ms/step - accuracy: 0.2884 - loss: 1.5767 - recall: 0.0000e+00\n",
      "Epoch 11: val_loss improved from 1.56936 to 1.56929, saving model to /kaggle/working/multiple_view_shoulder_v2.keras\n",
      "\u001b[1m299/299\u001b[0m \u001b[32m━━━━━━━━━━━━━━━━━━━━\u001b[0m\u001b[37m\u001b[0m \u001b[1m351s\u001b[0m 1s/step - accuracy: 0.2884 - loss: 1.5767 - recall: 0.0000e+00 - val_accuracy: 0.2905 - val_loss: 1.5693 - val_recall: 0.0000e+00 - learning_rate: 0.0010\n",
      "Epoch 12/20\n",
      "\u001b[1m299/299\u001b[0m \u001b[32m━━━━━━━━━━━━━━━━━━━━\u001b[0m\u001b[37m\u001b[0m \u001b[1m0s\u001b[0m 950ms/step - accuracy: 0.2935 - loss: 1.5730 - recall: 0.0000e+00\n",
      "Epoch 12: val_loss did not improve from 1.56929\n",
      "\n",
      "Epoch 12: ReduceLROnPlateau reducing learning rate to 0.00020000000949949026.\n",
      "\u001b[1m299/299\u001b[0m \u001b[32m━━━━━━━━━━━━━━━━━━━━\u001b[0m\u001b[37m\u001b[0m \u001b[1m355s\u001b[0m 1s/step - accuracy: 0.2935 - loss: 1.5730 - recall: 0.0000e+00 - val_accuracy: 0.2880 - val_loss: 1.5699 - val_recall: 0.0000e+00 - learning_rate: 0.0010\n",
      "Epoch 13/20\n",
      "\u001b[1m299/299\u001b[0m \u001b[32m━━━━━━━━━━━━━━━━━━━━\u001b[0m\u001b[37m\u001b[0m \u001b[1m0s\u001b[0m 934ms/step - accuracy: 0.2899 - loss: 1.5751 - recall: 0.0000e+00\n",
      "Epoch 13: val_loss improved from 1.56929 to 1.56808, saving model to /kaggle/working/multiple_view_shoulder_v2.keras\n",
      "\u001b[1m299/299\u001b[0m \u001b[32m━━━━━━━━━━━━━━━━━━━━\u001b[0m\u001b[37m\u001b[0m \u001b[1m354s\u001b[0m 1s/step - accuracy: 0.2899 - loss: 1.5751 - recall: 0.0000e+00 - val_accuracy: 0.2922 - val_loss: 1.5681 - val_recall: 0.0000e+00 - learning_rate: 2.0000e-04\n",
      "Epoch 14/20\n",
      "\u001b[1m299/299\u001b[0m \u001b[32m━━━━━━━━━━━━━━━━━━━━\u001b[0m\u001b[37m\u001b[0m \u001b[1m0s\u001b[0m 958ms/step - accuracy: 0.2921 - loss: 1.5728 - recall: 0.0000e+00\n",
      "Epoch 14: val_loss improved from 1.56808 to 1.56802, saving model to /kaggle/working/multiple_view_shoulder_v2.keras\n",
      "\u001b[1m299/299\u001b[0m \u001b[32m━━━━━━━━━━━━━━━━━━━━\u001b[0m\u001b[37m\u001b[0m \u001b[1m362s\u001b[0m 1s/step - accuracy: 0.2921 - loss: 1.5728 - recall: 0.0000e+00 - val_accuracy: 0.2918 - val_loss: 1.5680 - val_recall: 0.0000e+00 - learning_rate: 2.0000e-04\n",
      "Epoch 15/20\n",
      "\u001b[1m299/299\u001b[0m \u001b[32m━━━━━━━━━━━━━━━━━━━━\u001b[0m\u001b[37m\u001b[0m \u001b[1m0s\u001b[0m 990ms/step - accuracy: 0.2825 - loss: 1.5781 - recall: 0.0000e+00\n",
      "Epoch 15: val_loss improved from 1.56802 to 1.56727, saving model to /kaggle/working/multiple_view_shoulder_v2.keras\n",
      "\u001b[1m299/299\u001b[0m \u001b[32m━━━━━━━━━━━━━━━━━━━━\u001b[0m\u001b[37m\u001b[0m \u001b[1m370s\u001b[0m 1s/step - accuracy: 0.2825 - loss: 1.5781 - recall: 0.0000e+00 - val_accuracy: 0.2918 - val_loss: 1.5673 - val_recall: 0.0000e+00 - learning_rate: 2.0000e-04\n",
      "Epoch 16/20\n",
      "\u001b[1m299/299\u001b[0m \u001b[32m━━━━━━━━━━━━━━━━━━━━\u001b[0m\u001b[37m\u001b[0m \u001b[1m0s\u001b[0m 1s/step - accuracy: 0.2888 - loss: 1.5777 - recall: 0.0000e+00\n",
      "Epoch 16: val_loss did not improve from 1.56727\n",
      "\u001b[1m299/299\u001b[0m \u001b[32m━━━━━━━━━━━━━━━━━━━━\u001b[0m\u001b[37m\u001b[0m \u001b[1m375s\u001b[0m 1s/step - accuracy: 0.2888 - loss: 1.5777 - recall: 0.0000e+00 - val_accuracy: 0.2914 - val_loss: 1.5683 - val_recall: 0.0000e+00 - learning_rate: 2.0000e-04\n",
      "Epoch 17/20\n",
      "\u001b[1m299/299\u001b[0m \u001b[32m━━━━━━━━━━━━━━━━━━━━\u001b[0m\u001b[37m\u001b[0m \u001b[1m0s\u001b[0m 937ms/step - accuracy: 0.2917 - loss: 1.5736 - recall: 0.0000e+00\n",
      "Epoch 17: val_loss did not improve from 1.56727\n",
      "\n",
      "Epoch 17: ReduceLROnPlateau reducing learning rate to 4.0000001899898055e-05.\n",
      "\u001b[1m299/299\u001b[0m \u001b[32m━━━━━━━━━━━━━━━━━━━━\u001b[0m\u001b[37m\u001b[0m \u001b[1m350s\u001b[0m 1s/step - accuracy: 0.2917 - loss: 1.5736 - recall: 0.0000e+00 - val_accuracy: 0.2918 - val_loss: 1.5680 - val_recall: 0.0000e+00 - learning_rate: 2.0000e-04\n",
      "Epoch 18/20\n",
      "\u001b[1m299/299\u001b[0m \u001b[32m━━━━━━━━━━━━━━━━━━━━\u001b[0m\u001b[37m\u001b[0m \u001b[1m0s\u001b[0m 935ms/step - accuracy: 0.2824 - loss: 1.5798 - recall: 0.0000e+00\n",
      "Epoch 18: val_loss did not improve from 1.56727\n",
      "\u001b[1m299/299\u001b[0m \u001b[32m━━━━━━━━━━━━━━━━━━━━\u001b[0m\u001b[37m\u001b[0m \u001b[1m358s\u001b[0m 1s/step - accuracy: 0.2824 - loss: 1.5798 - recall: 0.0000e+00 - val_accuracy: 0.2922 - val_loss: 1.5679 - val_recall: 0.0000e+00 - learning_rate: 4.0000e-05\n",
      "Epoch 19/20\n",
      "\u001b[1m299/299\u001b[0m \u001b[32m━━━━━━━━━━━━━━━━━━━━\u001b[0m\u001b[37m\u001b[0m \u001b[1m0s\u001b[0m 922ms/step - accuracy: 0.2881 - loss: 1.5742 - recall: 0.0000e+00\n",
      "Epoch 19: val_loss did not improve from 1.56727\n",
      "\n",
      "Epoch 19: ReduceLROnPlateau reducing learning rate to 8.000000525498762e-06.\n",
      "\u001b[1m299/299\u001b[0m \u001b[32m━━━━━━━━━━━━━━━━━━━━\u001b[0m\u001b[37m\u001b[0m \u001b[1m347s\u001b[0m 1s/step - accuracy: 0.2881 - loss: 1.5742 - recall: 0.0000e+00 - val_accuracy: 0.2910 - val_loss: 1.5689 - val_recall: 0.0000e+00 - learning_rate: 4.0000e-05\n",
      "Epoch 20/20\n",
      "\u001b[1m299/299\u001b[0m \u001b[32m━━━━━━━━━━━━━━━━━━━━\u001b[0m\u001b[37m\u001b[0m \u001b[1m0s\u001b[0m 939ms/step - accuracy: 0.2876 - loss: 1.5738 - recall: 0.0000e+00\n",
      "Epoch 20: val_loss did not improve from 1.56727\n",
      "\u001b[1m299/299\u001b[0m \u001b[32m━━━━━━━━━━━━━━━━━━━━\u001b[0m\u001b[37m\u001b[0m \u001b[1m350s\u001b[0m 1s/step - accuracy: 0.2876 - loss: 1.5738 - recall: 0.0000e+00 - val_accuracy: 0.2897 - val_loss: 1.5696 - val_recall: 0.0000e+00 - learning_rate: 8.0000e-06\n",
      "Restoring model weights from the end of the best epoch: 15.\n"
     ]
    }
   ],
   "source": [
    "history = model.fit(train_generator,\n",
    "                    validation_data=valid_generator,\n",
    "                    callbacks=[early_stopping, model_checkpoint, learn_control],\n",
    "                    epochs=20)"
   ]
  },
  {
   "cell_type": "code",
   "execution_count": 10,
   "id": "da800ed4",
   "metadata": {
    "execution": {
     "iopub.execute_input": "2024-05-26T13:59:22.248596Z",
     "iopub.status.busy": "2024-05-26T13:59:22.247748Z",
     "iopub.status.idle": "2024-05-26T13:59:22.843093Z",
     "shell.execute_reply": "2024-05-26T13:59:22.842023Z"
    },
    "papermill": {
     "duration": 1.09604,
     "end_time": "2024-05-26T13:59:22.845210",
     "exception": false,
     "start_time": "2024-05-26T13:59:21.749170",
     "status": "completed"
    },
    "tags": []
   },
   "outputs": [
    {
     "data": {
      "text/plain": [
       "<Axes: >"
      ]
     },
     "execution_count": 10,
     "metadata": {},
     "output_type": "execute_result"
    },
    {
     "data": {
      "image/png": "[encoded data removed]",
      "text/plain": [
       "<Figure size 640x480 with 1 Axes>"
      ]
     },
     "metadata": {},
     "output_type": "display_data"
    },
    {
     "data": {
      "image/png": "[encoded data removed]",
      "text/plain": [
       "<Figure size 640x480 with 1 Axes>"
      ]
     },
     "metadata": {},
     "output_type": "display_data"
    }
   ],
   "source": [
    "history_df = pd.DataFrame(history.history)\n",
    "history_df[['loss', 'val_loss']].plot()\n",
    "history_df[['accuracy','recall']].plot()"
   ]
  },
  {
   "cell_type": "code",
   "execution_count": 11,
   "id": "6a32e6f5",
   "metadata": {
    "execution": {
     "iopub.execute_input": "2024-05-26T13:59:23.958732Z",
     "iopub.status.busy": "2024-05-26T13:59:23.957826Z",
     "iopub.status.idle": "2024-05-26T14:00:24.561127Z",
     "shell.execute_reply": "2024-05-26T14:00:24.560204Z"
    },
    "papermill": {
     "duration": 61.200075,
     "end_time": "2024-05-26T14:00:24.563081",
     "exception": false,
     "start_time": "2024-05-26T13:59:23.363006",
     "status": "completed"
    },
    "tags": []
   },
   "outputs": [
    {
     "name": "stdout",
     "output_type": "stream",
     "text": [
      "\u001b[1m29/29\u001b[0m \u001b[32m━━━━━━━━━━━━━━━━━━━━\u001b[0m\u001b[37m\u001b[0m \u001b[1m57s\u001b[0m 2s/step - accuracy: 0.2610 - loss: 1.6016 - recall: 0.0000e+00\n",
      "Loss: 1.6057226657867432\n",
      "Accuracy: 0.25431033968925476\n"
     ]
    }
   ],
   "source": [
    "loss, accuracy,recall = model.evaluate(test_generator)\n",
    "print(f\"Loss: {loss}\")\n",
    "print(f\"Accuracy: {accuracy}\")"
   ]
  }
 ],
 "metadata": {
  "kaggle": {
   "accelerator": "gpu",
   "dataSources": [
    {
     "datasetId": 427555,
     "sourceId": 813639,
     "sourceType": "datasetVersion"
    },
    {
     "datasetId": 4776881,
     "sourceId": 8091050,
     "sourceType": "datasetVersion"
    },
    {
     "datasetId": 5064664,
     "sourceId": 8489424,
     "sourceType": "datasetVersion"
    }
   ],
   "dockerImageVersionId": 30699,
   "isGpuEnabled": true,
   "isInternetEnabled": true,
   "language": "python",
   "sourceType": "notebook"
  },
  "kernelspec": {
   "display_name": "Python 3",
   "language": "python",
   "name": "python3"
  },
  "language_info": {
   "codemirror_mode": {
    "name": "ipython",
    "version": 3
   },
   "file_extension": ".py",
   "mimetype": "text/x-python",
   "name": "python",
   "nbconvert_exporter": "python",
   "pygments_lexer": "ipython3",
   "version": "3.10.13"
  },
  "papermill": {
   "default_parameters": {},
   "duration": 7679.599505,
   "end_time": "2024-05-26T14:00:28.898236",
   "environment_variables": {},
   "exception": null,
   "input_path": "__notebook__.ipynb",
   "output_path": "__notebook__.ipynb",
   "parameters": {},
   "start_time": "2024-05-26T11:52:29.298731",
   "version": "2.5.0"
  }
 },
 "nbformat": 4,
 "nbformat_minor": 5
}
