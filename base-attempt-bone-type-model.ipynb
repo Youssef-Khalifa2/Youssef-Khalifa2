{
 "cells": [
  {
   "cell_type": "code",
   "execution_count": 1,
   "id": "da807a10",
   "metadata": {
    "execution": {
     "iopub.execute_input": "2024-05-27T22:59:51.620496Z",
     "iopub.status.busy": "2024-05-27T22:59:51.620147Z",
     "iopub.status.idle": "2024-05-27T23:00:05.205260Z",
     "shell.execute_reply": "2024-05-27T23:00:05.204025Z"
    },
    "papermill": {
     "duration": 13.593952,
     "end_time": "2024-05-27T23:00:05.207830",
     "exception": false,
     "start_time": "2024-05-27T22:59:51.613878",
     "status": "completed"
    },
    "tags": []
   },
   "outputs": [
    {
     "name": "stderr",
     "output_type": "stream",
     "text": [
      "2024-05-27 22:59:53.575826: E external/local_xla/xla/stream_executor/cuda/cuda_dnn.cc:9261] Unable to register cuDNN factory: Attempting to register factory for plugin cuDNN when one has already been registered\n",
      "2024-05-27 22:59:53.575958: E external/local_xla/xla/stream_executor/cuda/cuda_fft.cc:607] Unable to register cuFFT factory: Attempting to register factory for plugin cuFFT when one has already been registered\n",
      "2024-05-27 22:59:53.703379: E external/local_xla/xla/stream_executor/cuda/cuda_blas.cc:1515] Unable to register cuBLAS factory: Attempting to register factory for plugin cuBLAS when one has already been registered\n"
     ]
    }
   ],
   "source": [
    "import os\n",
    "import cv2\n",
    "import keras\n",
    "import shutil\n",
    "import random\n",
    "import gc\n",
    "import numpy as np\n",
    "import pandas as pd \n",
    "import tensorflow as tf\n",
    "from PIL import Image, UnidentifiedImageError\n",
    "from tensorflow.keras.preprocessing.image import load_img, img_to_array\n",
    "from tensorflow.keras.layers import Input, Average, Dense ,Layer\n",
    "from tensorflow.keras.layers import Concatenate, GlobalAveragePooling2D\n",
    "from sklearn.model_selection import train_test_split\n",
    "from keras.callbacks import EarlyStopping, ModelCheckpoint, LearningRateScheduler, TensorBoard\n",
    "from keras.layers import Concatenate\n",
    "from keras.models import load_model\n",
    "from tensorflow.keras.utils import Sequence\n",
    "from tensorflow.keras import mixed_precision , applications,layers\n",
    "from keras.applications.resnet50 import preprocess_input\n",
    "mixed_precision.set_global_policy('mixed_float16')"
   ]
  },
  {
   "cell_type": "code",
   "execution_count": 2,
   "id": "204d07d8",
   "metadata": {
    "execution": {
     "iopub.execute_input": "2024-05-27T23:00:05.218976Z",
     "iopub.status.busy": "2024-05-27T23:00:05.217795Z",
     "iopub.status.idle": "2024-05-27T23:00:05.222538Z",
     "shell.execute_reply": "2024-05-27T23:00:05.221836Z"
    },
    "papermill": {
     "duration": 0.012006,
     "end_time": "2024-05-27T23:00:05.224476",
     "exception": false,
     "start_time": "2024-05-27T23:00:05.212470",
     "status": "completed"
    },
    "tags": []
   },
   "outputs": [],
   "source": [
    "image_shape = (224, 224, 3)\n",
    "num_classes = 5  \n",
    "num_views = 5\n",
    "batch_size = 32"
   ]
  },
  {
   "cell_type": "code",
   "execution_count": 3,
   "id": "9d546c66",
   "metadata": {
    "execution": {
     "iopub.execute_input": "2024-05-27T23:00:05.234360Z",
     "iopub.status.busy": "2024-05-27T23:00:05.234102Z",
     "iopub.status.idle": "2024-05-27T23:00:05.240757Z",
     "shell.execute_reply": "2024-05-27T23:00:05.239851Z"
    },
    "papermill": {
     "duration": 0.013777,
     "end_time": "2024-05-27T23:00:05.242684",
     "exception": false,
     "start_time": "2024-05-27T23:00:05.228907",
     "status": "completed"
    },
    "tags": []
   },
   "outputs": [
    {
     "data": {
      "text/plain": [
       "'# Source path of the model\\nsource_path = \"/kaggle/input/bonetype/BoneType_ResNet50.keras\"\\n\\n# Destination path where you can write\\ndestination_path = \"/kaggle/working/model.keras\"\\n\\n# Copy the model file\\nshutil.copyfile(source_path, destination_path)\\n\\n# Now load the model from the copied file\\nbase_model = load_model(destination_path)'"
      ]
     },
     "execution_count": 3,
     "metadata": {},
     "output_type": "execute_result"
    }
   ],
   "source": [
    "'''# Source path of the model\n",
    "source_path = \"/kaggle/input/bonetype/BoneType_ResNet50.keras\"\n",
    "\n",
    "# Destination path where you can write\n",
    "destination_path = \"/kaggle/working/model.keras\"\n",
    "\n",
    "# Copy the model file\n",
    "shutil.copyfile(source_path, destination_path)\n",
    "\n",
    "# Now load the model from the copied file\n",
    "base_model = load_model(destination_path)'''"
   ]
  },
  {
   "cell_type": "code",
   "execution_count": 4,
   "id": "55817c21",
   "metadata": {
    "execution": {
     "iopub.execute_input": "2024-05-27T23:00:05.252974Z",
     "iopub.status.busy": "2024-05-27T23:00:05.252651Z",
     "iopub.status.idle": "2024-05-27T23:00:05.269609Z",
     "shell.execute_reply": "2024-05-27T23:00:05.268756Z"
    },
    "papermill": {
     "duration": 0.024444,
     "end_time": "2024-05-27T23:00:05.271618",
     "exception": false,
     "start_time": "2024-05-27T23:00:05.247174",
     "status": "completed"
    },
    "tags": []
   },
   "outputs": [],
   "source": [
    "class CustomDataGenerator(Sequence):\n",
    "    def __init__(self, image_paths, labels, batch_size, image_shape, num_classes, num_views=num_views):\n",
    "        super().__init__()\n",
    "        self.image_paths = list(image_paths)\n",
    "        self.labels = list(labels)\n",
    "        self.batch_size = batch_size\n",
    "        self.image_shape = image_shape\n",
    "        self.num_classes = num_classes\n",
    "        self.num_views = num_views\n",
    "        self.on_epoch_end()\n",
    "\n",
    "    def __len__(self):\n",
    "        return int(np.floor(len(self.image_paths) / self.batch_size))\n",
    "\n",
    "    def __getitem__(self, index):\n",
    "        indices = self.indices[index * self.batch_size:(index + 1) * self.batch_size]\n",
    "        batch_image_paths = [self.image_paths[i] for i in indices]\n",
    "        batch_labels = [self.labels[i] for i in indices]\n",
    "\n",
    "        images = []\n",
    "        for folder_path in batch_image_paths:\n",
    "            images.append(self._load_and_pad_images(folder_path, self.image_shape))\n",
    "\n",
    "        images = np.array(images)  # Shape: (batch_size, num_views, height, width, channels)\n",
    "        batch_labels = tf.keras.utils.to_categorical(batch_labels, num_classes=self.num_classes)\n",
    "\n",
    "        # Transpose the batch to separate views as different inputs\n",
    "        images = [images[:, i, :, :, :] for i in range(self.num_views)]\n",
    "        \n",
    "        # Convert to tuple of tensors\n",
    "        images = tuple(tf.convert_to_tensor(img) for img in images)\n",
    "        batch_labels = tf.convert_to_tensor(batch_labels)\n",
    "\n",
    "        return images, batch_labels\n",
    "\n",
    "    def on_epoch_end(self):\n",
    "        self.indices = np.arange(len(self.image_paths))\n",
    "        np.random.shuffle(self.indices)\n",
    "\n",
    "    def _load_and_pad_images(self, folder_path, image_shape):\n",
    "        image_paths = [os.path.join(folder_path, f) for f in os.listdir(folder_path)\n",
    "                       if f.endswith((\".jpg\", \".jpeg\", \".png\")) and not f.startswith(\"._\")]\n",
    "\n",
    "        if not image_paths:\n",
    "            logger.error(f\"No valid images found in folder: {folder_path}\")\n",
    "            return [np.zeros((image_shape[0], image_shape[1], image_shape[2]))] * self.num_views\n",
    "\n",
    "        if len(image_paths) > self.num_views:\n",
    "            image_paths = random.sample(image_paths, self.num_views)\n",
    "\n",
    "        processed_images = []\n",
    "        for image_path in image_paths:\n",
    "            try:\n",
    "                img = load_img(image_path, target_size=image_shape)\n",
    "                img_array = img_to_array(img)\n",
    "                img_array = img_array / 255.0\n",
    "                preprocessed_img_array = preprocess_input(img_array)\n",
    "                processed_images.append(preprocessed_img_array)\n",
    "            except Exception as e:\n",
    "                logger.warning(f\"Warning: Skipping unidentifiable image file: {image_path} due to {e}\")\n",
    "                processed_images.append(np.zeros((image_shape[0], image_shape[1], image_shape[2])))\n",
    "\n",
    "        while len(processed_images) < self.num_views:\n",
    "            processed_images.append(np.zeros((image_shape[0], image_shape[1], image_shape[2])))\n",
    "\n",
    "        return np.array(processed_images)\n"
   ]
  },
  {
   "cell_type": "code",
   "execution_count": 5,
   "id": "39226428",
   "metadata": {
    "execution": {
     "iopub.execute_input": "2024-05-27T23:00:05.281339Z",
     "iopub.status.busy": "2024-05-27T23:00:05.281100Z",
     "iopub.status.idle": "2024-05-27T23:00:05.383659Z",
     "shell.execute_reply": "2024-05-27T23:00:05.382608Z"
    },
    "papermill": {
     "duration": 0.10998,
     "end_time": "2024-05-27T23:00:05.385973",
     "exception": false,
     "start_time": "2024-05-27T23:00:05.275993",
     "status": "completed"
    },
    "tags": []
   },
   "outputs": [
    {
     "name": "stdout",
     "output_type": "stream",
     "text": [
      "                                                    Path Bone_type\n",
      "9666   /kaggle/input/mura-v11/MURA-v1.1/train/XR_WRIS...         1\n",
      "9719   /kaggle/input/mura-v11/MURA-v1.1/train/XR_WRIS...         1\n",
      "5328   /kaggle/input/mura-v11/MURA-v1.1/train/XR_FING...         4\n",
      "2159   /kaggle/input/mura-v11/MURA-v1.1/train/XR_SHOU...         0\n",
      "4740   /kaggle/input/mura-v11/MURA-v1.1/train/XR_FING...         4\n",
      "...                                                  ...       ...\n",
      "8405   /kaggle/input/mura-v11/MURA-v1.1/train/XR_WRIS...         1\n",
      "12424  /kaggle/input/mura-v11/MURA-v1.1/train/XR_HAND...         2\n",
      "905    /kaggle/input/mura-v11/MURA-v1.1/train/XR_SHOU...         0\n",
      "5784   /kaggle/input/mura-v11/MURA-v1.1/train/XR_ELBO...         3\n",
      "235    /kaggle/input/mura-v11/MURA-v1.1/train/XR_SHOU...         0\n",
      "\n",
      "[9590 rows x 2 columns]\n",
      "===============Done with training images===================\n",
      "===============Done with test images===================\n"
     ]
    }
   ],
   "source": [
    "bone_type_mapping = {'SHOULDER': 0, 'WRIST': 1, 'HAND': 2, 'ELBOW': 3, 'FINGER': 4}\n",
    "prefix = '/kaggle/input/mura-v11/'\n",
    "output_directory = '/kaggle/working'\n",
    "train_excel_file_path = '/kaggle/input/csv-for-multiview/Patients with bone type for multiview.csv'\n",
    "df = pd.read_csv(train_excel_file_path, header=None,names=['Path', 'Abnormal','Bone_type'])\n",
    "df = df[~df['Path'].str.contains('XR_FOREARM|XR_HUMERUS')]\n",
    "df['Bone_type'] = df['Bone_type'].map(bone_type_mapping).astype(int)\n",
    "paths = prefix + df['Path'].astype(str)\n",
    "labels = df['Bone_type']\n",
    "labels = labels.astype(str)\n",
    "t_images = pd.concat([paths, labels], axis=1)\n",
    "train_df, test_df = train_test_split(t_images, train_size=0.8, shuffle=True, random_state=1)\n",
    "print(train_df)\n",
    "print(\"===============Done with training images===================\")\n",
    "test_excel_file_path = '/kaggle/input/csv-for-multiview/validation Patients with bone type for multiview.csv'\n",
    "df = pd.read_csv(test_excel_file_path, header=None,names=['Path', 'Abnormal','Bone_type'])\n",
    "df = df[~df['Path'].str.contains('XR_FOREARM|XR_HUMERUS')]\n",
    "df['Bone_type'] = df['Bone_type'].map(bone_type_mapping).astype(int)\n",
    "paths = prefix + df['Path'].astype(str)\n",
    "labels = df['Bone_type']\n",
    "labels = labels.astype(str)\n",
    "v_images = pd.concat([paths, labels], axis=1)\n",
    "print(\"===============Done with test images===================\")"
   ]
  },
  {
   "cell_type": "code",
   "execution_count": 6,
   "id": "38b52d70",
   "metadata": {
    "_cell_guid": "b1076dfc-b9ad-4769-8c92-a6c4dae69d19",
    "_uuid": "8f2839f25d086af736a60e9eeb907d3b93b6e0e5",
    "execution": {
     "iopub.execute_input": "2024-05-27T23:00:05.396948Z",
     "iopub.status.busy": "2024-05-27T23:00:05.396184Z",
     "iopub.status.idle": "2024-05-27T23:00:05.405665Z",
     "shell.execute_reply": "2024-05-27T23:00:05.404835Z"
    },
    "papermill": {
     "duration": 0.016875,
     "end_time": "2024-05-27T23:00:05.407542",
     "exception": false,
     "start_time": "2024-05-27T23:00:05.390667",
     "status": "completed"
    },
    "tags": []
   },
   "outputs": [],
   "source": [
    "#Data Generators Initialization \n",
    "train_paths,train_labels = train_df['Path'] , train_df['Bone_type']\n",
    "valid_paths,valid_labels = test_df['Path'] , test_df['Bone_type']\n",
    "test_paths,test_labels = v_images['Path'] , v_images['Bone_type']\n",
    "\n",
    "train_generator = CustomDataGenerator(train_paths, train_labels, batch_size, image_shape, num_classes)\n",
    "valid_generator = CustomDataGenerator(valid_paths, valid_labels, batch_size, image_shape, num_classes)\n",
    "test_generator = CustomDataGenerator(test_paths, test_labels, batch_size, image_shape, num_classes)"
   ]
  },
  {
   "cell_type": "code",
   "execution_count": 7,
   "id": "a482a78a",
   "metadata": {
    "execution": {
     "iopub.execute_input": "2024-05-27T23:00:05.417848Z",
     "iopub.status.busy": "2024-05-27T23:00:05.417588Z",
     "iopub.status.idle": "2024-05-27T23:00:05.423441Z",
     "shell.execute_reply": "2024-05-27T23:00:05.422631Z"
    },
    "papermill": {
     "duration": 0.013178,
     "end_time": "2024-05-27T23:00:05.425331",
     "exception": false,
     "start_time": "2024-05-27T23:00:05.412153",
     "status": "completed"
    },
    "tags": []
   },
   "outputs": [],
   "source": [
    "#Callbacks Initialization\n",
    "checkpoint_path = '/kaggle/working/multiple_view_shoulder_v2.keras'\n",
    "Monitored_metric= 'val_loss' \n",
    "# Create an EarlyStopping callback\n",
    "early_stopping = EarlyStopping(monitor=Monitored_metric,  # The metric to monitor for early stopping\n",
    "                               patience=6,  # Number of epochs with no improvement after which training will be stopped\n",
    "                               verbose=1,  # Verbosity level\n",
    "                               restore_best_weights=True)  # Restore model weights from the epoch with the best value of the monitored metric\n",
    "\n",
    "# Create a ModelCheckpoint callback\n",
    "model_checkpoint = ModelCheckpoint(checkpoint_path,\n",
    "                                   monitor=Monitored_metric,  # The metric to monitor for saving the best model\n",
    "                                   save_best_only=True,  # Save only the best model\n",
    "                                   mode='min',  # Mode for the 'monitor' metric (e.g., 'min' for loss)\n",
    "                                   verbose=1)  # Verbosity level\n",
    "learn_control = tf.keras.callbacks.ReduceLROnPlateau(monitor=Monitored_metric, \n",
    "                                  patience=2,\n",
    "                                  verbose=1,\n",
    "                                  factor=0.2, \n",
    "                                  min_lr=1e-7)"
   ]
  },
  {
   "cell_type": "code",
   "execution_count": 8,
   "id": "c7355101",
   "metadata": {
    "execution": {
     "iopub.execute_input": "2024-05-27T23:00:05.435592Z",
     "iopub.status.busy": "2024-05-27T23:00:05.435118Z",
     "iopub.status.idle": "2024-05-27T23:00:05.443327Z",
     "shell.execute_reply": "2024-05-27T23:00:05.442508Z"
    },
    "papermill": {
     "duration": 0.015383,
     "end_time": "2024-05-27T23:00:05.445275",
     "exception": false,
     "start_time": "2024-05-27T23:00:05.429892",
     "status": "completed"
    },
    "tags": []
   },
   "outputs": [],
   "source": [
    "class AttentionLayer(Layer):\n",
    "    def __init__(self, **kwargs):\n",
    "        super(AttentionLayer, self).__init__(**kwargs)\n",
    "        self.dense = None\n",
    "        self.attention_weights = None\n",
    "\n",
    "    def build(self, input_shape):\n",
    "        self.dense = Dense(input_shape[-1], activation='tanh')\n",
    "        self.attention_weights = Dense(1)\n",
    "        super(AttentionLayer, self).build(input_shape)\n",
    "\n",
    "    def call(self, inputs):\n",
    "        dense_features = self.dense(inputs)\n",
    "        raw_attention_scores = self.attention_weights(dense_features)\n",
    "        attention_scores = tf.nn.softmax(raw_attention_scores, axis=1)\n",
    "        context_vector = tf.reduce_sum(attention_scores * inputs, axis=1)\n",
    "        return context_vector\n",
    "        return context_vector\n",
    "    \n",
    "class StackLayer(Layer):\n",
    "    def __init__(self, axis, **kwargs):\n",
    "        super(StackLayer, self).__init__(**kwargs)\n",
    "        self.axis = axis\n",
    "\n",
    "    def call(self, inputs):\n",
    "        return tf.stack(inputs, axis=self.axis)"
   ]
  },
  {
   "cell_type": "code",
   "execution_count": 9,
   "id": "4a14ff25",
   "metadata": {
    "execution": {
     "iopub.execute_input": "2024-05-27T23:00:05.455323Z",
     "iopub.status.busy": "2024-05-27T23:00:05.455083Z",
     "iopub.status.idle": "2024-05-27T23:00:08.621944Z",
     "shell.execute_reply": "2024-05-27T23:00:08.621081Z"
    },
    "papermill": {
     "duration": 3.174293,
     "end_time": "2024-05-27T23:00:08.624261",
     "exception": false,
     "start_time": "2024-05-27T23:00:05.449968",
     "status": "completed"
    },
    "tags": []
   },
   "outputs": [
    {
     "name": "stdout",
     "output_type": "stream",
     "text": [
      "Downloading data from https://storage.googleapis.com/tensorflow/keras-applications/resnet/resnet50_weights_tf_dim_ordering_tf_kernels_notop.h5\n",
      "\u001b[1m94765736/94765736\u001b[0m \u001b[32m━━━━━━━━━━━━━━━━━━━━\u001b[0m\u001b[37m\u001b[0m \u001b[1m1s\u001b[0m 0us/step\n"
     ]
    }
   ],
   "source": [
    "from tensorflow.keras.models import Model\n",
    "#Model Architecture\n",
    "base_model = applications.ResNet50(weights='imagenet', include_top=False, input_shape=image_shape)\n",
    "\n",
    "inputs = [Input(shape=image_shape) for _ in range(num_views)]\n",
    "\n",
    "encoded_views = [base_model(view_input) for view_input in inputs]\n",
    "\n",
    "# Apply GlobalAveragePooling to each view's output\n",
    "pooled_views = [GlobalAveragePooling2D()(view_output) for view_output in encoded_views]\n",
    "\n",
    "# Stack the pooled views to apply the attention mechanism\n",
    "stacked_views = StackLayer(axis=1)(pooled_views)  # Shape: (batch_size, num_views, feature_dim)\n",
    "    \n",
    "# Apply the attention layer\n",
    "context_vector = AttentionLayer()(stacked_views)\n",
    "\n",
    "# Add custom layers on top\n",
    "x = Dense(512, activation='relu')(context_vector)\n",
    "x = tf.keras.layers.Dropout(0.5)(x)\n",
    "predictions = Dense(num_classes, activation=\"softmax\")(x)\n",
    "\n",
    "model = Model(inputs=inputs, outputs=predictions)\n",
    "model.compile(optimizer='nadam', loss='categorical_crossentropy', metrics=[\"accuracy\", \"recall\"])"
   ]
  },
  {
   "cell_type": "code",
   "execution_count": 10,
   "id": "86c59b2b",
   "metadata": {
    "execution": {
     "iopub.execute_input": "2024-05-27T23:00:08.637761Z",
     "iopub.status.busy": "2024-05-27T23:00:08.637076Z",
     "iopub.status.idle": "2024-05-28T00:17:57.033893Z",
     "shell.execute_reply": "2024-05-28T00:17:57.032820Z"
    },
    "papermill": {
     "duration": 4668.406029,
     "end_time": "2024-05-28T00:17:57.036361",
     "exception": false,
     "start_time": "2024-05-27T23:00:08.630332",
     "status": "completed"
    },
    "tags": []
   },
   "outputs": [
    {
     "name": "stdout",
     "output_type": "stream",
     "text": [
      "Epoch 1/20\n"
     ]
    },
    {
     "name": "stderr",
     "output_type": "stream",
     "text": [
      "WARNING: All log messages before absl::InitializeLog() is called are written to STDERR\n",
      "I0000 00:00:1716851079.313819      69 device_compiler.h:186] Compiled cluster using XLA!  This line is logged at most once for the lifetime of the process.\n"
     ]
    },
    {
     "name": "stdout",
     "output_type": "stream",
     "text": [
      "\n",
      "Epoch 1: val_loss improved from inf to 12.18387, saving model to /kaggle/working/multiple_view_shoulder_v2.keras\n",
      "299/299 - 801s - 3s/step - accuracy: 0.2957 - loss: 1.6223 - recall: 0.0110 - val_accuracy: 0.2441 - val_loss: 12.1839 - val_recall: 0.2441 - learning_rate: 0.0010\n",
      "Epoch 2/20\n",
      "\n",
      "Epoch 2: val_loss improved from 12.18387 to 1.60154, saving model to /kaggle/working/multiple_view_shoulder_v2.keras\n",
      "299/299 - 389s - 1s/step - accuracy: 0.3098 - loss: 1.5589 - recall: 0.0164 - val_accuracy: 0.2927 - val_loss: 1.6015 - val_recall: 0.0000e+00 - learning_rate: 0.0010\n",
      "Epoch 3/20\n",
      "\n",
      "Epoch 3: val_loss did not improve from 1.60154\n",
      "299/299 - 377s - 1s/step - accuracy: 0.3039 - loss: 1.5760 - recall: 0.0135 - val_accuracy: 0.1415 - val_loss: 2.0247 - val_recall: 0.0000e+00 - learning_rate: 0.0010\n",
      "Epoch 4/20\n",
      "\n",
      "Epoch 4: val_loss improved from 1.60154 to 1.59952, saving model to /kaggle/working/multiple_view_shoulder_v2.keras\n",
      "299/299 - 388s - 1s/step - accuracy: 0.3088 - loss: 1.5595 - recall: 0.0140 - val_accuracy: 0.2420 - val_loss: 1.5995 - val_recall: 0.0000e+00 - learning_rate: 0.0010\n",
      "Epoch 5/20\n",
      "\n",
      "Epoch 5: val_loss improved from 1.59952 to 1.57253, saving model to /kaggle/working/multiple_view_shoulder_v2.keras\n",
      "299/299 - 403s - 1s/step - accuracy: 0.3116 - loss: 1.5571 - recall: 0.0152 - val_accuracy: 0.2914 - val_loss: 1.5725 - val_recall: 0.0000e+00 - learning_rate: 0.0010\n",
      "Epoch 6/20\n",
      "\n",
      "Epoch 6: val_loss did not improve from 1.57253\n",
      "299/299 - 382s - 1s/step - accuracy: 0.3075 - loss: 1.5546 - recall: 0.0117 - val_accuracy: 0.2922 - val_loss: 1.5866 - val_recall: 0.0000e+00 - learning_rate: 0.0010\n",
      "Epoch 7/20\n",
      "\n",
      "Epoch 7: val_loss did not improve from 1.57253\n",
      "\n",
      "Epoch 7: ReduceLROnPlateau reducing learning rate to 0.00020000000949949026.\n",
      "299/299 - 387s - 1s/step - accuracy: 0.3118 - loss: 1.5550 - recall: 0.0132 - val_accuracy: 0.2910 - val_loss: 1.5896 - val_recall: 0.0000e+00 - learning_rate: 0.0010\n",
      "Epoch 8/20\n",
      "\n",
      "Epoch 8: val_loss did not improve from 1.57253\n",
      "299/299 - 389s - 1s/step - accuracy: 0.3041 - loss: 1.5478 - recall: 0.0120 - val_accuracy: 0.2948 - val_loss: 1.5798 - val_recall: 0.0000e+00 - learning_rate: 2.0000e-04\n",
      "Epoch 9/20\n",
      "\n",
      "Epoch 9: val_loss did not improve from 1.57253\n",
      "\n",
      "Epoch 9: ReduceLROnPlateau reducing learning rate to 4.0000001899898055e-05.\n",
      "299/299 - 382s - 1s/step - accuracy: 0.3085 - loss: 1.5311 - recall: 0.0099 - val_accuracy: 0.2943 - val_loss: 1.5923 - val_recall: 0.0000e+00 - learning_rate: 2.0000e-04\n",
      "Epoch 10/20\n",
      "\n",
      "Epoch 10: val_loss did not improve from 1.57253\n",
      "299/299 - 391s - 1s/step - accuracy: 0.3147 - loss: 1.5178 - recall: 0.0153 - val_accuracy: 0.2956 - val_loss: 1.5744 - val_recall: 0.0000e+00 - learning_rate: 4.0000e-05\n",
      "Epoch 11/20\n",
      "\n",
      "Epoch 11: val_loss did not improve from 1.57253\n",
      "\n",
      "Epoch 11: ReduceLROnPlateau reducing learning rate to 8.000000525498762e-06.\n",
      "299/299 - 376s - 1s/step - accuracy: 0.3170 - loss: 1.5141 - recall: 0.0207 - val_accuracy: 0.2965 - val_loss: 1.5742 - val_recall: 0.0000e+00 - learning_rate: 4.0000e-05\n",
      "Epoch 11: early stopping\n",
      "Restoring model weights from the end of the best epoch: 5.\n"
     ]
    }
   ],
   "source": [
    "history = model.fit(train_generator,\n",
    "                    validation_data=valid_generator,\n",
    "                    callbacks=[early_stopping, model_checkpoint, learn_control],\n",
    "                    epochs=20,\n",
    "                    verbose=2)"
   ]
  },
  {
   "cell_type": "code",
   "execution_count": 11,
   "id": "d6125372",
   "metadata": {
    "execution": {
     "iopub.execute_input": "2024-05-28T00:17:57.055314Z",
     "iopub.status.busy": "2024-05-28T00:17:57.055008Z",
     "iopub.status.idle": "2024-05-28T00:17:57.644322Z",
     "shell.execute_reply": "2024-05-28T00:17:57.643413Z"
    },
    "papermill": {
     "duration": 0.601143,
     "end_time": "2024-05-28T00:17:57.646320",
     "exception": false,
     "start_time": "2024-05-28T00:17:57.045177",
     "status": "completed"
    },
    "tags": []
   },
   "outputs": [
    {
     "data": {
      "text/plain": [
       "<Axes: >"
      ]
     },
     "execution_count": 11,
     "metadata": {},
     "output_type": "execute_result"
    },
    {
     "data": {
      "image/png": "[encoded data removed]",
      "text/plain": [
       "<Figure size 640x480 with 1 Axes>"
      ]
     },
     "metadata": {},
     "output_type": "display_data"
    },
    {
     "data": {
      "image/png": "[encoded data removed]",
      "text/plain": [
       "<Figure size 640x480 with 1 Axes>"
      ]
     },
     "metadata": {},
     "output_type": "display_data"
    }
   ],
   "source": [
    "history_df = pd.DataFrame(history.history)\n",
    "history_df[['loss', 'val_loss']].plot()\n",
    "history_df[['accuracy','recall']].plot()"
   ]
  },
  {
   "cell_type": "code",
   "execution_count": 12,
   "id": "e760ea13",
   "metadata": {
    "execution": {
     "iopub.execute_input": "2024-05-28T00:17:57.667076Z",
     "iopub.status.busy": "2024-05-28T00:17:57.666506Z",
     "iopub.status.idle": "2024-05-28T00:18:52.718823Z",
     "shell.execute_reply": "2024-05-28T00:18:52.717800Z"
    },
    "papermill": {
     "duration": 55.064861,
     "end_time": "2024-05-28T00:18:52.720982",
     "exception": false,
     "start_time": "2024-05-28T00:17:57.656121",
     "status": "completed"
    },
    "tags": []
   },
   "outputs": [
    {
     "name": "stdout",
     "output_type": "stream",
     "text": [
      "\u001b[1m29/29\u001b[0m \u001b[32m━━━━━━━━━━━━━━━━━━━━\u001b[0m\u001b[37m\u001b[0m \u001b[1m52s\u001b[0m 2s/step - accuracy: 0.2614 - loss: 1.5978 - recall: 0.0000e+00\n",
      "Loss: 1.6010743379592896\n",
      "Accuracy: 0.25431033968925476\n"
     ]
    }
   ],
   "source": [
    "loss, accuracy,recall = model.evaluate(test_generator)\n",
    "print(f\"Loss: {loss}\")\n",
    "print(f\"Accuracy: {accuracy}\")"
   ]
  }
 ],
 "metadata": {
  "kaggle": {
   "accelerator": "gpu",
   "dataSources": [
    {
     "datasetId": 427555,
     "sourceId": 813639,
     "sourceType": "datasetVersion"
    },
    {
     "datasetId": 4776881,
     "sourceId": 8091050,
     "sourceType": "datasetVersion"
    },
    {
     "datasetId": 5064664,
     "sourceId": 8489424,
     "sourceType": "datasetVersion"
    }
   ],
   "dockerImageVersionId": 30699,
   "isGpuEnabled": true,
   "isInternetEnabled": true,
   "language": "python",
   "sourceType": "notebook"
  },
  "kernelspec": {
   "display_name": "Python 3",
   "language": "python",
   "name": "python3"
  },
  "language_info": {
   "codemirror_mode": {
    "name": "ipython",
    "version": 3
   },
   "file_extension": ".py",
   "mimetype": "text/x-python",
   "name": "python",
   "nbconvert_exporter": "python",
   "pygments_lexer": "ipython3",
   "version": "3.10.13"
  },
  "papermill": {
   "default_parameters": {},
   "duration": 4747.538862,
   "end_time": "2024-05-28T00:18:56.270322",
   "environment_variables": {},
   "exception": null,
   "input_path": "__notebook__.ipynb",
   "output_path": "__notebook__.ipynb",
   "parameters": {},
   "start_time": "2024-05-27T22:59:48.731460",
   "version": "2.5.0"
  }
 },
 "nbformat": 4,
 "nbformat_minor": 5
}
