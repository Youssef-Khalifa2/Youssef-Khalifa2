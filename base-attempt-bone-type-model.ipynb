{
 "cells": [
  {
   "cell_type": "code",
   "execution_count": 1,
   "id": "1859130a",
   "metadata": {
    "execution": {
     "iopub.execute_input": "2024-06-06T11:14:12.208639Z",
     "iopub.status.busy": "2024-06-06T11:14:12.208338Z",
     "iopub.status.idle": "2024-06-06T11:14:25.014191Z",
     "shell.execute_reply": "2024-06-06T11:14:25.013228Z"
    },
    "papermill": {
     "duration": 12.814181,
     "end_time": "2024-06-06T11:14:25.016620",
     "exception": false,
     "start_time": "2024-06-06T11:14:12.202439",
     "status": "completed"
    },
    "tags": []
   },
   "outputs": [
    {
     "name": "stderr",
     "output_type": "stream",
     "text": [
      "2024-06-06 11:14:14.038257: E external/local_xla/xla/stream_executor/cuda/cuda_dnn.cc:9261] Unable to register cuDNN factory: Attempting to register factory for plugin cuDNN when one has already been registered\n",
      "2024-06-06 11:14:14.038408: E external/local_xla/xla/stream_executor/cuda/cuda_fft.cc:607] Unable to register cuFFT factory: Attempting to register factory for plugin cuFFT when one has already been registered\n",
      "2024-06-06 11:14:14.159404: E external/local_xla/xla/stream_executor/cuda/cuda_blas.cc:1515] Unable to register cuBLAS factory: Attempting to register factory for plugin cuBLAS when one has already been registered\n"
     ]
    }
   ],
   "source": [
    "import os\n",
    "import cv2\n",
    "import keras\n",
    "import shutil\n",
    "import random\n",
    "import gc\n",
    "import numpy as np\n",
    "import pandas as pd \n",
    "import tensorflow as tf\n",
    "from PIL import Image, UnidentifiedImageError\n",
    "from tensorflow.keras.preprocessing.image import load_img, img_to_array\n",
    "from tensorflow.keras.layers import Input, Average, Dense ,Layer\n",
    "from tensorflow.keras.layers import Concatenate, GlobalAveragePooling2D\n",
    "from sklearn.model_selection import train_test_split\n",
    "from keras.callbacks import EarlyStopping, ModelCheckpoint, LearningRateScheduler, TensorBoard\n",
    "from keras.layers import Concatenate\n",
    "from keras.models import load_model\n",
    "from tensorflow.keras.applications import Xception,EfficientNetB0\n",
    "from tensorflow.keras.utils import Sequence\n",
    "from tensorflow.keras import mixed_precision , applications,layers\n",
    "from keras.applications.resnet50 import preprocess_input\n",
    "mixed_precision.set_global_policy('mixed_float16')"
   ]
  },
  {
   "cell_type": "code",
   "execution_count": 2,
   "id": "34336259",
   "metadata": {
    "execution": {
     "iopub.execute_input": "2024-06-06T11:14:25.027024Z",
     "iopub.status.busy": "2024-06-06T11:14:25.026485Z",
     "iopub.status.idle": "2024-06-06T11:14:25.030965Z",
     "shell.execute_reply": "2024-06-06T11:14:25.030141Z"
    },
    "papermill": {
     "duration": 0.011602,
     "end_time": "2024-06-06T11:14:25.032936",
     "exception": false,
     "start_time": "2024-06-06T11:14:25.021334",
     "status": "completed"
    },
    "tags": []
   },
   "outputs": [],
   "source": [
    "image_shape = (224, 224, 3)\n",
    "num_classes = 5  \n",
    "num_views = 5\n",
    "batch_size = 32"
   ]
  },
  {
   "cell_type": "code",
   "execution_count": 3,
   "id": "3a589b6f",
   "metadata": {
    "execution": {
     "iopub.execute_input": "2024-06-06T11:14:25.042703Z",
     "iopub.status.busy": "2024-06-06T11:14:25.042109Z",
     "iopub.status.idle": "2024-06-06T11:14:25.048574Z",
     "shell.execute_reply": "2024-06-06T11:14:25.047771Z"
    },
    "papermill": {
     "duration": 0.013362,
     "end_time": "2024-06-06T11:14:25.050480",
     "exception": false,
     "start_time": "2024-06-06T11:14:25.037118",
     "status": "completed"
    },
    "tags": []
   },
   "outputs": [
    {
     "data": {
      "text/plain": [
       "'# Source path of the model\\nsource_path = \"/kaggle/input/bonetype/BoneType_ResNet50.keras\"\\n\\n# Destination path where you can write\\ndestination_path = \"/kaggle/working/model.keras\"\\n\\n# Copy the model file\\nshutil.copyfile(source_path, destination_path)\\n\\n# Now load the model from the copied file\\nbase_model = load_model(destination_path)'"
      ]
     },
     "execution_count": 3,
     "metadata": {},
     "output_type": "execute_result"
    }
   ],
   "source": [
    "'''# Source path of the model\n",
    "source_path = \"/kaggle/input/bonetype/BoneType_ResNet50.keras\"\n",
    "\n",
    "# Destination path where you can write\n",
    "destination_path = \"/kaggle/working/model.keras\"\n",
    "\n",
    "# Copy the model file\n",
    "shutil.copyfile(source_path, destination_path)\n",
    "\n",
    "# Now load the model from the copied file\n",
    "base_model = load_model(destination_path)'''"
   ]
  },
  {
   "cell_type": "code",
   "execution_count": 4,
   "id": "6e88da7a",
   "metadata": {
    "execution": {
     "iopub.execute_input": "2024-06-06T11:14:25.060473Z",
     "iopub.status.busy": "2024-06-06T11:14:25.060197Z",
     "iopub.status.idle": "2024-06-06T11:14:25.075835Z",
     "shell.execute_reply": "2024-06-06T11:14:25.075220Z"
    },
    "papermill": {
     "duration": 0.022756,
     "end_time": "2024-06-06T11:14:25.077689",
     "exception": false,
     "start_time": "2024-06-06T11:14:25.054933",
     "status": "completed"
    },
    "tags": []
   },
   "outputs": [],
   "source": [
    "class CustomDataGenerator(Sequence):\n",
    "    def __init__(self, image_paths, labels, batch_size, image_shape, num_classes, num_views=num_views):\n",
    "        super().__init__()\n",
    "        self.image_paths = list(image_paths)\n",
    "        self.labels = list(labels)\n",
    "        self.batch_size = batch_size\n",
    "        self.image_shape = image_shape\n",
    "        self.num_classes = num_classes\n",
    "        self.num_views = num_views\n",
    "        self.on_epoch_end()\n",
    "\n",
    "    def __len__(self):\n",
    "        return int(np.floor(len(self.image_paths) / self.batch_size))\n",
    "\n",
    "    def __getitem__(self, index):\n",
    "        indices = self.indices[index * self.batch_size:(index + 1) * self.batch_size]\n",
    "        batch_image_paths = [self.image_paths[i] for i in indices]\n",
    "        batch_labels = [self.labels[i] for i in indices]\n",
    "\n",
    "        images = []\n",
    "        for folder_path in batch_image_paths:\n",
    "            images.append(self._load_and_pad_images(folder_path, self.image_shape))\n",
    "\n",
    "        images = np.array(images)  # Shape: (batch_size, num_views, height, width, channels)\n",
    "        batch_labels = tf.keras.utils.to_categorical(batch_labels, num_classes=self.num_classes)\n",
    "\n",
    "        # Transpose the batch to separate views as different inputs\n",
    "        images = [images[:, i, :, :, :] for i in range(self.num_views)]\n",
    "        \n",
    "        # Convert to tuple of tensors\n",
    "        images = tuple(tf.convert_to_tensor(img) for img in images)\n",
    "        batch_labels = tf.convert_to_tensor(batch_labels)\n",
    "\n",
    "        return images, batch_labels\n",
    "\n",
    "    def on_epoch_end(self):\n",
    "        self.indices = np.arange(len(self.image_paths))\n",
    "        np.random.shuffle(self.indices)\n",
    "\n",
    "    def _load_and_pad_images(self, folder_path, image_shape):\n",
    "        image_paths = [os.path.join(folder_path, f) for f in os.listdir(folder_path)\n",
    "                       if f.endswith((\".jpg\", \".jpeg\", \".png\")) and not f.startswith(\"._\")]\n",
    "\n",
    "        if not image_paths:\n",
    "            logger.error(f\"No valid images found in folder: {folder_path}\")\n",
    "            return [np.zeros((image_shape[0], image_shape[1], image_shape[2]))] * self.num_views\n",
    "\n",
    "        if len(image_paths) > self.num_views:\n",
    "            image_paths = random.sample(image_paths, self.num_views)\n",
    "\n",
    "        processed_images = []\n",
    "        for image_path in image_paths:\n",
    "            try:\n",
    "                img = load_img(image_path, target_size=image_shape)\n",
    "                img_array = img_to_array(img)\n",
    "                img_array = img_array / 255.0\n",
    "                preprocessed_img_array = preprocess_input(img_array)\n",
    "                processed_images.append(preprocessed_img_array)\n",
    "            except Exception as e:\n",
    "                logger.warning(f\"Warning: Skipping unidentifiable image file: {image_path} due to {e}\")\n",
    "                processed_images.append(np.zeros((image_shape[0], image_shape[1], image_shape[2])))\n",
    "\n",
    "        while len(processed_images) < self.num_views:\n",
    "            processed_images.append(np.zeros((image_shape[0], image_shape[1], image_shape[2])))\n",
    "\n",
    "        return np.array(processed_images)\n"
   ]
  },
  {
   "cell_type": "code",
   "execution_count": 5,
   "id": "253533cc",
   "metadata": {
    "execution": {
     "iopub.execute_input": "2024-06-06T11:14:25.087294Z",
     "iopub.status.busy": "2024-06-06T11:14:25.087023Z",
     "iopub.status.idle": "2024-06-06T11:14:25.194561Z",
     "shell.execute_reply": "2024-06-06T11:14:25.193680Z"
    },
    "papermill": {
     "duration": 0.114648,
     "end_time": "2024-06-06T11:14:25.196621",
     "exception": false,
     "start_time": "2024-06-06T11:14:25.081973",
     "status": "completed"
    },
    "tags": []
   },
   "outputs": [
    {
     "name": "stdout",
     "output_type": "stream",
     "text": [
      "                                                    Path Bone_type\n",
      "9666   /kaggle/input/mura-v11/MURA-v1.1/train/XR_WRIS...         1\n",
      "9719   /kaggle/input/mura-v11/MURA-v1.1/train/XR_WRIS...         1\n",
      "5328   /kaggle/input/mura-v11/MURA-v1.1/train/XR_FING...         4\n",
      "2159   /kaggle/input/mura-v11/MURA-v1.1/train/XR_SHOU...         0\n",
      "4740   /kaggle/input/mura-v11/MURA-v1.1/train/XR_FING...         4\n",
      "...                                                  ...       ...\n",
      "8405   /kaggle/input/mura-v11/MURA-v1.1/train/XR_WRIS...         1\n",
      "12424  /kaggle/input/mura-v11/MURA-v1.1/train/XR_HAND...         2\n",
      "905    /kaggle/input/mura-v11/MURA-v1.1/train/XR_SHOU...         0\n",
      "5784   /kaggle/input/mura-v11/MURA-v1.1/train/XR_ELBO...         3\n",
      "235    /kaggle/input/mura-v11/MURA-v1.1/train/XR_SHOU...         0\n",
      "\n",
      "[9590 rows x 2 columns]\n",
      "===============Done with training images===================\n",
      "===============Done with test images===================\n"
     ]
    }
   ],
   "source": [
    "bone_type_mapping = {'SHOULDER': 0, 'WRIST': 1, 'HAND': 2, 'ELBOW': 3, 'FINGER': 4}\n",
    "prefix = '/kaggle/input/mura-v11/'\n",
    "output_directory = '/kaggle/working'\n",
    "train_excel_file_path = '/kaggle/input/csv-for-multiview/Patients with bone type for multiview.csv'\n",
    "df = pd.read_csv(train_excel_file_path, header=None,names=['Path', 'Abnormal','Bone_type'])\n",
    "df = df[~df['Path'].str.contains('XR_FOREARM|XR_HUMERUS')]\n",
    "df['Bone_type'] = df['Bone_type'].map(bone_type_mapping).astype(int)\n",
    "paths = prefix + df['Path'].astype(str)\n",
    "labels = df['Bone_type']\n",
    "labels = labels.astype(str)\n",
    "t_images = pd.concat([paths, labels], axis=1)\n",
    "train_df, test_df = train_test_split(t_images, train_size=0.8, shuffle=True, random_state=1)\n",
    "print(train_df)\n",
    "print(\"===============Done with training images===================\")\n",
    "test_excel_file_path = '/kaggle/input/csv-for-multiview/validation Patients with bone type for multiview.csv'\n",
    "df = pd.read_csv(test_excel_file_path, header=None,names=['Path', 'Abnormal','Bone_type'])\n",
    "df = df[~df['Path'].str.contains('XR_FOREARM|XR_HUMERUS')]\n",
    "df['Bone_type'] = df['Bone_type'].map(bone_type_mapping).astype(int)\n",
    "paths = prefix + df['Path'].astype(str)\n",
    "labels = df['Bone_type']\n",
    "labels = labels.astype(str)\n",
    "v_images = pd.concat([paths, labels], axis=1)\n",
    "print(\"===============Done with test images===================\")"
   ]
  },
  {
   "cell_type": "code",
   "execution_count": 6,
   "id": "1bf4bd23",
   "metadata": {
    "_cell_guid": "b1076dfc-b9ad-4769-8c92-a6c4dae69d19",
    "_uuid": "8f2839f25d086af736a60e9eeb907d3b93b6e0e5",
    "execution": {
     "iopub.execute_input": "2024-06-06T11:14:25.207013Z",
     "iopub.status.busy": "2024-06-06T11:14:25.206726Z",
     "iopub.status.idle": "2024-06-06T11:14:25.216094Z",
     "shell.execute_reply": "2024-06-06T11:14:25.215255Z"
    },
    "papermill": {
     "duration": 0.016547,
     "end_time": "2024-06-06T11:14:25.217938",
     "exception": false,
     "start_time": "2024-06-06T11:14:25.201391",
     "status": "completed"
    },
    "tags": []
   },
   "outputs": [],
   "source": [
    "#Data Generators Initialization \n",
    "train_paths,train_labels = train_df['Path'] , train_df['Bone_type']\n",
    "valid_paths,valid_labels = test_df['Path'] , test_df['Bone_type']\n",
    "test_paths,test_labels = v_images['Path'] , v_images['Bone_type']\n",
    "\n",
    "train_generator = CustomDataGenerator(train_paths, train_labels, batch_size, image_shape, num_classes)\n",
    "valid_generator = CustomDataGenerator(valid_paths, valid_labels, batch_size, image_shape, num_classes)\n",
    "test_generator = CustomDataGenerator(test_paths, test_labels, batch_size, image_shape, num_classes)"
   ]
  },
  {
   "cell_type": "code",
   "execution_count": 7,
   "id": "26b33910",
   "metadata": {
    "execution": {
     "iopub.execute_input": "2024-06-06T11:14:25.227759Z",
     "iopub.status.busy": "2024-06-06T11:14:25.227485Z",
     "iopub.status.idle": "2024-06-06T11:14:25.233391Z",
     "shell.execute_reply": "2024-06-06T11:14:25.232583Z"
    },
    "papermill": {
     "duration": 0.013213,
     "end_time": "2024-06-06T11:14:25.235557",
     "exception": false,
     "start_time": "2024-06-06T11:14:25.222344",
     "status": "completed"
    },
    "tags": []
   },
   "outputs": [],
   "source": [
    "#Callbacks Initialization\n",
    "checkpoint_path = '/kaggle/working/multiple_view_shoulder_v2.keras'\n",
    "Monitored_metric= 'val_loss' \n",
    "# Create an EarlyStopping callback\n",
    "early_stopping = EarlyStopping(monitor=Monitored_metric,  # The metric to monitor for early stopping\n",
    "                               patience=5,  # Number of epochs with no improvement after which training will be stopped\n",
    "                               verbose=1,  # Verbosity level\n",
    "                               restore_best_weights=True)  # Restore model weights from the epoch with the best value of the monitored metric\n",
    "\n",
    "# Create a ModelCheckpoint callback\n",
    "model_checkpoint = ModelCheckpoint(checkpoint_path,\n",
    "                                   monitor=Monitored_metric,  # The metric to monitor for saving the best model\n",
    "                                   save_best_only=True,  # Save only the best model\n",
    "                                   mode='min',  # Mode for the 'monitor' metric (e.g., 'min' for loss)\n",
    "                                   verbose=1)  # Verbosity level\n",
    "learn_control = tf.keras.callbacks.ReduceLROnPlateau(monitor=Monitored_metric, \n",
    "                                  patience=3,\n",
    "                                  verbose=1,\n",
    "                                  factor=0.2, \n",
    "                                  min_lr=1e-7)"
   ]
  },
  {
   "cell_type": "code",
   "execution_count": 8,
   "id": "2a76d22e",
   "metadata": {
    "execution": {
     "iopub.execute_input": "2024-06-06T11:14:25.245463Z",
     "iopub.status.busy": "2024-06-06T11:14:25.245211Z",
     "iopub.status.idle": "2024-06-06T11:14:25.253395Z",
     "shell.execute_reply": "2024-06-06T11:14:25.252553Z"
    },
    "papermill": {
     "duration": 0.015403,
     "end_time": "2024-06-06T11:14:25.255380",
     "exception": false,
     "start_time": "2024-06-06T11:14:25.239977",
     "status": "completed"
    },
    "tags": []
   },
   "outputs": [],
   "source": [
    "class AttentionLayer(Layer):\n",
    "    def __init__(self, **kwargs):\n",
    "        super(AttentionLayer, self).__init__(**kwargs)\n",
    "        self.dense = None\n",
    "        self.attention_weights = None\n",
    "\n",
    "    def build(self, input_shape):\n",
    "        self.dense = Dense(input_shape[-1], activation='tanh')\n",
    "        self.attention_weights = Dense(1)\n",
    "        super(AttentionLayer, self).build(input_shape)\n",
    "\n",
    "    def call(self, inputs):\n",
    "        dense_features = self.dense(inputs)\n",
    "        raw_attention_scores = self.attention_weights(dense_features)\n",
    "        attention_scores = tf.nn.softmax(raw_attention_scores, axis=1)\n",
    "        context_vector = tf.reduce_sum(attention_scores * inputs, axis=1)\n",
    "        return context_vector\n",
    "        return context_vector\n",
    "    \n",
    "class StackLayer(Layer):\n",
    "    def __init__(self, axis, **kwargs):\n",
    "        super(StackLayer, self).__init__(**kwargs)\n",
    "        self.axis = axis\n",
    "\n",
    "    def call(self, inputs):\n",
    "        return tf.stack(inputs, axis=self.axis)"
   ]
  },
  {
   "cell_type": "code",
   "execution_count": 9,
   "id": "df96658e",
   "metadata": {
    "execution": {
     "iopub.execute_input": "2024-06-06T11:14:25.265448Z",
     "iopub.status.busy": "2024-06-06T11:14:25.265203Z",
     "iopub.status.idle": "2024-06-06T11:14:32.366769Z",
     "shell.execute_reply": "2024-06-06T11:14:32.365790Z"
    },
    "papermill": {
     "duration": 7.109191,
     "end_time": "2024-06-06T11:14:32.369120",
     "exception": false,
     "start_time": "2024-06-06T11:14:25.259929",
     "status": "completed"
    },
    "tags": []
   },
   "outputs": [
    {
     "name": "stdout",
     "output_type": "stream",
     "text": [
      "Downloading data from https://storage.googleapis.com/tensorflow/keras-applications/xception/xception_weights_tf_dim_ordering_tf_kernels_notop.h5\n",
      "\u001b[1m83683744/83683744\u001b[0m \u001b[32m━━━━━━━━━━━━━━━━━━━━\u001b[0m\u001b[37m\u001b[0m \u001b[1m5s\u001b[0m 0us/step\n"
     ]
    }
   ],
   "source": [
    "from tensorflow.keras.models import Model\n",
    "#Model Architecture\n",
    "base_model = Xception(weights='imagenet', include_top=False, input_shape=image_shape)\n",
    "\n",
    "inputs = [Input(shape=image_shape) for _ in range(num_views)]\n",
    "\n",
    "encoded_views = [base_model(view_input) for view_input in inputs]\n",
    "\n",
    "# Apply GlobalAveragePooling to each view's output\n",
    "pooled_views = [GlobalAveragePooling2D()(view_output) for view_output in encoded_views]\n",
    "\n",
    "# Stack the pooled views to apply the attention mechanism\n",
    "stacked_views = StackLayer(axis=1)(pooled_views)  # Shape: (batch_size, num_views, feature_dim)\n",
    "    \n",
    "# Apply the attention layer\n",
    "context_vector = AttentionLayer()(stacked_views)\n",
    "\n",
    "# Add custom layers on top\n",
    "x = Dense(512, activation='relu')(context_vector)\n",
    "x = tf.keras.layers.Dropout(0.5)(x)\n",
    "predictions = Dense(num_classes, activation=\"softmax\")(x)\n",
    "\n",
    "model = Model(inputs=inputs, outputs=predictions)\n",
    "model.compile(optimizer='nadam', loss='categorical_crossentropy', metrics=[\"accuracy\", \"recall\"])"
   ]
  },
  {
   "cell_type": "code",
   "execution_count": 10,
   "id": "34dadf4d",
   "metadata": {
    "execution": {
     "iopub.execute_input": "2024-06-06T11:14:32.388797Z",
     "iopub.status.busy": "2024-06-06T11:14:32.388086Z",
     "iopub.status.idle": "2024-06-06T13:16:05.932702Z",
     "shell.execute_reply": "2024-06-06T13:16:05.931811Z"
    },
    "papermill": {
     "duration": 7293.556933,
     "end_time": "2024-06-06T13:16:05.935231",
     "exception": false,
     "start_time": "2024-06-06T11:14:32.378298",
     "status": "completed"
    },
    "tags": []
   },
   "outputs": [
    {
     "name": "stdout",
     "output_type": "stream",
     "text": [
      "Epoch 1/50\n"
     ]
    },
    {
     "name": "stderr",
     "output_type": "stream",
     "text": [
      "WARNING: All log messages before absl::InitializeLog() is called are written to STDERR\n",
      "I0000 00:00:1717672662.012365      69 device_compiler.h:186] Compiled cluster using XLA!  This line is logged at most once for the lifetime of the process.\n"
     ]
    },
    {
     "name": "stdout",
     "output_type": "stream",
     "text": [
      "\n",
      "Epoch 1: val_loss improved from inf to 1.62206, saving model to /kaggle/working/multiple_view_shoulder_v2.keras\n",
      "299/299 - 763s - 3s/step - accuracy: 0.8765 - loss: 0.4087 - recall: 0.8270 - val_accuracy: 0.1571 - val_loss: 1.6221 - val_recall: 0.0000e+00 - learning_rate: 0.0010\n",
      "Epoch 2/50\n",
      "\n",
      "Epoch 2: val_loss did not improve from 1.62206\n",
      "299/299 - 469s - 2s/step - accuracy: 0.9565 - loss: 0.1697 - recall: 0.9457 - val_accuracy: 0.1558 - val_loss: 1.6249 - val_recall: 0.0000e+00 - learning_rate: 0.0010\n",
      "Epoch 3/50\n",
      "\n",
      "Epoch 3: val_loss improved from 1.62206 to 1.61620, saving model to /kaggle/working/multiple_view_shoulder_v2.keras\n",
      "299/299 - 463s - 2s/step - accuracy: 0.9675 - loss: 0.1314 - recall: 0.9611 - val_accuracy: 0.1579 - val_loss: 1.6162 - val_recall: 0.0000e+00 - learning_rate: 0.0010\n",
      "Epoch 4/50\n",
      "\n",
      "Epoch 4: val_loss did not improve from 1.61620\n",
      "299/299 - 455s - 2s/step - accuracy: 0.9627 - loss: 0.1410 - recall: 0.9552 - val_accuracy: 0.1571 - val_loss: 1.6251 - val_recall: 0.0000e+00 - learning_rate: 0.0010\n",
      "Epoch 5/50\n",
      "\n",
      "Epoch 5: val_loss did not improve from 1.61620\n",
      "299/299 - 462s - 2s/step - accuracy: 0.9546 - loss: 0.1813 - recall: 0.9463 - val_accuracy: 0.1575 - val_loss: 1.6294 - val_recall: 0.0000e+00 - learning_rate: 0.0010\n",
      "Epoch 6/50\n",
      "\n",
      "Epoch 6: val_loss improved from 1.61620 to 1.61408, saving model to /kaggle/working/multiple_view_shoulder_v2.keras\n",
      "299/299 - 460s - 2s/step - accuracy: 0.9552 - loss: 0.1523 - recall: 0.9488 - val_accuracy: 0.1571 - val_loss: 1.6141 - val_recall: 0.0000e+00 - learning_rate: 0.0010\n",
      "Epoch 7/50\n",
      "\n",
      "Epoch 7: val_loss improved from 1.61408 to 1.60564, saving model to /kaggle/working/multiple_view_shoulder_v2.keras\n",
      "299/299 - 486s - 2s/step - accuracy: 0.9736 - loss: 0.1007 - recall: 0.9696 - val_accuracy: 0.2424 - val_loss: 1.6056 - val_recall: 0.0000e+00 - learning_rate: 0.0010\n",
      "Epoch 8/50\n",
      "\n",
      "Epoch 8: val_loss did not improve from 1.60564\n",
      "299/299 - 453s - 2s/step - accuracy: 0.9697 - loss: 0.1140 - recall: 0.9639 - val_accuracy: 0.2407 - val_loss: 1.6177 - val_recall: 0.0000e+00 - learning_rate: 0.0010\n",
      "Epoch 9/50\n",
      "\n",
      "Epoch 9: val_loss did not improve from 1.60564\n",
      "299/299 - 468s - 2s/step - accuracy: 0.9621 - loss: 0.1394 - recall: 0.9571 - val_accuracy: 0.2424 - val_loss: 1.6660 - val_recall: 0.0291 - learning_rate: 0.0010\n",
      "Epoch 10/50\n",
      "\n",
      "Epoch 10: val_loss improved from 1.60564 to 1.60260, saving model to /kaggle/working/multiple_view_shoulder_v2.keras\n",
      "299/299 - 514s - 2s/step - accuracy: 0.9667 - loss: 0.1157 - recall: 0.9621 - val_accuracy: 0.2458 - val_loss: 1.6026 - val_recall: 0.0000e+00 - learning_rate: 0.0010\n",
      "Epoch 11/50\n",
      "\n",
      "Epoch 11: val_loss did not improve from 1.60260\n",
      "299/299 - 457s - 2s/step - accuracy: 0.9792 - loss: 0.0721 - recall: 0.9768 - val_accuracy: 0.1562 - val_loss: 1.6255 - val_recall: 0.0000e+00 - learning_rate: 0.0010\n",
      "Epoch 12/50\n",
      "\n",
      "Epoch 12: val_loss did not improve from 1.60260\n",
      "299/299 - 458s - 2s/step - accuracy: 0.9795 - loss: 0.0703 - recall: 0.9782 - val_accuracy: 0.1592 - val_loss: 1.6192 - val_recall: 0.0000e+00 - learning_rate: 0.0010\n",
      "Epoch 13/50\n",
      "\n",
      "Epoch 13: val_loss did not improve from 1.60260\n",
      "\n",
      "Epoch 13: ReduceLROnPlateau reducing learning rate to 0.00020000000949949026.\n",
      "299/299 - 460s - 2s/step - accuracy: 0.9644 - loss: 0.1199 - recall: 0.9598 - val_accuracy: 0.2475 - val_loss: 1.6553 - val_recall: 0.0000e+00 - learning_rate: 0.0010\n",
      "Epoch 14/50\n",
      "\n",
      "Epoch 14: val_loss did not improve from 1.60260\n",
      "299/299 - 461s - 2s/step - accuracy: 0.9874 - loss: 0.0494 - recall: 0.9854 - val_accuracy: 0.2458 - val_loss: 1.6077 - val_recall: 0.0000e+00 - learning_rate: 2.0000e-04\n",
      "Epoch 15/50\n",
      "\n",
      "Epoch 15: val_loss did not improve from 1.60260\n",
      "299/299 - 461s - 2s/step - accuracy: 0.9907 - loss: 0.0340 - recall: 0.9895 - val_accuracy: 0.2466 - val_loss: 1.6156 - val_recall: 0.0000e+00 - learning_rate: 2.0000e-04\n",
      "Epoch 15: early stopping\n",
      "Restoring model weights from the end of the best epoch: 10.\n"
     ]
    }
   ],
   "source": [
    "history = model.fit(train_generator,\n",
    "                    validation_data=valid_generator,\n",
    "                    callbacks=[early_stopping, model_checkpoint, learn_control],\n",
    "                    epochs=50,\n",
    "                    verbose=2)"
   ]
  },
  {
   "cell_type": "code",
   "execution_count": 11,
   "id": "d58559c4",
   "metadata": {
    "execution": {
     "iopub.execute_input": "2024-06-06T13:16:05.962504Z",
     "iopub.status.busy": "2024-06-06T13:16:05.962203Z",
     "iopub.status.idle": "2024-06-06T13:16:07.209395Z",
     "shell.execute_reply": "2024-06-06T13:16:07.208550Z"
    },
    "papermill": {
     "duration": 1.263523,
     "end_time": "2024-06-06T13:16:07.211849",
     "exception": false,
     "start_time": "2024-06-06T13:16:05.948326",
     "status": "completed"
    },
    "tags": []
   },
   "outputs": [
    {
     "data": {
      "text/plain": [
       "<Axes: >"
      ]
     },
     "execution_count": 11,
     "metadata": {},
     "output_type": "execute_result"
    },
    {
     "data": {
      "image/png": "[encoded data removed]",
      "text/plain": [
       "<Figure size 640x480 with 1 Axes>"
      ]
     },
     "metadata": {},
     "output_type": "display_data"
    },
    {
     "data": {
      "image/png": "[encoded data removed]",
      "text/plain": [
       "<Figure size 640x480 with 1 Axes>"
      ]
     },
     "metadata": {},
     "output_type": "display_data"
    }
   ],
   "source": [
    "history_df = pd.DataFrame(history.history)\n",
    "history_df[['loss', 'val_loss']].plot()\n",
    "history_df[['accuracy','recall']].plot()"
   ]
  },
  {
   "cell_type": "code",
   "execution_count": 12,
   "id": "c6ec13db",
   "metadata": {
    "execution": {
     "iopub.execute_input": "2024-06-06T13:16:07.241614Z",
     "iopub.status.busy": "2024-06-06T13:16:07.241013Z",
     "iopub.status.idle": "2024-06-06T13:16:56.253920Z",
     "shell.execute_reply": "2024-06-06T13:16:56.252868Z"
    },
    "papermill": {
     "duration": 49.029907,
     "end_time": "2024-06-06T13:16:56.256003",
     "exception": false,
     "start_time": "2024-06-06T13:16:07.226096",
     "status": "completed"
    },
    "tags": []
   },
   "outputs": [
    {
     "name": "stdout",
     "output_type": "stream",
     "text": [
      "\u001b[1m29/29\u001b[0m \u001b[32m━━━━━━━━━━━━━━━━━━━━\u001b[0m\u001b[37m\u001b[0m \u001b[1m46s\u001b[0m 2s/step - accuracy: 0.2116 - loss: 1.6147 - recall: 0.0000e+00\n",
      "Loss: 1.6202224493026733\n",
      "Accuracy: 0.2079741358757019\n"
     ]
    }
   ],
   "source": [
    "loss, accuracy,recall = model.evaluate(test_generator)\n",
    "print(f\"Loss: {loss}\")\n",
    "print(f\"Accuracy: {accuracy}\")"
   ]
  }
 ],
 "metadata": {
  "kaggle": {
   "accelerator": "gpu",
   "dataSources": [
    {
     "datasetId": 427555,
     "sourceId": 813639,
     "sourceType": "datasetVersion"
    },
    {
     "datasetId": 4776881,
     "sourceId": 8091050,
     "sourceType": "datasetVersion"
    },
    {
     "datasetId": 5064664,
     "sourceId": 8489424,
     "sourceType": "datasetVersion"
    }
   ],
   "dockerImageVersionId": 30699,
   "isGpuEnabled": true,
   "isInternetEnabled": true,
   "language": "python",
   "sourceType": "notebook"
  },
  "kernelspec": {
   "display_name": "Python 3",
   "language": "python",
   "name": "python3"
  },
  "language_info": {
   "codemirror_mode": {
    "name": "ipython",
    "version": 3
   },
   "file_extension": ".py",
   "mimetype": "text/x-python",
   "name": "python",
   "nbconvert_exporter": "python",
   "pygments_lexer": "ipython3",
   "version": "3.10.13"
  },
  "papermill": {
   "default_parameters": {},
   "duration": 7370.617946,
   "end_time": "2024-06-06T13:17:00.092984",
   "environment_variables": {},
   "exception": null,
   "input_path": "__notebook__.ipynb",
   "output_path": "__notebook__.ipynb",
   "parameters": {},
   "start_time": "2024-06-06T11:14:09.475038",
   "version": "2.5.0"
  }
 },
 "nbformat": 4,
 "nbformat_minor": 5
}
