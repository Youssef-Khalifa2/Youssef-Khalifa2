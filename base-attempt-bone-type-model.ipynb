{
 "cells": [
  {
   "cell_type": "code",
   "execution_count": 1,
   "id": "e36470a8",
   "metadata": {
    "execution": {
     "iopub.execute_input": "2024-06-06T15:29:58.273714Z",
     "iopub.status.busy": "2024-06-06T15:29:58.273381Z",
     "iopub.status.idle": "2024-06-06T15:30:11.192859Z",
     "shell.execute_reply": "2024-06-06T15:30:11.192017Z"
    },
    "papermill": {
     "duration": 12.927734,
     "end_time": "2024-06-06T15:30:11.195256",
     "exception": false,
     "start_time": "2024-06-06T15:29:58.267522",
     "status": "completed"
    },
    "tags": []
   },
   "outputs": [
    {
     "name": "stderr",
     "output_type": "stream",
     "text": [
      "2024-06-06 15:30:00.101434: E external/local_xla/xla/stream_executor/cuda/cuda_dnn.cc:9261] Unable to register cuDNN factory: Attempting to register factory for plugin cuDNN when one has already been registered\n",
      "2024-06-06 15:30:00.101558: E external/local_xla/xla/stream_executor/cuda/cuda_fft.cc:607] Unable to register cuFFT factory: Attempting to register factory for plugin cuFFT when one has already been registered\n",
      "2024-06-06 15:30:00.226965: E external/local_xla/xla/stream_executor/cuda/cuda_blas.cc:1515] Unable to register cuBLAS factory: Attempting to register factory for plugin cuBLAS when one has already been registered\n"
     ]
    }
   ],
   "source": [
    "import os\n",
    "import cv2\n",
    "import keras\n",
    "import shutil\n",
    "import random\n",
    "import gc\n",
    "import numpy as np\n",
    "import pandas as pd \n",
    "import tensorflow as tf\n",
    "from PIL import Image, UnidentifiedImageError\n",
    "from tensorflow.keras.preprocessing.image import load_img, img_to_array\n",
    "from tensorflow.keras.layers import Input, Average, Dense ,Layer\n",
    "from tensorflow.keras.layers import Concatenate, GlobalAveragePooling2D\n",
    "from sklearn.model_selection import train_test_split\n",
    "from keras.callbacks import EarlyStopping, ModelCheckpoint, LearningRateScheduler, TensorBoard\n",
    "from keras.layers import Concatenate\n",
    "from keras.models import load_model\n",
    "from tensorflow.keras.applications import Xception,EfficientNetB0\n",
    "from tensorflow.keras.utils import Sequence\n",
    "from tensorflow.keras import mixed_precision , applications,layers\n",
    "from keras.applications.resnet50 import preprocess_input\n",
    "mixed_precision.set_global_policy('mixed_float16')"
   ]
  },
  {
   "cell_type": "code",
   "execution_count": 2,
   "id": "708f1a02",
   "metadata": {
    "execution": {
     "iopub.execute_input": "2024-06-06T15:30:11.206782Z",
     "iopub.status.busy": "2024-06-06T15:30:11.205876Z",
     "iopub.status.idle": "2024-06-06T15:30:11.210736Z",
     "shell.execute_reply": "2024-06-06T15:30:11.209862Z"
    },
    "papermill": {
     "duration": 0.012636,
     "end_time": "2024-06-06T15:30:11.212838",
     "exception": false,
     "start_time": "2024-06-06T15:30:11.200202",
     "status": "completed"
    },
    "tags": []
   },
   "outputs": [],
   "source": [
    "image_shape = (224, 224, 3)\n",
    "num_classes = 5  \n",
    "num_views = 5\n",
    "batch_size = 32"
   ]
  },
  {
   "cell_type": "code",
   "execution_count": 3,
   "id": "7b490f15",
   "metadata": {
    "execution": {
     "iopub.execute_input": "2024-06-06T15:30:11.222981Z",
     "iopub.status.busy": "2024-06-06T15:30:11.222708Z",
     "iopub.status.idle": "2024-06-06T15:30:11.229926Z",
     "shell.execute_reply": "2024-06-06T15:30:11.229072Z"
    },
    "papermill": {
     "duration": 0.014664,
     "end_time": "2024-06-06T15:30:11.231923",
     "exception": false,
     "start_time": "2024-06-06T15:30:11.217259",
     "status": "completed"
    },
    "tags": []
   },
   "outputs": [
    {
     "data": {
      "text/plain": [
       "'# Source path of the model\\nsource_path = \"/kaggle/input/bonetype/BoneType_ResNet50.keras\"\\n\\n# Destination path where you can write\\ndestination_path = \"/kaggle/working/model.keras\"\\n\\n# Copy the model file\\nshutil.copyfile(source_path, destination_path)\\n\\n# Now load the model from the copied file\\nbase_model = load_model(destination_path)'"
      ]
     },
     "execution_count": 3,
     "metadata": {},
     "output_type": "execute_result"
    }
   ],
   "source": [
    "'''# Source path of the model\n",
    "source_path = \"/kaggle/input/bonetype/BoneType_ResNet50.keras\"\n",
    "\n",
    "# Destination path where you can write\n",
    "destination_path = \"/kaggle/working/model.keras\"\n",
    "\n",
    "# Copy the model file\n",
    "shutil.copyfile(source_path, destination_path)\n",
    "\n",
    "# Now load the model from the copied file\n",
    "base_model = load_model(destination_path)'''"
   ]
  },
  {
   "cell_type": "code",
   "execution_count": 4,
   "id": "7e4ef4c5",
   "metadata": {
    "execution": {
     "iopub.execute_input": "2024-06-06T15:30:11.242858Z",
     "iopub.status.busy": "2024-06-06T15:30:11.242529Z",
     "iopub.status.idle": "2024-06-06T15:30:11.259315Z",
     "shell.execute_reply": "2024-06-06T15:30:11.258409Z"
    },
    "papermill": {
     "duration": 0.024878,
     "end_time": "2024-06-06T15:30:11.261328",
     "exception": false,
     "start_time": "2024-06-06T15:30:11.236450",
     "status": "completed"
    },
    "tags": []
   },
   "outputs": [],
   "source": [
    "class CustomDataGenerator(Sequence):\n",
    "    def __init__(self, image_paths, labels, batch_size, image_shape, num_classes, num_views=num_views):\n",
    "        super().__init__()\n",
    "        self.image_paths = list(image_paths)\n",
    "        self.labels = list(labels)\n",
    "        self.batch_size = batch_size\n",
    "        self.image_shape = image_shape\n",
    "        self.num_classes = num_classes\n",
    "        self.num_views = num_views\n",
    "        self.on_epoch_end()\n",
    "\n",
    "    def __len__(self):\n",
    "        return int(np.floor(len(self.image_paths) / self.batch_size))\n",
    "\n",
    "    def __getitem__(self, index):\n",
    "        indices = self.indices[index * self.batch_size:(index + 1) * self.batch_size]\n",
    "        batch_image_paths = [self.image_paths[i] for i in indices]\n",
    "        batch_labels = [self.labels[i] for i in indices]\n",
    "\n",
    "        images = []\n",
    "        for folder_path in batch_image_paths:\n",
    "            images.append(self._load_and_pad_images(folder_path, self.image_shape))\n",
    "\n",
    "        images = np.array(images)  # Shape: (batch_size, num_views, height, width, channels)\n",
    "        batch_labels = tf.keras.utils.to_categorical(batch_labels, num_classes=self.num_classes)\n",
    "\n",
    "        # Transpose the batch to separate views as different inputs\n",
    "        images = [images[:, i, :, :, :] for i in range(self.num_views)]\n",
    "        \n",
    "        # Convert to tuple of tensors\n",
    "        images = tuple(tf.convert_to_tensor(img) for img in images)\n",
    "        batch_labels = tf.convert_to_tensor(batch_labels)\n",
    "\n",
    "        return images, batch_labels\n",
    "\n",
    "    def on_epoch_end(self):\n",
    "        self.indices = np.arange(len(self.image_paths))\n",
    "        np.random.shuffle(self.indices)\n",
    "\n",
    "    def _load_and_pad_images(self, folder_path, image_shape):\n",
    "        image_paths = [os.path.join(folder_path, f) for f in os.listdir(folder_path)\n",
    "                       if f.endswith((\".jpg\", \".jpeg\", \".png\")) and not f.startswith(\"._\")]\n",
    "\n",
    "        if not image_paths:\n",
    "            logger.error(f\"No valid images found in folder: {folder_path}\")\n",
    "            return [np.zeros((image_shape[0], image_shape[1], image_shape[2]))] * self.num_views\n",
    "\n",
    "        if len(image_paths) > self.num_views:\n",
    "            image_paths = random.sample(image_paths, self.num_views)\n",
    "\n",
    "        processed_images = []\n",
    "        for image_path in image_paths:\n",
    "            try:\n",
    "                img = load_img(image_path, target_size=image_shape)\n",
    "                img_array = img_to_array(img)\n",
    "                img_array = img_array / 255.0\n",
    "                preprocessed_img_array = preprocess_input(img_array)\n",
    "                processed_images.append(preprocessed_img_array)\n",
    "            except Exception as e:\n",
    "                logger.warning(f\"Warning: Skipping unidentifiable image file: {image_path} due to {e}\")\n",
    "                processed_images.append(np.zeros((image_shape[0], image_shape[1], image_shape[2])))\n",
    "\n",
    "        while len(processed_images) < self.num_views:\n",
    "            processed_images.append(np.zeros((image_shape[0], image_shape[1], image_shape[2])))\n",
    "\n",
    "        return np.array(processed_images)\n"
   ]
  },
  {
   "cell_type": "code",
   "execution_count": 5,
   "id": "a6a0e896",
   "metadata": {
    "execution": {
     "iopub.execute_input": "2024-06-06T15:30:11.271314Z",
     "iopub.status.busy": "2024-06-06T15:30:11.271042Z",
     "iopub.status.idle": "2024-06-06T15:30:11.365919Z",
     "shell.execute_reply": "2024-06-06T15:30:11.364798Z"
    },
    "papermill": {
     "duration": 0.102401,
     "end_time": "2024-06-06T15:30:11.368184",
     "exception": false,
     "start_time": "2024-06-06T15:30:11.265783",
     "status": "completed"
    },
    "tags": []
   },
   "outputs": [
    {
     "name": "stdout",
     "output_type": "stream",
     "text": [
      "                                                    Path Bone_type\n",
      "9666   /kaggle/input/mura-v11/MURA-v1.1/train/XR_WRIS...         1\n",
      "9719   /kaggle/input/mura-v11/MURA-v1.1/train/XR_WRIS...         1\n",
      "5328   /kaggle/input/mura-v11/MURA-v1.1/train/XR_FING...         4\n",
      "2159   /kaggle/input/mura-v11/MURA-v1.1/train/XR_SHOU...         0\n",
      "4740   /kaggle/input/mura-v11/MURA-v1.1/train/XR_FING...         4\n",
      "...                                                  ...       ...\n",
      "8405   /kaggle/input/mura-v11/MURA-v1.1/train/XR_WRIS...         1\n",
      "12424  /kaggle/input/mura-v11/MURA-v1.1/train/XR_HAND...         2\n",
      "905    /kaggle/input/mura-v11/MURA-v1.1/train/XR_SHOU...         0\n",
      "5784   /kaggle/input/mura-v11/MURA-v1.1/train/XR_ELBO...         3\n",
      "235    /kaggle/input/mura-v11/MURA-v1.1/train/XR_SHOU...         0\n",
      "\n",
      "[9590 rows x 2 columns]\n",
      "===============Done with training images===================\n",
      "===============Done with test images===================\n"
     ]
    }
   ],
   "source": [
    "bone_type_mapping = {'SHOULDER': 0, 'WRIST': 1, 'HAND': 2, 'ELBOW': 3, 'FINGER': 4}\n",
    "prefix = '/kaggle/input/mura-v11/'\n",
    "output_directory = '/kaggle/working'\n",
    "train_excel_file_path = '/kaggle/input/csv-for-multiview/Patients with bone type for multiview.csv'\n",
    "df = pd.read_csv(train_excel_file_path, header=None,names=['Path', 'Abnormal','Bone_type'])\n",
    "df = df[~df['Path'].str.contains('XR_FOREARM|XR_HUMERUS')]\n",
    "df['Bone_type'] = df['Bone_type'].map(bone_type_mapping).astype(int)\n",
    "paths = prefix + df['Path'].astype(str)\n",
    "labels = df['Bone_type']\n",
    "labels = labels.astype(str)\n",
    "t_images = pd.concat([paths, labels], axis=1)\n",
    "train_df, test_df = train_test_split(t_images, train_size=0.8, shuffle=True, random_state=1)\n",
    "print(train_df)\n",
    "print(\"===============Done with training images===================\")\n",
    "test_excel_file_path = '/kaggle/input/csv-for-multiview/validation Patients with bone type for multiview.csv'\n",
    "df = pd.read_csv(test_excel_file_path, header=None,names=['Path', 'Abnormal','Bone_type'])\n",
    "df = df[~df['Path'].str.contains('XR_FOREARM|XR_HUMERUS')]\n",
    "df['Bone_type'] = df['Bone_type'].map(bone_type_mapping).astype(int)\n",
    "paths = prefix + df['Path'].astype(str)\n",
    "labels = df['Bone_type']\n",
    "labels = labels.astype(str)\n",
    "v_images = pd.concat([paths, labels], axis=1)\n",
    "print(\"===============Done with test images===================\")"
   ]
  },
  {
   "cell_type": "code",
   "execution_count": 6,
   "id": "75cd3fb0",
   "metadata": {
    "_cell_guid": "b1076dfc-b9ad-4769-8c92-a6c4dae69d19",
    "_uuid": "8f2839f25d086af736a60e9eeb907d3b93b6e0e5",
    "execution": {
     "iopub.execute_input": "2024-06-06T15:30:11.379984Z",
     "iopub.status.busy": "2024-06-06T15:30:11.379020Z",
     "iopub.status.idle": "2024-06-06T15:30:11.389993Z",
     "shell.execute_reply": "2024-06-06T15:30:11.389112Z"
    },
    "papermill": {
     "duration": 0.018856,
     "end_time": "2024-06-06T15:30:11.392070",
     "exception": false,
     "start_time": "2024-06-06T15:30:11.373214",
     "status": "completed"
    },
    "tags": []
   },
   "outputs": [],
   "source": [
    "#Data Generators Initialization \n",
    "train_paths,train_labels = train_df['Path'] , train_df['Bone_type']\n",
    "valid_paths,valid_labels = test_df['Path'] , test_df['Bone_type']\n",
    "test_paths,test_labels = v_images['Path'] , v_images['Bone_type']\n",
    "\n",
    "train_generator = CustomDataGenerator(train_paths, train_labels, batch_size, image_shape, num_classes)\n",
    "valid_generator = CustomDataGenerator(valid_paths, valid_labels, batch_size, image_shape, num_classes)\n",
    "test_generator = CustomDataGenerator(test_paths, test_labels, batch_size, image_shape, num_classes)"
   ]
  },
  {
   "cell_type": "code",
   "execution_count": 7,
   "id": "75a3ebd0",
   "metadata": {
    "execution": {
     "iopub.execute_input": "2024-06-06T15:30:11.402655Z",
     "iopub.status.busy": "2024-06-06T15:30:11.402338Z",
     "iopub.status.idle": "2024-06-06T15:30:11.408842Z",
     "shell.execute_reply": "2024-06-06T15:30:11.407944Z"
    },
    "papermill": {
     "duration": 0.014104,
     "end_time": "2024-06-06T15:30:11.410832",
     "exception": false,
     "start_time": "2024-06-06T15:30:11.396728",
     "status": "completed"
    },
    "tags": []
   },
   "outputs": [],
   "source": [
    "#Callbacks Initialization\n",
    "checkpoint_path = '/kaggle/working/multiple_view_shoulder_v2.keras'\n",
    "Monitored_metric= 'val_loss' \n",
    "# Create an EarlyStopping callback\n",
    "early_stopping = EarlyStopping(monitor=Monitored_metric,  # The metric to monitor for early stopping\n",
    "                               patience=5,  # Number of epochs with no improvement after which training will be stopped\n",
    "                               verbose=1,  # Verbosity level\n",
    "                               restore_best_weights=True)  # Restore model weights from the epoch with the best value of the monitored metric\n",
    "\n",
    "# Create a ModelCheckpoint callback\n",
    "model_checkpoint = ModelCheckpoint(checkpoint_path,\n",
    "                                   monitor=Monitored_metric,  # The metric to monitor for saving the best model\n",
    "                                   save_best_only=True,  # Save only the best model\n",
    "                                   mode='min',  # Mode for the 'monitor' metric (e.g., 'min' for loss)\n",
    "                                   verbose=1)  # Verbosity level\n",
    "learn_control = tf.keras.callbacks.ReduceLROnPlateau(monitor=Monitored_metric, \n",
    "                                  patience=3,\n",
    "                                  verbose=1,\n",
    "                                  factor=0.2, \n",
    "                                  min_lr=1e-7)"
   ]
  },
  {
   "cell_type": "code",
   "execution_count": 8,
   "id": "3fed52bf",
   "metadata": {
    "execution": {
     "iopub.execute_input": "2024-06-06T15:30:11.421666Z",
     "iopub.status.busy": "2024-06-06T15:30:11.421368Z",
     "iopub.status.idle": "2024-06-06T15:30:11.430075Z",
     "shell.execute_reply": "2024-06-06T15:30:11.429119Z"
    },
    "papermill": {
     "duration": 0.016621,
     "end_time": "2024-06-06T15:30:11.432170",
     "exception": false,
     "start_time": "2024-06-06T15:30:11.415549",
     "status": "completed"
    },
    "tags": []
   },
   "outputs": [],
   "source": [
    "class AttentionLayer(Layer):\n",
    "    def __init__(self, **kwargs):\n",
    "        super(AttentionLayer, self).__init__(**kwargs)\n",
    "        self.dense = None\n",
    "        self.attention_weights = None\n",
    "\n",
    "    def build(self, input_shape):\n",
    "        self.dense = Dense(input_shape[-1], activation='tanh')\n",
    "        self.attention_weights = Dense(1)\n",
    "        super(AttentionLayer, self).build(input_shape)\n",
    "\n",
    "    def call(self, inputs):\n",
    "        dense_features = self.dense(inputs)\n",
    "        raw_attention_scores = self.attention_weights(dense_features)\n",
    "        attention_scores = tf.nn.softmax(raw_attention_scores, axis=1)\n",
    "        context_vector = tf.reduce_sum(attention_scores * inputs, axis=1)\n",
    "        return context_vector\n",
    "        return context_vector\n",
    "    \n",
    "class StackLayer(Layer):\n",
    "    def __init__(self, axis, **kwargs):\n",
    "        super(StackLayer, self).__init__(**kwargs)\n",
    "        self.axis = axis\n",
    "\n",
    "    def call(self, inputs):\n",
    "        return tf.stack(inputs, axis=self.axis)"
   ]
  },
  {
   "cell_type": "code",
   "execution_count": 9,
   "id": "2026ffc8",
   "metadata": {
    "execution": {
     "iopub.execute_input": "2024-06-06T15:30:11.443004Z",
     "iopub.status.busy": "2024-06-06T15:30:11.442711Z",
     "iopub.status.idle": "2024-06-06T15:30:15.806023Z",
     "shell.execute_reply": "2024-06-06T15:30:15.805168Z"
    },
    "papermill": {
     "duration": 4.371016,
     "end_time": "2024-06-06T15:30:15.808040",
     "exception": false,
     "start_time": "2024-06-06T15:30:11.437024",
     "status": "completed"
    },
    "tags": []
   },
   "outputs": [
    {
     "name": "stdout",
     "output_type": "stream",
     "text": [
      "Downloading data from https://storage.googleapis.com/keras-applications/efficientnetb0_notop.h5\n",
      "\u001b[1m16705208/16705208\u001b[0m \u001b[32m━━━━━━━━━━━━━━━━━━━━\u001b[0m\u001b[37m\u001b[0m \u001b[1m2s\u001b[0m 0us/step\n"
     ]
    },
    {
     "data": {
      "text/html": [
       "<pre style=\"white-space:pre;overflow-x:auto;line-height:normal;font-family:Menlo,'DejaVu Sans Mono',consolas,'Courier New',monospace\"><span style=\"font-weight: bold\">Model: \"functional_1\"</span>\n",
       "</pre>\n"
      ],
      "text/plain": [
       "\u001b[1mModel: \"functional_1\"\u001b[0m\n"
      ]
     },
     "metadata": {},
     "output_type": "display_data"
    },
    {
     "data": {
      "text/html": [
       "<pre style=\"white-space:pre;overflow-x:auto;line-height:normal;font-family:Menlo,'DejaVu Sans Mono',consolas,'Courier New',monospace\">┏━━━━━━━━━━━━━━━━━━━━━┳━━━━━━━━━━━━━━━━━━━┳━━━━━━━━━━━━┳━━━━━━━━━━━━━━━━━━━┓\n",
       "┃<span style=\"font-weight: bold\"> Layer (type)        </span>┃<span style=\"font-weight: bold\"> Output Shape      </span>┃<span style=\"font-weight: bold\">    Param # </span>┃<span style=\"font-weight: bold\"> Connected to      </span>┃\n",
       "┡━━━━━━━━━━━━━━━━━━━━━╇━━━━━━━━━━━━━━━━━━━╇━━━━━━━━━━━━╇━━━━━━━━━━━━━━━━━━━┩\n",
       "│ input_layer_1       │ (<span style=\"color: #00d7ff; text-decoration-color: #00d7ff\">None</span>, <span style=\"color: #00af00; text-decoration-color: #00af00\">224</span>, <span style=\"color: #00af00; text-decoration-color: #00af00\">224</span>,  │          <span style=\"color: #00af00; text-decoration-color: #00af00\">0</span> │ -                 │\n",
       "│ (<span style=\"color: #0087ff; text-decoration-color: #0087ff\">InputLayer</span>)        │ <span style=\"color: #00af00; text-decoration-color: #00af00\">3</span>)                │            │                   │\n",
       "├─────────────────────┼───────────────────┼────────────┼───────────────────┤\n",
       "│ input_layer_2       │ (<span style=\"color: #00d7ff; text-decoration-color: #00d7ff\">None</span>, <span style=\"color: #00af00; text-decoration-color: #00af00\">224</span>, <span style=\"color: #00af00; text-decoration-color: #00af00\">224</span>,  │          <span style=\"color: #00af00; text-decoration-color: #00af00\">0</span> │ -                 │\n",
       "│ (<span style=\"color: #0087ff; text-decoration-color: #0087ff\">InputLayer</span>)        │ <span style=\"color: #00af00; text-decoration-color: #00af00\">3</span>)                │            │                   │\n",
       "├─────────────────────┼───────────────────┼────────────┼───────────────────┤\n",
       "│ input_layer_3       │ (<span style=\"color: #00d7ff; text-decoration-color: #00d7ff\">None</span>, <span style=\"color: #00af00; text-decoration-color: #00af00\">224</span>, <span style=\"color: #00af00; text-decoration-color: #00af00\">224</span>,  │          <span style=\"color: #00af00; text-decoration-color: #00af00\">0</span> │ -                 │\n",
       "│ (<span style=\"color: #0087ff; text-decoration-color: #0087ff\">InputLayer</span>)        │ <span style=\"color: #00af00; text-decoration-color: #00af00\">3</span>)                │            │                   │\n",
       "├─────────────────────┼───────────────────┼────────────┼───────────────────┤\n",
       "│ input_layer_4       │ (<span style=\"color: #00d7ff; text-decoration-color: #00d7ff\">None</span>, <span style=\"color: #00af00; text-decoration-color: #00af00\">224</span>, <span style=\"color: #00af00; text-decoration-color: #00af00\">224</span>,  │          <span style=\"color: #00af00; text-decoration-color: #00af00\">0</span> │ -                 │\n",
       "│ (<span style=\"color: #0087ff; text-decoration-color: #0087ff\">InputLayer</span>)        │ <span style=\"color: #00af00; text-decoration-color: #00af00\">3</span>)                │            │                   │\n",
       "├─────────────────────┼───────────────────┼────────────┼───────────────────┤\n",
       "│ input_layer_5       │ (<span style=\"color: #00d7ff; text-decoration-color: #00d7ff\">None</span>, <span style=\"color: #00af00; text-decoration-color: #00af00\">224</span>, <span style=\"color: #00af00; text-decoration-color: #00af00\">224</span>,  │          <span style=\"color: #00af00; text-decoration-color: #00af00\">0</span> │ -                 │\n",
       "│ (<span style=\"color: #0087ff; text-decoration-color: #0087ff\">InputLayer</span>)        │ <span style=\"color: #00af00; text-decoration-color: #00af00\">3</span>)                │            │                   │\n",
       "├─────────────────────┼───────────────────┼────────────┼───────────────────┤\n",
       "│ efficientnetb0      │ (<span style=\"color: #00d7ff; text-decoration-color: #00d7ff\">None</span>, <span style=\"color: #00af00; text-decoration-color: #00af00\">7</span>, <span style=\"color: #00af00; text-decoration-color: #00af00\">7</span>,      │  <span style=\"color: #00af00; text-decoration-color: #00af00\">4,049,571</span> │ input_layer_1[<span style=\"color: #00af00; text-decoration-color: #00af00\">0</span>]… │\n",
       "│ (<span style=\"color: #0087ff; text-decoration-color: #0087ff\">Functional</span>)        │ <span style=\"color: #00af00; text-decoration-color: #00af00\">1280</span>)             │            │ input_layer_2[<span style=\"color: #00af00; text-decoration-color: #00af00\">0</span>]… │\n",
       "│                     │                   │            │ input_layer_3[<span style=\"color: #00af00; text-decoration-color: #00af00\">0</span>]… │\n",
       "│                     │                   │            │ input_layer_4[<span style=\"color: #00af00; text-decoration-color: #00af00\">0</span>]… │\n",
       "│                     │                   │            │ input_layer_5[<span style=\"color: #00af00; text-decoration-color: #00af00\">0</span>]… │\n",
       "├─────────────────────┼───────────────────┼────────────┼───────────────────┤\n",
       "│ concatenate         │ (<span style=\"color: #00d7ff; text-decoration-color: #00d7ff\">None</span>, <span style=\"color: #00af00; text-decoration-color: #00af00\">7</span>, <span style=\"color: #00af00; text-decoration-color: #00af00\">7</span>,      │          <span style=\"color: #00af00; text-decoration-color: #00af00\">0</span> │ efficientnetb0[<span style=\"color: #00af00; text-decoration-color: #00af00\">0</span>… │\n",
       "│ (<span style=\"color: #0087ff; text-decoration-color: #0087ff\">Concatenate</span>)       │ <span style=\"color: #00af00; text-decoration-color: #00af00\">6400</span>)             │            │ efficientnetb0[<span style=\"color: #00af00; text-decoration-color: #00af00\">1</span>… │\n",
       "│                     │                   │            │ efficientnetb0[<span style=\"color: #00af00; text-decoration-color: #00af00\">2</span>… │\n",
       "│                     │                   │            │ efficientnetb0[<span style=\"color: #00af00; text-decoration-color: #00af00\">3</span>… │\n",
       "│                     │                   │            │ efficientnetb0[<span style=\"color: #00af00; text-decoration-color: #00af00\">4</span>… │\n",
       "├─────────────────────┼───────────────────┼────────────┼───────────────────┤\n",
       "│ global_average_poo… │ (<span style=\"color: #00d7ff; text-decoration-color: #00d7ff\">None</span>, <span style=\"color: #00af00; text-decoration-color: #00af00\">6400</span>)      │          <span style=\"color: #00af00; text-decoration-color: #00af00\">0</span> │ concatenate[<span style=\"color: #00af00; text-decoration-color: #00af00\">0</span>][<span style=\"color: #00af00; text-decoration-color: #00af00\">0</span>] │\n",
       "│ (<span style=\"color: #0087ff; text-decoration-color: #0087ff\">GlobalAveragePool…</span> │                   │            │                   │\n",
       "├─────────────────────┼───────────────────┼────────────┼───────────────────┤\n",
       "│ dense (<span style=\"color: #0087ff; text-decoration-color: #0087ff\">Dense</span>)       │ (<span style=\"color: #00d7ff; text-decoration-color: #00d7ff\">None</span>, <span style=\"color: #00af00; text-decoration-color: #00af00\">512</span>)       │  <span style=\"color: #00af00; text-decoration-color: #00af00\">3,277,312</span> │ global_average_p… │\n",
       "├─────────────────────┼───────────────────┼────────────┼───────────────────┤\n",
       "│ dropout (<span style=\"color: #0087ff; text-decoration-color: #0087ff\">Dropout</span>)   │ (<span style=\"color: #00d7ff; text-decoration-color: #00d7ff\">None</span>, <span style=\"color: #00af00; text-decoration-color: #00af00\">512</span>)       │          <span style=\"color: #00af00; text-decoration-color: #00af00\">0</span> │ dense[<span style=\"color: #00af00; text-decoration-color: #00af00\">0</span>][<span style=\"color: #00af00; text-decoration-color: #00af00\">0</span>]       │\n",
       "├─────────────────────┼───────────────────┼────────────┼───────────────────┤\n",
       "│ dense_1 (<span style=\"color: #0087ff; text-decoration-color: #0087ff\">Dense</span>)     │ (<span style=\"color: #00d7ff; text-decoration-color: #00d7ff\">None</span>, <span style=\"color: #00af00; text-decoration-color: #00af00\">5</span>)         │      <span style=\"color: #00af00; text-decoration-color: #00af00\">2,565</span> │ dropout[<span style=\"color: #00af00; text-decoration-color: #00af00\">0</span>][<span style=\"color: #00af00; text-decoration-color: #00af00\">0</span>]     │\n",
       "└─────────────────────┴───────────────────┴────────────┴───────────────────┘\n",
       "</pre>\n"
      ],
      "text/plain": [
       "┏━━━━━━━━━━━━━━━━━━━━━┳━━━━━━━━━━━━━━━━━━━┳━━━━━━━━━━━━┳━━━━━━━━━━━━━━━━━━━┓\n",
       "┃\u001b[1m \u001b[0m\u001b[1mLayer (type)       \u001b[0m\u001b[1m \u001b[0m┃\u001b[1m \u001b[0m\u001b[1mOutput Shape     \u001b[0m\u001b[1m \u001b[0m┃\u001b[1m \u001b[0m\u001b[1m   Param #\u001b[0m\u001b[1m \u001b[0m┃\u001b[1m \u001b[0m\u001b[1mConnected to     \u001b[0m\u001b[1m \u001b[0m┃\n",
       "┡━━━━━━━━━━━━━━━━━━━━━╇━━━━━━━━━━━━━━━━━━━╇━━━━━━━━━━━━╇━━━━━━━━━━━━━━━━━━━┩\n",
       "│ input_layer_1       │ (\u001b[38;5;45mNone\u001b[0m, \u001b[38;5;34m224\u001b[0m, \u001b[38;5;34m224\u001b[0m,  │          \u001b[38;5;34m0\u001b[0m │ -                 │\n",
       "│ (\u001b[38;5;33mInputLayer\u001b[0m)        │ \u001b[38;5;34m3\u001b[0m)                │            │                   │\n",
       "├─────────────────────┼───────────────────┼────────────┼───────────────────┤\n",
       "│ input_layer_2       │ (\u001b[38;5;45mNone\u001b[0m, \u001b[38;5;34m224\u001b[0m, \u001b[38;5;34m224\u001b[0m,  │          \u001b[38;5;34m0\u001b[0m │ -                 │\n",
       "│ (\u001b[38;5;33mInputLayer\u001b[0m)        │ \u001b[38;5;34m3\u001b[0m)                │            │                   │\n",
       "├─────────────────────┼───────────────────┼────────────┼───────────────────┤\n",
       "│ input_layer_3       │ (\u001b[38;5;45mNone\u001b[0m, \u001b[38;5;34m224\u001b[0m, \u001b[38;5;34m224\u001b[0m,  │          \u001b[38;5;34m0\u001b[0m │ -                 │\n",
       "│ (\u001b[38;5;33mInputLayer\u001b[0m)        │ \u001b[38;5;34m3\u001b[0m)                │            │                   │\n",
       "├─────────────────────┼───────────────────┼────────────┼───────────────────┤\n",
       "│ input_layer_4       │ (\u001b[38;5;45mNone\u001b[0m, \u001b[38;5;34m224\u001b[0m, \u001b[38;5;34m224\u001b[0m,  │          \u001b[38;5;34m0\u001b[0m │ -                 │\n",
       "│ (\u001b[38;5;33mInputLayer\u001b[0m)        │ \u001b[38;5;34m3\u001b[0m)                │            │                   │\n",
       "├─────────────────────┼───────────────────┼────────────┼───────────────────┤\n",
       "│ input_layer_5       │ (\u001b[38;5;45mNone\u001b[0m, \u001b[38;5;34m224\u001b[0m, \u001b[38;5;34m224\u001b[0m,  │          \u001b[38;5;34m0\u001b[0m │ -                 │\n",
       "│ (\u001b[38;5;33mInputLayer\u001b[0m)        │ \u001b[38;5;34m3\u001b[0m)                │            │                   │\n",
       "├─────────────────────┼───────────────────┼────────────┼───────────────────┤\n",
       "│ efficientnetb0      │ (\u001b[38;5;45mNone\u001b[0m, \u001b[38;5;34m7\u001b[0m, \u001b[38;5;34m7\u001b[0m,      │  \u001b[38;5;34m4,049,571\u001b[0m │ input_layer_1[\u001b[38;5;34m0\u001b[0m]… │\n",
       "│ (\u001b[38;5;33mFunctional\u001b[0m)        │ \u001b[38;5;34m1280\u001b[0m)             │            │ input_layer_2[\u001b[38;5;34m0\u001b[0m]… │\n",
       "│                     │                   │            │ input_layer_3[\u001b[38;5;34m0\u001b[0m]… │\n",
       "│                     │                   │            │ input_layer_4[\u001b[38;5;34m0\u001b[0m]… │\n",
       "│                     │                   │            │ input_layer_5[\u001b[38;5;34m0\u001b[0m]… │\n",
       "├─────────────────────┼───────────────────┼────────────┼───────────────────┤\n",
       "│ concatenate         │ (\u001b[38;5;45mNone\u001b[0m, \u001b[38;5;34m7\u001b[0m, \u001b[38;5;34m7\u001b[0m,      │          \u001b[38;5;34m0\u001b[0m │ efficientnetb0[\u001b[38;5;34m0\u001b[0m… │\n",
       "│ (\u001b[38;5;33mConcatenate\u001b[0m)       │ \u001b[38;5;34m6400\u001b[0m)             │            │ efficientnetb0[\u001b[38;5;34m1\u001b[0m… │\n",
       "│                     │                   │            │ efficientnetb0[\u001b[38;5;34m2\u001b[0m… │\n",
       "│                     │                   │            │ efficientnetb0[\u001b[38;5;34m3\u001b[0m… │\n",
       "│                     │                   │            │ efficientnetb0[\u001b[38;5;34m4\u001b[0m… │\n",
       "├─────────────────────┼───────────────────┼────────────┼───────────────────┤\n",
       "│ global_average_poo… │ (\u001b[38;5;45mNone\u001b[0m, \u001b[38;5;34m6400\u001b[0m)      │          \u001b[38;5;34m0\u001b[0m │ concatenate[\u001b[38;5;34m0\u001b[0m][\u001b[38;5;34m0\u001b[0m] │\n",
       "│ (\u001b[38;5;33mGlobalAveragePool…\u001b[0m │                   │            │                   │\n",
       "├─────────────────────┼───────────────────┼────────────┼───────────────────┤\n",
       "│ dense (\u001b[38;5;33mDense\u001b[0m)       │ (\u001b[38;5;45mNone\u001b[0m, \u001b[38;5;34m512\u001b[0m)       │  \u001b[38;5;34m3,277,312\u001b[0m │ global_average_p… │\n",
       "├─────────────────────┼───────────────────┼────────────┼───────────────────┤\n",
       "│ dropout (\u001b[38;5;33mDropout\u001b[0m)   │ (\u001b[38;5;45mNone\u001b[0m, \u001b[38;5;34m512\u001b[0m)       │          \u001b[38;5;34m0\u001b[0m │ dense[\u001b[38;5;34m0\u001b[0m][\u001b[38;5;34m0\u001b[0m]       │\n",
       "├─────────────────────┼───────────────────┼────────────┼───────────────────┤\n",
       "│ dense_1 (\u001b[38;5;33mDense\u001b[0m)     │ (\u001b[38;5;45mNone\u001b[0m, \u001b[38;5;34m5\u001b[0m)         │      \u001b[38;5;34m2,565\u001b[0m │ dropout[\u001b[38;5;34m0\u001b[0m][\u001b[38;5;34m0\u001b[0m]     │\n",
       "└─────────────────────┴───────────────────┴────────────┴───────────────────┘\n"
      ]
     },
     "metadata": {},
     "output_type": "display_data"
    },
    {
     "data": {
      "text/html": [
       "<pre style=\"white-space:pre;overflow-x:auto;line-height:normal;font-family:Menlo,'DejaVu Sans Mono',consolas,'Courier New',monospace\"><span style=\"font-weight: bold\"> Total params: </span><span style=\"color: #00af00; text-decoration-color: #00af00\">7,329,448</span> (27.96 MB)\n",
       "</pre>\n"
      ],
      "text/plain": [
       "\u001b[1m Total params: \u001b[0m\u001b[38;5;34m7,329,448\u001b[0m (27.96 MB)\n"
      ]
     },
     "metadata": {},
     "output_type": "display_data"
    },
    {
     "data": {
      "text/html": [
       "<pre style=\"white-space:pre;overflow-x:auto;line-height:normal;font-family:Menlo,'DejaVu Sans Mono',consolas,'Courier New',monospace\"><span style=\"font-weight: bold\"> Trainable params: </span><span style=\"color: #00af00; text-decoration-color: #00af00\">3,279,877</span> (12.51 MB)\n",
       "</pre>\n"
      ],
      "text/plain": [
       "\u001b[1m Trainable params: \u001b[0m\u001b[38;5;34m3,279,877\u001b[0m (12.51 MB)\n"
      ]
     },
     "metadata": {},
     "output_type": "display_data"
    },
    {
     "data": {
      "text/html": [
       "<pre style=\"white-space:pre;overflow-x:auto;line-height:normal;font-family:Menlo,'DejaVu Sans Mono',consolas,'Courier New',monospace\"><span style=\"font-weight: bold\"> Non-trainable params: </span><span style=\"color: #00af00; text-decoration-color: #00af00\">4,049,571</span> (15.45 MB)\n",
       "</pre>\n"
      ],
      "text/plain": [
       "\u001b[1m Non-trainable params: \u001b[0m\u001b[38;5;34m4,049,571\u001b[0m (15.45 MB)\n"
      ]
     },
     "metadata": {},
     "output_type": "display_data"
    }
   ],
   "source": [
    "from tensorflow.keras.models import Model\n",
    "#Model Architecture\n",
    "base_model = EfficientNetB0(weights='imagenet', include_top=False, input_shape=image_shape)\n",
    "\n",
    "for layer in base_model.layers:\n",
    "    layer.trainable = False\n",
    "\n",
    "encoded_views = []\n",
    "# Pass each view through the base model\n",
    "inputs = [Input(shape=image_shape) for _ in range(num_views)]\n",
    "for view_input in inputs:\n",
    "    x = base_model(view_input)\n",
    "    encoded_views.append(x)\n",
    "\n",
    "# Flatten the list of lists into a single list of tensors\n",
    "concatenated_features = layers.Concatenate(axis=-1)(encoded_views)\n",
    "x = layers.GlobalAveragePooling2D()(concatenated_features)\n",
    "\n",
    "# Add your custom layers on top of the base model \n",
    "x = layers.Dense(512, activation='relu')(x)\n",
    "x = layers.Dropout(0.5)(x)\n",
    "predictions = layers.Dense(num_classes, activation=\"softmax\")(x)\n",
    "# Create the model\n",
    "model = keras.Model(inputs=inputs, outputs=predictions)\n",
    "\n",
    "# Compile the model\n",
    "model.compile(optimizer=\"nadam\", loss='categorical_crossentropy', metrics=[\"accuracy\",\"recall\"])\n",
    "\n",
    "model.summary()"
   ]
  },
  {
   "cell_type": "code",
   "execution_count": 10,
   "id": "754b9703",
   "metadata": {
    "execution": {
     "iopub.execute_input": "2024-06-06T15:30:15.826029Z",
     "iopub.status.busy": "2024-06-06T15:30:15.825277Z",
     "iopub.status.idle": "2024-06-06T17:13:12.748261Z",
     "shell.execute_reply": "2024-06-06T17:13:12.747394Z"
    },
    "papermill": {
     "duration": 6176.934436,
     "end_time": "2024-06-06T17:13:12.750536",
     "exception": false,
     "start_time": "2024-06-06T15:30:15.816100",
     "status": "completed"
    },
    "tags": []
   },
   "outputs": [
    {
     "name": "stdout",
     "output_type": "stream",
     "text": [
      "Epoch 1/50\n"
     ]
    },
    {
     "name": "stderr",
     "output_type": "stream",
     "text": [
      "WARNING: All log messages before absl::InitializeLog() is called are written to STDERR\n",
      "I0000 00:00:1717687990.321168      68 device_compiler.h:186] Compiled cluster using XLA!  This line is logged at most once for the lifetime of the process.\n",
      "W0000 00:00:1717687990.553854      68 graph_launch.cc:671] Fallback to op-by-op mode because memset node breaks graph update\n",
      "W0000 00:00:1717688380.990137      69 graph_launch.cc:671] Fallback to op-by-op mode because memset node breaks graph update\n"
     ]
    },
    {
     "name": "stdout",
     "output_type": "stream",
     "text": [
      "\n",
      "Epoch 1: val_loss improved from inf to 1.49504, saving model to /kaggle/working/multiple_view_shoulder_v2.keras\n",
      "299/299 - 647s - 2s/step - accuracy: 0.2999 - loss: 1.5558 - recall: 0.0184 - val_accuracy: 0.3399 - val_loss: 1.4950 - val_recall: 0.0000e+00 - learning_rate: 0.0010\n",
      "Epoch 2/50\n",
      "\n",
      "Epoch 2: val_loss improved from 1.49504 to 1.48157, saving model to /kaggle/working/multiple_view_shoulder_v2.keras\n",
      "299/299 - 343s - 1s/step - accuracy: 0.3151 - loss: 1.5280 - recall: 0.0146 - val_accuracy: 0.3395 - val_loss: 1.4816 - val_recall: 0.0000e+00 - learning_rate: 0.0010\n",
      "Epoch 3/50\n",
      "\n",
      "Epoch 3: val_loss improved from 1.48157 to 1.47413, saving model to /kaggle/working/multiple_view_shoulder_v2.keras\n",
      "299/299 - 364s - 1s/step - accuracy: 0.3218 - loss: 1.5208 - recall: 0.0143 - val_accuracy: 0.3378 - val_loss: 1.4741 - val_recall: 0.0000e+00 - learning_rate: 0.0010\n",
      "Epoch 4/50\n",
      "\n",
      "Epoch 4: val_loss did not improve from 1.47413\n",
      "299/299 - 349s - 1s/step - accuracy: 0.3247 - loss: 1.5143 - recall: 0.0151 - val_accuracy: 0.3361 - val_loss: 1.4779 - val_recall: 0.0000e+00 - learning_rate: 0.0010\n",
      "Epoch 5/50\n",
      "\n",
      "Epoch 5: val_loss did not improve from 1.47413\n",
      "299/299 - 349s - 1s/step - accuracy: 0.3244 - loss: 1.5171 - recall: 0.0193 - val_accuracy: 0.3383 - val_loss: 1.4786 - val_recall: 0.0000e+00 - learning_rate: 0.0010\n",
      "Epoch 6/50\n",
      "\n",
      "Epoch 6: val_loss did not improve from 1.47413\n",
      "\n",
      "Epoch 6: ReduceLROnPlateau reducing learning rate to 0.00020000000949949026.\n",
      "299/299 - 338s - 1s/step - accuracy: 0.3251 - loss: 1.5106 - recall: 0.0171 - val_accuracy: 0.3311 - val_loss: 1.4758 - val_recall: 0.0000e+00 - learning_rate: 0.0010\n",
      "Epoch 7/50\n",
      "\n",
      "Epoch 7: val_loss improved from 1.47413 to 1.46700, saving model to /kaggle/working/multiple_view_shoulder_v2.keras\n",
      "299/299 - 343s - 1s/step - accuracy: 0.3250 - loss: 1.5072 - recall: 0.0184 - val_accuracy: 0.3374 - val_loss: 1.4670 - val_recall: 0.0000e+00 - learning_rate: 2.0000e-04\n",
      "Epoch 8/50\n",
      "\n",
      "Epoch 8: val_loss did not improve from 1.46700\n",
      "299/299 - 346s - 1s/step - accuracy: 0.3300 - loss: 1.5065 - recall: 0.0210 - val_accuracy: 0.3378 - val_loss: 1.4698 - val_recall: 0.0000e+00 - learning_rate: 2.0000e-04\n",
      "Epoch 9/50\n",
      "\n",
      "Epoch 9: val_loss improved from 1.46700 to 1.46498, saving model to /kaggle/working/multiple_view_shoulder_v2.keras\n",
      "299/299 - 344s - 1s/step - accuracy: 0.3240 - loss: 1.5050 - recall: 0.0159 - val_accuracy: 0.3395 - val_loss: 1.4650 - val_recall: 0.0000e+00 - learning_rate: 2.0000e-04\n",
      "Epoch 10/50\n",
      "\n",
      "Epoch 10: val_loss did not improve from 1.46498\n",
      "299/299 - 340s - 1s/step - accuracy: 0.3258 - loss: 1.5061 - recall: 0.0177 - val_accuracy: 0.3353 - val_loss: 1.4660 - val_recall: 0.0000e+00 - learning_rate: 2.0000e-04\n",
      "Epoch 11/50\n",
      "\n",
      "Epoch 11: val_loss did not improve from 1.46498\n",
      "299/299 - 340s - 1s/step - accuracy: 0.3294 - loss: 1.5049 - recall: 0.0199 - val_accuracy: 0.3370 - val_loss: 1.4674 - val_recall: 0.0000e+00 - learning_rate: 2.0000e-04\n",
      "Epoch 12/50\n",
      "\n",
      "Epoch 12: val_loss improved from 1.46498 to 1.46443, saving model to /kaggle/working/multiple_view_shoulder_v2.keras\n",
      "299/299 - 347s - 1s/step - accuracy: 0.3294 - loss: 1.5020 - recall: 0.0207 - val_accuracy: 0.3395 - val_loss: 1.4644 - val_recall: 0.0000e+00 - learning_rate: 2.0000e-04\n",
      "Epoch 13/50\n",
      "\n",
      "Epoch 13: val_loss did not improve from 1.46443\n",
      "299/299 - 350s - 1s/step - accuracy: 0.3317 - loss: 1.5060 - recall: 0.0218 - val_accuracy: 0.3378 - val_loss: 1.4668 - val_recall: 0.0000e+00 - learning_rate: 2.0000e-04\n",
      "Epoch 14/50\n",
      "\n",
      "Epoch 14: val_loss did not improve from 1.46443\n",
      "299/299 - 342s - 1s/step - accuracy: 0.3259 - loss: 1.5063 - recall: 0.0160 - val_accuracy: 0.3370 - val_loss: 1.4669 - val_recall: 0.0000e+00 - learning_rate: 2.0000e-04\n",
      "Epoch 15/50\n",
      "\n",
      "Epoch 15: val_loss did not improve from 1.46443\n",
      "\n",
      "Epoch 15: ReduceLROnPlateau reducing learning rate to 4.0000001899898055e-05.\n",
      "299/299 - 340s - 1s/step - accuracy: 0.3288 - loss: 1.5044 - recall: 0.0195 - val_accuracy: 0.3383 - val_loss: 1.4670 - val_recall: 0.0000e+00 - learning_rate: 2.0000e-04\n",
      "Epoch 16/50\n",
      "\n",
      "Epoch 16: val_loss did not improve from 1.46443\n",
      "299/299 - 349s - 1s/step - accuracy: 0.3257 - loss: 1.5052 - recall: 0.0183 - val_accuracy: 0.3383 - val_loss: 1.4670 - val_recall: 0.0000e+00 - learning_rate: 4.0000e-05\n",
      "Epoch 17/50\n",
      "\n",
      "Epoch 17: val_loss did not improve from 1.46443\n",
      "299/299 - 343s - 1s/step - accuracy: 0.3291 - loss: 1.5024 - recall: 0.0191 - val_accuracy: 0.3383 - val_loss: 1.4661 - val_recall: 0.0000e+00 - learning_rate: 4.0000e-05\n",
      "Epoch 17: early stopping\n",
      "Restoring model weights from the end of the best epoch: 12.\n"
     ]
    }
   ],
   "source": [
    "history = model.fit(train_generator,\n",
    "                    validation_data=valid_generator,\n",
    "                    callbacks=[early_stopping, model_checkpoint, learn_control],\n",
    "                    epochs=50,\n",
    "                    verbose=2)"
   ]
  },
  {
   "cell_type": "code",
   "execution_count": 11,
   "id": "0602e199",
   "metadata": {
    "execution": {
     "iopub.execute_input": "2024-06-06T17:13:12.776677Z",
     "iopub.status.busy": "2024-06-06T17:13:12.776337Z",
     "iopub.status.idle": "2024-06-06T17:13:13.261758Z",
     "shell.execute_reply": "2024-06-06T17:13:13.260848Z"
    },
    "papermill": {
     "duration": 0.500481,
     "end_time": "2024-06-06T17:13:13.263736",
     "exception": false,
     "start_time": "2024-06-06T17:13:12.763255",
     "status": "completed"
    },
    "tags": []
   },
   "outputs": [
    {
     "data": {
      "text/plain": [
       "<Axes: >"
      ]
     },
     "execution_count": 11,
     "metadata": {},
     "output_type": "execute_result"
    },
    {
     "data": {
      "image/png": "[encoded data removed]",
      "text/plain": [
       "<Figure size 640x480 with 1 Axes>"
      ]
     },
     "metadata": {},
     "output_type": "display_data"
    },
    {
     "data": {
      "image/png": "[encoded data removed]",
      "text/plain": [
       "<Figure size 640x480 with 1 Axes>"
      ]
     },
     "metadata": {},
     "output_type": "display_data"
    }
   ],
   "source": [
    "history_df = pd.DataFrame(history.history)\n",
    "history_df[['loss', 'val_loss']].plot()\n",
    "history_df[['accuracy','recall']].plot()"
   ]
  },
  {
   "cell_type": "code",
   "execution_count": 12,
   "id": "d146f591",
   "metadata": {
    "execution": {
     "iopub.execute_input": "2024-06-06T17:13:13.291788Z",
     "iopub.status.busy": "2024-06-06T17:13:13.290959Z",
     "iopub.status.idle": "2024-06-06T17:13:51.389844Z",
     "shell.execute_reply": "2024-06-06T17:13:51.388838Z"
    },
    "papermill": {
     "duration": 38.114823,
     "end_time": "2024-06-06T17:13:51.391934",
     "exception": false,
     "start_time": "2024-06-06T17:13:13.277111",
     "status": "completed"
    },
    "tags": []
   },
   "outputs": [
    {
     "name": "stdout",
     "output_type": "stream",
     "text": [
      "\u001b[1m29/29\u001b[0m \u001b[32m━━━━━━━━━━━━━━━━━━━━\u001b[0m\u001b[37m\u001b[0m \u001b[1m36s\u001b[0m 1s/step - accuracy: 0.3163 - loss: 1.4929 - recall: 0.0000e+00\n",
      "Loss: 1.509750485420227\n",
      "Accuracy: 0.28663793206214905\n"
     ]
    }
   ],
   "source": [
    "loss, accuracy,recall = model.evaluate(test_generator)\n",
    "print(f\"Loss: {loss}\")\n",
    "print(f\"Accuracy: {accuracy}\")"
   ]
  }
 ],
 "metadata": {
  "kaggle": {
   "accelerator": "gpu",
   "dataSources": [
    {
     "datasetId": 427555,
     "sourceId": 813639,
     "sourceType": "datasetVersion"
    },
    {
     "datasetId": 4776881,
     "sourceId": 8091050,
     "sourceType": "datasetVersion"
    },
    {
     "datasetId": 5064664,
     "sourceId": 8489424,
     "sourceType": "datasetVersion"
    }
   ],
   "dockerImageVersionId": 30699,
   "isGpuEnabled": true,
   "isInternetEnabled": true,
   "language": "python",
   "sourceType": "notebook"
  },
  "kernelspec": {
   "display_name": "Python 3",
   "language": "python",
   "name": "python3"
  },
  "language_info": {
   "codemirror_mode": {
    "name": "ipython",
    "version": 3
   },
   "file_extension": ".py",
   "mimetype": "text/x-python",
   "name": "python",
   "nbconvert_exporter": "python",
   "pygments_lexer": "ipython3",
   "version": "3.10.13"
  },
  "papermill": {
   "default_parameters": {},
   "duration": 6238.927603,
   "end_time": "2024-06-06T17:13:54.599869",
   "environment_variables": {},
   "exception": null,
   "input_path": "__notebook__.ipynb",
   "output_path": "__notebook__.ipynb",
   "parameters": {},
   "start_time": "2024-06-06T15:29:55.672266",
   "version": "2.5.0"
  }
 },
 "nbformat": 4,
 "nbformat_minor": 5
}
