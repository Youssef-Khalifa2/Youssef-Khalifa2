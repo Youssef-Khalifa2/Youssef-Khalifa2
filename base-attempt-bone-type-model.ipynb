{
 "cells": [
  {
   "cell_type": "code",
   "execution_count": 1,
   "id": "1ccd5c81",
   "metadata": {
    "execution": {
     "iopub.execute_input": "2024-06-08T10:10:10.165255Z",
     "iopub.status.busy": "2024-06-08T10:10:10.164450Z",
     "iopub.status.idle": "2024-06-08T10:10:23.712904Z",
     "shell.execute_reply": "2024-06-08T10:10:23.711990Z"
    },
    "papermill": {
     "duration": 13.557532,
     "end_time": "2024-06-08T10:10:23.715296",
     "exception": false,
     "start_time": "2024-06-08T10:10:10.157764",
     "status": "completed"
    },
    "tags": []
   },
   "outputs": [
    {
     "name": "stderr",
     "output_type": "stream",
     "text": [
      "2024-06-08 10:10:12.138399: E external/local_xla/xla/stream_executor/cuda/cuda_dnn.cc:9261] Unable to register cuDNN factory: Attempting to register factory for plugin cuDNN when one has already been registered\n",
      "2024-06-08 10:10:12.138505: E external/local_xla/xla/stream_executor/cuda/cuda_fft.cc:607] Unable to register cuFFT factory: Attempting to register factory for plugin cuFFT when one has already been registered\n",
      "2024-06-08 10:10:12.263992: E external/local_xla/xla/stream_executor/cuda/cuda_blas.cc:1515] Unable to register cuBLAS factory: Attempting to register factory for plugin cuBLAS when one has already been registered\n"
     ]
    }
   ],
   "source": [
    "import os\n",
    "import cv2\n",
    "import keras\n",
    "import shutil\n",
    "import random\n",
    "import gc\n",
    "import numpy as np\n",
    "import pandas as pd \n",
    "import tensorflow as tf\n",
    "from PIL import Image, UnidentifiedImageError\n",
    "from tensorflow.keras.preprocessing.image import load_img, img_to_array\n",
    "from tensorflow.keras.layers import Input, Average, Dense ,Layer\n",
    "from tensorflow.keras.layers import Dropout, GlobalAveragePooling2D, BatchNormalization\n",
    "from tensorflow.keras.regularizers import l2\n",
    "from tensorflow.keras.layers import Concatenate, GlobalAveragePooling2D\n",
    "from sklearn.model_selection import train_test_split\n",
    "from keras.callbacks import EarlyStopping, ModelCheckpoint, LearningRateScheduler, TensorBoard\n",
    "from keras.layers import Concatenate\n",
    "from keras.models import load_model\n",
    "from tensorflow.keras.applications import Xception,EfficientNetB0\n",
    "from tensorflow.keras.utils import Sequence\n",
    "from tensorflow.keras import mixed_precision , applications,layers\n",
    "from keras.applications.resnet50 import preprocess_input\n",
    "mixed_precision.set_global_policy('mixed_float16')"
   ]
  },
  {
   "cell_type": "code",
   "execution_count": 2,
   "id": "99359722",
   "metadata": {
    "execution": {
     "iopub.execute_input": "2024-06-08T10:10:23.726536Z",
     "iopub.status.busy": "2024-06-08T10:10:23.725979Z",
     "iopub.status.idle": "2024-06-08T10:10:23.730648Z",
     "shell.execute_reply": "2024-06-08T10:10:23.729849Z"
    },
    "papermill": {
     "duration": 0.01233,
     "end_time": "2024-06-08T10:10:23.732657",
     "exception": false,
     "start_time": "2024-06-08T10:10:23.720327",
     "status": "completed"
    },
    "tags": []
   },
   "outputs": [],
   "source": [
    "image_shape = (224, 224, 3)\n",
    "num_classes = 5  \n",
    "num_views = 7\n",
    "batch_size = 32"
   ]
  },
  {
   "cell_type": "code",
   "execution_count": 3,
   "id": "ffc4a551",
   "metadata": {
    "execution": {
     "iopub.execute_input": "2024-06-08T10:10:23.743226Z",
     "iopub.status.busy": "2024-06-08T10:10:23.742924Z",
     "iopub.status.idle": "2024-06-08T10:10:23.749789Z",
     "shell.execute_reply": "2024-06-08T10:10:23.748967Z"
    },
    "papermill": {
     "duration": 0.014328,
     "end_time": "2024-06-08T10:10:23.751757",
     "exception": false,
     "start_time": "2024-06-08T10:10:23.737429",
     "status": "completed"
    },
    "tags": []
   },
   "outputs": [
    {
     "data": {
      "text/plain": [
       "'# Source path of the model\\nsource_path = \"/kaggle/input/bone-type-midway-multi/keras/v2_eli_begad_7-6/3/multiple_view_shoulder_v2 (1).keras\"\\n\\n# Destination path where you can write\\ndestination_path = \"/kaggle/working/model.keras\"\\n\\n# Copy the model file\\nshutil.copyfile(source_path, destination_path)\\n\\n# Now load the model from the copied file\\nbase_model = load_model(destination_path)'"
      ]
     },
     "execution_count": 3,
     "metadata": {},
     "output_type": "execute_result"
    }
   ],
   "source": [
    "'''# Source path of the model\n",
    "source_path = \"/kaggle/input/bone-type-midway-multi/keras/v2_eli_begad_7-6/3/multiple_view_shoulder_v2 (1).keras\"\n",
    "\n",
    "# Destination path where you can write\n",
    "destination_path = \"/kaggle/working/model.keras\"\n",
    "\n",
    "# Copy the model file\n",
    "shutil.copyfile(source_path, destination_path)\n",
    "\n",
    "# Now load the model from the copied file\n",
    "base_model = load_model(destination_path)'''"
   ]
  },
  {
   "cell_type": "code",
   "execution_count": 4,
   "id": "aff1712f",
   "metadata": {
    "execution": {
     "iopub.execute_input": "2024-06-08T10:10:23.762298Z",
     "iopub.status.busy": "2024-06-08T10:10:23.761981Z",
     "iopub.status.idle": "2024-06-08T10:10:23.778921Z",
     "shell.execute_reply": "2024-06-08T10:10:23.778262Z"
    },
    "papermill": {
     "duration": 0.024414,
     "end_time": "2024-06-08T10:10:23.780812",
     "exception": false,
     "start_time": "2024-06-08T10:10:23.756398",
     "status": "completed"
    },
    "tags": []
   },
   "outputs": [],
   "source": [
    "class CustomDataGenerator(Sequence):\n",
    "    def __init__(self, image_paths, labels, batch_size, image_shape, num_classes, num_views=num_views):\n",
    "        super().__init__()\n",
    "        self.image_paths = list(image_paths)\n",
    "        self.labels = list(labels)\n",
    "        self.batch_size = batch_size\n",
    "        self.image_shape = image_shape\n",
    "        self.num_classes = num_classes\n",
    "        self.num_views = num_views\n",
    "        self.on_epoch_end()\n",
    "\n",
    "    def __len__(self):\n",
    "        return int(np.floor(len(self.image_paths) / self.batch_size))\n",
    "\n",
    "    def __getitem__(self, index):\n",
    "        indices = self.indices[index * self.batch_size:(index + 1) * self.batch_size]\n",
    "        batch_image_paths = [self.image_paths[i] for i in indices]\n",
    "        batch_labels = [self.labels[i] for i in indices]\n",
    "\n",
    "        images = []\n",
    "        for folder_path in batch_image_paths:\n",
    "            images.append(self._load_and_pad_images(folder_path, self.image_shape))\n",
    "\n",
    "        images = np.array(images)  # Shape: (batch_size, num_views, height, width, channels)\n",
    "        batch_labels = tf.keras.utils.to_categorical(batch_labels, num_classes=self.num_classes)\n",
    "\n",
    "        # Transpose the batch to separate views as different inputs\n",
    "        images = [images[:, i, :, :, :] for i in range(self.num_views)]\n",
    "        \n",
    "        # Convert to tuple of tensors\n",
    "        images = tuple(tf.convert_to_tensor(img) for img in images)\n",
    "        batch_labels = tf.convert_to_tensor(batch_labels)\n",
    "\n",
    "        return images, batch_labels\n",
    "\n",
    "    def on_epoch_end(self):\n",
    "        self.indices = np.arange(len(self.image_paths))\n",
    "        np.random.shuffle(self.indices)\n",
    "\n",
    "    def _load_and_pad_images(self, folder_path, image_shape):\n",
    "        image_paths = [os.path.join(folder_path, f) for f in os.listdir(folder_path)\n",
    "                       if f.endswith((\".jpg\", \".jpeg\", \".png\")) and not f.startswith(\"._\")]\n",
    "\n",
    "        if not image_paths:\n",
    "            logger.error(f\"No valid images found in folder: {folder_path}\")\n",
    "            return [np.zeros((image_shape[0], image_shape[1], image_shape[2]))] * self.num_views\n",
    "\n",
    "        if len(image_paths) > self.num_views:\n",
    "            image_paths = random.sample(image_paths, self.num_views)\n",
    "\n",
    "        processed_images = []\n",
    "        for image_path in image_paths:\n",
    "            try:\n",
    "                img = load_img(image_path, target_size=image_shape)\n",
    "                img_array = img_to_array(img)\n",
    "                img_array = img_array / 255.0\n",
    "                preprocessed_img_array = preprocess_input(img_array)\n",
    "                processed_images.append(preprocessed_img_array)\n",
    "            except Exception as e:\n",
    "                logger.warning(f\"Warning: Skipping unidentifiable image file: {image_path} due to {e}\")\n",
    "                processed_images.append(np.zeros((image_shape[0], image_shape[1], image_shape[2])))\n",
    "\n",
    "        while len(processed_images) < self.num_views:\n",
    "            processed_images.append(np.zeros((image_shape[0], image_shape[1], image_shape[2])))\n",
    "\n",
    "        return np.array(processed_images)\n"
   ]
  },
  {
   "cell_type": "code",
   "execution_count": 5,
   "id": "e957a5ff",
   "metadata": {
    "execution": {
     "iopub.execute_input": "2024-06-08T10:10:23.791148Z",
     "iopub.status.busy": "2024-06-08T10:10:23.790832Z",
     "iopub.status.idle": "2024-06-08T10:10:23.887817Z",
     "shell.execute_reply": "2024-06-08T10:10:23.886870Z"
    },
    "papermill": {
     "duration": 0.104949,
     "end_time": "2024-06-08T10:10:23.890354",
     "exception": false,
     "start_time": "2024-06-08T10:10:23.785405",
     "status": "completed"
    },
    "tags": []
   },
   "outputs": [
    {
     "name": "stdout",
     "output_type": "stream",
     "text": [
      "                                                    Path Bone_type\n",
      "9666   /kaggle/input/mura-v11/MURA-v1.1/train/XR_WRIS...         1\n",
      "9719   /kaggle/input/mura-v11/MURA-v1.1/train/XR_WRIS...         1\n",
      "5328   /kaggle/input/mura-v11/MURA-v1.1/train/XR_FING...         4\n",
      "2159   /kaggle/input/mura-v11/MURA-v1.1/train/XR_SHOU...         0\n",
      "4740   /kaggle/input/mura-v11/MURA-v1.1/train/XR_FING...         4\n",
      "...                                                  ...       ...\n",
      "8405   /kaggle/input/mura-v11/MURA-v1.1/train/XR_WRIS...         1\n",
      "12424  /kaggle/input/mura-v11/MURA-v1.1/train/XR_HAND...         2\n",
      "905    /kaggle/input/mura-v11/MURA-v1.1/train/XR_SHOU...         0\n",
      "5784   /kaggle/input/mura-v11/MURA-v1.1/train/XR_ELBO...         3\n",
      "235    /kaggle/input/mura-v11/MURA-v1.1/train/XR_SHOU...         0\n",
      "\n",
      "[9590 rows x 2 columns]\n",
      "===============Done with training images===================\n",
      "===============Done with test images===================\n"
     ]
    }
   ],
   "source": [
    "bone_type_mapping = {'SHOULDER': 0, 'WRIST': 1, 'HAND': 2, 'ELBOW': 3, 'FINGER': 4}\n",
    "prefix = '/kaggle/input/mura-v11/'\n",
    "output_directory = '/kaggle/working'\n",
    "train_excel_file_path = '/kaggle/input/csv-for-multiview/Patients with bone type for multiview.csv'\n",
    "df = pd.read_csv(train_excel_file_path, header=None,names=['Path', 'Abnormal','Bone_type'])\n",
    "df = df[~df['Path'].str.contains('XR_FOREARM|XR_HUMERUS')]\n",
    "df['Bone_type'] = df['Bone_type'].map(bone_type_mapping).astype(int)\n",
    "paths = prefix + df['Path'].astype(str)\n",
    "labels = df['Bone_type']\n",
    "labels = labels.astype(str)\n",
    "t_images = pd.concat([paths, labels], axis=1)\n",
    "train_df, test_df = train_test_split(t_images, train_size=0.8, shuffle=True, random_state=1)\n",
    "print(train_df)\n",
    "print(\"===============Done with training images===================\")\n",
    "test_excel_file_path = '/kaggle/input/csv-for-multiview/validation Patients with bone type for multiview.csv'\n",
    "df = pd.read_csv(test_excel_file_path, header=None,names=['Path', 'Abnormal','Bone_type'])\n",
    "df = df[~df['Path'].str.contains('XR_FOREARM|XR_HUMERUS')]\n",
    "df['Bone_type'] = df['Bone_type'].map(bone_type_mapping).astype(int)\n",
    "paths = prefix + df['Path'].astype(str)\n",
    "labels = df['Bone_type']\n",
    "labels = labels.astype(str)\n",
    "v_images = pd.concat([paths, labels], axis=1)\n",
    "print(\"===============Done with test images===================\")"
   ]
  },
  {
   "cell_type": "code",
   "execution_count": 6,
   "id": "4f2b32a6",
   "metadata": {
    "_cell_guid": "b1076dfc-b9ad-4769-8c92-a6c4dae69d19",
    "_uuid": "8f2839f25d086af736a60e9eeb907d3b93b6e0e5",
    "execution": {
     "iopub.execute_input": "2024-06-08T10:10:23.901320Z",
     "iopub.status.busy": "2024-06-08T10:10:23.900987Z",
     "iopub.status.idle": "2024-06-08T10:10:23.912531Z",
     "shell.execute_reply": "2024-06-08T10:10:23.911673Z"
    },
    "papermill": {
     "duration": 0.019242,
     "end_time": "2024-06-08T10:10:23.914587",
     "exception": false,
     "start_time": "2024-06-08T10:10:23.895345",
     "status": "completed"
    },
    "tags": []
   },
   "outputs": [],
   "source": [
    "#Data Generators Initialization \n",
    "train_paths,train_labels = train_df['Path'] , train_df['Bone_type']\n",
    "valid_paths,valid_labels = test_df['Path'] , test_df['Bone_type']\n",
    "test_paths,test_labels = v_images['Path'] , v_images['Bone_type']\n",
    "\n",
    "train_generator = CustomDataGenerator(train_paths, train_labels, batch_size, image_shape, num_classes)\n",
    "valid_generator = CustomDataGenerator(valid_paths, valid_labels, batch_size, image_shape, num_classes)\n",
    "test_generator = CustomDataGenerator(test_paths, test_labels, batch_size, image_shape, num_classes)"
   ]
  },
  {
   "cell_type": "code",
   "execution_count": 7,
   "id": "e4c79be7",
   "metadata": {
    "execution": {
     "iopub.execute_input": "2024-06-08T10:10:23.925822Z",
     "iopub.status.busy": "2024-06-08T10:10:23.925523Z",
     "iopub.status.idle": "2024-06-08T10:10:23.931837Z",
     "shell.execute_reply": "2024-06-08T10:10:23.930987Z"
    },
    "papermill": {
     "duration": 0.014087,
     "end_time": "2024-06-08T10:10:23.933714",
     "exception": false,
     "start_time": "2024-06-08T10:10:23.919627",
     "status": "completed"
    },
    "tags": []
   },
   "outputs": [],
   "source": [
    "#Callbacks Initialization\n",
    "checkpoint_path = '/kaggle/working/multiple_view_shoulder_v2.keras'\n",
    "Monitored_metric= 'val_loss' \n",
    "# Create an EarlyStopping callback\n",
    "early_stopping = EarlyStopping(monitor=Monitored_metric,  # The metric to monitor for early stopping\n",
    "                               patience=10,  # Number of epochs with no improvement after which training will be stopped\n",
    "                               verbose=1,  # Verbosity level\n",
    "                               restore_best_weights=True)  # Restore model weights from the epoch with the best value of the monitored metric\n",
    "\n",
    "# Create a ModelCheckpoint callback\n",
    "model_checkpoint = ModelCheckpoint(checkpoint_path,\n",
    "                                   monitor=Monitored_metric,  # The metric to monitor for saving the best model\n",
    "                                   save_best_only=True,  # Save only the best model\n",
    "                                   mode='min',  # Mode for the 'monitor' metric (e.g., 'min' for loss)\n",
    "                                   verbose=1)  # Verbosity level\n",
    "learn_control = tf.keras.callbacks.ReduceLROnPlateau(monitor=Monitored_metric, \n",
    "                                  patience=4,\n",
    "                                  verbose=1,\n",
    "                                  factor=0.2, \n",
    "                                  min_lr=1e-7)"
   ]
  },
  {
   "cell_type": "code",
   "execution_count": 8,
   "id": "1e6eadbe",
   "metadata": {
    "execution": {
     "iopub.execute_input": "2024-06-08T10:10:23.944898Z",
     "iopub.status.busy": "2024-06-08T10:10:23.944106Z",
     "iopub.status.idle": "2024-06-08T10:10:23.952684Z",
     "shell.execute_reply": "2024-06-08T10:10:23.951939Z"
    },
    "papermill": {
     "duration": 0.016191,
     "end_time": "2024-06-08T10:10:23.954613",
     "exception": false,
     "start_time": "2024-06-08T10:10:23.938422",
     "status": "completed"
    },
    "tags": []
   },
   "outputs": [],
   "source": [
    "class AttentionLayer(Layer):\n",
    "    def __init__(self, **kwargs):\n",
    "        super(AttentionLayer, self).__init__(**kwargs)\n",
    "        self.dense = None\n",
    "        self.attention_weights = None\n",
    "\n",
    "    def build(self, input_shape):\n",
    "        self.dense = Dense(input_shape[-1], activation='tanh')\n",
    "        self.attention_weights = Dense(1)\n",
    "        super(AttentionLayer, self).build(input_shape)\n",
    "\n",
    "    def call(self, inputs):\n",
    "        dense_features = self.dense(inputs)\n",
    "        raw_attention_scores = self.attention_weights(dense_features)\n",
    "        attention_scores = tf.nn.softmax(raw_attention_scores, axis=1)\n",
    "        context_vector = tf.reduce_sum(attention_scores * inputs, axis=1)\n",
    "        return context_vector\n",
    "        return context_vector\n",
    "    \n",
    "class StackLayer(Layer):\n",
    "    def __init__(self, axis, **kwargs):\n",
    "        super(StackLayer, self).__init__(**kwargs)\n",
    "        self.axis = axis\n",
    "\n",
    "    def call(self, inputs):\n",
    "        return tf.stack(inputs, axis=self.axis)"
   ]
  },
  {
   "cell_type": "markdown",
   "id": "d83f9bf8",
   "metadata": {
    "papermill": {
     "duration": 0.004575,
     "end_time": "2024-06-08T10:10:23.964013",
     "exception": false,
     "start_time": "2024-06-08T10:10:23.959438",
     "status": "completed"
    },
    "tags": []
   },
   "source": []
  },
  {
   "cell_type": "code",
   "execution_count": 9,
   "id": "0213d83e",
   "metadata": {
    "execution": {
     "iopub.execute_input": "2024-06-08T10:10:23.975173Z",
     "iopub.status.busy": "2024-06-08T10:10:23.974440Z",
     "iopub.status.idle": "2024-06-08T10:10:28.900420Z",
     "shell.execute_reply": "2024-06-08T10:10:28.899526Z"
    },
    "papermill": {
     "duration": 4.933582,
     "end_time": "2024-06-08T10:10:28.902306",
     "exception": false,
     "start_time": "2024-06-08T10:10:23.968724",
     "status": "completed"
    },
    "tags": []
   },
   "outputs": [
    {
     "name": "stdout",
     "output_type": "stream",
     "text": [
      "Downloading data from https://storage.googleapis.com/tensorflow/keras-applications/xception/xception_weights_tf_dim_ordering_tf_kernels_notop.h5\n",
      "\u001b[1m83683744/83683744\u001b[0m \u001b[32m━━━━━━━━━━━━━━━━━━━━\u001b[0m\u001b[37m\u001b[0m \u001b[1m3s\u001b[0m 0us/step\n"
     ]
    },
    {
     "data": {
      "text/html": [
       "<pre style=\"white-space:pre;overflow-x:auto;line-height:normal;font-family:Menlo,'DejaVu Sans Mono',consolas,'Courier New',monospace\"><span style=\"font-weight: bold\">Model: \"functional_1\"</span>\n",
       "</pre>\n"
      ],
      "text/plain": [
       "\u001b[1mModel: \"functional_1\"\u001b[0m\n"
      ]
     },
     "metadata": {},
     "output_type": "display_data"
    },
    {
     "data": {
      "text/html": [
       "<pre style=\"white-space:pre;overflow-x:auto;line-height:normal;font-family:Menlo,'DejaVu Sans Mono',consolas,'Courier New',monospace\">┏━━━━━━━━━━━━━━━━━━━━━┳━━━━━━━━━━━━━━━━━━━┳━━━━━━━━━━━━┳━━━━━━━━━━━━━━━━━━━┓\n",
       "┃<span style=\"font-weight: bold\"> Layer (type)        </span>┃<span style=\"font-weight: bold\"> Output Shape      </span>┃<span style=\"font-weight: bold\">    Param # </span>┃<span style=\"font-weight: bold\"> Connected to      </span>┃\n",
       "┡━━━━━━━━━━━━━━━━━━━━━╇━━━━━━━━━━━━━━━━━━━╇━━━━━━━━━━━━╇━━━━━━━━━━━━━━━━━━━┩\n",
       "│ input_layer_1       │ (<span style=\"color: #00d7ff; text-decoration-color: #00d7ff\">None</span>, <span style=\"color: #00af00; text-decoration-color: #00af00\">224</span>, <span style=\"color: #00af00; text-decoration-color: #00af00\">224</span>,  │          <span style=\"color: #00af00; text-decoration-color: #00af00\">0</span> │ -                 │\n",
       "│ (<span style=\"color: #0087ff; text-decoration-color: #0087ff\">InputLayer</span>)        │ <span style=\"color: #00af00; text-decoration-color: #00af00\">3</span>)                │            │                   │\n",
       "├─────────────────────┼───────────────────┼────────────┼───────────────────┤\n",
       "│ input_layer_2       │ (<span style=\"color: #00d7ff; text-decoration-color: #00d7ff\">None</span>, <span style=\"color: #00af00; text-decoration-color: #00af00\">224</span>, <span style=\"color: #00af00; text-decoration-color: #00af00\">224</span>,  │          <span style=\"color: #00af00; text-decoration-color: #00af00\">0</span> │ -                 │\n",
       "│ (<span style=\"color: #0087ff; text-decoration-color: #0087ff\">InputLayer</span>)        │ <span style=\"color: #00af00; text-decoration-color: #00af00\">3</span>)                │            │                   │\n",
       "├─────────────────────┼───────────────────┼────────────┼───────────────────┤\n",
       "│ input_layer_3       │ (<span style=\"color: #00d7ff; text-decoration-color: #00d7ff\">None</span>, <span style=\"color: #00af00; text-decoration-color: #00af00\">224</span>, <span style=\"color: #00af00; text-decoration-color: #00af00\">224</span>,  │          <span style=\"color: #00af00; text-decoration-color: #00af00\">0</span> │ -                 │\n",
       "│ (<span style=\"color: #0087ff; text-decoration-color: #0087ff\">InputLayer</span>)        │ <span style=\"color: #00af00; text-decoration-color: #00af00\">3</span>)                │            │                   │\n",
       "├─────────────────────┼───────────────────┼────────────┼───────────────────┤\n",
       "│ input_layer_4       │ (<span style=\"color: #00d7ff; text-decoration-color: #00d7ff\">None</span>, <span style=\"color: #00af00; text-decoration-color: #00af00\">224</span>, <span style=\"color: #00af00; text-decoration-color: #00af00\">224</span>,  │          <span style=\"color: #00af00; text-decoration-color: #00af00\">0</span> │ -                 │\n",
       "│ (<span style=\"color: #0087ff; text-decoration-color: #0087ff\">InputLayer</span>)        │ <span style=\"color: #00af00; text-decoration-color: #00af00\">3</span>)                │            │                   │\n",
       "├─────────────────────┼───────────────────┼────────────┼───────────────────┤\n",
       "│ input_layer_5       │ (<span style=\"color: #00d7ff; text-decoration-color: #00d7ff\">None</span>, <span style=\"color: #00af00; text-decoration-color: #00af00\">224</span>, <span style=\"color: #00af00; text-decoration-color: #00af00\">224</span>,  │          <span style=\"color: #00af00; text-decoration-color: #00af00\">0</span> │ -                 │\n",
       "│ (<span style=\"color: #0087ff; text-decoration-color: #0087ff\">InputLayer</span>)        │ <span style=\"color: #00af00; text-decoration-color: #00af00\">3</span>)                │            │                   │\n",
       "├─────────────────────┼───────────────────┼────────────┼───────────────────┤\n",
       "│ input_layer_6       │ (<span style=\"color: #00d7ff; text-decoration-color: #00d7ff\">None</span>, <span style=\"color: #00af00; text-decoration-color: #00af00\">224</span>, <span style=\"color: #00af00; text-decoration-color: #00af00\">224</span>,  │          <span style=\"color: #00af00; text-decoration-color: #00af00\">0</span> │ -                 │\n",
       "│ (<span style=\"color: #0087ff; text-decoration-color: #0087ff\">InputLayer</span>)        │ <span style=\"color: #00af00; text-decoration-color: #00af00\">3</span>)                │            │                   │\n",
       "├─────────────────────┼───────────────────┼────────────┼───────────────────┤\n",
       "│ input_layer_7       │ (<span style=\"color: #00d7ff; text-decoration-color: #00d7ff\">None</span>, <span style=\"color: #00af00; text-decoration-color: #00af00\">224</span>, <span style=\"color: #00af00; text-decoration-color: #00af00\">224</span>,  │          <span style=\"color: #00af00; text-decoration-color: #00af00\">0</span> │ -                 │\n",
       "│ (<span style=\"color: #0087ff; text-decoration-color: #0087ff\">InputLayer</span>)        │ <span style=\"color: #00af00; text-decoration-color: #00af00\">3</span>)                │            │                   │\n",
       "├─────────────────────┼───────────────────┼────────────┼───────────────────┤\n",
       "│ xception            │ (<span style=\"color: #00d7ff; text-decoration-color: #00d7ff\">None</span>, <span style=\"color: #00af00; text-decoration-color: #00af00\">7</span>, <span style=\"color: #00af00; text-decoration-color: #00af00\">7</span>,      │ <span style=\"color: #00af00; text-decoration-color: #00af00\">20,861,480</span> │ input_layer_1[<span style=\"color: #00af00; text-decoration-color: #00af00\">0</span>]… │\n",
       "│ (<span style=\"color: #0087ff; text-decoration-color: #0087ff\">Functional</span>)        │ <span style=\"color: #00af00; text-decoration-color: #00af00\">2048</span>)             │            │ input_layer_2[<span style=\"color: #00af00; text-decoration-color: #00af00\">0</span>]… │\n",
       "│                     │                   │            │ input_layer_3[<span style=\"color: #00af00; text-decoration-color: #00af00\">0</span>]… │\n",
       "│                     │                   │            │ input_layer_4[<span style=\"color: #00af00; text-decoration-color: #00af00\">0</span>]… │\n",
       "│                     │                   │            │ input_layer_5[<span style=\"color: #00af00; text-decoration-color: #00af00\">0</span>]… │\n",
       "│                     │                   │            │ input_layer_6[<span style=\"color: #00af00; text-decoration-color: #00af00\">0</span>]… │\n",
       "│                     │                   │            │ input_layer_7[<span style=\"color: #00af00; text-decoration-color: #00af00\">0</span>]… │\n",
       "├─────────────────────┼───────────────────┼────────────┼───────────────────┤\n",
       "│ global_average_poo… │ (<span style=\"color: #00d7ff; text-decoration-color: #00d7ff\">None</span>, <span style=\"color: #00af00; text-decoration-color: #00af00\">2048</span>)      │          <span style=\"color: #00af00; text-decoration-color: #00af00\">0</span> │ xception[<span style=\"color: #00af00; text-decoration-color: #00af00\">0</span>][<span style=\"color: #00af00; text-decoration-color: #00af00\">0</span>]    │\n",
       "│ (<span style=\"color: #0087ff; text-decoration-color: #0087ff\">GlobalAveragePool…</span> │                   │            │                   │\n",
       "├─────────────────────┼───────────────────┼────────────┼───────────────────┤\n",
       "│ global_average_poo… │ (<span style=\"color: #00d7ff; text-decoration-color: #00d7ff\">None</span>, <span style=\"color: #00af00; text-decoration-color: #00af00\">2048</span>)      │          <span style=\"color: #00af00; text-decoration-color: #00af00\">0</span> │ xception[<span style=\"color: #00af00; text-decoration-color: #00af00\">1</span>][<span style=\"color: #00af00; text-decoration-color: #00af00\">0</span>]    │\n",
       "│ (<span style=\"color: #0087ff; text-decoration-color: #0087ff\">GlobalAveragePool…</span> │                   │            │                   │\n",
       "├─────────────────────┼───────────────────┼────────────┼───────────────────┤\n",
       "│ global_average_poo… │ (<span style=\"color: #00d7ff; text-decoration-color: #00d7ff\">None</span>, <span style=\"color: #00af00; text-decoration-color: #00af00\">2048</span>)      │          <span style=\"color: #00af00; text-decoration-color: #00af00\">0</span> │ xception[<span style=\"color: #00af00; text-decoration-color: #00af00\">2</span>][<span style=\"color: #00af00; text-decoration-color: #00af00\">0</span>]    │\n",
       "│ (<span style=\"color: #0087ff; text-decoration-color: #0087ff\">GlobalAveragePool…</span> │                   │            │                   │\n",
       "├─────────────────────┼───────────────────┼────────────┼───────────────────┤\n",
       "│ global_average_poo… │ (<span style=\"color: #00d7ff; text-decoration-color: #00d7ff\">None</span>, <span style=\"color: #00af00; text-decoration-color: #00af00\">2048</span>)      │          <span style=\"color: #00af00; text-decoration-color: #00af00\">0</span> │ xception[<span style=\"color: #00af00; text-decoration-color: #00af00\">3</span>][<span style=\"color: #00af00; text-decoration-color: #00af00\">0</span>]    │\n",
       "│ (<span style=\"color: #0087ff; text-decoration-color: #0087ff\">GlobalAveragePool…</span> │                   │            │                   │\n",
       "├─────────────────────┼───────────────────┼────────────┼───────────────────┤\n",
       "│ global_average_poo… │ (<span style=\"color: #00d7ff; text-decoration-color: #00d7ff\">None</span>, <span style=\"color: #00af00; text-decoration-color: #00af00\">2048</span>)      │          <span style=\"color: #00af00; text-decoration-color: #00af00\">0</span> │ xception[<span style=\"color: #00af00; text-decoration-color: #00af00\">4</span>][<span style=\"color: #00af00; text-decoration-color: #00af00\">0</span>]    │\n",
       "│ (<span style=\"color: #0087ff; text-decoration-color: #0087ff\">GlobalAveragePool…</span> │                   │            │                   │\n",
       "├─────────────────────┼───────────────────┼────────────┼───────────────────┤\n",
       "│ global_average_poo… │ (<span style=\"color: #00d7ff; text-decoration-color: #00d7ff\">None</span>, <span style=\"color: #00af00; text-decoration-color: #00af00\">2048</span>)      │          <span style=\"color: #00af00; text-decoration-color: #00af00\">0</span> │ xception[<span style=\"color: #00af00; text-decoration-color: #00af00\">5</span>][<span style=\"color: #00af00; text-decoration-color: #00af00\">0</span>]    │\n",
       "│ (<span style=\"color: #0087ff; text-decoration-color: #0087ff\">GlobalAveragePool…</span> │                   │            │                   │\n",
       "├─────────────────────┼───────────────────┼────────────┼───────────────────┤\n",
       "│ global_average_poo… │ (<span style=\"color: #00d7ff; text-decoration-color: #00d7ff\">None</span>, <span style=\"color: #00af00; text-decoration-color: #00af00\">2048</span>)      │          <span style=\"color: #00af00; text-decoration-color: #00af00\">0</span> │ xception[<span style=\"color: #00af00; text-decoration-color: #00af00\">6</span>][<span style=\"color: #00af00; text-decoration-color: #00af00\">0</span>]    │\n",
       "│ (<span style=\"color: #0087ff; text-decoration-color: #0087ff\">GlobalAveragePool…</span> │                   │            │                   │\n",
       "├─────────────────────┼───────────────────┼────────────┼───────────────────┤\n",
       "│ stack_layer         │ (<span style=\"color: #00d7ff; text-decoration-color: #00d7ff\">None</span>, <span style=\"color: #00af00; text-decoration-color: #00af00\">7</span>, <span style=\"color: #00af00; text-decoration-color: #00af00\">2048</span>)   │          <span style=\"color: #00af00; text-decoration-color: #00af00\">0</span> │ global_average_p… │\n",
       "│ (<span style=\"color: #0087ff; text-decoration-color: #0087ff\">StackLayer</span>)        │                   │            │ global_average_p… │\n",
       "│                     │                   │            │ global_average_p… │\n",
       "│                     │                   │            │ global_average_p… │\n",
       "│                     │                   │            │ global_average_p… │\n",
       "│                     │                   │            │ global_average_p… │\n",
       "│                     │                   │            │ global_average_p… │\n",
       "├─────────────────────┼───────────────────┼────────────┼───────────────────┤\n",
       "│ attention_layer     │ (<span style=\"color: #00d7ff; text-decoration-color: #00d7ff\">None</span>, <span style=\"color: #00af00; text-decoration-color: #00af00\">2048</span>)      │  <span style=\"color: #00af00; text-decoration-color: #00af00\">4,198,401</span> │ stack_layer[<span style=\"color: #00af00; text-decoration-color: #00af00\">0</span>][<span style=\"color: #00af00; text-decoration-color: #00af00\">0</span>] │\n",
       "│ (<span style=\"color: #0087ff; text-decoration-color: #0087ff\">AttentionLayer</span>)    │                   │            │                   │\n",
       "├─────────────────────┼───────────────────┼────────────┼───────────────────┤\n",
       "│ dense_2 (<span style=\"color: #0087ff; text-decoration-color: #0087ff\">Dense</span>)     │ (<span style=\"color: #00d7ff; text-decoration-color: #00d7ff\">None</span>, <span style=\"color: #00af00; text-decoration-color: #00af00\">512</span>)       │  <span style=\"color: #00af00; text-decoration-color: #00af00\">1,049,088</span> │ attention_layer[<span style=\"color: #00af00; text-decoration-color: #00af00\">…</span> │\n",
       "├─────────────────────┼───────────────────┼────────────┼───────────────────┤\n",
       "│ batch_normalizatio… │ (<span style=\"color: #00d7ff; text-decoration-color: #00d7ff\">None</span>, <span style=\"color: #00af00; text-decoration-color: #00af00\">512</span>)       │      <span style=\"color: #00af00; text-decoration-color: #00af00\">2,048</span> │ dense_2[<span style=\"color: #00af00; text-decoration-color: #00af00\">0</span>][<span style=\"color: #00af00; text-decoration-color: #00af00\">0</span>]     │\n",
       "│ (<span style=\"color: #0087ff; text-decoration-color: #0087ff\">BatchNormalizatio…</span> │                   │            │                   │\n",
       "├─────────────────────┼───────────────────┼────────────┼───────────────────┤\n",
       "│ dropout (<span style=\"color: #0087ff; text-decoration-color: #0087ff\">Dropout</span>)   │ (<span style=\"color: #00d7ff; text-decoration-color: #00d7ff\">None</span>, <span style=\"color: #00af00; text-decoration-color: #00af00\">512</span>)       │          <span style=\"color: #00af00; text-decoration-color: #00af00\">0</span> │ batch_normalizat… │\n",
       "├─────────────────────┼───────────────────┼────────────┼───────────────────┤\n",
       "│ dense_3 (<span style=\"color: #0087ff; text-decoration-color: #0087ff\">Dense</span>)     │ (<span style=\"color: #00d7ff; text-decoration-color: #00d7ff\">None</span>, <span style=\"color: #00af00; text-decoration-color: #00af00\">5</span>)         │      <span style=\"color: #00af00; text-decoration-color: #00af00\">2,565</span> │ dropout[<span style=\"color: #00af00; text-decoration-color: #00af00\">0</span>][<span style=\"color: #00af00; text-decoration-color: #00af00\">0</span>]     │\n",
       "└─────────────────────┴───────────────────┴────────────┴───────────────────┘\n",
       "</pre>\n"
      ],
      "text/plain": [
       "┏━━━━━━━━━━━━━━━━━━━━━┳━━━━━━━━━━━━━━━━━━━┳━━━━━━━━━━━━┳━━━━━━━━━━━━━━━━━━━┓\n",
       "┃\u001b[1m \u001b[0m\u001b[1mLayer (type)       \u001b[0m\u001b[1m \u001b[0m┃\u001b[1m \u001b[0m\u001b[1mOutput Shape     \u001b[0m\u001b[1m \u001b[0m┃\u001b[1m \u001b[0m\u001b[1m   Param #\u001b[0m\u001b[1m \u001b[0m┃\u001b[1m \u001b[0m\u001b[1mConnected to     \u001b[0m\u001b[1m \u001b[0m┃\n",
       "┡━━━━━━━━━━━━━━━━━━━━━╇━━━━━━━━━━━━━━━━━━━╇━━━━━━━━━━━━╇━━━━━━━━━━━━━━━━━━━┩\n",
       "│ input_layer_1       │ (\u001b[38;5;45mNone\u001b[0m, \u001b[38;5;34m224\u001b[0m, \u001b[38;5;34m224\u001b[0m,  │          \u001b[38;5;34m0\u001b[0m │ -                 │\n",
       "│ (\u001b[38;5;33mInputLayer\u001b[0m)        │ \u001b[38;5;34m3\u001b[0m)                │            │                   │\n",
       "├─────────────────────┼───────────────────┼────────────┼───────────────────┤\n",
       "│ input_layer_2       │ (\u001b[38;5;45mNone\u001b[0m, \u001b[38;5;34m224\u001b[0m, \u001b[38;5;34m224\u001b[0m,  │          \u001b[38;5;34m0\u001b[0m │ -                 │\n",
       "│ (\u001b[38;5;33mInputLayer\u001b[0m)        │ \u001b[38;5;34m3\u001b[0m)                │            │                   │\n",
       "├─────────────────────┼───────────────────┼────────────┼───────────────────┤\n",
       "│ input_layer_3       │ (\u001b[38;5;45mNone\u001b[0m, \u001b[38;5;34m224\u001b[0m, \u001b[38;5;34m224\u001b[0m,  │          \u001b[38;5;34m0\u001b[0m │ -                 │\n",
       "│ (\u001b[38;5;33mInputLayer\u001b[0m)        │ \u001b[38;5;34m3\u001b[0m)                │            │                   │\n",
       "├─────────────────────┼───────────────────┼────────────┼───────────────────┤\n",
       "│ input_layer_4       │ (\u001b[38;5;45mNone\u001b[0m, \u001b[38;5;34m224\u001b[0m, \u001b[38;5;34m224\u001b[0m,  │          \u001b[38;5;34m0\u001b[0m │ -                 │\n",
       "│ (\u001b[38;5;33mInputLayer\u001b[0m)        │ \u001b[38;5;34m3\u001b[0m)                │            │                   │\n",
       "├─────────────────────┼───────────────────┼────────────┼───────────────────┤\n",
       "│ input_layer_5       │ (\u001b[38;5;45mNone\u001b[0m, \u001b[38;5;34m224\u001b[0m, \u001b[38;5;34m224\u001b[0m,  │          \u001b[38;5;34m0\u001b[0m │ -                 │\n",
       "│ (\u001b[38;5;33mInputLayer\u001b[0m)        │ \u001b[38;5;34m3\u001b[0m)                │            │                   │\n",
       "├─────────────────────┼───────────────────┼────────────┼───────────────────┤\n",
       "│ input_layer_6       │ (\u001b[38;5;45mNone\u001b[0m, \u001b[38;5;34m224\u001b[0m, \u001b[38;5;34m224\u001b[0m,  │          \u001b[38;5;34m0\u001b[0m │ -                 │\n",
       "│ (\u001b[38;5;33mInputLayer\u001b[0m)        │ \u001b[38;5;34m3\u001b[0m)                │            │                   │\n",
       "├─────────────────────┼───────────────────┼────────────┼───────────────────┤\n",
       "│ input_layer_7       │ (\u001b[38;5;45mNone\u001b[0m, \u001b[38;5;34m224\u001b[0m, \u001b[38;5;34m224\u001b[0m,  │          \u001b[38;5;34m0\u001b[0m │ -                 │\n",
       "│ (\u001b[38;5;33mInputLayer\u001b[0m)        │ \u001b[38;5;34m3\u001b[0m)                │            │                   │\n",
       "├─────────────────────┼───────────────────┼────────────┼───────────────────┤\n",
       "│ xception            │ (\u001b[38;5;45mNone\u001b[0m, \u001b[38;5;34m7\u001b[0m, \u001b[38;5;34m7\u001b[0m,      │ \u001b[38;5;34m20,861,480\u001b[0m │ input_layer_1[\u001b[38;5;34m0\u001b[0m]… │\n",
       "│ (\u001b[38;5;33mFunctional\u001b[0m)        │ \u001b[38;5;34m2048\u001b[0m)             │            │ input_layer_2[\u001b[38;5;34m0\u001b[0m]… │\n",
       "│                     │                   │            │ input_layer_3[\u001b[38;5;34m0\u001b[0m]… │\n",
       "│                     │                   │            │ input_layer_4[\u001b[38;5;34m0\u001b[0m]… │\n",
       "│                     │                   │            │ input_layer_5[\u001b[38;5;34m0\u001b[0m]… │\n",
       "│                     │                   │            │ input_layer_6[\u001b[38;5;34m0\u001b[0m]… │\n",
       "│                     │                   │            │ input_layer_7[\u001b[38;5;34m0\u001b[0m]… │\n",
       "├─────────────────────┼───────────────────┼────────────┼───────────────────┤\n",
       "│ global_average_poo… │ (\u001b[38;5;45mNone\u001b[0m, \u001b[38;5;34m2048\u001b[0m)      │          \u001b[38;5;34m0\u001b[0m │ xception[\u001b[38;5;34m0\u001b[0m][\u001b[38;5;34m0\u001b[0m]    │\n",
       "│ (\u001b[38;5;33mGlobalAveragePool…\u001b[0m │                   │            │                   │\n",
       "├─────────────────────┼───────────────────┼────────────┼───────────────────┤\n",
       "│ global_average_poo… │ (\u001b[38;5;45mNone\u001b[0m, \u001b[38;5;34m2048\u001b[0m)      │          \u001b[38;5;34m0\u001b[0m │ xception[\u001b[38;5;34m1\u001b[0m][\u001b[38;5;34m0\u001b[0m]    │\n",
       "│ (\u001b[38;5;33mGlobalAveragePool…\u001b[0m │                   │            │                   │\n",
       "├─────────────────────┼───────────────────┼────────────┼───────────────────┤\n",
       "│ global_average_poo… │ (\u001b[38;5;45mNone\u001b[0m, \u001b[38;5;34m2048\u001b[0m)      │          \u001b[38;5;34m0\u001b[0m │ xception[\u001b[38;5;34m2\u001b[0m][\u001b[38;5;34m0\u001b[0m]    │\n",
       "│ (\u001b[38;5;33mGlobalAveragePool…\u001b[0m │                   │            │                   │\n",
       "├─────────────────────┼───────────────────┼────────────┼───────────────────┤\n",
       "│ global_average_poo… │ (\u001b[38;5;45mNone\u001b[0m, \u001b[38;5;34m2048\u001b[0m)      │          \u001b[38;5;34m0\u001b[0m │ xception[\u001b[38;5;34m3\u001b[0m][\u001b[38;5;34m0\u001b[0m]    │\n",
       "│ (\u001b[38;5;33mGlobalAveragePool…\u001b[0m │                   │            │                   │\n",
       "├─────────────────────┼───────────────────┼────────────┼───────────────────┤\n",
       "│ global_average_poo… │ (\u001b[38;5;45mNone\u001b[0m, \u001b[38;5;34m2048\u001b[0m)      │          \u001b[38;5;34m0\u001b[0m │ xception[\u001b[38;5;34m4\u001b[0m][\u001b[38;5;34m0\u001b[0m]    │\n",
       "│ (\u001b[38;5;33mGlobalAveragePool…\u001b[0m │                   │            │                   │\n",
       "├─────────────────────┼───────────────────┼────────────┼───────────────────┤\n",
       "│ global_average_poo… │ (\u001b[38;5;45mNone\u001b[0m, \u001b[38;5;34m2048\u001b[0m)      │          \u001b[38;5;34m0\u001b[0m │ xception[\u001b[38;5;34m5\u001b[0m][\u001b[38;5;34m0\u001b[0m]    │\n",
       "│ (\u001b[38;5;33mGlobalAveragePool…\u001b[0m │                   │            │                   │\n",
       "├─────────────────────┼───────────────────┼────────────┼───────────────────┤\n",
       "│ global_average_poo… │ (\u001b[38;5;45mNone\u001b[0m, \u001b[38;5;34m2048\u001b[0m)      │          \u001b[38;5;34m0\u001b[0m │ xception[\u001b[38;5;34m6\u001b[0m][\u001b[38;5;34m0\u001b[0m]    │\n",
       "│ (\u001b[38;5;33mGlobalAveragePool…\u001b[0m │                   │            │                   │\n",
       "├─────────────────────┼───────────────────┼────────────┼───────────────────┤\n",
       "│ stack_layer         │ (\u001b[38;5;45mNone\u001b[0m, \u001b[38;5;34m7\u001b[0m, \u001b[38;5;34m2048\u001b[0m)   │          \u001b[38;5;34m0\u001b[0m │ global_average_p… │\n",
       "│ (\u001b[38;5;33mStackLayer\u001b[0m)        │                   │            │ global_average_p… │\n",
       "│                     │                   │            │ global_average_p… │\n",
       "│                     │                   │            │ global_average_p… │\n",
       "│                     │                   │            │ global_average_p… │\n",
       "│                     │                   │            │ global_average_p… │\n",
       "│                     │                   │            │ global_average_p… │\n",
       "├─────────────────────┼───────────────────┼────────────┼───────────────────┤\n",
       "│ attention_layer     │ (\u001b[38;5;45mNone\u001b[0m, \u001b[38;5;34m2048\u001b[0m)      │  \u001b[38;5;34m4,198,401\u001b[0m │ stack_layer[\u001b[38;5;34m0\u001b[0m][\u001b[38;5;34m0\u001b[0m] │\n",
       "│ (\u001b[38;5;33mAttentionLayer\u001b[0m)    │                   │            │                   │\n",
       "├─────────────────────┼───────────────────┼────────────┼───────────────────┤\n",
       "│ dense_2 (\u001b[38;5;33mDense\u001b[0m)     │ (\u001b[38;5;45mNone\u001b[0m, \u001b[38;5;34m512\u001b[0m)       │  \u001b[38;5;34m1,049,088\u001b[0m │ attention_layer[\u001b[38;5;34m…\u001b[0m │\n",
       "├─────────────────────┼───────────────────┼────────────┼───────────────────┤\n",
       "│ batch_normalizatio… │ (\u001b[38;5;45mNone\u001b[0m, \u001b[38;5;34m512\u001b[0m)       │      \u001b[38;5;34m2,048\u001b[0m │ dense_2[\u001b[38;5;34m0\u001b[0m][\u001b[38;5;34m0\u001b[0m]     │\n",
       "│ (\u001b[38;5;33mBatchNormalizatio…\u001b[0m │                   │            │                   │\n",
       "├─────────────────────┼───────────────────┼────────────┼───────────────────┤\n",
       "│ dropout (\u001b[38;5;33mDropout\u001b[0m)   │ (\u001b[38;5;45mNone\u001b[0m, \u001b[38;5;34m512\u001b[0m)       │          \u001b[38;5;34m0\u001b[0m │ batch_normalizat… │\n",
       "├─────────────────────┼───────────────────┼────────────┼───────────────────┤\n",
       "│ dense_3 (\u001b[38;5;33mDense\u001b[0m)     │ (\u001b[38;5;45mNone\u001b[0m, \u001b[38;5;34m5\u001b[0m)         │      \u001b[38;5;34m2,565\u001b[0m │ dropout[\u001b[38;5;34m0\u001b[0m][\u001b[38;5;34m0\u001b[0m]     │\n",
       "└─────────────────────┴───────────────────┴────────────┴───────────────────┘\n"
      ]
     },
     "metadata": {},
     "output_type": "display_data"
    },
    {
     "data": {
      "text/html": [
       "<pre style=\"white-space:pre;overflow-x:auto;line-height:normal;font-family:Menlo,'DejaVu Sans Mono',consolas,'Courier New',monospace\"><span style=\"font-weight: bold\"> Total params: </span><span style=\"color: #00af00; text-decoration-color: #00af00\">26,113,582</span> (99.62 MB)\n",
       "</pre>\n"
      ],
      "text/plain": [
       "\u001b[1m Total params: \u001b[0m\u001b[38;5;34m26,113,582\u001b[0m (99.62 MB)\n"
      ]
     },
     "metadata": {},
     "output_type": "display_data"
    },
    {
     "data": {
      "text/html": [
       "<pre style=\"white-space:pre;overflow-x:auto;line-height:normal;font-family:Menlo,'DejaVu Sans Mono',consolas,'Courier New',monospace\"><span style=\"font-weight: bold\"> Trainable params: </span><span style=\"color: #00af00; text-decoration-color: #00af00\">5,251,078</span> (20.03 MB)\n",
       "</pre>\n"
      ],
      "text/plain": [
       "\u001b[1m Trainable params: \u001b[0m\u001b[38;5;34m5,251,078\u001b[0m (20.03 MB)\n"
      ]
     },
     "metadata": {},
     "output_type": "display_data"
    },
    {
     "data": {
      "text/html": [
       "<pre style=\"white-space:pre;overflow-x:auto;line-height:normal;font-family:Menlo,'DejaVu Sans Mono',consolas,'Courier New',monospace\"><span style=\"font-weight: bold\"> Non-trainable params: </span><span style=\"color: #00af00; text-decoration-color: #00af00\">20,862,504</span> (79.58 MB)\n",
       "</pre>\n"
      ],
      "text/plain": [
       "\u001b[1m Non-trainable params: \u001b[0m\u001b[38;5;34m20,862,504\u001b[0m (79.58 MB)\n"
      ]
     },
     "metadata": {},
     "output_type": "display_data"
    }
   ],
   "source": [
    "from tensorflow.keras.models import Model\n",
    "#Model Architecture\n",
    "base_model = Xception(weights='imagenet', include_top=False, input_shape=image_shape)\n",
    "\n",
    "base_model.trainable = False\n",
    "\n",
    "inputs = [Input(shape=image_shape) for _ in range(num_views)]\n",
    "\n",
    "encoded_views = [base_model(view_input) for view_input in inputs]\n",
    "\n",
    "# Apply GlobalAveragePooling to each view's output\n",
    "pooled_views = [GlobalAveragePooling2D()(view_output) for view_output in encoded_views]\n",
    "\n",
    "# Stack the pooled views to apply the attention mechanism\n",
    "stacked_views = StackLayer(axis=1)(pooled_views)  # Shape: (batch_size, num_views, feature_dim)\n",
    "    \n",
    "# Apply the attention layer\n",
    "context_vector = AttentionLayer()(stacked_views)\n",
    "\n",
    "# Add custom layers on top\n",
    "x = Dense(512, activation='relu', kernel_regularizer=l2(0.001))(context_vector)\n",
    "x = BatchNormalization()(x)\n",
    "x = Dropout(0.5)(x)\n",
    "predictions = Dense(num_classes, activation=\"softmax\", kernel_regularizer=l2(0.001))(x)\n",
    "\n",
    "model = Model(inputs=inputs, outputs=predictions)\n",
    "model.compile(optimizer='nadam', loss='categorical_crossentropy', metrics=[\"accuracy\", \"recall\"])\n",
    "model.summary()"
   ]
  },
  {
   "cell_type": "code",
   "execution_count": 10,
   "id": "a39b7c8b",
   "metadata": {
    "execution": {
     "iopub.execute_input": "2024-06-08T10:10:28.923622Z",
     "iopub.status.busy": "2024-06-08T10:10:28.922609Z",
     "iopub.status.idle": "2024-06-08T15:12:26.436000Z",
     "shell.execute_reply": "2024-06-08T15:12:26.434899Z"
    },
    "papermill": {
     "duration": 18117.52645,
     "end_time": "2024-06-08T15:12:26.438479",
     "exception": false,
     "start_time": "2024-06-08T10:10:28.912029",
     "status": "completed"
    },
    "tags": []
   },
   "outputs": [
    {
     "name": "stdout",
     "output_type": "stream",
     "text": [
      "Epoch 1/50\n"
     ]
    },
    {
     "name": "stderr",
     "output_type": "stream",
     "text": [
      "WARNING: All log messages before absl::InitializeLog() is called are written to STDERR\n",
      "I0000 00:00:1717841498.404986      67 device_compiler.h:186] Compiled cluster using XLA!  This line is logged at most once for the lifetime of the process.\n"
     ]
    },
    {
     "name": "stdout",
     "output_type": "stream",
     "text": [
      "\n",
      "Epoch 1: val_loss improved from inf to 13.62518, saving model to /kaggle/working/multiple_view_shoulder_v2.keras\n",
      "299/299 - 634s - 2s/step - accuracy: 0.5955 - loss: 1.2265 - recall: 0.3933 - val_accuracy: 0.1579 - val_loss: 13.6252 - val_recall: 0.1579 - learning_rate: 0.0010\n",
      "Epoch 2/50\n",
      "\n",
      "Epoch 2: val_loss improved from 13.62518 to 8.86784, saving model to /kaggle/working/multiple_view_shoulder_v2.keras\n",
      "299/299 - 428s - 1s/step - accuracy: 0.6558 - loss: 1.0029 - recall: 0.4597 - val_accuracy: 0.1693 - val_loss: 8.8678 - val_recall: 0.1689 - learning_rate: 0.0010\n",
      "Epoch 3/50\n",
      "\n",
      "Epoch 3: val_loss did not improve from 8.86784\n",
      "299/299 - 435s - 1s/step - accuracy: 0.6733 - loss: 0.9892 - recall: 0.4579 - val_accuracy: 0.2454 - val_loss: 12.2165 - val_recall: 0.2454 - learning_rate: 0.0010\n",
      "Epoch 4/50\n",
      "\n",
      "Epoch 4: val_loss did not improve from 8.86784\n",
      "299/299 - 437s - 1s/step - accuracy: 0.6581 - loss: 1.0119 - recall: 0.4522 - val_accuracy: 0.2918 - val_loss: 11.4689 - val_recall: 0.2918 - learning_rate: 0.0010\n",
      "Epoch 5/50\n",
      "\n",
      "Epoch 5: val_loss did not improve from 8.86784\n",
      "299/299 - 436s - 1s/step - accuracy: 0.6657 - loss: 1.0071 - recall: 0.4463 - val_accuracy: 0.2880 - val_loss: 11.5309 - val_recall: 0.2880 - learning_rate: 0.0010\n",
      "Epoch 6/50\n",
      "\n",
      "Epoch 6: val_loss did not improve from 8.86784\n",
      "\n",
      "Epoch 6: ReduceLROnPlateau reducing learning rate to 0.00020000000949949026.\n",
      "299/299 - 417s - 1s/step - accuracy: 0.6750 - loss: 0.9803 - recall: 0.4758 - val_accuracy: 0.1567 - val_loss: 13.6475 - val_recall: 0.1567 - learning_rate: 0.0010\n",
      "Epoch 7/50\n",
      "\n",
      "Epoch 7: val_loss did not improve from 8.86784\n",
      "299/299 - 417s - 1s/step - accuracy: 0.6944 - loss: 0.9317 - recall: 0.5322 - val_accuracy: 0.2614 - val_loss: 9.2858 - val_recall: 0.2614 - learning_rate: 2.0000e-04\n",
      "Epoch 8/50\n",
      "\n",
      "Epoch 8: val_loss did not improve from 8.86784\n",
      "299/299 - 436s - 1s/step - accuracy: 0.7010 - loss: 0.9279 - recall: 0.5256 - val_accuracy: 0.1702 - val_loss: 9.6836 - val_recall: 0.1702 - learning_rate: 2.0000e-04\n",
      "Epoch 9/50\n",
      "\n",
      "Epoch 9: val_loss did not improve from 8.86784\n",
      "299/299 - 420s - 1s/step - accuracy: 0.6925 - loss: 0.9280 - recall: 0.5206 - val_accuracy: 0.2897 - val_loss: 11.5015 - val_recall: 0.2897 - learning_rate: 2.0000e-04\n",
      "Epoch 10/50\n",
      "\n",
      "Epoch 10: val_loss did not improve from 8.86784\n",
      "\n",
      "Epoch 10: ReduceLROnPlateau reducing learning rate to 4.0000001899898055e-05.\n",
      "299/299 - 415s - 1s/step - accuracy: 0.6985 - loss: 0.9142 - recall: 0.5381 - val_accuracy: 0.2462 - val_loss: 12.1929 - val_recall: 0.2462 - learning_rate: 2.0000e-04\n",
      "Epoch 11/50\n",
      "\n",
      "Epoch 11: val_loss did not improve from 8.86784\n",
      "299/299 - 425s - 1s/step - accuracy: 0.7089 - loss: 0.8940 - recall: 0.5444 - val_accuracy: 0.1643 - val_loss: 13.2619 - val_recall: 0.1643 - learning_rate: 4.0000e-05\n",
      "Epoch 12/50\n",
      "\n",
      "Epoch 12: val_loss improved from 8.86784 to 2.45599, saving model to /kaggle/working/multiple_view_shoulder_v2.keras\n",
      "299/299 - 430s - 1s/step - accuracy: 0.7073 - loss: 0.8858 - recall: 0.5591 - val_accuracy: 0.6178 - val_loss: 2.4560 - val_recall: 0.5764 - learning_rate: 4.0000e-05\n",
      "Epoch 13/50\n",
      "\n",
      "Epoch 13: val_loss did not improve from 2.45599\n",
      "299/299 - 435s - 1s/step - accuracy: 0.7139 - loss: 0.8823 - recall: 0.5597 - val_accuracy: 0.1423 - val_loss: 10.9712 - val_recall: 0.1423 - learning_rate: 4.0000e-05\n",
      "Epoch 14/50\n",
      "\n",
      "Epoch 14: val_loss did not improve from 2.45599\n",
      "299/299 - 422s - 1s/step - accuracy: 0.7139 - loss: 0.8742 - recall: 0.5670 - val_accuracy: 0.1634 - val_loss: 10.3187 - val_recall: 0.1634 - learning_rate: 4.0000e-05\n",
      "Epoch 15/50\n",
      "\n",
      "Epoch 15: val_loss did not improve from 2.45599\n",
      "299/299 - 426s - 1s/step - accuracy: 0.7099 - loss: 0.8805 - recall: 0.5511 - val_accuracy: 0.2226 - val_loss: 8.9154 - val_recall: 0.2226 - learning_rate: 4.0000e-05\n",
      "Epoch 16/50\n",
      "\n",
      "Epoch 16: val_loss did not improve from 2.45599\n",
      "\n",
      "Epoch 16: ReduceLROnPlateau reducing learning rate to 8.000000525498762e-06.\n",
      "299/299 - 446s - 1s/step - accuracy: 0.7190 - loss: 0.8785 - recall: 0.5570 - val_accuracy: 0.1981 - val_loss: 10.1520 - val_recall: 0.1976 - learning_rate: 4.0000e-05\n",
      "Epoch 17/50\n",
      "\n",
      "Epoch 17: val_loss improved from 2.45599 to 1.16310, saving model to /kaggle/working/multiple_view_shoulder_v2.keras\n",
      "299/299 - 423s - 1s/step - accuracy: 0.7102 - loss: 0.8762 - recall: 0.5586 - val_accuracy: 0.6094 - val_loss: 1.1631 - val_recall: 0.5726 - learning_rate: 8.0000e-06\n",
      "Epoch 18/50\n",
      "\n",
      "Epoch 18: val_loss did not improve from 1.16310\n",
      "299/299 - 422s - 1s/step - accuracy: 0.7061 - loss: 0.8858 - recall: 0.5514 - val_accuracy: 0.3644 - val_loss: 2.0613 - val_recall: 0.3598 - learning_rate: 8.0000e-06\n",
      "Epoch 19/50\n",
      "\n",
      "Epoch 19: val_loss improved from 1.16310 to 1.00372, saving model to /kaggle/working/multiple_view_shoulder_v2.keras\n",
      "299/299 - 442s - 1s/step - accuracy: 0.7125 - loss: 0.8832 - recall: 0.5517 - val_accuracy: 0.6410 - val_loss: 1.0037 - val_recall: 0.5503 - learning_rate: 8.0000e-06\n",
      "Epoch 20/50\n",
      "\n",
      "Epoch 20: val_loss did not improve from 1.00372\n",
      "299/299 - 428s - 1s/step - accuracy: 0.7143 - loss: 0.8711 - recall: 0.5639 - val_accuracy: 0.4472 - val_loss: 1.9942 - val_recall: 0.4240 - learning_rate: 8.0000e-06\n",
      "Epoch 21/50\n",
      "\n",
      "Epoch 21: val_loss did not improve from 1.00372\n",
      "299/299 - 428s - 1s/step - accuracy: 0.7179 - loss: 0.8664 - recall: 0.5672 - val_accuracy: 0.5262 - val_loss: 1.3738 - val_recall: 0.4983 - learning_rate: 8.0000e-06\n",
      "Epoch 22/50\n",
      "\n",
      "Epoch 22: val_loss did not improve from 1.00372\n",
      "299/299 - 424s - 1s/step - accuracy: 0.7183 - loss: 0.8723 - recall: 0.5676 - val_accuracy: 0.2090 - val_loss: 2.7331 - val_recall: 0.2006 - learning_rate: 8.0000e-06\n",
      "Epoch 23/50\n",
      "\n",
      "Epoch 23: val_loss did not improve from 1.00372\n",
      "\n",
      "Epoch 23: ReduceLROnPlateau reducing learning rate to 1.6000001778593287e-06.\n",
      "299/299 - 412s - 1s/step - accuracy: 0.7103 - loss: 0.8768 - recall: 0.5574 - val_accuracy: 0.4675 - val_loss: 1.5842 - val_recall: 0.4134 - learning_rate: 8.0000e-06\n",
      "Epoch 24/50\n",
      "\n",
      "Epoch 24: val_loss improved from 1.00372 to 0.83030, saving model to /kaggle/working/multiple_view_shoulder_v2.keras\n",
      "299/299 - 436s - 1s/step - accuracy: 0.7147 - loss: 0.8701 - recall: 0.5639 - val_accuracy: 0.7335 - val_loss: 0.8303 - val_recall: 0.5912 - learning_rate: 1.6000e-06\n",
      "Epoch 25/50\n",
      "\n",
      "Epoch 25: val_loss improved from 0.83030 to 0.81571, saving model to /kaggle/working/multiple_view_shoulder_v2.keras\n",
      "299/299 - 422s - 1s/step - accuracy: 0.7111 - loss: 0.8782 - recall: 0.5630 - val_accuracy: 0.7403 - val_loss: 0.8157 - val_recall: 0.6005 - learning_rate: 1.6000e-06\n",
      "Epoch 26/50\n",
      "\n",
      "Epoch 26: val_loss did not improve from 0.81571\n",
      "299/299 - 418s - 1s/step - accuracy: 0.7147 - loss: 0.8747 - recall: 0.5681 - val_accuracy: 0.6664 - val_loss: 0.9295 - val_recall: 0.5701 - learning_rate: 1.6000e-06\n",
      "Epoch 27/50\n",
      "\n",
      "Epoch 27: val_loss did not improve from 0.81571\n",
      "299/299 - 442s - 1s/step - accuracy: 0.7116 - loss: 0.8762 - recall: 0.5631 - val_accuracy: 0.7111 - val_loss: 0.8522 - val_recall: 0.5752 - learning_rate: 1.6000e-06\n",
      "Epoch 28/50\n",
      "\n",
      "Epoch 28: val_loss did not improve from 0.81571\n",
      "299/299 - 422s - 1s/step - accuracy: 0.7170 - loss: 0.8750 - recall: 0.5607 - val_accuracy: 0.6867 - val_loss: 0.8789 - val_recall: 0.5840 - learning_rate: 1.6000e-06\n",
      "Epoch 29/50\n",
      "\n",
      "Epoch 29: val_loss did not improve from 0.81571\n",
      "\n",
      "Epoch 29: ReduceLROnPlateau reducing learning rate to 3.200000264769187e-07.\n",
      "299/299 - 432s - 1s/step - accuracy: 0.7150 - loss: 0.8717 - recall: 0.5624 - val_accuracy: 0.7145 - val_loss: 0.8447 - val_recall: 0.5731 - learning_rate: 1.6000e-06\n",
      "Epoch 30/50\n",
      "\n",
      "Epoch 30: val_loss improved from 0.81571 to 0.81442, saving model to /kaggle/working/multiple_view_shoulder_v2.keras\n",
      "299/299 - 421s - 1s/step - accuracy: 0.7108 - loss: 0.8839 - recall: 0.5598 - val_accuracy: 0.7302 - val_loss: 0.8144 - val_recall: 0.5942 - learning_rate: 3.2000e-07\n",
      "Epoch 31/50\n",
      "\n",
      "Epoch 31: val_loss improved from 0.81442 to 0.80979, saving model to /kaggle/working/multiple_view_shoulder_v2.keras\n",
      "299/299 - 422s - 1s/step - accuracy: 0.7177 - loss: 0.8709 - recall: 0.5715 - val_accuracy: 0.7407 - val_loss: 0.8098 - val_recall: 0.6085 - learning_rate: 3.2000e-07\n",
      "Epoch 32/50\n",
      "\n",
      "Epoch 32: val_loss improved from 0.80979 to 0.80201, saving model to /kaggle/working/multiple_view_shoulder_v2.keras\n",
      "299/299 - 439s - 1s/step - accuracy: 0.7178 - loss: 0.8647 - recall: 0.5687 - val_accuracy: 0.7394 - val_loss: 0.8020 - val_recall: 0.6018 - learning_rate: 3.2000e-07\n",
      "Epoch 33/50\n",
      "\n",
      "Epoch 33: val_loss did not improve from 0.80201\n",
      "299/299 - 423s - 1s/step - accuracy: 0.7149 - loss: 0.8667 - recall: 0.5699 - val_accuracy: 0.7369 - val_loss: 0.8072 - val_recall: 0.6014 - learning_rate: 3.2000e-07\n",
      "Epoch 34/50\n",
      "\n",
      "Epoch 34: val_loss did not improve from 0.80201\n",
      "299/299 - 418s - 1s/step - accuracy: 0.7165 - loss: 0.8681 - recall: 0.5691 - val_accuracy: 0.7399 - val_loss: 0.8111 - val_recall: 0.6052 - learning_rate: 3.2000e-07\n",
      "Epoch 35/50\n",
      "\n",
      "Epoch 35: val_loss did not improve from 0.80201\n",
      "299/299 - 429s - 1s/step - accuracy: 0.7150 - loss: 0.8711 - recall: 0.5661 - val_accuracy: 0.7348 - val_loss: 0.8110 - val_recall: 0.6102 - learning_rate: 3.2000e-07\n",
      "Epoch 36/50\n",
      "\n",
      "Epoch 36: val_loss did not improve from 0.80201\n",
      "\n",
      "Epoch 36: ReduceLROnPlateau reducing learning rate to 1e-07.\n",
      "299/299 - 423s - 1s/step - accuracy: 0.7069 - loss: 0.8772 - recall: 0.5634 - val_accuracy: 0.7314 - val_loss: 0.8171 - val_recall: 0.5874 - learning_rate: 3.2000e-07\n",
      "Epoch 37/50\n",
      "\n",
      "Epoch 37: val_loss did not improve from 0.80201\n",
      "299/299 - 431s - 1s/step - accuracy: 0.7096 - loss: 0.8780 - recall: 0.5622 - val_accuracy: 0.7323 - val_loss: 0.8133 - val_recall: 0.5925 - learning_rate: 1.0000e-07\n",
      "Epoch 38/50\n",
      "\n",
      "Epoch 38: val_loss did not improve from 0.80201\n",
      "299/299 - 413s - 1s/step - accuracy: 0.7143 - loss: 0.8699 - recall: 0.5678 - val_accuracy: 0.7432 - val_loss: 0.8086 - val_recall: 0.6014 - learning_rate: 1.0000e-07\n",
      "Epoch 39/50\n",
      "\n",
      "Epoch 39: val_loss did not improve from 0.80201\n",
      "299/299 - 420s - 1s/step - accuracy: 0.7079 - loss: 0.8781 - recall: 0.5638 - val_accuracy: 0.7318 - val_loss: 0.8129 - val_recall: 0.5997 - learning_rate: 1.0000e-07\n",
      "Epoch 40/50\n",
      "\n",
      "Epoch 40: val_loss did not improve from 0.80201\n",
      "299/299 - 428s - 1s/step - accuracy: 0.7104 - loss: 0.8730 - recall: 0.5644 - val_accuracy: 0.7424 - val_loss: 0.8076 - val_recall: 0.6018 - learning_rate: 1.0000e-07\n",
      "Epoch 41/50\n",
      "\n",
      "Epoch 41: val_loss did not improve from 0.80201\n",
      "299/299 - 419s - 1s/step - accuracy: 0.7158 - loss: 0.8660 - recall: 0.5703 - val_accuracy: 0.7432 - val_loss: 0.8043 - val_recall: 0.6026 - learning_rate: 1.0000e-07\n",
      "Epoch 42/50\n",
      "\n",
      "Epoch 42: val_loss did not improve from 0.80201\n",
      "299/299 - 420s - 1s/step - accuracy: 0.7097 - loss: 0.8770 - recall: 0.5607 - val_accuracy: 0.7411 - val_loss: 0.8026 - val_recall: 0.6035 - learning_rate: 1.0000e-07\n",
      "Epoch 42: early stopping\n",
      "Restoring model weights from the end of the best epoch: 32.\n"
     ]
    }
   ],
   "source": [
    "history = model.fit(train_generator,\n",
    "                    validation_data=valid_generator,\n",
    "                    callbacks=[early_stopping,model_checkpoint, learn_control],\n",
    "                    epochs=50,\n",
    "                    verbose=2)"
   ]
  },
  {
   "cell_type": "code",
   "execution_count": 11,
   "id": "df2d7fc4",
   "metadata": {
    "execution": {
     "iopub.execute_input": "2024-06-08T15:12:26.481143Z",
     "iopub.status.busy": "2024-06-08T15:12:26.480309Z",
     "iopub.status.idle": "2024-06-08T15:12:27.038667Z",
     "shell.execute_reply": "2024-06-08T15:12:27.037720Z"
    },
    "papermill": {
     "duration": 0.581731,
     "end_time": "2024-06-08T15:12:27.040830",
     "exception": false,
     "start_time": "2024-06-08T15:12:26.459099",
     "status": "completed"
    },
    "tags": []
   },
   "outputs": [
    {
     "data": {
      "text/plain": [
       "<Axes: >"
      ]
     },
     "execution_count": 11,
     "metadata": {},
     "output_type": "execute_result"
    },
    {
     "data": {
      "image/png": "[encoded data removed]",
      "text/plain": [
       "<Figure size 640x480 with 1 Axes>"
      ]
     },
     "metadata": {},
     "output_type": "display_data"
    },
    {
     "data": {
      "image/png": "[encoded data removed]",
      "text/plain": [
       "<Figure size 640x480 with 1 Axes>"
      ]
     },
     "metadata": {},
     "output_type": "display_data"
    }
   ],
   "source": [
    "history_df = pd.DataFrame(history.history)\n",
    "history_df[['loss', 'val_loss']].plot()\n",
    "history_df[['accuracy','recall']].plot()"
   ]
  },
  {
   "cell_type": "code",
   "execution_count": 12,
   "id": "9f580f5a",
   "metadata": {
    "execution": {
     "iopub.execute_input": "2024-06-08T15:12:27.084202Z",
     "iopub.status.busy": "2024-06-08T15:12:27.083860Z",
     "iopub.status.idle": "2024-06-08T15:13:31.587840Z",
     "shell.execute_reply": "2024-06-08T15:13:31.586915Z"
    },
    "papermill": {
     "duration": 64.528219,
     "end_time": "2024-06-08T15:13:31.590051",
     "exception": false,
     "start_time": "2024-06-08T15:12:27.061832",
     "status": "completed"
    },
    "tags": []
   },
   "outputs": [
    {
     "name": "stdout",
     "output_type": "stream",
     "text": [
      "\u001b[1m29/29\u001b[0m \u001b[32m━━━━━━━━━━━━━━━━━━━━\u001b[0m\u001b[37m\u001b[0m \u001b[1m60s\u001b[0m 2s/step - accuracy: 0.7278 - loss: 0.8259 - recall: 0.5948\n",
      "Loss: 0.8446676731109619\n",
      "Accuracy: 0.732758641242981\n"
     ]
    }
   ],
   "source": [
    "loss, accuracy,recall = model.evaluate(test_generator)\n",
    "print(f\"Loss: {loss}\")\n",
    "print(f\"Accuracy: {accuracy}\")"
   ]
  }
 ],
 "metadata": {
  "kaggle": {
   "accelerator": "gpu",
   "dataSources": [
    {
     "datasetId": 427555,
     "sourceId": 813639,
     "sourceType": "datasetVersion"
    },
    {
     "datasetId": 4776881,
     "sourceId": 8091050,
     "sourceType": "datasetVersion"
    },
    {
     "datasetId": 5064664,
     "sourceId": 8489424,
     "sourceType": "datasetVersion"
    },
    {
     "isSourceIdPinned": true,
     "modelInstanceId": 52016,
     "sourceId": 62630,
     "sourceType": "modelInstanceVersion"
    }
   ],
   "dockerImageVersionId": 30699,
   "isGpuEnabled": true,
   "isInternetEnabled": true,
   "language": "python",
   "sourceType": "notebook"
  },
  "kernelspec": {
   "display_name": "Python 3",
   "language": "python",
   "name": "python3"
  },
  "language_info": {
   "codemirror_mode": {
    "name": "ipython",
    "version": 3
   },
   "file_extension": ".py",
   "mimetype": "text/x-python",
   "name": "python",
   "nbconvert_exporter": "python",
   "pygments_lexer": "ipython3",
   "version": "3.10.13"
  },
  "papermill": {
   "default_parameters": {},
   "duration": 18207.666025,
   "end_time": "2024-06-08T15:13:35.032885",
   "environment_variables": {},
   "exception": null,
   "input_path": "__notebook__.ipynb",
   "output_path": "__notebook__.ipynb",
   "parameters": {},
   "start_time": "2024-06-08T10:10:07.366860",
   "version": "2.5.0"
  }
 },
 "nbformat": 4,
 "nbformat_minor": 5
}
