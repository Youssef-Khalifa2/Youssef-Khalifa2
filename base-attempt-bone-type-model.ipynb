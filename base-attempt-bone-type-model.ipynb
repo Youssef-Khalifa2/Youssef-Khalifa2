{
 "cells": [
  {
   "cell_type": "code",
   "execution_count": 1,
   "id": "e4073969",
   "metadata": {
    "execution": {
     "iopub.execute_input": "2024-06-06T09:59:12.729367Z",
     "iopub.status.busy": "2024-06-06T09:59:12.728993Z",
     "iopub.status.idle": "2024-06-06T09:59:25.784244Z",
     "shell.execute_reply": "2024-06-06T09:59:25.783157Z"
    },
    "papermill": {
     "duration": 13.064063,
     "end_time": "2024-06-06T09:59:25.786697",
     "exception": false,
     "start_time": "2024-06-06T09:59:12.722634",
     "status": "completed"
    },
    "tags": []
   },
   "outputs": [
    {
     "name": "stderr",
     "output_type": "stream",
     "text": [
      "2024-06-06 09:59:14.624736: E external/local_xla/xla/stream_executor/cuda/cuda_dnn.cc:9261] Unable to register cuDNN factory: Attempting to register factory for plugin cuDNN when one has already been registered\n",
      "2024-06-06 09:59:14.624844: E external/local_xla/xla/stream_executor/cuda/cuda_fft.cc:607] Unable to register cuFFT factory: Attempting to register factory for plugin cuFFT when one has already been registered\n",
      "2024-06-06 09:59:14.741626: E external/local_xla/xla/stream_executor/cuda/cuda_blas.cc:1515] Unable to register cuBLAS factory: Attempting to register factory for plugin cuBLAS when one has already been registered\n"
     ]
    }
   ],
   "source": [
    "import os\n",
    "import cv2\n",
    "import keras\n",
    "import shutil\n",
    "import random\n",
    "import gc\n",
    "import numpy as np\n",
    "import pandas as pd \n",
    "import tensorflow as tf\n",
    "from PIL import Image, UnidentifiedImageError\n",
    "from tensorflow.keras.preprocessing.image import load_img, img_to_array\n",
    "from tensorflow.keras.layers import Input, Average, Dense ,Layer\n",
    "from tensorflow.keras.layers import Concatenate, GlobalAveragePooling2D\n",
    "from sklearn.model_selection import train_test_split\n",
    "from keras.callbacks import EarlyStopping, ModelCheckpoint, LearningRateScheduler, TensorBoard\n",
    "from keras.layers import Concatenate\n",
    "from keras.models import load_model\n",
    "from tensorflow.keras.applications import Xception\n",
    "from tensorflow.keras.utils import Sequence\n",
    "from tensorflow.keras import mixed_precision , applications,layers\n",
    "from keras.applications.resnet50 import preprocess_input\n",
    "mixed_precision.set_global_policy('mixed_float16')"
   ]
  },
  {
   "cell_type": "code",
   "execution_count": 2,
   "id": "b34ef0c6",
   "metadata": {
    "execution": {
     "iopub.execute_input": "2024-06-06T09:59:25.797750Z",
     "iopub.status.busy": "2024-06-06T09:59:25.797183Z",
     "iopub.status.idle": "2024-06-06T09:59:25.801606Z",
     "shell.execute_reply": "2024-06-06T09:59:25.800786Z"
    },
    "papermill": {
     "duration": 0.011898,
     "end_time": "2024-06-06T09:59:25.803516",
     "exception": false,
     "start_time": "2024-06-06T09:59:25.791618",
     "status": "completed"
    },
    "tags": []
   },
   "outputs": [],
   "source": [
    "image_shape = (224, 224, 3)\n",
    "num_classes = 5  \n",
    "num_views = 5\n",
    "batch_size = 32"
   ]
  },
  {
   "cell_type": "code",
   "execution_count": 3,
   "id": "5b1a52bd",
   "metadata": {
    "execution": {
     "iopub.execute_input": "2024-06-06T09:59:25.813559Z",
     "iopub.status.busy": "2024-06-06T09:59:25.812826Z",
     "iopub.status.idle": "2024-06-06T09:59:25.819672Z",
     "shell.execute_reply": "2024-06-06T09:59:25.818861Z"
    },
    "papermill": {
     "duration": 0.013528,
     "end_time": "2024-06-06T09:59:25.821476",
     "exception": false,
     "start_time": "2024-06-06T09:59:25.807948",
     "status": "completed"
    },
    "tags": []
   },
   "outputs": [
    {
     "data": {
      "text/plain": [
       "'# Source path of the model\\nsource_path = \"/kaggle/input/bonetype/BoneType_ResNet50.keras\"\\n\\n# Destination path where you can write\\ndestination_path = \"/kaggle/working/model.keras\"\\n\\n# Copy the model file\\nshutil.copyfile(source_path, destination_path)\\n\\n# Now load the model from the copied file\\nbase_model = load_model(destination_path)'"
      ]
     },
     "execution_count": 3,
     "metadata": {},
     "output_type": "execute_result"
    }
   ],
   "source": [
    "'''# Source path of the model\n",
    "source_path = \"/kaggle/input/bonetype/BoneType_ResNet50.keras\"\n",
    "\n",
    "# Destination path where you can write\n",
    "destination_path = \"/kaggle/working/model.keras\"\n",
    "\n",
    "# Copy the model file\n",
    "shutil.copyfile(source_path, destination_path)\n",
    "\n",
    "# Now load the model from the copied file\n",
    "base_model = load_model(destination_path)'''"
   ]
  },
  {
   "cell_type": "code",
   "execution_count": 4,
   "id": "22e5de70",
   "metadata": {
    "execution": {
     "iopub.execute_input": "2024-06-06T09:59:25.831519Z",
     "iopub.status.busy": "2024-06-06T09:59:25.831005Z",
     "iopub.status.idle": "2024-06-06T09:59:25.847271Z",
     "shell.execute_reply": "2024-06-06T09:59:25.846465Z"
    },
    "papermill": {
     "duration": 0.023266,
     "end_time": "2024-06-06T09:59:25.849181",
     "exception": false,
     "start_time": "2024-06-06T09:59:25.825915",
     "status": "completed"
    },
    "tags": []
   },
   "outputs": [],
   "source": [
    "class CustomDataGenerator(Sequence):\n",
    "    def __init__(self, image_paths, labels, batch_size, image_shape, num_classes, num_views=num_views):\n",
    "        super().__init__()\n",
    "        self.image_paths = list(image_paths)\n",
    "        self.labels = list(labels)\n",
    "        self.batch_size = batch_size\n",
    "        self.image_shape = image_shape\n",
    "        self.num_classes = num_classes\n",
    "        self.num_views = num_views\n",
    "        self.on_epoch_end()\n",
    "\n",
    "    def __len__(self):\n",
    "        return int(np.floor(len(self.image_paths) / self.batch_size))\n",
    "\n",
    "    def __getitem__(self, index):\n",
    "        indices = self.indices[index * self.batch_size:(index + 1) * self.batch_size]\n",
    "        batch_image_paths = [self.image_paths[i] for i in indices]\n",
    "        batch_labels = [self.labels[i] for i in indices]\n",
    "\n",
    "        images = []\n",
    "        for folder_path in batch_image_paths:\n",
    "            images.append(self._load_and_pad_images(folder_path, self.image_shape))\n",
    "\n",
    "        images = np.array(images)  # Shape: (batch_size, num_views, height, width, channels)\n",
    "        batch_labels = tf.keras.utils.to_categorical(batch_labels, num_classes=self.num_classes)\n",
    "\n",
    "        # Transpose the batch to separate views as different inputs\n",
    "        images = [images[:, i, :, :, :] for i in range(self.num_views)]\n",
    "        \n",
    "        # Convert to tuple of tensors\n",
    "        images = tuple(tf.convert_to_tensor(img) for img in images)\n",
    "        batch_labels = tf.convert_to_tensor(batch_labels)\n",
    "\n",
    "        return images, batch_labels\n",
    "\n",
    "    def on_epoch_end(self):\n",
    "        self.indices = np.arange(len(self.image_paths))\n",
    "        np.random.shuffle(self.indices)\n",
    "\n",
    "    def _load_and_pad_images(self, folder_path, image_shape):\n",
    "        image_paths = [os.path.join(folder_path, f) for f in os.listdir(folder_path)\n",
    "                       if f.endswith((\".jpg\", \".jpeg\", \".png\")) and not f.startswith(\"._\")]\n",
    "\n",
    "        if not image_paths:\n",
    "            logger.error(f\"No valid images found in folder: {folder_path}\")\n",
    "            return [np.zeros((image_shape[0], image_shape[1], image_shape[2]))] * self.num_views\n",
    "\n",
    "        if len(image_paths) > self.num_views:\n",
    "            image_paths = random.sample(image_paths, self.num_views)\n",
    "\n",
    "        processed_images = []\n",
    "        for image_path in image_paths:\n",
    "            try:\n",
    "                img = load_img(image_path, target_size=image_shape)\n",
    "                img_array = img_to_array(img)\n",
    "                img_array = img_array / 255.0\n",
    "                preprocessed_img_array = preprocess_input(img_array)\n",
    "                processed_images.append(preprocessed_img_array)\n",
    "            except Exception as e:\n",
    "                logger.warning(f\"Warning: Skipping unidentifiable image file: {image_path} due to {e}\")\n",
    "                processed_images.append(np.zeros((image_shape[0], image_shape[1], image_shape[2])))\n",
    "\n",
    "        while len(processed_images) < self.num_views:\n",
    "            processed_images.append(np.zeros((image_shape[0], image_shape[1], image_shape[2])))\n",
    "\n",
    "        return np.array(processed_images)\n"
   ]
  },
  {
   "cell_type": "code",
   "execution_count": 5,
   "id": "68ce9265",
   "metadata": {
    "execution": {
     "iopub.execute_input": "2024-06-06T09:59:25.858982Z",
     "iopub.status.busy": "2024-06-06T09:59:25.858530Z",
     "iopub.status.idle": "2024-06-06T09:59:25.960254Z",
     "shell.execute_reply": "2024-06-06T09:59:25.958935Z"
    },
    "papermill": {
     "duration": 0.109009,
     "end_time": "2024-06-06T09:59:25.962429",
     "exception": false,
     "start_time": "2024-06-06T09:59:25.853420",
     "status": "completed"
    },
    "tags": []
   },
   "outputs": [
    {
     "name": "stdout",
     "output_type": "stream",
     "text": [
      "                                                    Path Bone_type\n",
      "9666   /kaggle/input/mura-v11/MURA-v1.1/train/XR_WRIS...         1\n",
      "9719   /kaggle/input/mura-v11/MURA-v1.1/train/XR_WRIS...         1\n",
      "5328   /kaggle/input/mura-v11/MURA-v1.1/train/XR_FING...         4\n",
      "2159   /kaggle/input/mura-v11/MURA-v1.1/train/XR_SHOU...         0\n",
      "4740   /kaggle/input/mura-v11/MURA-v1.1/train/XR_FING...         4\n",
      "...                                                  ...       ...\n",
      "8405   /kaggle/input/mura-v11/MURA-v1.1/train/XR_WRIS...         1\n",
      "12424  /kaggle/input/mura-v11/MURA-v1.1/train/XR_HAND...         2\n",
      "905    /kaggle/input/mura-v11/MURA-v1.1/train/XR_SHOU...         0\n",
      "5784   /kaggle/input/mura-v11/MURA-v1.1/train/XR_ELBO...         3\n",
      "235    /kaggle/input/mura-v11/MURA-v1.1/train/XR_SHOU...         0\n",
      "\n",
      "[9590 rows x 2 columns]\n",
      "===============Done with training images===================\n",
      "===============Done with test images===================\n"
     ]
    }
   ],
   "source": [
    "bone_type_mapping = {'SHOULDER': 0, 'WRIST': 1, 'HAND': 2, 'ELBOW': 3, 'FINGER': 4}\n",
    "prefix = '/kaggle/input/mura-v11/'\n",
    "output_directory = '/kaggle/working'\n",
    "train_excel_file_path = '/kaggle/input/csv-for-multiview/Patients with bone type for multiview.csv'\n",
    "df = pd.read_csv(train_excel_file_path, header=None,names=['Path', 'Abnormal','Bone_type'])\n",
    "df = df[~df['Path'].str.contains('XR_FOREARM|XR_HUMERUS')]\n",
    "df['Bone_type'] = df['Bone_type'].map(bone_type_mapping).astype(int)\n",
    "paths = prefix + df['Path'].astype(str)\n",
    "labels = df['Bone_type']\n",
    "labels = labels.astype(str)\n",
    "t_images = pd.concat([paths, labels], axis=1)\n",
    "train_df, test_df = train_test_split(t_images, train_size=0.8, shuffle=True, random_state=1)\n",
    "print(train_df)\n",
    "print(\"===============Done with training images===================\")\n",
    "test_excel_file_path = '/kaggle/input/csv-for-multiview/validation Patients with bone type for multiview.csv'\n",
    "df = pd.read_csv(test_excel_file_path, header=None,names=['Path', 'Abnormal','Bone_type'])\n",
    "df = df[~df['Path'].str.contains('XR_FOREARM|XR_HUMERUS')]\n",
    "df['Bone_type'] = df['Bone_type'].map(bone_type_mapping).astype(int)\n",
    "paths = prefix + df['Path'].astype(str)\n",
    "labels = df['Bone_type']\n",
    "labels = labels.astype(str)\n",
    "v_images = pd.concat([paths, labels], axis=1)\n",
    "print(\"===============Done with test images===================\")"
   ]
  },
  {
   "cell_type": "code",
   "execution_count": 6,
   "id": "00ecb002",
   "metadata": {
    "_cell_guid": "b1076dfc-b9ad-4769-8c92-a6c4dae69d19",
    "_uuid": "8f2839f25d086af736a60e9eeb907d3b93b6e0e5",
    "execution": {
     "iopub.execute_input": "2024-06-06T09:59:25.973485Z",
     "iopub.status.busy": "2024-06-06T09:59:25.973174Z",
     "iopub.status.idle": "2024-06-06T09:59:25.982901Z",
     "shell.execute_reply": "2024-06-06T09:59:25.982065Z"
    },
    "papermill": {
     "duration": 0.017549,
     "end_time": "2024-06-06T09:59:25.984930",
     "exception": false,
     "start_time": "2024-06-06T09:59:25.967381",
     "status": "completed"
    },
    "tags": []
   },
   "outputs": [],
   "source": [
    "#Data Generators Initialization \n",
    "train_paths,train_labels = train_df['Path'] , train_df['Bone_type']\n",
    "valid_paths,valid_labels = test_df['Path'] , test_df['Bone_type']\n",
    "test_paths,test_labels = v_images['Path'] , v_images['Bone_type']\n",
    "\n",
    "train_generator = CustomDataGenerator(train_paths, train_labels, batch_size, image_shape, num_classes)\n",
    "valid_generator = CustomDataGenerator(valid_paths, valid_labels, batch_size, image_shape, num_classes)\n",
    "test_generator = CustomDataGenerator(test_paths, test_labels, batch_size, image_shape, num_classes)"
   ]
  },
  {
   "cell_type": "code",
   "execution_count": 7,
   "id": "0091bad1",
   "metadata": {
    "execution": {
     "iopub.execute_input": "2024-06-06T09:59:25.995182Z",
     "iopub.status.busy": "2024-06-06T09:59:25.994897Z",
     "iopub.status.idle": "2024-06-06T09:59:26.001186Z",
     "shell.execute_reply": "2024-06-06T09:59:26.000344Z"
    },
    "papermill": {
     "duration": 0.0133,
     "end_time": "2024-06-06T09:59:26.002937",
     "exception": false,
     "start_time": "2024-06-06T09:59:25.989637",
     "status": "completed"
    },
    "tags": []
   },
   "outputs": [],
   "source": [
    "#Callbacks Initialization\n",
    "checkpoint_path = '/kaggle/working/multiple_view_shoulder_v2.keras'\n",
    "Monitored_metric= 'val_loss' \n",
    "# Create an EarlyStopping callback\n",
    "early_stopping = EarlyStopping(monitor=Monitored_metric,  # The metric to monitor for early stopping\n",
    "                               patience=5,  # Number of epochs with no improvement after which training will be stopped\n",
    "                               verbose=1,  # Verbosity level\n",
    "                               restore_best_weights=True)  # Restore model weights from the epoch with the best value of the monitored metric\n",
    "\n",
    "# Create a ModelCheckpoint callback\n",
    "model_checkpoint = ModelCheckpoint(checkpoint_path,\n",
    "                                   monitor=Monitored_metric,  # The metric to monitor for saving the best model\n",
    "                                   save_best_only=True,  # Save only the best model\n",
    "                                   mode='min',  # Mode for the 'monitor' metric (e.g., 'min' for loss)\n",
    "                                   verbose=1)  # Verbosity level\n",
    "learn_control = tf.keras.callbacks.ReduceLROnPlateau(monitor=Monitored_metric, \n",
    "                                  patience=3,\n",
    "                                  verbose=1,\n",
    "                                  factor=0.2, \n",
    "                                  min_lr=1e-7)"
   ]
  },
  {
   "cell_type": "code",
   "execution_count": 8,
   "id": "7be017f0",
   "metadata": {
    "execution": {
     "iopub.execute_input": "2024-06-06T09:59:26.013063Z",
     "iopub.status.busy": "2024-06-06T09:59:26.012579Z",
     "iopub.status.idle": "2024-06-06T09:59:26.020479Z",
     "shell.execute_reply": "2024-06-06T09:59:26.019695Z"
    },
    "papermill": {
     "duration": 0.014943,
     "end_time": "2024-06-06T09:59:26.022356",
     "exception": false,
     "start_time": "2024-06-06T09:59:26.007413",
     "status": "completed"
    },
    "tags": []
   },
   "outputs": [],
   "source": [
    "class AttentionLayer(Layer):\n",
    "    def __init__(self, **kwargs):\n",
    "        super(AttentionLayer, self).__init__(**kwargs)\n",
    "        self.dense = None\n",
    "        self.attention_weights = None\n",
    "\n",
    "    def build(self, input_shape):\n",
    "        self.dense = Dense(input_shape[-1], activation='tanh')\n",
    "        self.attention_weights = Dense(1)\n",
    "        super(AttentionLayer, self).build(input_shape)\n",
    "\n",
    "    def call(self, inputs):\n",
    "        dense_features = self.dense(inputs)\n",
    "        raw_attention_scores = self.attention_weights(dense_features)\n",
    "        attention_scores = tf.nn.softmax(raw_attention_scores, axis=1)\n",
    "        context_vector = tf.reduce_sum(attention_scores * inputs, axis=1)\n",
    "        return context_vector\n",
    "        return context_vector\n",
    "    \n",
    "class StackLayer(Layer):\n",
    "    def __init__(self, axis, **kwargs):\n",
    "        super(StackLayer, self).__init__(**kwargs)\n",
    "        self.axis = axis\n",
    "\n",
    "    def call(self, inputs):\n",
    "        return tf.stack(inputs, axis=self.axis)"
   ]
  },
  {
   "cell_type": "code",
   "execution_count": 9,
   "id": "dfcfc176",
   "metadata": {
    "execution": {
     "iopub.execute_input": "2024-06-06T09:59:26.032627Z",
     "iopub.status.busy": "2024-06-06T09:59:26.032358Z",
     "iopub.status.idle": "2024-06-06T09:59:28.583957Z",
     "shell.execute_reply": "2024-06-06T09:59:28.582916Z"
    },
    "papermill": {
     "duration": 2.559357,
     "end_time": "2024-06-06T09:59:28.586278",
     "exception": false,
     "start_time": "2024-06-06T09:59:26.026921",
     "status": "completed"
    },
    "tags": []
   },
   "outputs": [
    {
     "name": "stdout",
     "output_type": "stream",
     "text": [
      "Downloading data from https://storage.googleapis.com/tensorflow/keras-applications/xception/xception_weights_tf_dim_ordering_tf_kernels_notop.h5\n",
      "\u001b[1m83683744/83683744\u001b[0m \u001b[32m━━━━━━━━━━━━━━━━━━━━\u001b[0m\u001b[37m\u001b[0m \u001b[1m0s\u001b[0m 0us/step\n"
     ]
    }
   ],
   "source": [
    "from tensorflow.keras.models import Model\n",
    "#Model Architecture\n",
    "base_model = Xception(weights='imagenet', include_top=False, input_shape=image_shape)\n",
    "\n",
    "inputs = [Input(shape=image_shape) for _ in range(num_views)]\n",
    "\n",
    "encoded_views = [base_model(view_input) for view_input in inputs]\n",
    "\n",
    "# Apply GlobalAveragePooling to each view's output\n",
    "pooled_views = [GlobalAveragePooling2D()(view_output) for view_output in encoded_views]\n",
    "\n",
    "# Stack the pooled views to apply the attention mechanism\n",
    "stacked_views = StackLayer(axis=1)(pooled_views)  # Shape: (batch_size, num_views, feature_dim)\n",
    "    \n",
    "# Apply the attention layer\n",
    "context_vector = AttentionLayer()(stacked_views)\n",
    "\n",
    "# Add custom layers on top\n",
    "x = Dense(512, activation='relu')(context_vector)\n",
    "x = tf.keras.layers.Dropout(0.5)(x)\n",
    "predictions = Dense(num_classes, activation=\"softmax\")(x)\n",
    "\n",
    "model = Model(inputs=inputs, outputs=predictions)\n",
    "model.compile(optimizer='adam', loss='categorical_crossentropy', metrics=[\"accuracy\", \"recall\"])"
   ]
  },
  {
   "cell_type": "code",
   "execution_count": 10,
   "id": "62a3cc19",
   "metadata": {
    "execution": {
     "iopub.execute_input": "2024-06-06T09:59:28.598504Z",
     "iopub.status.busy": "2024-06-06T09:59:28.598209Z",
     "iopub.status.idle": "2024-06-06T10:56:56.886580Z",
     "shell.execute_reply": "2024-06-06T10:56:56.885747Z"
    },
    "papermill": {
     "duration": 3448.29709,
     "end_time": "2024-06-06T10:56:56.888896",
     "exception": false,
     "start_time": "2024-06-06T09:59:28.591806",
     "status": "completed"
    },
    "tags": []
   },
   "outputs": [
    {
     "name": "stdout",
     "output_type": "stream",
     "text": [
      "Epoch 1/50\n"
     ]
    },
    {
     "name": "stderr",
     "output_type": "stream",
     "text": [
      "WARNING: All log messages before absl::InitializeLog() is called are written to STDERR\n",
      "I0000 00:00:1717668144.127887      69 device_compiler.h:186] Compiled cluster using XLA!  This line is logged at most once for the lifetime of the process.\n"
     ]
    },
    {
     "name": "stdout",
     "output_type": "stream",
     "text": [
      "\n",
      "Epoch 1: val_loss improved from inf to 2.10745, saving model to /kaggle/working/multiple_view_shoulder_v2.keras\n",
      "299/299 - 718s - 2s/step - accuracy: 0.8208 - loss: 0.5534 - recall: 0.7445 - val_accuracy: 0.2905 - val_loss: 2.1074 - val_recall: 0.2905 - learning_rate: 0.0010\n",
      "Epoch 2/50\n",
      "\n",
      "Epoch 2: val_loss improved from 2.10745 to 1.98229, saving model to /kaggle/working/multiple_view_shoulder_v2.keras\n",
      "299/299 - 463s - 2s/step - accuracy: 0.9486 - loss: 0.1854 - recall: 0.9332 - val_accuracy: 0.2910 - val_loss: 1.9823 - val_recall: 0.1609 - learning_rate: 0.0010\n",
      "Epoch 3/50\n",
      "\n",
      "Epoch 3: val_loss did not improve from 1.98229\n",
      "299/299 - 452s - 2s/step - accuracy: 0.9708 - loss: 0.1180 - recall: 0.9656 - val_accuracy: 0.2897 - val_loss: 3.1409 - val_recall: 0.2897 - learning_rate: 0.0010\n",
      "Epoch 4/50\n",
      "\n",
      "Epoch 4: val_loss did not improve from 1.98229\n",
      "299/299 - 453s - 2s/step - accuracy: 0.9486 - loss: 0.2032 - recall: 0.9370 - val_accuracy: 0.1613 - val_loss: 2.3542 - val_recall: 0.1613 - learning_rate: 0.0010\n",
      "Epoch 5/50\n",
      "\n",
      "Epoch 5: val_loss did not improve from 1.98229\n",
      "\n",
      "Epoch 5: ReduceLROnPlateau reducing learning rate to 0.00020000000949949026.\n",
      "299/299 - 455s - 2s/step - accuracy: 0.9669 - loss: 0.1238 - recall: 0.9631 - val_accuracy: 0.1567 - val_loss: 4.2307 - val_recall: 0.1567 - learning_rate: 0.0010\n",
      "Epoch 6/50\n",
      "\n",
      "Epoch 6: val_loss did not improve from 1.98229\n",
      "299/299 - 452s - 2s/step - accuracy: 0.9871 - loss: 0.0487 - recall: 0.9847 - val_accuracy: 0.1461 - val_loss: 2.3341 - val_recall: 0.0000e+00 - learning_rate: 2.0000e-04\n",
      "Epoch 7/50\n",
      "\n",
      "Epoch 7: val_loss did not improve from 1.98229\n",
      "299/299 - 452s - 2s/step - accuracy: 0.9891 - loss: 0.0423 - recall: 0.9875 - val_accuracy: 0.1575 - val_loss: 4.1333 - val_recall: 0.1575 - learning_rate: 2.0000e-04\n",
      "Epoch 7: early stopping\n",
      "Restoring model weights from the end of the best epoch: 2.\n"
     ]
    }
   ],
   "source": [
    "history = model.fit(train_generator,\n",
    "                    validation_data=valid_generator,\n",
    "                    callbacks=[early_stopping, model_checkpoint, learn_control],\n",
    "                    epochs=50,\n",
    "                    verbose=2)"
   ]
  },
  {
   "cell_type": "code",
   "execution_count": 11,
   "id": "f697e31f",
   "metadata": {
    "execution": {
     "iopub.execute_input": "2024-06-06T10:56:56.904753Z",
     "iopub.status.busy": "2024-06-06T10:56:56.904433Z",
     "iopub.status.idle": "2024-06-06T10:56:57.446904Z",
     "shell.execute_reply": "2024-06-06T10:56:57.445949Z"
    },
    "papermill": {
     "duration": 0.552732,
     "end_time": "2024-06-06T10:56:57.449075",
     "exception": false,
     "start_time": "2024-06-06T10:56:56.896343",
     "status": "completed"
    },
    "tags": []
   },
   "outputs": [
    {
     "data": {
      "text/plain": [
       "<Axes: >"
      ]
     },
     "execution_count": 11,
     "metadata": {},
     "output_type": "execute_result"
    },
    {
     "data": {
      "image/png": "[encoded data removed]",
      "text/plain": [
       "<Figure size 640x480 with 1 Axes>"
      ]
     },
     "metadata": {},
     "output_type": "display_data"
    },
    {
     "data": {
      "image/png": "[encoded data removed]",
      "text/plain": [
       "<Figure size 640x480 with 1 Axes>"
      ]
     },
     "metadata": {},
     "output_type": "display_data"
    }
   ],
   "source": [
    "history_df = pd.DataFrame(history.history)\n",
    "history_df[['loss', 'val_loss']].plot()\n",
    "history_df[['accuracy','recall']].plot()"
   ]
  },
  {
   "cell_type": "code",
   "execution_count": 12,
   "id": "55d01c1e",
   "metadata": {
    "execution": {
     "iopub.execute_input": "2024-06-06T10:56:57.468292Z",
     "iopub.status.busy": "2024-06-06T10:56:57.467637Z",
     "iopub.status.idle": "2024-06-06T10:57:55.385494Z",
     "shell.execute_reply": "2024-06-06T10:57:55.384435Z"
    },
    "papermill": {
     "duration": 57.929077,
     "end_time": "2024-06-06T10:57:55.387450",
     "exception": false,
     "start_time": "2024-06-06T10:56:57.458373",
     "status": "completed"
    },
    "tags": []
   },
   "outputs": [
    {
     "name": "stdout",
     "output_type": "stream",
     "text": [
      "\u001b[1m29/29\u001b[0m \u001b[32m━━━━━━━━━━━━━━━━━━━━\u001b[0m\u001b[37m\u001b[0m \u001b[1m54s\u001b[0m 2s/step - accuracy: 0.2456 - loss: 2.0700 - recall: 0.1446\n",
      "Loss: 2.0877175331115723\n",
      "Accuracy: 0.2532327473163605\n"
     ]
    }
   ],
   "source": [
    "loss, accuracy,recall = model.evaluate(test_generator)\n",
    "print(f\"Loss: {loss}\")\n",
    "print(f\"Accuracy: {accuracy}\")"
   ]
  }
 ],
 "metadata": {
  "kaggle": {
   "accelerator": "gpu",
   "dataSources": [
    {
     "datasetId": 427555,
     "sourceId": 813639,
     "sourceType": "datasetVersion"
    },
    {
     "datasetId": 4776881,
     "sourceId": 8091050,
     "sourceType": "datasetVersion"
    },
    {
     "datasetId": 5064664,
     "sourceId": 8489424,
     "sourceType": "datasetVersion"
    }
   ],
   "dockerImageVersionId": 30699,
   "isGpuEnabled": true,
   "isInternetEnabled": true,
   "language": "python",
   "sourceType": "notebook"
  },
  "kernelspec": {
   "display_name": "Python 3",
   "language": "python",
   "name": "python3"
  },
  "language_info": {
   "codemirror_mode": {
    "name": "ipython",
    "version": 3
   },
   "file_extension": ".py",
   "mimetype": "text/x-python",
   "name": "python",
   "nbconvert_exporter": "python",
   "pygments_lexer": "ipython3",
   "version": "3.10.13"
  },
  "papermill": {
   "default_parameters": {},
   "duration": 3528.77621,
   "end_time": "2024-06-06T10:57:58.727629",
   "environment_variables": {},
   "exception": null,
   "input_path": "__notebook__.ipynb",
   "output_path": "__notebook__.ipynb",
   "parameters": {},
   "start_time": "2024-06-06T09:59:09.951419",
   "version": "2.5.0"
  }
 },
 "nbformat": 4,
 "nbformat_minor": 5
}
