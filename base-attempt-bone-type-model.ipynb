{
 "cells": [
  {
   "cell_type": "code",
   "execution_count": 1,
   "id": "7c6f9257",
   "metadata": {
    "execution": {
     "iopub.execute_input": "2024-06-06T23:25:02.165104Z",
     "iopub.status.busy": "2024-06-06T23:25:02.164688Z",
     "iopub.status.idle": "2024-06-06T23:25:16.886477Z",
     "shell.execute_reply": "2024-06-06T23:25:16.885046Z"
    },
    "papermill": {
     "duration": 14.732433,
     "end_time": "2024-06-06T23:25:16.890207",
     "exception": false,
     "start_time": "2024-06-06T23:25:02.157774",
     "status": "completed"
    },
    "tags": []
   },
   "outputs": [
    {
     "name": "stderr",
     "output_type": "stream",
     "text": [
      "2024-06-06 23:25:04.301089: E external/local_xla/xla/stream_executor/cuda/cuda_dnn.cc:9261] Unable to register cuDNN factory: Attempting to register factory for plugin cuDNN when one has already been registered\n",
      "2024-06-06 23:25:04.301189: E external/local_xla/xla/stream_executor/cuda/cuda_fft.cc:607] Unable to register cuFFT factory: Attempting to register factory for plugin cuFFT when one has already been registered\n",
      "2024-06-06 23:25:04.435683: E external/local_xla/xla/stream_executor/cuda/cuda_blas.cc:1515] Unable to register cuBLAS factory: Attempting to register factory for plugin cuBLAS when one has already been registered\n"
     ]
    }
   ],
   "source": [
    "import os\n",
    "import cv2\n",
    "import keras\n",
    "import shutil\n",
    "import random\n",
    "import gc\n",
    "import numpy as np\n",
    "import pandas as pd \n",
    "import tensorflow as tf\n",
    "from PIL import Image, UnidentifiedImageError\n",
    "from tensorflow.keras.preprocessing.image import load_img, img_to_array\n",
    "from tensorflow.keras.layers import Input, Average, Dense ,Layer\n",
    "from tensorflow.keras.layers import Concatenate, GlobalAveragePooling2D\n",
    "from sklearn.model_selection import train_test_split\n",
    "from keras.callbacks import EarlyStopping, ModelCheckpoint, LearningRateScheduler, TensorBoard\n",
    "from keras.layers import Concatenate\n",
    "from keras.models import load_model\n",
    "from tensorflow.keras.applications import Xception,EfficientNetB0\n",
    "from tensorflow.keras.utils import Sequence\n",
    "from tensorflow.keras import mixed_precision , applications,layers\n",
    "from keras.applications.resnet50 import preprocess_input\n",
    "mixed_precision.set_global_policy('mixed_float16')"
   ]
  },
  {
   "cell_type": "code",
   "execution_count": 2,
   "id": "c6b71407",
   "metadata": {
    "execution": {
     "iopub.execute_input": "2024-06-06T23:25:16.904508Z",
     "iopub.status.busy": "2024-06-06T23:25:16.902912Z",
     "iopub.status.idle": "2024-06-06T23:25:16.909912Z",
     "shell.execute_reply": "2024-06-06T23:25:16.908857Z"
    },
    "papermill": {
     "duration": 0.017079,
     "end_time": "2024-06-06T23:25:16.912756",
     "exception": false,
     "start_time": "2024-06-06T23:25:16.895677",
     "status": "completed"
    },
    "tags": []
   },
   "outputs": [],
   "source": [
    "image_shape = (224, 224, 3)\n",
    "num_classes = 5  \n",
    "num_views = 7\n",
    "batch_size = 32"
   ]
  },
  {
   "cell_type": "code",
   "execution_count": 3,
   "id": "f7c07c50",
   "metadata": {
    "execution": {
     "iopub.execute_input": "2024-06-06T23:25:16.929306Z",
     "iopub.status.busy": "2024-06-06T23:25:16.928640Z",
     "iopub.status.idle": "2024-06-06T23:25:16.937421Z",
     "shell.execute_reply": "2024-06-06T23:25:16.936210Z"
    },
    "papermill": {
     "duration": 0.019716,
     "end_time": "2024-06-06T23:25:16.939985",
     "exception": false,
     "start_time": "2024-06-06T23:25:16.920269",
     "status": "completed"
    },
    "tags": []
   },
   "outputs": [
    {
     "data": {
      "text/plain": [
       "'# Source path of the model\\nsource_path = \"/kaggle/input/bonetype/BoneType_ResNet50.keras\"\\n\\n# Destination path where you can write\\ndestination_path = \"/kaggle/working/model.keras\"\\n\\n# Copy the model file\\nshutil.copyfile(source_path, destination_path)\\n\\n# Now load the model from the copied file\\nbase_model = load_model(destination_path)'"
      ]
     },
     "execution_count": 3,
     "metadata": {},
     "output_type": "execute_result"
    }
   ],
   "source": [
    "'''# Source path of the model\n",
    "source_path = \"/kaggle/input/bonetype/BoneType_ResNet50.keras\"\n",
    "\n",
    "# Destination path where you can write\n",
    "destination_path = \"/kaggle/working/model.keras\"\n",
    "\n",
    "# Copy the model file\n",
    "shutil.copyfile(source_path, destination_path)\n",
    "\n",
    "# Now load the model from the copied file\n",
    "base_model = load_model(destination_path)'''"
   ]
  },
  {
   "cell_type": "code",
   "execution_count": 4,
   "id": "a5864eba",
   "metadata": {
    "execution": {
     "iopub.execute_input": "2024-06-06T23:25:16.952696Z",
     "iopub.status.busy": "2024-06-06T23:25:16.952295Z",
     "iopub.status.idle": "2024-06-06T23:25:16.972662Z",
     "shell.execute_reply": "2024-06-06T23:25:16.971497Z"
    },
    "papermill": {
     "duration": 0.030002,
     "end_time": "2024-06-06T23:25:16.975481",
     "exception": false,
     "start_time": "2024-06-06T23:25:16.945479",
     "status": "completed"
    },
    "tags": []
   },
   "outputs": [],
   "source": [
    "class CustomDataGenerator(Sequence):\n",
    "    def __init__(self, image_paths, labels, batch_size, image_shape, num_classes, num_views=num_views):\n",
    "        super().__init__()\n",
    "        self.image_paths = list(image_paths)\n",
    "        self.labels = list(labels)\n",
    "        self.batch_size = batch_size\n",
    "        self.image_shape = image_shape\n",
    "        self.num_classes = num_classes\n",
    "        self.num_views = num_views\n",
    "        self.on_epoch_end()\n",
    "\n",
    "    def __len__(self):\n",
    "        return int(np.floor(len(self.image_paths) / self.batch_size))\n",
    "\n",
    "    def __getitem__(self, index):\n",
    "        indices = self.indices[index * self.batch_size:(index + 1) * self.batch_size]\n",
    "        batch_image_paths = [self.image_paths[i] for i in indices]\n",
    "        batch_labels = [self.labels[i] for i in indices]\n",
    "\n",
    "        images = []\n",
    "        for folder_path in batch_image_paths:\n",
    "            images.append(self._load_and_pad_images(folder_path, self.image_shape))\n",
    "\n",
    "        images = np.array(images)  # Shape: (batch_size, num_views, height, width, channels)\n",
    "        batch_labels = tf.keras.utils.to_categorical(batch_labels, num_classes=self.num_classes)\n",
    "\n",
    "        # Transpose the batch to separate views as different inputs\n",
    "        images = [images[:, i, :, :, :] for i in range(self.num_views)]\n",
    "        \n",
    "        # Convert to tuple of tensors\n",
    "        images = tuple(tf.convert_to_tensor(img) for img in images)\n",
    "        batch_labels = tf.convert_to_tensor(batch_labels)\n",
    "\n",
    "        return images, batch_labels\n",
    "\n",
    "    def on_epoch_end(self):\n",
    "        self.indices = np.arange(len(self.image_paths))\n",
    "        np.random.shuffle(self.indices)\n",
    "\n",
    "    def _load_and_pad_images(self, folder_path, image_shape):\n",
    "        image_paths = [os.path.join(folder_path, f) for f in os.listdir(folder_path)\n",
    "                       if f.endswith((\".jpg\", \".jpeg\", \".png\")) and not f.startswith(\"._\")]\n",
    "\n",
    "        if not image_paths:\n",
    "            logger.error(f\"No valid images found in folder: {folder_path}\")\n",
    "            return [np.zeros((image_shape[0], image_shape[1], image_shape[2]))] * self.num_views\n",
    "\n",
    "        if len(image_paths) > self.num_views:\n",
    "            image_paths = random.sample(image_paths, self.num_views)\n",
    "\n",
    "        processed_images = []\n",
    "        for image_path in image_paths:\n",
    "            try:\n",
    "                img = load_img(image_path, target_size=image_shape)\n",
    "                img_array = img_to_array(img)\n",
    "                img_array = img_array / 255.0\n",
    "                preprocessed_img_array = preprocess_input(img_array)\n",
    "                processed_images.append(preprocessed_img_array)\n",
    "            except Exception as e:\n",
    "                logger.warning(f\"Warning: Skipping unidentifiable image file: {image_path} due to {e}\")\n",
    "                processed_images.append(np.zeros((image_shape[0], image_shape[1], image_shape[2])))\n",
    "\n",
    "        while len(processed_images) < self.num_views:\n",
    "            processed_images.append(np.zeros((image_shape[0], image_shape[1], image_shape[2])))\n",
    "\n",
    "        return np.array(processed_images)\n"
   ]
  },
  {
   "cell_type": "code",
   "execution_count": 5,
   "id": "169b9871",
   "metadata": {
    "execution": {
     "iopub.execute_input": "2024-06-06T23:25:16.992065Z",
     "iopub.status.busy": "2024-06-06T23:25:16.991056Z",
     "iopub.status.idle": "2024-06-06T23:25:17.116810Z",
     "shell.execute_reply": "2024-06-06T23:25:17.115325Z"
    },
    "papermill": {
     "duration": 0.136846,
     "end_time": "2024-06-06T23:25:17.119756",
     "exception": false,
     "start_time": "2024-06-06T23:25:16.982910",
     "status": "completed"
    },
    "tags": []
   },
   "outputs": [
    {
     "name": "stdout",
     "output_type": "stream",
     "text": [
      "                                                    Path Bone_type\n",
      "9666   /kaggle/input/mura-v11/MURA-v1.1/train/XR_WRIS...         1\n",
      "9719   /kaggle/input/mura-v11/MURA-v1.1/train/XR_WRIS...         1\n",
      "5328   /kaggle/input/mura-v11/MURA-v1.1/train/XR_FING...         4\n",
      "2159   /kaggle/input/mura-v11/MURA-v1.1/train/XR_SHOU...         0\n",
      "4740   /kaggle/input/mura-v11/MURA-v1.1/train/XR_FING...         4\n",
      "...                                                  ...       ...\n",
      "8405   /kaggle/input/mura-v11/MURA-v1.1/train/XR_WRIS...         1\n",
      "12424  /kaggle/input/mura-v11/MURA-v1.1/train/XR_HAND...         2\n",
      "905    /kaggle/input/mura-v11/MURA-v1.1/train/XR_SHOU...         0\n",
      "5784   /kaggle/input/mura-v11/MURA-v1.1/train/XR_ELBO...         3\n",
      "235    /kaggle/input/mura-v11/MURA-v1.1/train/XR_SHOU...         0\n",
      "\n",
      "[9590 rows x 2 columns]\n",
      "===============Done with training images===================\n",
      "===============Done with test images===================\n"
     ]
    }
   ],
   "source": [
    "bone_type_mapping = {'SHOULDER': 0, 'WRIST': 1, 'HAND': 2, 'ELBOW': 3, 'FINGER': 4}\n",
    "prefix = '/kaggle/input/mura-v11/'\n",
    "output_directory = '/kaggle/working'\n",
    "train_excel_file_path = '/kaggle/input/csv-for-multiview/Patients with bone type for multiview.csv'\n",
    "df = pd.read_csv(train_excel_file_path, header=None,names=['Path', 'Abnormal','Bone_type'])\n",
    "df = df[~df['Path'].str.contains('XR_FOREARM|XR_HUMERUS')]\n",
    "df['Bone_type'] = df['Bone_type'].map(bone_type_mapping).astype(int)\n",
    "paths = prefix + df['Path'].astype(str)\n",
    "labels = df['Bone_type']\n",
    "labels = labels.astype(str)\n",
    "t_images = pd.concat([paths, labels], axis=1)\n",
    "train_df, test_df = train_test_split(t_images, train_size=0.8, shuffle=True, random_state=1)\n",
    "print(train_df)\n",
    "print(\"===============Done with training images===================\")\n",
    "test_excel_file_path = '/kaggle/input/csv-for-multiview/validation Patients with bone type for multiview.csv'\n",
    "df = pd.read_csv(test_excel_file_path, header=None,names=['Path', 'Abnormal','Bone_type'])\n",
    "df = df[~df['Path'].str.contains('XR_FOREARM|XR_HUMERUS')]\n",
    "df['Bone_type'] = df['Bone_type'].map(bone_type_mapping).astype(int)\n",
    "paths = prefix + df['Path'].astype(str)\n",
    "labels = df['Bone_type']\n",
    "labels = labels.astype(str)\n",
    "v_images = pd.concat([paths, labels], axis=1)\n",
    "print(\"===============Done with test images===================\")"
   ]
  },
  {
   "cell_type": "code",
   "execution_count": 6,
   "id": "6efb187b",
   "metadata": {
    "_cell_guid": "b1076dfc-b9ad-4769-8c92-a6c4dae69d19",
    "_uuid": "8f2839f25d086af736a60e9eeb907d3b93b6e0e5",
    "execution": {
     "iopub.execute_input": "2024-06-06T23:25:17.135703Z",
     "iopub.status.busy": "2024-06-06T23:25:17.135264Z",
     "iopub.status.idle": "2024-06-06T23:25:17.150961Z",
     "shell.execute_reply": "2024-06-06T23:25:17.149948Z"
    },
    "papermill": {
     "duration": 0.026206,
     "end_time": "2024-06-06T23:25:17.153245",
     "exception": false,
     "start_time": "2024-06-06T23:25:17.127039",
     "status": "completed"
    },
    "tags": []
   },
   "outputs": [],
   "source": [
    "#Data Generators Initialization \n",
    "train_paths,train_labels = train_df['Path'] , train_df['Bone_type']\n",
    "valid_paths,valid_labels = test_df['Path'] , test_df['Bone_type']\n",
    "test_paths,test_labels = v_images['Path'] , v_images['Bone_type']\n",
    "\n",
    "train_generator = CustomDataGenerator(train_paths, train_labels, batch_size, image_shape, num_classes)\n",
    "valid_generator = CustomDataGenerator(valid_paths, valid_labels, batch_size, image_shape, num_classes)\n",
    "test_generator = CustomDataGenerator(test_paths, test_labels, batch_size, image_shape, num_classes)"
   ]
  },
  {
   "cell_type": "code",
   "execution_count": 7,
   "id": "e0d3f6b3",
   "metadata": {
    "execution": {
     "iopub.execute_input": "2024-06-06T23:25:17.165906Z",
     "iopub.status.busy": "2024-06-06T23:25:17.165415Z",
     "iopub.status.idle": "2024-06-06T23:25:17.174258Z",
     "shell.execute_reply": "2024-06-06T23:25:17.173283Z"
    },
    "papermill": {
     "duration": 0.017598,
     "end_time": "2024-06-06T23:25:17.176501",
     "exception": false,
     "start_time": "2024-06-06T23:25:17.158903",
     "status": "completed"
    },
    "tags": []
   },
   "outputs": [],
   "source": [
    "#Callbacks Initialization\n",
    "checkpoint_path = '/kaggle/working/multiple_view_shoulder_v2.keras'\n",
    "Monitored_metric= 'val_loss' \n",
    "# Create an EarlyStopping callback\n",
    "early_stopping = EarlyStopping(monitor=Monitored_metric,  # The metric to monitor for early stopping\n",
    "                               patience=10,  # Number of epochs with no improvement after which training will be stopped\n",
    "                               verbose=1,  # Verbosity level\n",
    "                               restore_best_weights=True)  # Restore model weights from the epoch with the best value of the monitored metric\n",
    "\n",
    "# Create a ModelCheckpoint callback\n",
    "model_checkpoint = ModelCheckpoint(checkpoint_path,\n",
    "                                   monitor=Monitored_metric,  # The metric to monitor for saving the best model\n",
    "                                   save_best_only=True,  # Save only the best model\n",
    "                                   mode='min',  # Mode for the 'monitor' metric (e.g., 'min' for loss)\n",
    "                                   verbose=1)  # Verbosity level\n",
    "learn_control = tf.keras.callbacks.ReduceLROnPlateau(monitor=Monitored_metric, \n",
    "                                  patience=4,\n",
    "                                  verbose=1,\n",
    "                                  factor=0.2, \n",
    "                                  min_lr=1e-7)"
   ]
  },
  {
   "cell_type": "code",
   "execution_count": 8,
   "id": "b01834ad",
   "metadata": {
    "execution": {
     "iopub.execute_input": "2024-06-06T23:25:17.188288Z",
     "iopub.status.busy": "2024-06-06T23:25:17.187895Z",
     "iopub.status.idle": "2024-06-06T23:25:17.200402Z",
     "shell.execute_reply": "2024-06-06T23:25:17.199230Z"
    },
    "papermill": {
     "duration": 0.021001,
     "end_time": "2024-06-06T23:25:17.202760",
     "exception": false,
     "start_time": "2024-06-06T23:25:17.181759",
     "status": "completed"
    },
    "tags": []
   },
   "outputs": [],
   "source": [
    "class AttentionLayer(Layer):\n",
    "    def __init__(self, **kwargs):\n",
    "        super(AttentionLayer, self).__init__(**kwargs)\n",
    "        self.dense = None\n",
    "        self.attention_weights = None\n",
    "\n",
    "    def build(self, input_shape):\n",
    "        self.dense = Dense(input_shape[-1], activation='tanh')\n",
    "        self.attention_weights = Dense(1)\n",
    "        super(AttentionLayer, self).build(input_shape)\n",
    "\n",
    "    def call(self, inputs):\n",
    "        dense_features = self.dense(inputs)\n",
    "        raw_attention_scores = self.attention_weights(dense_features)\n",
    "        attention_scores = tf.nn.softmax(raw_attention_scores, axis=1)\n",
    "        context_vector = tf.reduce_sum(attention_scores * inputs, axis=1)\n",
    "        return context_vector\n",
    "        return context_vector\n",
    "    \n",
    "class StackLayer(Layer):\n",
    "    def __init__(self, axis, **kwargs):\n",
    "        super(StackLayer, self).__init__(**kwargs)\n",
    "        self.axis = axis\n",
    "\n",
    "    def call(self, inputs):\n",
    "        return tf.stack(inputs, axis=self.axis)"
   ]
  },
  {
   "cell_type": "code",
   "execution_count": 9,
   "id": "23ddd558",
   "metadata": {
    "execution": {
     "iopub.execute_input": "2024-06-06T23:25:17.219997Z",
     "iopub.status.busy": "2024-06-06T23:25:17.216831Z",
     "iopub.status.idle": "2024-06-06T23:25:20.695748Z",
     "shell.execute_reply": "2024-06-06T23:25:20.694765Z"
    },
    "papermill": {
     "duration": 3.489639,
     "end_time": "2024-06-06T23:25:20.698004",
     "exception": false,
     "start_time": "2024-06-06T23:25:17.208365",
     "status": "completed"
    },
    "tags": []
   },
   "outputs": [
    {
     "name": "stdout",
     "output_type": "stream",
     "text": [
      "Downloading data from https://storage.googleapis.com/tensorflow/keras-applications/resnet/resnet50_weights_tf_dim_ordering_tf_kernels_notop.h5\n",
      "\u001b[1m94765736/94765736\u001b[0m \u001b[32m━━━━━━━━━━━━━━━━━━━━\u001b[0m\u001b[37m\u001b[0m \u001b[1m1s\u001b[0m 0us/step\n"
     ]
    },
    {
     "data": {
      "text/html": [
       "<pre style=\"white-space:pre;overflow-x:auto;line-height:normal;font-family:Menlo,'DejaVu Sans Mono',consolas,'Courier New',monospace\"><span style=\"font-weight: bold\">Model: \"functional_1\"</span>\n",
       "</pre>\n"
      ],
      "text/plain": [
       "\u001b[1mModel: \"functional_1\"\u001b[0m\n"
      ]
     },
     "metadata": {},
     "output_type": "display_data"
    },
    {
     "data": {
      "text/html": [
       "<pre style=\"white-space:pre;overflow-x:auto;line-height:normal;font-family:Menlo,'DejaVu Sans Mono',consolas,'Courier New',monospace\">┏━━━━━━━━━━━━━━━━━━━━━┳━━━━━━━━━━━━━━━━━━━┳━━━━━━━━━━━━┳━━━━━━━━━━━━━━━━━━━┓\n",
       "┃<span style=\"font-weight: bold\"> Layer (type)        </span>┃<span style=\"font-weight: bold\"> Output Shape      </span>┃<span style=\"font-weight: bold\">    Param # </span>┃<span style=\"font-weight: bold\"> Connected to      </span>┃\n",
       "┡━━━━━━━━━━━━━━━━━━━━━╇━━━━━━━━━━━━━━━━━━━╇━━━━━━━━━━━━╇━━━━━━━━━━━━━━━━━━━┩\n",
       "│ input_layer_1       │ (<span style=\"color: #00d7ff; text-decoration-color: #00d7ff\">None</span>, <span style=\"color: #00af00; text-decoration-color: #00af00\">224</span>, <span style=\"color: #00af00; text-decoration-color: #00af00\">224</span>,  │          <span style=\"color: #00af00; text-decoration-color: #00af00\">0</span> │ -                 │\n",
       "│ (<span style=\"color: #0087ff; text-decoration-color: #0087ff\">InputLayer</span>)        │ <span style=\"color: #00af00; text-decoration-color: #00af00\">3</span>)                │            │                   │\n",
       "├─────────────────────┼───────────────────┼────────────┼───────────────────┤\n",
       "│ input_layer_2       │ (<span style=\"color: #00d7ff; text-decoration-color: #00d7ff\">None</span>, <span style=\"color: #00af00; text-decoration-color: #00af00\">224</span>, <span style=\"color: #00af00; text-decoration-color: #00af00\">224</span>,  │          <span style=\"color: #00af00; text-decoration-color: #00af00\">0</span> │ -                 │\n",
       "│ (<span style=\"color: #0087ff; text-decoration-color: #0087ff\">InputLayer</span>)        │ <span style=\"color: #00af00; text-decoration-color: #00af00\">3</span>)                │            │                   │\n",
       "├─────────────────────┼───────────────────┼────────────┼───────────────────┤\n",
       "│ input_layer_3       │ (<span style=\"color: #00d7ff; text-decoration-color: #00d7ff\">None</span>, <span style=\"color: #00af00; text-decoration-color: #00af00\">224</span>, <span style=\"color: #00af00; text-decoration-color: #00af00\">224</span>,  │          <span style=\"color: #00af00; text-decoration-color: #00af00\">0</span> │ -                 │\n",
       "│ (<span style=\"color: #0087ff; text-decoration-color: #0087ff\">InputLayer</span>)        │ <span style=\"color: #00af00; text-decoration-color: #00af00\">3</span>)                │            │                   │\n",
       "├─────────────────────┼───────────────────┼────────────┼───────────────────┤\n",
       "│ input_layer_4       │ (<span style=\"color: #00d7ff; text-decoration-color: #00d7ff\">None</span>, <span style=\"color: #00af00; text-decoration-color: #00af00\">224</span>, <span style=\"color: #00af00; text-decoration-color: #00af00\">224</span>,  │          <span style=\"color: #00af00; text-decoration-color: #00af00\">0</span> │ -                 │\n",
       "│ (<span style=\"color: #0087ff; text-decoration-color: #0087ff\">InputLayer</span>)        │ <span style=\"color: #00af00; text-decoration-color: #00af00\">3</span>)                │            │                   │\n",
       "├─────────────────────┼───────────────────┼────────────┼───────────────────┤\n",
       "│ input_layer_5       │ (<span style=\"color: #00d7ff; text-decoration-color: #00d7ff\">None</span>, <span style=\"color: #00af00; text-decoration-color: #00af00\">224</span>, <span style=\"color: #00af00; text-decoration-color: #00af00\">224</span>,  │          <span style=\"color: #00af00; text-decoration-color: #00af00\">0</span> │ -                 │\n",
       "│ (<span style=\"color: #0087ff; text-decoration-color: #0087ff\">InputLayer</span>)        │ <span style=\"color: #00af00; text-decoration-color: #00af00\">3</span>)                │            │                   │\n",
       "├─────────────────────┼───────────────────┼────────────┼───────────────────┤\n",
       "│ input_layer_6       │ (<span style=\"color: #00d7ff; text-decoration-color: #00d7ff\">None</span>, <span style=\"color: #00af00; text-decoration-color: #00af00\">224</span>, <span style=\"color: #00af00; text-decoration-color: #00af00\">224</span>,  │          <span style=\"color: #00af00; text-decoration-color: #00af00\">0</span> │ -                 │\n",
       "│ (<span style=\"color: #0087ff; text-decoration-color: #0087ff\">InputLayer</span>)        │ <span style=\"color: #00af00; text-decoration-color: #00af00\">3</span>)                │            │                   │\n",
       "├─────────────────────┼───────────────────┼────────────┼───────────────────┤\n",
       "│ input_layer_7       │ (<span style=\"color: #00d7ff; text-decoration-color: #00d7ff\">None</span>, <span style=\"color: #00af00; text-decoration-color: #00af00\">224</span>, <span style=\"color: #00af00; text-decoration-color: #00af00\">224</span>,  │          <span style=\"color: #00af00; text-decoration-color: #00af00\">0</span> │ -                 │\n",
       "│ (<span style=\"color: #0087ff; text-decoration-color: #0087ff\">InputLayer</span>)        │ <span style=\"color: #00af00; text-decoration-color: #00af00\">3</span>)                │            │                   │\n",
       "├─────────────────────┼───────────────────┼────────────┼───────────────────┤\n",
       "│ resnet50            │ (<span style=\"color: #00d7ff; text-decoration-color: #00d7ff\">None</span>, <span style=\"color: #00af00; text-decoration-color: #00af00\">7</span>, <span style=\"color: #00af00; text-decoration-color: #00af00\">7</span>,      │ <span style=\"color: #00af00; text-decoration-color: #00af00\">23,587,712</span> │ input_layer_1[<span style=\"color: #00af00; text-decoration-color: #00af00\">0</span>]… │\n",
       "│ (<span style=\"color: #0087ff; text-decoration-color: #0087ff\">Functional</span>)        │ <span style=\"color: #00af00; text-decoration-color: #00af00\">2048</span>)             │            │ input_layer_2[<span style=\"color: #00af00; text-decoration-color: #00af00\">0</span>]… │\n",
       "│                     │                   │            │ input_layer_3[<span style=\"color: #00af00; text-decoration-color: #00af00\">0</span>]… │\n",
       "│                     │                   │            │ input_layer_4[<span style=\"color: #00af00; text-decoration-color: #00af00\">0</span>]… │\n",
       "│                     │                   │            │ input_layer_5[<span style=\"color: #00af00; text-decoration-color: #00af00\">0</span>]… │\n",
       "│                     │                   │            │ input_layer_6[<span style=\"color: #00af00; text-decoration-color: #00af00\">0</span>]… │\n",
       "│                     │                   │            │ input_layer_7[<span style=\"color: #00af00; text-decoration-color: #00af00\">0</span>]… │\n",
       "├─────────────────────┼───────────────────┼────────────┼───────────────────┤\n",
       "│ concatenate         │ (<span style=\"color: #00d7ff; text-decoration-color: #00d7ff\">None</span>, <span style=\"color: #00af00; text-decoration-color: #00af00\">7</span>, <span style=\"color: #00af00; text-decoration-color: #00af00\">7</span>,      │          <span style=\"color: #00af00; text-decoration-color: #00af00\">0</span> │ resnet50[<span style=\"color: #00af00; text-decoration-color: #00af00\">0</span>][<span style=\"color: #00af00; text-decoration-color: #00af00\">0</span>],   │\n",
       "│ (<span style=\"color: #0087ff; text-decoration-color: #0087ff\">Concatenate</span>)       │ <span style=\"color: #00af00; text-decoration-color: #00af00\">14336</span>)            │            │ resnet50[<span style=\"color: #00af00; text-decoration-color: #00af00\">1</span>][<span style=\"color: #00af00; text-decoration-color: #00af00\">0</span>],   │\n",
       "│                     │                   │            │ resnet50[<span style=\"color: #00af00; text-decoration-color: #00af00\">2</span>][<span style=\"color: #00af00; text-decoration-color: #00af00\">0</span>],   │\n",
       "│                     │                   │            │ resnet50[<span style=\"color: #00af00; text-decoration-color: #00af00\">3</span>][<span style=\"color: #00af00; text-decoration-color: #00af00\">0</span>],   │\n",
       "│                     │                   │            │ resnet50[<span style=\"color: #00af00; text-decoration-color: #00af00\">4</span>][<span style=\"color: #00af00; text-decoration-color: #00af00\">0</span>],   │\n",
       "│                     │                   │            │ resnet50[<span style=\"color: #00af00; text-decoration-color: #00af00\">5</span>][<span style=\"color: #00af00; text-decoration-color: #00af00\">0</span>],   │\n",
       "│                     │                   │            │ resnet50[<span style=\"color: #00af00; text-decoration-color: #00af00\">6</span>][<span style=\"color: #00af00; text-decoration-color: #00af00\">0</span>]    │\n",
       "├─────────────────────┼───────────────────┼────────────┼───────────────────┤\n",
       "│ global_average_poo… │ (<span style=\"color: #00d7ff; text-decoration-color: #00d7ff\">None</span>, <span style=\"color: #00af00; text-decoration-color: #00af00\">14336</span>)     │          <span style=\"color: #00af00; text-decoration-color: #00af00\">0</span> │ concatenate[<span style=\"color: #00af00; text-decoration-color: #00af00\">0</span>][<span style=\"color: #00af00; text-decoration-color: #00af00\">0</span>] │\n",
       "│ (<span style=\"color: #0087ff; text-decoration-color: #0087ff\">GlobalAveragePool…</span> │                   │            │                   │\n",
       "├─────────────────────┼───────────────────┼────────────┼───────────────────┤\n",
       "│ dense (<span style=\"color: #0087ff; text-decoration-color: #0087ff\">Dense</span>)       │ (<span style=\"color: #00d7ff; text-decoration-color: #00d7ff\">None</span>, <span style=\"color: #00af00; text-decoration-color: #00af00\">512</span>)       │  <span style=\"color: #00af00; text-decoration-color: #00af00\">7,340,544</span> │ global_average_p… │\n",
       "├─────────────────────┼───────────────────┼────────────┼───────────────────┤\n",
       "│ dropout (<span style=\"color: #0087ff; text-decoration-color: #0087ff\">Dropout</span>)   │ (<span style=\"color: #00d7ff; text-decoration-color: #00d7ff\">None</span>, <span style=\"color: #00af00; text-decoration-color: #00af00\">512</span>)       │          <span style=\"color: #00af00; text-decoration-color: #00af00\">0</span> │ dense[<span style=\"color: #00af00; text-decoration-color: #00af00\">0</span>][<span style=\"color: #00af00; text-decoration-color: #00af00\">0</span>]       │\n",
       "├─────────────────────┼───────────────────┼────────────┼───────────────────┤\n",
       "│ dense_1 (<span style=\"color: #0087ff; text-decoration-color: #0087ff\">Dense</span>)     │ (<span style=\"color: #00d7ff; text-decoration-color: #00d7ff\">None</span>, <span style=\"color: #00af00; text-decoration-color: #00af00\">5</span>)         │      <span style=\"color: #00af00; text-decoration-color: #00af00\">2,565</span> │ dropout[<span style=\"color: #00af00; text-decoration-color: #00af00\">0</span>][<span style=\"color: #00af00; text-decoration-color: #00af00\">0</span>]     │\n",
       "└─────────────────────┴───────────────────┴────────────┴───────────────────┘\n",
       "</pre>\n"
      ],
      "text/plain": [
       "┏━━━━━━━━━━━━━━━━━━━━━┳━━━━━━━━━━━━━━━━━━━┳━━━━━━━━━━━━┳━━━━━━━━━━━━━━━━━━━┓\n",
       "┃\u001b[1m \u001b[0m\u001b[1mLayer (type)       \u001b[0m\u001b[1m \u001b[0m┃\u001b[1m \u001b[0m\u001b[1mOutput Shape     \u001b[0m\u001b[1m \u001b[0m┃\u001b[1m \u001b[0m\u001b[1m   Param #\u001b[0m\u001b[1m \u001b[0m┃\u001b[1m \u001b[0m\u001b[1mConnected to     \u001b[0m\u001b[1m \u001b[0m┃\n",
       "┡━━━━━━━━━━━━━━━━━━━━━╇━━━━━━━━━━━━━━━━━━━╇━━━━━━━━━━━━╇━━━━━━━━━━━━━━━━━━━┩\n",
       "│ input_layer_1       │ (\u001b[38;5;45mNone\u001b[0m, \u001b[38;5;34m224\u001b[0m, \u001b[38;5;34m224\u001b[0m,  │          \u001b[38;5;34m0\u001b[0m │ -                 │\n",
       "│ (\u001b[38;5;33mInputLayer\u001b[0m)        │ \u001b[38;5;34m3\u001b[0m)                │            │                   │\n",
       "├─────────────────────┼───────────────────┼────────────┼───────────────────┤\n",
       "│ input_layer_2       │ (\u001b[38;5;45mNone\u001b[0m, \u001b[38;5;34m224\u001b[0m, \u001b[38;5;34m224\u001b[0m,  │          \u001b[38;5;34m0\u001b[0m │ -                 │\n",
       "│ (\u001b[38;5;33mInputLayer\u001b[0m)        │ \u001b[38;5;34m3\u001b[0m)                │            │                   │\n",
       "├─────────────────────┼───────────────────┼────────────┼───────────────────┤\n",
       "│ input_layer_3       │ (\u001b[38;5;45mNone\u001b[0m, \u001b[38;5;34m224\u001b[0m, \u001b[38;5;34m224\u001b[0m,  │          \u001b[38;5;34m0\u001b[0m │ -                 │\n",
       "│ (\u001b[38;5;33mInputLayer\u001b[0m)        │ \u001b[38;5;34m3\u001b[0m)                │            │                   │\n",
       "├─────────────────────┼───────────────────┼────────────┼───────────────────┤\n",
       "│ input_layer_4       │ (\u001b[38;5;45mNone\u001b[0m, \u001b[38;5;34m224\u001b[0m, \u001b[38;5;34m224\u001b[0m,  │          \u001b[38;5;34m0\u001b[0m │ -                 │\n",
       "│ (\u001b[38;5;33mInputLayer\u001b[0m)        │ \u001b[38;5;34m3\u001b[0m)                │            │                   │\n",
       "├─────────────────────┼───────────────────┼────────────┼───────────────────┤\n",
       "│ input_layer_5       │ (\u001b[38;5;45mNone\u001b[0m, \u001b[38;5;34m224\u001b[0m, \u001b[38;5;34m224\u001b[0m,  │          \u001b[38;5;34m0\u001b[0m │ -                 │\n",
       "│ (\u001b[38;5;33mInputLayer\u001b[0m)        │ \u001b[38;5;34m3\u001b[0m)                │            │                   │\n",
       "├─────────────────────┼───────────────────┼────────────┼───────────────────┤\n",
       "│ input_layer_6       │ (\u001b[38;5;45mNone\u001b[0m, \u001b[38;5;34m224\u001b[0m, \u001b[38;5;34m224\u001b[0m,  │          \u001b[38;5;34m0\u001b[0m │ -                 │\n",
       "│ (\u001b[38;5;33mInputLayer\u001b[0m)        │ \u001b[38;5;34m3\u001b[0m)                │            │                   │\n",
       "├─────────────────────┼───────────────────┼────────────┼───────────────────┤\n",
       "│ input_layer_7       │ (\u001b[38;5;45mNone\u001b[0m, \u001b[38;5;34m224\u001b[0m, \u001b[38;5;34m224\u001b[0m,  │          \u001b[38;5;34m0\u001b[0m │ -                 │\n",
       "│ (\u001b[38;5;33mInputLayer\u001b[0m)        │ \u001b[38;5;34m3\u001b[0m)                │            │                   │\n",
       "├─────────────────────┼───────────────────┼────────────┼───────────────────┤\n",
       "│ resnet50            │ (\u001b[38;5;45mNone\u001b[0m, \u001b[38;5;34m7\u001b[0m, \u001b[38;5;34m7\u001b[0m,      │ \u001b[38;5;34m23,587,712\u001b[0m │ input_layer_1[\u001b[38;5;34m0\u001b[0m]… │\n",
       "│ (\u001b[38;5;33mFunctional\u001b[0m)        │ \u001b[38;5;34m2048\u001b[0m)             │            │ input_layer_2[\u001b[38;5;34m0\u001b[0m]… │\n",
       "│                     │                   │            │ input_layer_3[\u001b[38;5;34m0\u001b[0m]… │\n",
       "│                     │                   │            │ input_layer_4[\u001b[38;5;34m0\u001b[0m]… │\n",
       "│                     │                   │            │ input_layer_5[\u001b[38;5;34m0\u001b[0m]… │\n",
       "│                     │                   │            │ input_layer_6[\u001b[38;5;34m0\u001b[0m]… │\n",
       "│                     │                   │            │ input_layer_7[\u001b[38;5;34m0\u001b[0m]… │\n",
       "├─────────────────────┼───────────────────┼────────────┼───────────────────┤\n",
       "│ concatenate         │ (\u001b[38;5;45mNone\u001b[0m, \u001b[38;5;34m7\u001b[0m, \u001b[38;5;34m7\u001b[0m,      │          \u001b[38;5;34m0\u001b[0m │ resnet50[\u001b[38;5;34m0\u001b[0m][\u001b[38;5;34m0\u001b[0m],   │\n",
       "│ (\u001b[38;5;33mConcatenate\u001b[0m)       │ \u001b[38;5;34m14336\u001b[0m)            │            │ resnet50[\u001b[38;5;34m1\u001b[0m][\u001b[38;5;34m0\u001b[0m],   │\n",
       "│                     │                   │            │ resnet50[\u001b[38;5;34m2\u001b[0m][\u001b[38;5;34m0\u001b[0m],   │\n",
       "│                     │                   │            │ resnet50[\u001b[38;5;34m3\u001b[0m][\u001b[38;5;34m0\u001b[0m],   │\n",
       "│                     │                   │            │ resnet50[\u001b[38;5;34m4\u001b[0m][\u001b[38;5;34m0\u001b[0m],   │\n",
       "│                     │                   │            │ resnet50[\u001b[38;5;34m5\u001b[0m][\u001b[38;5;34m0\u001b[0m],   │\n",
       "│                     │                   │            │ resnet50[\u001b[38;5;34m6\u001b[0m][\u001b[38;5;34m0\u001b[0m]    │\n",
       "├─────────────────────┼───────────────────┼────────────┼───────────────────┤\n",
       "│ global_average_poo… │ (\u001b[38;5;45mNone\u001b[0m, \u001b[38;5;34m14336\u001b[0m)     │          \u001b[38;5;34m0\u001b[0m │ concatenate[\u001b[38;5;34m0\u001b[0m][\u001b[38;5;34m0\u001b[0m] │\n",
       "│ (\u001b[38;5;33mGlobalAveragePool…\u001b[0m │                   │            │                   │\n",
       "├─────────────────────┼───────────────────┼────────────┼───────────────────┤\n",
       "│ dense (\u001b[38;5;33mDense\u001b[0m)       │ (\u001b[38;5;45mNone\u001b[0m, \u001b[38;5;34m512\u001b[0m)       │  \u001b[38;5;34m7,340,544\u001b[0m │ global_average_p… │\n",
       "├─────────────────────┼───────────────────┼────────────┼───────────────────┤\n",
       "│ dropout (\u001b[38;5;33mDropout\u001b[0m)   │ (\u001b[38;5;45mNone\u001b[0m, \u001b[38;5;34m512\u001b[0m)       │          \u001b[38;5;34m0\u001b[0m │ dense[\u001b[38;5;34m0\u001b[0m][\u001b[38;5;34m0\u001b[0m]       │\n",
       "├─────────────────────┼───────────────────┼────────────┼───────────────────┤\n",
       "│ dense_1 (\u001b[38;5;33mDense\u001b[0m)     │ (\u001b[38;5;45mNone\u001b[0m, \u001b[38;5;34m5\u001b[0m)         │      \u001b[38;5;34m2,565\u001b[0m │ dropout[\u001b[38;5;34m0\u001b[0m][\u001b[38;5;34m0\u001b[0m]     │\n",
       "└─────────────────────┴───────────────────┴────────────┴───────────────────┘\n"
      ]
     },
     "metadata": {},
     "output_type": "display_data"
    },
    {
     "data": {
      "text/html": [
       "<pre style=\"white-space:pre;overflow-x:auto;line-height:normal;font-family:Menlo,'DejaVu Sans Mono',consolas,'Courier New',monospace\"><span style=\"font-weight: bold\"> Total params: </span><span style=\"color: #00af00; text-decoration-color: #00af00\">30,930,821</span> (117.99 MB)\n",
       "</pre>\n"
      ],
      "text/plain": [
       "\u001b[1m Total params: \u001b[0m\u001b[38;5;34m30,930,821\u001b[0m (117.99 MB)\n"
      ]
     },
     "metadata": {},
     "output_type": "display_data"
    },
    {
     "data": {
      "text/html": [
       "<pre style=\"white-space:pre;overflow-x:auto;line-height:normal;font-family:Menlo,'DejaVu Sans Mono',consolas,'Courier New',monospace\"><span style=\"font-weight: bold\"> Trainable params: </span><span style=\"color: #00af00; text-decoration-color: #00af00\">7,343,109</span> (28.01 MB)\n",
       "</pre>\n"
      ],
      "text/plain": [
       "\u001b[1m Trainable params: \u001b[0m\u001b[38;5;34m7,343,109\u001b[0m (28.01 MB)\n"
      ]
     },
     "metadata": {},
     "output_type": "display_data"
    },
    {
     "data": {
      "text/html": [
       "<pre style=\"white-space:pre;overflow-x:auto;line-height:normal;font-family:Menlo,'DejaVu Sans Mono',consolas,'Courier New',monospace\"><span style=\"font-weight: bold\"> Non-trainable params: </span><span style=\"color: #00af00; text-decoration-color: #00af00\">23,587,712</span> (89.98 MB)\n",
       "</pre>\n"
      ],
      "text/plain": [
       "\u001b[1m Non-trainable params: \u001b[0m\u001b[38;5;34m23,587,712\u001b[0m (89.98 MB)\n"
      ]
     },
     "metadata": {},
     "output_type": "display_data"
    }
   ],
   "source": [
    "from tensorflow.keras.models import Model\n",
    "#Model Architecture\n",
    "base_model = applications.ResNet50(weights='imagenet', include_top=False, input_shape=image_shape)\n",
    "\n",
    "for layer in base_model.layers:\n",
    "    layer.trainable = False\n",
    "\n",
    "encoded_views = []\n",
    "# Pass each view through the base model\n",
    "inputs = [Input(shape=image_shape) for _ in range(num_views)]\n",
    "for view_input in inputs:\n",
    "    x = base_model(view_input)\n",
    "    encoded_views.append(x)\n",
    "\n",
    "# Flatten the list of lists into a single list of tensors\n",
    "concatenated_features = layers.Concatenate(axis=-1)(encoded_views)\n",
    "x = layers.GlobalAveragePooling2D()(concatenated_features)\n",
    "\n",
    "# Add your custom layers on top of the base model \n",
    "x = layers.Dense(512, activation='relu')(x)\n",
    "x = layers.Dropout(0.5)(x)\n",
    "predictions = layers.Dense(num_classes, activation=\"softmax\")(x)\n",
    "# Create the model\n",
    "model = keras.Model(inputs=inputs, outputs=predictions)\n",
    "\n",
    "# Compile the model\n",
    "model.compile(optimizer=\"nadam\", loss='categorical_crossentropy', metrics=[\"accuracy\",\"recall\"])\n",
    "\n",
    "model.summary()"
   ]
  },
  {
   "cell_type": "code",
   "execution_count": 10,
   "id": "954b06b0",
   "metadata": {
    "execution": {
     "iopub.execute_input": "2024-06-06T23:25:20.713576Z",
     "iopub.status.busy": "2024-06-06T23:25:20.713238Z",
     "iopub.status.idle": "2024-06-07T05:47:58.763658Z",
     "shell.execute_reply": "2024-06-07T05:47:58.762770Z"
    },
    "papermill": {
     "duration": 22958.061196,
     "end_time": "2024-06-07T05:47:58.766236",
     "exception": false,
     "start_time": "2024-06-06T23:25:20.705040",
     "status": "completed"
    },
    "tags": []
   },
   "outputs": [
    {
     "name": "stdout",
     "output_type": "stream",
     "text": [
      "Epoch 1/50\n"
     ]
    },
    {
     "name": "stderr",
     "output_type": "stream",
     "text": [
      "WARNING: All log messages before absl::InitializeLog() is called are written to STDERR\n",
      "I0000 00:00:1717716419.495646      67 device_compiler.h:186] Compiled cluster using XLA!  This line is logged at most once for the lifetime of the process.\n",
      "W0000 00:00:1717716419.808843      67 graph_launch.cc:671] Fallback to op-by-op mode because memset node breaks graph update\n",
      "W0000 00:00:1717716984.064670      69 graph_launch.cc:671] Fallback to op-by-op mode because memset node breaks graph update\n"
     ]
    },
    {
     "name": "stdout",
     "output_type": "stream",
     "text": [
      "\n",
      "Epoch 1: val_loss improved from inf to 1.50145, saving model to /kaggle/working/multiple_view_shoulder_v2.keras\n",
      "299/299 - 783s - 3s/step - accuracy: 0.2989 - loss: 1.8046 - recall: 0.0293 - val_accuracy: 0.3336 - val_loss: 1.5014 - val_recall: 0.0000e+00 - learning_rate: 0.0010\n",
      "Epoch 2/50\n",
      "\n",
      "Epoch 2: val_loss did not improve from 1.50145\n",
      "299/299 - 455s - 2s/step - accuracy: 0.3216 - loss: 1.5297 - recall: 0.0210 - val_accuracy: 0.3332 - val_loss: 1.5111 - val_recall: 0.0000e+00 - learning_rate: 0.0010\n",
      "Epoch 3/50\n",
      "\n",
      "Epoch 3: val_loss improved from 1.50145 to 1.49292, saving model to /kaggle/working/multiple_view_shoulder_v2.keras\n",
      "299/299 - 466s - 2s/step - accuracy: 0.3221 - loss: 1.5307 - recall: 0.0222 - val_accuracy: 0.3353 - val_loss: 1.4929 - val_recall: 0.0000e+00 - learning_rate: 0.0010\n",
      "Epoch 4/50\n",
      "\n",
      "Epoch 4: val_loss improved from 1.49292 to 1.48558, saving model to /kaggle/working/multiple_view_shoulder_v2.keras\n",
      "299/299 - 468s - 2s/step - accuracy: 0.3251 - loss: 1.5292 - recall: 0.0184 - val_accuracy: 0.3442 - val_loss: 1.4856 - val_recall: 0.0000e+00 - learning_rate: 0.0010\n",
      "Epoch 5/50\n",
      "\n",
      "Epoch 5: val_loss did not improve from 1.48558\n",
      "299/299 - 475s - 2s/step - accuracy: 0.3217 - loss: 1.5269 - recall: 0.0188 - val_accuracy: 0.3556 - val_loss: 1.4964 - val_recall: 4.2230e-04 - learning_rate: 0.0010\n",
      "Epoch 6/50\n",
      "\n",
      "Epoch 6: val_loss did not improve from 1.48558\n",
      "299/299 - 458s - 2s/step - accuracy: 0.3132 - loss: 1.5263 - recall: 0.0137 - val_accuracy: 0.3404 - val_loss: 1.5036 - val_recall: 0.0000e+00 - learning_rate: 0.0010\n",
      "Epoch 7/50\n",
      "\n",
      "Epoch 7: val_loss did not improve from 1.48558\n",
      "299/299 - 444s - 1s/step - accuracy: 0.3148 - loss: 1.5272 - recall: 0.0165 - val_accuracy: 0.3429 - val_loss: 1.4884 - val_recall: 0.0000e+00 - learning_rate: 0.0010\n",
      "Epoch 8/50\n",
      "\n",
      "Epoch 8: val_loss improved from 1.48558 to 1.46434, saving model to /kaggle/working/multiple_view_shoulder_v2.keras\n",
      "299/299 - 480s - 2s/step - accuracy: 0.3250 - loss: 1.5127 - recall: 0.0201 - val_accuracy: 0.3163 - val_loss: 1.4643 - val_recall: 0.0021 - learning_rate: 0.0010\n",
      "Epoch 9/50\n",
      "\n",
      "Epoch 9: val_loss improved from 1.46434 to 1.43453, saving model to /kaggle/working/multiple_view_shoulder_v2.keras\n",
      "299/299 - 457s - 2s/step - accuracy: 0.3342 - loss: 1.5024 - recall: 0.0227 - val_accuracy: 0.3454 - val_loss: 1.4345 - val_recall: 0.0034 - learning_rate: 0.0010\n",
      "Epoch 10/50\n",
      "\n",
      "Epoch 10: val_loss did not improve from 1.43453\n",
      "299/299 - 445s - 1s/step - accuracy: 0.3282 - loss: 1.5009 - recall: 0.0240 - val_accuracy: 0.3421 - val_loss: 1.4376 - val_recall: 0.0051 - learning_rate: 0.0010\n",
      "Epoch 11/50\n",
      "\n",
      "Epoch 11: val_loss improved from 1.43453 to 1.42732, saving model to /kaggle/working/multiple_view_shoulder_v2.keras\n",
      "299/299 - 457s - 2s/step - accuracy: 0.3353 - loss: 1.4964 - recall: 0.0274 - val_accuracy: 0.3446 - val_loss: 1.4273 - val_recall: 0.0042 - learning_rate: 0.0010\n",
      "Epoch 12/50\n",
      "\n",
      "Epoch 12: val_loss improved from 1.42732 to 1.41462, saving model to /kaggle/working/multiple_view_shoulder_v2.keras\n",
      "299/299 - 505s - 2s/step - accuracy: 0.3384 - loss: 1.4828 - recall: 0.0319 - val_accuracy: 0.4101 - val_loss: 1.4146 - val_recall: 0.0051 - learning_rate: 0.0010\n",
      "Epoch 13/50\n",
      "\n",
      "Epoch 13: val_loss did not improve from 1.41462\n",
      "299/299 - 461s - 2s/step - accuracy: 0.3406 - loss: 1.4834 - recall: 0.0344 - val_accuracy: 0.3839 - val_loss: 1.4264 - val_recall: 0.0021 - learning_rate: 0.0010\n",
      "Epoch 14/50\n",
      "\n",
      "Epoch 14: val_loss improved from 1.41462 to 1.40034, saving model to /kaggle/working/multiple_view_shoulder_v2.keras\n",
      "299/299 - 459s - 2s/step - accuracy: 0.3446 - loss: 1.4789 - recall: 0.0312 - val_accuracy: 0.3830 - val_loss: 1.4003 - val_recall: 0.0089 - learning_rate: 0.0010\n",
      "Epoch 15/50\n",
      "\n",
      "Epoch 15: val_loss improved from 1.40034 to 1.39847, saving model to /kaggle/working/multiple_view_shoulder_v2.keras\n",
      "299/299 - 443s - 1s/step - accuracy: 0.3385 - loss: 1.4739 - recall: 0.0381 - val_accuracy: 0.3872 - val_loss: 1.3985 - val_recall: 0.0034 - learning_rate: 0.0010\n",
      "Epoch 16/50\n",
      "\n",
      "Epoch 16: val_loss did not improve from 1.39847\n",
      "299/299 - 472s - 2s/step - accuracy: 0.3363 - loss: 1.4686 - recall: 0.0454 - val_accuracy: 0.4084 - val_loss: 1.4302 - val_recall: 0.0055 - learning_rate: 0.0010\n",
      "Epoch 17/50\n",
      "\n",
      "Epoch 17: val_loss improved from 1.39847 to 1.39111, saving model to /kaggle/working/multiple_view_shoulder_v2.keras\n",
      "299/299 - 444s - 1s/step - accuracy: 0.3280 - loss: 1.4781 - recall: 0.0356 - val_accuracy: 0.3623 - val_loss: 1.3911 - val_recall: 0.0089 - learning_rate: 0.0010\n",
      "Epoch 18/50\n",
      "\n",
      "Epoch 18: val_loss improved from 1.39111 to 1.38911, saving model to /kaggle/working/multiple_view_shoulder_v2.keras\n",
      "299/299 - 447s - 1s/step - accuracy: 0.3383 - loss: 1.4675 - recall: 0.0370 - val_accuracy: 0.4075 - val_loss: 1.3891 - val_recall: 0.0118 - learning_rate: 0.0010\n",
      "Epoch 19/50\n",
      "\n",
      "Epoch 19: val_loss did not improve from 1.38911\n",
      "299/299 - 447s - 1s/step - accuracy: 0.3359 - loss: 1.4694 - recall: 0.0385 - val_accuracy: 0.4818 - val_loss: 1.3915 - val_recall: 0.0013 - learning_rate: 0.0010\n",
      "Epoch 20/50\n",
      "\n",
      "Epoch 20: val_loss did not improve from 1.38911\n",
      "299/299 - 461s - 2s/step - accuracy: 0.3311 - loss: 1.4701 - recall: 0.0442 - val_accuracy: 0.4624 - val_loss: 1.3961 - val_recall: 0.0021 - learning_rate: 0.0010\n",
      "Epoch 21/50\n",
      "\n",
      "Epoch 21: val_loss improved from 1.38911 to 1.37229, saving model to /kaggle/working/multiple_view_shoulder_v2.keras\n",
      "299/299 - 477s - 2s/step - accuracy: 0.3422 - loss: 1.4674 - recall: 0.0404 - val_accuracy: 0.4785 - val_loss: 1.3723 - val_recall: 0.0021 - learning_rate: 0.0010\n",
      "Epoch 22/50\n",
      "\n",
      "Epoch 22: val_loss did not improve from 1.37229\n",
      "299/299 - 445s - 1s/step - accuracy: 0.3353 - loss: 1.4651 - recall: 0.0444 - val_accuracy: 0.4117 - val_loss: 1.4076 - val_recall: 0.0042 - learning_rate: 0.0010\n",
      "Epoch 23/50\n",
      "\n",
      "Epoch 23: val_loss improved from 1.37229 to 1.35438, saving model to /kaggle/working/multiple_view_shoulder_v2.keras\n",
      "299/299 - 455s - 2s/step - accuracy: 0.3389 - loss: 1.4729 - recall: 0.0392 - val_accuracy: 0.4307 - val_loss: 1.3544 - val_recall: 0.0114 - learning_rate: 0.0010\n",
      "Epoch 24/50\n",
      "\n",
      "Epoch 24: val_loss improved from 1.35438 to 1.34528, saving model to /kaggle/working/multiple_view_shoulder_v2.keras\n",
      "299/299 - 456s - 2s/step - accuracy: 0.3389 - loss: 1.4581 - recall: 0.0422 - val_accuracy: 0.4299 - val_loss: 1.3453 - val_recall: 0.0127 - learning_rate: 0.0010\n",
      "Epoch 25/50\n",
      "\n",
      "Epoch 25: val_loss did not improve from 1.34528\n",
      "299/299 - 444s - 1s/step - accuracy: 0.3435 - loss: 1.4558 - recall: 0.0546 - val_accuracy: 0.4713 - val_loss: 1.3623 - val_recall: 0.0122 - learning_rate: 0.0010\n",
      "Epoch 26/50\n",
      "\n",
      "Epoch 26: val_loss improved from 1.34528 to 1.34028, saving model to /kaggle/working/multiple_view_shoulder_v2.keras\n",
      "299/299 - 432s - 1s/step - accuracy: 0.3365 - loss: 1.4701 - recall: 0.0377 - val_accuracy: 0.4307 - val_loss: 1.3403 - val_recall: 0.0173 - learning_rate: 0.0010\n",
      "Epoch 27/50\n",
      "\n",
      "Epoch 27: val_loss did not improve from 1.34028\n",
      "299/299 - 443s - 1s/step - accuracy: 0.3404 - loss: 1.4560 - recall: 0.0464 - val_accuracy: 0.4759 - val_loss: 1.3724 - val_recall: 0.0068 - learning_rate: 0.0010\n",
      "Epoch 28/50\n",
      "\n",
      "Epoch 28: val_loss improved from 1.34028 to 1.32791, saving model to /kaggle/working/multiple_view_shoulder_v2.keras\n",
      "299/299 - 438s - 1s/step - accuracy: 0.3465 - loss: 1.4610 - recall: 0.0441 - val_accuracy: 0.4649 - val_loss: 1.3279 - val_recall: 0.0633 - learning_rate: 0.0010\n",
      "Epoch 29/50\n",
      "\n",
      "Epoch 29: val_loss did not improve from 1.32791\n",
      "299/299 - 442s - 1s/step - accuracy: 0.3489 - loss: 1.4505 - recall: 0.0492 - val_accuracy: 0.4882 - val_loss: 1.3456 - val_recall: 0.0684 - learning_rate: 0.0010\n",
      "Epoch 30/50\n",
      "\n",
      "Epoch 30: val_loss improved from 1.32791 to 1.31992, saving model to /kaggle/working/multiple_view_shoulder_v2.keras\n",
      "299/299 - 433s - 1s/step - accuracy: 0.3513 - loss: 1.4405 - recall: 0.0448 - val_accuracy: 0.4721 - val_loss: 1.3199 - val_recall: 0.0562 - learning_rate: 0.0010\n",
      "Epoch 31/50\n",
      "\n",
      "Epoch 31: val_loss did not improve from 1.31992\n",
      "299/299 - 436s - 1s/step - accuracy: 0.3356 - loss: 1.4587 - recall: 0.0447 - val_accuracy: 0.4476 - val_loss: 1.3235 - val_recall: 0.0688 - learning_rate: 0.0010\n",
      "Epoch 32/50\n",
      "\n",
      "Epoch 32: val_loss did not improve from 1.31992\n",
      "299/299 - 465s - 2s/step - accuracy: 0.3467 - loss: 1.4471 - recall: 0.0460 - val_accuracy: 0.4185 - val_loss: 1.3653 - val_recall: 0.0304 - learning_rate: 0.0010\n",
      "Epoch 33/50\n",
      "\n",
      "Epoch 33: val_loss did not improve from 1.31992\n",
      "299/299 - 445s - 1s/step - accuracy: 0.3476 - loss: 1.4427 - recall: 0.0518 - val_accuracy: 0.4620 - val_loss: 1.3403 - val_recall: 0.0819 - learning_rate: 0.0010\n",
      "Epoch 34/50\n",
      "\n",
      "Epoch 34: val_loss did not improve from 1.31992\n",
      "\n",
      "Epoch 34: ReduceLROnPlateau reducing learning rate to 0.00020000000949949026.\n",
      "299/299 - 460s - 2s/step - accuracy: 0.3415 - loss: 1.4664 - recall: 0.0456 - val_accuracy: 0.4831 - val_loss: 1.3846 - val_recall: 0.0414 - learning_rate: 0.0010\n",
      "Epoch 35/50\n",
      "\n",
      "Epoch 35: val_loss did not improve from 1.31992\n",
      "299/299 - 441s - 1s/step - accuracy: 0.3609 - loss: 1.4449 - recall: 0.0540 - val_accuracy: 0.4911 - val_loss: 1.3375 - val_recall: 0.0798 - learning_rate: 2.0000e-04\n",
      "Epoch 36/50\n",
      "\n",
      "Epoch 36: val_loss did not improve from 1.31992\n",
      "299/299 - 439s - 1s/step - accuracy: 0.3607 - loss: 1.4425 - recall: 0.0568 - val_accuracy: 0.4916 - val_loss: 1.3429 - val_recall: 0.0747 - learning_rate: 2.0000e-04\n",
      "Epoch 37/50\n",
      "\n",
      "Epoch 37: val_loss did not improve from 1.31992\n",
      "299/299 - 455s - 2s/step - accuracy: 0.3611 - loss: 1.4412 - recall: 0.0620 - val_accuracy: 0.4962 - val_loss: 1.3388 - val_recall: 0.0743 - learning_rate: 2.0000e-04\n",
      "Epoch 38/50\n",
      "\n",
      "Epoch 38: val_loss improved from 1.31992 to 1.30189, saving model to /kaggle/working/multiple_view_shoulder_v2.keras\n",
      "299/299 - 443s - 1s/step - accuracy: 0.3626 - loss: 1.4325 - recall: 0.0652 - val_accuracy: 0.5013 - val_loss: 1.3019 - val_recall: 0.0557 - learning_rate: 2.0000e-04\n",
      "Epoch 39/50\n",
      "\n",
      "Epoch 39: val_loss did not improve from 1.30189\n",
      "299/299 - 425s - 1s/step - accuracy: 0.3602 - loss: 1.4228 - recall: 0.0632 - val_accuracy: 0.4818 - val_loss: 1.3099 - val_recall: 0.0701 - learning_rate: 2.0000e-04\n",
      "Epoch 40/50\n",
      "\n",
      "Epoch 40: val_loss improved from 1.30189 to 1.29778, saving model to /kaggle/working/multiple_view_shoulder_v2.keras\n",
      "299/299 - 463s - 2s/step - accuracy: 0.3580 - loss: 1.4195 - recall: 0.0608 - val_accuracy: 0.4958 - val_loss: 1.2978 - val_recall: 0.0828 - learning_rate: 2.0000e-04\n",
      "Epoch 41/50\n",
      "\n",
      "Epoch 41: val_loss did not improve from 1.29778\n",
      "299/299 - 439s - 1s/step - accuracy: 0.3639 - loss: 1.4155 - recall: 0.0642 - val_accuracy: 0.4979 - val_loss: 1.3123 - val_recall: 0.0747 - learning_rate: 2.0000e-04\n",
      "Epoch 42/50\n",
      "\n",
      "Epoch 42: val_loss did not improve from 1.29778\n",
      "299/299 - 436s - 1s/step - accuracy: 0.3691 - loss: 1.4188 - recall: 0.0638 - val_accuracy: 0.5038 - val_loss: 1.3070 - val_recall: 0.0688 - learning_rate: 2.0000e-04\n",
      "Epoch 43/50\n",
      "\n",
      "Epoch 43: val_loss improved from 1.29778 to 1.29727, saving model to /kaggle/working/multiple_view_shoulder_v2.keras\n",
      "299/299 - 446s - 1s/step - accuracy: 0.3680 - loss: 1.4159 - recall: 0.0631 - val_accuracy: 0.4907 - val_loss: 1.2973 - val_recall: 0.0731 - learning_rate: 2.0000e-04\n",
      "Epoch 44/50\n",
      "\n",
      "Epoch 44: val_loss did not improve from 1.29727\n",
      "299/299 - 450s - 2s/step - accuracy: 0.3745 - loss: 1.4117 - recall: 0.0619 - val_accuracy: 0.4962 - val_loss: 1.2987 - val_recall: 0.0853 - learning_rate: 2.0000e-04\n",
      "Epoch 45/50\n",
      "\n",
      "Epoch 45: val_loss improved from 1.29727 to 1.29167, saving model to /kaggle/working/multiple_view_shoulder_v2.keras\n",
      "299/299 - 451s - 2s/step - accuracy: 0.3737 - loss: 1.4082 - recall: 0.0668 - val_accuracy: 0.4945 - val_loss: 1.2917 - val_recall: 0.0811 - learning_rate: 2.0000e-04\n",
      "Epoch 46/50\n",
      "\n",
      "Epoch 46: val_loss did not improve from 1.29167\n",
      "299/299 - 460s - 2s/step - accuracy: 0.3743 - loss: 1.4141 - recall: 0.0630 - val_accuracy: 0.4814 - val_loss: 1.2953 - val_recall: 0.0726 - learning_rate: 2.0000e-04\n",
      "Epoch 47/50\n",
      "\n",
      "Epoch 47: val_loss did not improve from 1.29167\n",
      "299/299 - 452s - 2s/step - accuracy: 0.3672 - loss: 1.4112 - recall: 0.0640 - val_accuracy: 0.4903 - val_loss: 1.3023 - val_recall: 0.0541 - learning_rate: 2.0000e-04\n",
      "Epoch 48/50\n",
      "\n",
      "Epoch 48: val_loss did not improve from 1.29167\n",
      "299/299 - 471s - 2s/step - accuracy: 0.3728 - loss: 1.4086 - recall: 0.0658 - val_accuracy: 0.5017 - val_loss: 1.2920 - val_recall: 0.0752 - learning_rate: 2.0000e-04\n",
      "Epoch 49/50\n",
      "\n",
      "Epoch 49: val_loss did not improve from 1.29167\n",
      "\n",
      "Epoch 49: ReduceLROnPlateau reducing learning rate to 4.0000001899898055e-05.\n",
      "299/299 - 450s - 2s/step - accuracy: 0.3719 - loss: 1.4086 - recall: 0.0675 - val_accuracy: 0.5004 - val_loss: 1.2929 - val_recall: 0.0857 - learning_rate: 2.0000e-04\n",
      "Epoch 50/50\n",
      "\n",
      "Epoch 50: val_loss improved from 1.29167 to 1.28814, saving model to /kaggle/working/multiple_view_shoulder_v2.keras\n",
      "299/299 - 434s - 1s/step - accuracy: 0.3752 - loss: 1.4063 - recall: 0.0690 - val_accuracy: 0.5025 - val_loss: 1.2881 - val_recall: 0.0747 - learning_rate: 4.0000e-05\n",
      "Restoring model weights from the end of the best epoch: 50.\n"
     ]
    }
   ],
   "source": [
    "history = model.fit(train_generator,\n",
    "                    validation_data=valid_generator,\n",
    "                    callbacks=[early_stopping,model_checkpoint, learn_control],\n",
    "                    epochs=50,\n",
    "                    verbose=2)"
   ]
  },
  {
   "cell_type": "code",
   "execution_count": 11,
   "id": "684cbf5b",
   "metadata": {
    "execution": {
     "iopub.execute_input": "2024-06-07T05:47:58.808522Z",
     "iopub.status.busy": "2024-06-07T05:47:58.807691Z",
     "iopub.status.idle": "2024-06-07T05:47:59.447578Z",
     "shell.execute_reply": "2024-06-07T05:47:59.446611Z"
    },
    "papermill": {
     "duration": 0.663417,
     "end_time": "2024-06-07T05:47:59.450149",
     "exception": false,
     "start_time": "2024-06-07T05:47:58.786732",
     "status": "completed"
    },
    "tags": []
   },
   "outputs": [
    {
     "data": {
      "text/plain": [
       "<Axes: >"
      ]
     },
     "execution_count": 11,
     "metadata": {},
     "output_type": "execute_result"
    },
    {
     "data": {
      "image/png": "[encoded data removed]",
      "text/plain": [
       "<Figure size 640x480 with 1 Axes>"
      ]
     },
     "metadata": {},
     "output_type": "display_data"
    },
    {
     "data": {
      "image/png": "[encoded data removed]",
      "text/plain": [
       "<Figure size 640x480 with 1 Axes>"
      ]
     },
     "metadata": {},
     "output_type": "display_data"
    }
   ],
   "source": [
    "history_df = pd.DataFrame(history.history)\n",
    "history_df[['loss', 'val_loss']].plot()\n",
    "history_df[['accuracy','recall']].plot()"
   ]
  },
  {
   "cell_type": "code",
   "execution_count": 12,
   "id": "d182d8a9",
   "metadata": {
    "execution": {
     "iopub.execute_input": "2024-06-07T05:47:59.493367Z",
     "iopub.status.busy": "2024-06-07T05:47:59.492521Z",
     "iopub.status.idle": "2024-06-07T05:48:52.316443Z",
     "shell.execute_reply": "2024-06-07T05:48:52.315358Z"
    },
    "papermill": {
     "duration": 52.847994,
     "end_time": "2024-06-07T05:48:52.318828",
     "exception": false,
     "start_time": "2024-06-07T05:47:59.470834",
     "status": "completed"
    },
    "tags": []
   },
   "outputs": [
    {
     "name": "stdout",
     "output_type": "stream",
     "text": [
      "\u001b[1m29/29\u001b[0m \u001b[32m━━━━━━━━━━━━━━━━━━━━\u001b[0m\u001b[37m\u001b[0m \u001b[1m49s\u001b[0m 2s/step - accuracy: 0.4526 - loss: 1.3249 - recall: 0.0559\n",
      "Loss: 1.3264273405075073\n",
      "Accuracy: 0.4364224076271057\n"
     ]
    }
   ],
   "source": [
    "loss, accuracy,recall = model.evaluate(test_generator)\n",
    "print(f\"Loss: {loss}\")\n",
    "print(f\"Accuracy: {accuracy}\")"
   ]
  }
 ],
 "metadata": {
  "kaggle": {
   "accelerator": "gpu",
   "dataSources": [
    {
     "datasetId": 427555,
     "sourceId": 813639,
     "sourceType": "datasetVersion"
    },
    {
     "datasetId": 4776881,
     "sourceId": 8091050,
     "sourceType": "datasetVersion"
    },
    {
     "datasetId": 5064664,
     "sourceId": 8489424,
     "sourceType": "datasetVersion"
    }
   ],
   "dockerImageVersionId": 30699,
   "isGpuEnabled": true,
   "isInternetEnabled": true,
   "language": "python",
   "sourceType": "notebook"
  },
  "kernelspec": {
   "display_name": "Python 3",
   "language": "python",
   "name": "python3"
  },
  "language_info": {
   "codemirror_mode": {
    "name": "ipython",
    "version": 3
   },
   "file_extension": ".py",
   "mimetype": "text/x-python",
   "name": "python",
   "nbconvert_exporter": "python",
   "pygments_lexer": "ipython3",
   "version": "3.10.13"
  },
  "papermill": {
   "default_parameters": {},
   "duration": 23036.655927,
   "end_time": "2024-06-07T05:48:55.698396",
   "environment_variables": {},
   "exception": null,
   "input_path": "__notebook__.ipynb",
   "output_path": "__notebook__.ipynb",
   "parameters": {},
   "start_time": "2024-06-06T23:24:59.042469",
   "version": "2.5.0"
  }
 },
 "nbformat": 4,
 "nbformat_minor": 5
}
