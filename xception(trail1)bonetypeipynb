{
 "cells": [
  {
   "cell_type": "code",
   "execution_count": 1,
   "id": "f7a8cbdf",
   "metadata": {
    "execution": {
     "iopub.execute_input": "2024-06-09T16:17:06.230364Z",
     "iopub.status.busy": "2024-06-09T16:17:06.230105Z",
     "iopub.status.idle": "2024-06-09T16:17:19.464693Z",
     "shell.execute_reply": "2024-06-09T16:17:19.463687Z"
    },
    "papermill": {
     "duration": 13.243162,
     "end_time": "2024-06-09T16:17:19.467008",
     "exception": false,
     "start_time": "2024-06-09T16:17:06.223846",
     "status": "completed"
    },
    "tags": []
   },
   "outputs": [
    {
     "name": "stderr",
     "output_type": "stream",
     "text": [
      "2024-06-09 16:17:08.019978: E external/local_xla/xla/stream_executor/cuda/cuda_dnn.cc:9261] Unable to register cuDNN factory: Attempting to register factory for plugin cuDNN when one has already been registered\n",
      "2024-06-09 16:17:08.020072: E external/local_xla/xla/stream_executor/cuda/cuda_fft.cc:607] Unable to register cuFFT factory: Attempting to register factory for plugin cuFFT when one has already been registered\n",
      "2024-06-09 16:17:08.136329: E external/local_xla/xla/stream_executor/cuda/cuda_blas.cc:1515] Unable to register cuBLAS factory: Attempting to register factory for plugin cuBLAS when one has already been registered\n",
      "/tmp/ipykernel_25/3400929819.py:19: DeprecationWarning: `import kerastuner` is deprecated, please use `import keras_tuner`.\n",
      "  from kerastuner.tuners import RandomSearch\n"
     ]
    }
   ],
   "source": [
    "import os\n",
    "import cv2\n",
    "import keras\n",
    "import shutil\n",
    "import random\n",
    "import gc\n",
    "import numpy as np\n",
    "import pandas as pd \n",
    "import tensorflow as tf\n",
    "from PIL import Image, UnidentifiedImageError\n",
    "from tensorflow.keras.preprocessing.image import load_img, img_to_array\n",
    "from tensorflow.keras.layers import Input, Average, Dense ,Layer\n",
    "from tensorflow.keras.layers import Dropout, GlobalAveragePooling2D, BatchNormalization,MaxPooling2D\n",
    "from tensorflow.keras.regularizers import l2\n",
    "from tensorflow.keras.layers import Concatenate, GlobalAveragePooling2D\n",
    "from sklearn.model_selection import train_test_split\n",
    "from keras.callbacks import EarlyStopping, ModelCheckpoint, LearningRateScheduler, TensorBoard\n",
    "from keras.layers import Concatenate\n",
    "from kerastuner.tuners import RandomSearch\n",
    "from keras.models import load_model\n",
    "from tensorflow.keras.applications import Xception,EfficientNetB0\n",
    "from tensorflow.keras.utils import Sequence\n",
    "from tensorflow.keras import mixed_precision , applications,layers\n",
    "from keras.applications.resnet50 import preprocess_input\n",
    "mixed_precision.set_global_policy('mixed_float16')"
   ]
  },
  {
   "cell_type": "code",
   "execution_count": 2,
   "id": "e7a77403",
   "metadata": {
    "execution": {
     "iopub.execute_input": "2024-06-09T16:17:19.479037Z",
     "iopub.status.busy": "2024-06-09T16:17:19.478451Z",
     "iopub.status.idle": "2024-06-09T16:17:19.483190Z",
     "shell.execute_reply": "2024-06-09T16:17:19.482153Z"
    },
    "papermill": {
     "duration": 0.012992,
     "end_time": "2024-06-09T16:17:19.485383",
     "exception": false,
     "start_time": "2024-06-09T16:17:19.472391",
     "status": "completed"
    },
    "tags": []
   },
   "outputs": [],
   "source": [
    "image_shape = (224, 224, 3)\n",
    "num_classes = 5  \n",
    "num_views = 7\n",
    "batch_size = 32"
   ]
  },
  {
   "cell_type": "code",
   "execution_count": 3,
   "id": "68683500",
   "metadata": {
    "execution": {
     "iopub.execute_input": "2024-06-09T16:17:19.496911Z",
     "iopub.status.busy": "2024-06-09T16:17:19.496545Z",
     "iopub.status.idle": "2024-06-09T16:17:19.503774Z",
     "shell.execute_reply": "2024-06-09T16:17:19.502868Z"
    },
    "papermill": {
     "duration": 0.015316,
     "end_time": "2024-06-09T16:17:19.505854",
     "exception": false,
     "start_time": "2024-06-09T16:17:19.490538",
     "status": "completed"
    },
    "tags": []
   },
   "outputs": [
    {
     "data": {
      "text/plain": [
       "'# Source path of the model\\nsource_path = \"/kaggle/input/bone-type-midway-multi/keras/xception-trails/1/xceptionattentionregularizedno-hypertuning.keras\"\\n\\n# Destination path where you can write\\ndestination_path = \"/kaggle/working/model.keras\"\\n\\n# Copy the model file\\nshutil.copyfile(source_path, destination_path)\\n\\n# Now load the model from the copied file\\nmodel = load_model(destination_path)'"
      ]
     },
     "execution_count": 3,
     "metadata": {},
     "output_type": "execute_result"
    }
   ],
   "source": [
    "'''# Source path of the model\n",
    "source_path = \"/kaggle/input/bone-type-midway-multi/keras/xception-trails/1/xceptionattentionregularizedno-hypertuning.keras\"\n",
    "\n",
    "# Destination path where you can write\n",
    "destination_path = \"/kaggle/working/model.keras\"\n",
    "\n",
    "# Copy the model file\n",
    "shutil.copyfile(source_path, destination_path)\n",
    "\n",
    "# Now load the model from the copied file\n",
    "model = load_model(destination_path)'''"
   ]
  },
  {
   "cell_type": "code",
   "execution_count": 4,
   "id": "bb259c49",
   "metadata": {
    "execution": {
     "iopub.execute_input": "2024-06-09T16:17:19.517387Z",
     "iopub.status.busy": "2024-06-09T16:17:19.516924Z",
     "iopub.status.idle": "2024-06-09T16:17:19.533426Z",
     "shell.execute_reply": "2024-06-09T16:17:19.532467Z"
    },
    "papermill": {
     "duration": 0.024301,
     "end_time": "2024-06-09T16:17:19.535277",
     "exception": false,
     "start_time": "2024-06-09T16:17:19.510976",
     "status": "completed"
    },
    "tags": []
   },
   "outputs": [],
   "source": [
    "class CustomDataGenerator(Sequence):\n",
    "    def __init__(self, image_paths, labels, batch_size, image_shape, num_classes, num_views=num_views):\n",
    "        super().__init__()\n",
    "        self.image_paths = list(image_paths)\n",
    "        self.labels = list(labels)\n",
    "        self.batch_size = batch_size\n",
    "        self.image_shape = image_shape\n",
    "        self.num_classes = num_classes\n",
    "        self.num_views = num_views\n",
    "        self.on_epoch_end()\n",
    "\n",
    "    def __len__(self):\n",
    "        return int(np.floor(len(self.image_paths) / self.batch_size))\n",
    "\n",
    "    def __getitem__(self, index):\n",
    "        indices = self.indices[index * self.batch_size:(index + 1) * self.batch_size]\n",
    "        batch_image_paths = [self.image_paths[i] for i in indices]\n",
    "        batch_labels = [self.labels[i] for i in indices]\n",
    "\n",
    "        images = []\n",
    "        for folder_path in batch_image_paths:\n",
    "            images.append(self._load_and_pad_images(folder_path, self.image_shape))\n",
    "\n",
    "        images = np.array(images)  # Shape: (batch_size, num_views, height, width, channels)\n",
    "        batch_labels = tf.keras.utils.to_categorical(batch_labels, num_classes=self.num_classes)\n",
    "\n",
    "        # Transpose the batch to separate views as different inputs\n",
    "        images = [images[:, i, :, :, :] for i in range(self.num_views)]\n",
    "        \n",
    "        # Convert to tuple of tensors\n",
    "        images = tuple(tf.convert_to_tensor(img) for img in images)\n",
    "        batch_labels = tf.convert_to_tensor(batch_labels)\n",
    "\n",
    "        return images, batch_labels\n",
    "\n",
    "    def on_epoch_end(self):\n",
    "        self.indices = np.arange(len(self.image_paths))\n",
    "        np.random.shuffle(self.indices)\n",
    "\n",
    "    def _load_and_pad_images(self, folder_path, image_shape):\n",
    "        image_paths = [os.path.join(folder_path, f) for f in os.listdir(folder_path)\n",
    "                       if f.endswith((\".jpg\", \".jpeg\", \".png\")) and not f.startswith(\"._\")]\n",
    "\n",
    "        if not image_paths:\n",
    "            logger.error(f\"No valid images found in folder: {folder_path}\")\n",
    "            return [np.zeros((image_shape[0], image_shape[1], image_shape[2]))] * self.num_views\n",
    "\n",
    "        if len(image_paths) > self.num_views:\n",
    "            image_paths = random.sample(image_paths, self.num_views)\n",
    "\n",
    "        processed_images = []\n",
    "        for image_path in image_paths:\n",
    "            try:\n",
    "                img = load_img(image_path, target_size=image_shape)\n",
    "                img_array = img_to_array(img)\n",
    "                img_array = img_array / 255.0\n",
    "                preprocessed_img_array = preprocess_input(img_array)\n",
    "                processed_images.append(preprocessed_img_array)\n",
    "            except Exception as e:\n",
    "                logger.warning(f\"Warning: Skipping unidentifiable image file: {image_path} due to {e}\")\n",
    "                processed_images.append(np.zeros((image_shape[0], image_shape[1], image_shape[2])))\n",
    "\n",
    "        while len(processed_images) < self.num_views:\n",
    "            processed_images.append(np.zeros((image_shape[0], image_shape[1], image_shape[2])))\n",
    "\n",
    "        return np.array(processed_images)\n"
   ]
  },
  {
   "cell_type": "code",
   "execution_count": 5,
   "id": "a37c4890",
   "metadata": {
    "execution": {
     "iopub.execute_input": "2024-06-09T16:17:19.547637Z",
     "iopub.status.busy": "2024-06-09T16:17:19.547344Z",
     "iopub.status.idle": "2024-06-09T16:17:19.656806Z",
     "shell.execute_reply": "2024-06-09T16:17:19.655812Z"
    },
    "papermill": {
     "duration": 0.118508,
     "end_time": "2024-06-09T16:17:19.659143",
     "exception": false,
     "start_time": "2024-06-09T16:17:19.540635",
     "status": "completed"
    },
    "tags": []
   },
   "outputs": [
    {
     "name": "stdout",
     "output_type": "stream",
     "text": [
      "                                                    Path Bone_type\n",
      "9666   /kaggle/input/mura-v11/MURA-v1.1/train/XR_WRIS...         1\n",
      "9719   /kaggle/input/mura-v11/MURA-v1.1/train/XR_WRIS...         1\n",
      "5328   /kaggle/input/mura-v11/MURA-v1.1/train/XR_FING...         4\n",
      "2159   /kaggle/input/mura-v11/MURA-v1.1/train/XR_SHOU...         0\n",
      "4740   /kaggle/input/mura-v11/MURA-v1.1/train/XR_FING...         4\n",
      "...                                                  ...       ...\n",
      "8405   /kaggle/input/mura-v11/MURA-v1.1/train/XR_WRIS...         1\n",
      "12424  /kaggle/input/mura-v11/MURA-v1.1/train/XR_HAND...         2\n",
      "905    /kaggle/input/mura-v11/MURA-v1.1/train/XR_SHOU...         0\n",
      "5784   /kaggle/input/mura-v11/MURA-v1.1/train/XR_ELBO...         3\n",
      "235    /kaggle/input/mura-v11/MURA-v1.1/train/XR_SHOU...         0\n",
      "\n",
      "[9590 rows x 2 columns]\n",
      "===============Done with training images===================\n",
      "===============Done with test images===================\n"
     ]
    }
   ],
   "source": [
    "bone_type_mapping = {'SHOULDER': 0, 'WRIST': 1, 'HAND': 2, 'ELBOW': 3, 'FINGER': 4}\n",
    "prefix = '/kaggle/input/mura-v11/'\n",
    "output_directory = '/kaggle/working'\n",
    "train_excel_file_path = '/kaggle/input/csv-for-multiview/Patients with bone type for multiview.csv'\n",
    "df = pd.read_csv(train_excel_file_path, header=None,names=['Path', 'Abnormal','Bone_type'])\n",
    "df = df[~df['Path'].str.contains('XR_FOREARM|XR_HUMERUS')]\n",
    "df['Bone_type'] = df['Bone_type'].map(bone_type_mapping).astype(int)\n",
    "paths = prefix + df['Path'].astype(str)\n",
    "labels = df['Bone_type']\n",
    "labels = labels.astype(str)\n",
    "t_images = pd.concat([paths, labels], axis=1)\n",
    "train_df, test_df = train_test_split(t_images, train_size=0.8, shuffle=True, random_state=1)\n",
    "print(train_df)\n",
    "print(\"===============Done with training images===================\")\n",
    "test_excel_file_path = '/kaggle/input/csv-for-multiview/validation Patients with bone type for multiview.csv'\n",
    "df = pd.read_csv(test_excel_file_path, header=None,names=['Path', 'Abnormal','Bone_type'])\n",
    "df = df[~df['Path'].str.contains('XR_FOREARM|XR_HUMERUS')]\n",
    "df['Bone_type'] = df['Bone_type'].map(bone_type_mapping).astype(int)\n",
    "paths = prefix + df['Path'].astype(str)\n",
    "labels = df['Bone_type']\n",
    "labels = labels.astype(str)\n",
    "v_images = pd.concat([paths, labels], axis=1)\n",
    "print(\"===============Done with test images===================\")"
   ]
  },
  {
   "cell_type": "code",
   "execution_count": 6,
   "id": "071df50f",
   "metadata": {
    "_cell_guid": "b1076dfc-b9ad-4769-8c92-a6c4dae69d19",
    "_uuid": "8f2839f25d086af736a60e9eeb907d3b93b6e0e5",
    "execution": {
     "iopub.execute_input": "2024-06-09T16:17:19.671662Z",
     "iopub.status.busy": "2024-06-09T16:17:19.671341Z",
     "iopub.status.idle": "2024-06-09T16:17:19.681278Z",
     "shell.execute_reply": "2024-06-09T16:17:19.680455Z"
    },
    "papermill": {
     "duration": 0.01846,
     "end_time": "2024-06-09T16:17:19.683219",
     "exception": false,
     "start_time": "2024-06-09T16:17:19.664759",
     "status": "completed"
    },
    "tags": []
   },
   "outputs": [],
   "source": [
    "#Data Generators Initialization \n",
    "train_paths,train_labels = train_df['Path'] , train_df['Bone_type']\n",
    "valid_paths,valid_labels = test_df['Path'] , test_df['Bone_type']\n",
    "test_paths,test_labels = v_images['Path'] , v_images['Bone_type']\n",
    "\n",
    "train_generator = CustomDataGenerator(train_paths, train_labels, batch_size, image_shape, num_classes)\n",
    "valid_generator = CustomDataGenerator(valid_paths, valid_labels, batch_size, image_shape, num_classes)\n",
    "test_generator = CustomDataGenerator(test_paths, test_labels, batch_size, image_shape, num_classes)"
   ]
  },
  {
   "cell_type": "code",
   "execution_count": 7,
   "id": "f7ef70fa",
   "metadata": {
    "execution": {
     "iopub.execute_input": "2024-06-09T16:17:19.695323Z",
     "iopub.status.busy": "2024-06-09T16:17:19.694863Z",
     "iopub.status.idle": "2024-06-09T16:17:19.701021Z",
     "shell.execute_reply": "2024-06-09T16:17:19.700186Z"
    },
    "papermill": {
     "duration": 0.014183,
     "end_time": "2024-06-09T16:17:19.702910",
     "exception": false,
     "start_time": "2024-06-09T16:17:19.688727",
     "status": "completed"
    },
    "tags": []
   },
   "outputs": [],
   "source": [
    "#Callbacks Initialization\n",
    "checkpoint_path = '/kaggle/working/multiple_view_shoulder_v2.keras'\n",
    "Monitored_metric= 'val_loss' \n",
    "# Create an EarlyStopping callback\n",
    "early_stopping = EarlyStopping(monitor=Monitored_metric,  # The metric to monitor for early stopping\n",
    "                               patience=10,  # Number of epochs with no improvement after which training will be stopped\n",
    "                               verbose=1,  # Verbosity level\n",
    "                               restore_best_weights=True)  # Restore model weights from the epoch with the best value of the monitored metric\n",
    "\n",
    "# Create a ModelCheckpoint callback\n",
    "model_checkpoint = ModelCheckpoint(checkpoint_path,\n",
    "                                   monitor=Monitored_metric,  # The metric to monitor for saving the best model\n",
    "                                   save_best_only=True,  # Save only the best model\n",
    "                                   mode='min',  # Mode for the 'monitor' metric (e.g., 'min' for loss)\n",
    "                                   verbose=1)  # Verbosity level\n",
    "learn_control = tf.keras.callbacks.ReduceLROnPlateau(monitor=Monitored_metric, \n",
    "                                  patience=4,\n",
    "                                  verbose=1,\n",
    "                                  factor=0.2, \n",
    "                                  min_lr=1e-7)"
   ]
  },
  {
   "cell_type": "code",
   "execution_count": 8,
   "id": "2c368068",
   "metadata": {
    "execution": {
     "iopub.execute_input": "2024-06-09T16:17:19.714442Z",
     "iopub.status.busy": "2024-06-09T16:17:19.714197Z",
     "iopub.status.idle": "2024-06-09T16:17:19.722724Z",
     "shell.execute_reply": "2024-06-09T16:17:19.721868Z"
    },
    "papermill": {
     "duration": 0.016533,
     "end_time": "2024-06-09T16:17:19.724652",
     "exception": false,
     "start_time": "2024-06-09T16:17:19.708119",
     "status": "completed"
    },
    "tags": []
   },
   "outputs": [],
   "source": [
    "@tf.keras.utils.register_keras_serializable(package='Custom', name='AttentionLayer')\n",
    "class AttentionLayer(Layer):\n",
    "    def __init__(self, **kwargs):\n",
    "        super(AttentionLayer, self).__init__(**kwargs)\n",
    "        self.dense = None\n",
    "        self.attention_weights = None\n",
    "\n",
    "    def build(self, input_shape):\n",
    "        self.dense = Dense(input_shape[-1], activation='tanh')\n",
    "        self.attention_weights = Dense(1)\n",
    "        super(AttentionLayer, self).build(input_shape)\n",
    "\n",
    "    def call(self, inputs):\n",
    "        dense_features = self.dense(inputs)\n",
    "        raw_attention_scores = self.attention_weights(dense_features)\n",
    "        attention_scores = tf.nn.softmax(raw_attention_scores, axis=1)\n",
    "        context_vector = tf.reduce_sum(attention_scores * inputs, axis=1)\n",
    "        return context_vector\n",
    "        return context_vector\n",
    "@tf.keras.utils.register_keras_serializable(package='Custom', name='StackLayer')\n",
    "class StackLayer(Layer):\n",
    "    def __init__(self, axis, **kwargs):\n",
    "        super(StackLayer, self).__init__(**kwargs)\n",
    "        self.axis = axis\n",
    "\n",
    "    def call(self, inputs):\n",
    "        return tf.stack(inputs, axis=self.axis)"
   ]
  },
  {
   "cell_type": "markdown",
   "id": "17986e2b",
   "metadata": {
    "execution": {
     "iopub.status.busy": "2024-06-09T16:15:24.747941Z",
     "iopub.status.idle": "2024-06-09T16:15:24.748273Z",
     "shell.execute_reply": "2024-06-09T16:15:24.748126Z",
     "shell.execute_reply.started": "2024-06-09T16:15:24.748112Z"
    },
    "papermill": {
     "duration": 0.005084,
     "end_time": "2024-06-09T16:17:19.734914",
     "exception": false,
     "start_time": "2024-06-09T16:17:19.729830",
     "status": "completed"
    },
    "tags": []
   },
   "source": [
    "from tensorflow.keras.models import Model\n",
    "#Model Architecture\n",
    "def build_model(hp):\n",
    "    num_views = hp.Int('views',min_value=5,max_value=8,step=1)\n",
    "    base_model = Xception(weights='imagenet', include_top=False, input_shape=image_shape)\n",
    "    inputs = [Input(shape=image_shape) for _ in range(num_views)]\n",
    "    encoded_views = [base_model(view_input) for view_input in inputs]\n",
    "    pooled_views = [GlobalAveragePooling2D()(view_output) for view_output in encoded_views]\n",
    "    stacked_views = StackLayer(axis=1)(pooled_views)\n",
    "    context_vector = AttentionLayer()(stacked_views)\n",
    "\n",
    "    x = Dense(hp.Int('units', min_value=128, max_value=1024, step=128), activation='relu', kernel_regularizer=l2(0.001))(context_vector)\n",
    "    x = BatchNormalization()(x)\n",
    "    x = Dropout(hp.Float('dropout', min_value=0.2, max_value=0.7, step=0.1))(x)\n",
    "    predictions = Dense(num_classes, activation=\"softmax\", kernel_regularizer=l2(0.001))(x)\n",
    "    \n",
    "    model = Model(inputs=inputs, outputs=predictions)\n",
    "    model.compile(optimizer=tf.keras.optimizers.Nadam(hp.Float('learning_rate', 1e-4, 1e-2, sampling='log')),\n",
    "                  loss='categorical_crossentropy', metrics=[\"accuracy\", \"recall\"])\n",
    "    return model\n"
   ]
  },
  {
   "cell_type": "code",
   "execution_count": 9,
   "id": "5c968385",
   "metadata": {
    "execution": {
     "iopub.execute_input": "2024-06-09T16:17:19.746339Z",
     "iopub.status.busy": "2024-06-09T16:17:19.746093Z",
     "iopub.status.idle": "2024-06-09T16:17:22.396928Z",
     "shell.execute_reply": "2024-06-09T16:17:22.396071Z"
    },
    "papermill": {
     "duration": 2.658764,
     "end_time": "2024-06-09T16:17:22.398790",
     "exception": false,
     "start_time": "2024-06-09T16:17:19.740026",
     "status": "completed"
    },
    "tags": []
   },
   "outputs": [
    {
     "name": "stdout",
     "output_type": "stream",
     "text": [
      "Downloading data from https://storage.googleapis.com/tensorflow/keras-applications/xception/xception_weights_tf_dim_ordering_tf_kernels_notop.h5\n",
      "\u001b[1m83683744/83683744\u001b[0m \u001b[32m━━━━━━━━━━━━━━━━━━━━\u001b[0m\u001b[37m\u001b[0m \u001b[1m0s\u001b[0m 0us/step\n"
     ]
    },
    {
     "data": {
      "text/html": [
       "<pre style=\"white-space:pre;overflow-x:auto;line-height:normal;font-family:Menlo,'DejaVu Sans Mono',consolas,'Courier New',monospace\"><span style=\"font-weight: bold\">Model: \"functional_1\"</span>\n",
       "</pre>\n"
      ],
      "text/plain": [
       "\u001b[1mModel: \"functional_1\"\u001b[0m\n"
      ]
     },
     "metadata": {},
     "output_type": "display_data"
    },
    {
     "data": {
      "text/html": [
       "<pre style=\"white-space:pre;overflow-x:auto;line-height:normal;font-family:Menlo,'DejaVu Sans Mono',consolas,'Courier New',monospace\">┏━━━━━━━━━━━━━━━━━━━━━┳━━━━━━━━━━━━━━━━━━━┳━━━━━━━━━━━━┳━━━━━━━━━━━━━━━━━━━┓\n",
       "┃<span style=\"font-weight: bold\"> Layer (type)        </span>┃<span style=\"font-weight: bold\"> Output Shape      </span>┃<span style=\"font-weight: bold\">    Param # </span>┃<span style=\"font-weight: bold\"> Connected to      </span>┃\n",
       "┡━━━━━━━━━━━━━━━━━━━━━╇━━━━━━━━━━━━━━━━━━━╇━━━━━━━━━━━━╇━━━━━━━━━━━━━━━━━━━┩\n",
       "│ input_layer_1       │ (<span style=\"color: #00d7ff; text-decoration-color: #00d7ff\">None</span>, <span style=\"color: #00af00; text-decoration-color: #00af00\">224</span>, <span style=\"color: #00af00; text-decoration-color: #00af00\">224</span>,  │          <span style=\"color: #00af00; text-decoration-color: #00af00\">0</span> │ -                 │\n",
       "│ (<span style=\"color: #0087ff; text-decoration-color: #0087ff\">InputLayer</span>)        │ <span style=\"color: #00af00; text-decoration-color: #00af00\">3</span>)                │            │                   │\n",
       "├─────────────────────┼───────────────────┼────────────┼───────────────────┤\n",
       "│ input_layer_2       │ (<span style=\"color: #00d7ff; text-decoration-color: #00d7ff\">None</span>, <span style=\"color: #00af00; text-decoration-color: #00af00\">224</span>, <span style=\"color: #00af00; text-decoration-color: #00af00\">224</span>,  │          <span style=\"color: #00af00; text-decoration-color: #00af00\">0</span> │ -                 │\n",
       "│ (<span style=\"color: #0087ff; text-decoration-color: #0087ff\">InputLayer</span>)        │ <span style=\"color: #00af00; text-decoration-color: #00af00\">3</span>)                │            │                   │\n",
       "├─────────────────────┼───────────────────┼────────────┼───────────────────┤\n",
       "│ input_layer_3       │ (<span style=\"color: #00d7ff; text-decoration-color: #00d7ff\">None</span>, <span style=\"color: #00af00; text-decoration-color: #00af00\">224</span>, <span style=\"color: #00af00; text-decoration-color: #00af00\">224</span>,  │          <span style=\"color: #00af00; text-decoration-color: #00af00\">0</span> │ -                 │\n",
       "│ (<span style=\"color: #0087ff; text-decoration-color: #0087ff\">InputLayer</span>)        │ <span style=\"color: #00af00; text-decoration-color: #00af00\">3</span>)                │            │                   │\n",
       "├─────────────────────┼───────────────────┼────────────┼───────────────────┤\n",
       "│ input_layer_4       │ (<span style=\"color: #00d7ff; text-decoration-color: #00d7ff\">None</span>, <span style=\"color: #00af00; text-decoration-color: #00af00\">224</span>, <span style=\"color: #00af00; text-decoration-color: #00af00\">224</span>,  │          <span style=\"color: #00af00; text-decoration-color: #00af00\">0</span> │ -                 │\n",
       "│ (<span style=\"color: #0087ff; text-decoration-color: #0087ff\">InputLayer</span>)        │ <span style=\"color: #00af00; text-decoration-color: #00af00\">3</span>)                │            │                   │\n",
       "├─────────────────────┼───────────────────┼────────────┼───────────────────┤\n",
       "│ input_layer_5       │ (<span style=\"color: #00d7ff; text-decoration-color: #00d7ff\">None</span>, <span style=\"color: #00af00; text-decoration-color: #00af00\">224</span>, <span style=\"color: #00af00; text-decoration-color: #00af00\">224</span>,  │          <span style=\"color: #00af00; text-decoration-color: #00af00\">0</span> │ -                 │\n",
       "│ (<span style=\"color: #0087ff; text-decoration-color: #0087ff\">InputLayer</span>)        │ <span style=\"color: #00af00; text-decoration-color: #00af00\">3</span>)                │            │                   │\n",
       "├─────────────────────┼───────────────────┼────────────┼───────────────────┤\n",
       "│ input_layer_6       │ (<span style=\"color: #00d7ff; text-decoration-color: #00d7ff\">None</span>, <span style=\"color: #00af00; text-decoration-color: #00af00\">224</span>, <span style=\"color: #00af00; text-decoration-color: #00af00\">224</span>,  │          <span style=\"color: #00af00; text-decoration-color: #00af00\">0</span> │ -                 │\n",
       "│ (<span style=\"color: #0087ff; text-decoration-color: #0087ff\">InputLayer</span>)        │ <span style=\"color: #00af00; text-decoration-color: #00af00\">3</span>)                │            │                   │\n",
       "├─────────────────────┼───────────────────┼────────────┼───────────────────┤\n",
       "│ input_layer_7       │ (<span style=\"color: #00d7ff; text-decoration-color: #00d7ff\">None</span>, <span style=\"color: #00af00; text-decoration-color: #00af00\">224</span>, <span style=\"color: #00af00; text-decoration-color: #00af00\">224</span>,  │          <span style=\"color: #00af00; text-decoration-color: #00af00\">0</span> │ -                 │\n",
       "│ (<span style=\"color: #0087ff; text-decoration-color: #0087ff\">InputLayer</span>)        │ <span style=\"color: #00af00; text-decoration-color: #00af00\">3</span>)                │            │                   │\n",
       "├─────────────────────┼───────────────────┼────────────┼───────────────────┤\n",
       "│ xception            │ (<span style=\"color: #00d7ff; text-decoration-color: #00d7ff\">None</span>, <span style=\"color: #00af00; text-decoration-color: #00af00\">7</span>, <span style=\"color: #00af00; text-decoration-color: #00af00\">7</span>,      │ <span style=\"color: #00af00; text-decoration-color: #00af00\">20,861,480</span> │ input_layer_1[<span style=\"color: #00af00; text-decoration-color: #00af00\">0</span>]… │\n",
       "│ (<span style=\"color: #0087ff; text-decoration-color: #0087ff\">Functional</span>)        │ <span style=\"color: #00af00; text-decoration-color: #00af00\">2048</span>)             │            │ input_layer_2[<span style=\"color: #00af00; text-decoration-color: #00af00\">0</span>]… │\n",
       "│                     │                   │            │ input_layer_3[<span style=\"color: #00af00; text-decoration-color: #00af00\">0</span>]… │\n",
       "│                     │                   │            │ input_layer_4[<span style=\"color: #00af00; text-decoration-color: #00af00\">0</span>]… │\n",
       "│                     │                   │            │ input_layer_5[<span style=\"color: #00af00; text-decoration-color: #00af00\">0</span>]… │\n",
       "│                     │                   │            │ input_layer_6[<span style=\"color: #00af00; text-decoration-color: #00af00\">0</span>]… │\n",
       "│                     │                   │            │ input_layer_7[<span style=\"color: #00af00; text-decoration-color: #00af00\">0</span>]… │\n",
       "├─────────────────────┼───────────────────┼────────────┼───────────────────┤\n",
       "│ global_average_poo… │ (<span style=\"color: #00d7ff; text-decoration-color: #00d7ff\">None</span>, <span style=\"color: #00af00; text-decoration-color: #00af00\">2048</span>)      │          <span style=\"color: #00af00; text-decoration-color: #00af00\">0</span> │ xception[<span style=\"color: #00af00; text-decoration-color: #00af00\">0</span>][<span style=\"color: #00af00; text-decoration-color: #00af00\">0</span>]    │\n",
       "│ (<span style=\"color: #0087ff; text-decoration-color: #0087ff\">GlobalAveragePool…</span> │                   │            │                   │\n",
       "├─────────────────────┼───────────────────┼────────────┼───────────────────┤\n",
       "│ global_average_poo… │ (<span style=\"color: #00d7ff; text-decoration-color: #00d7ff\">None</span>, <span style=\"color: #00af00; text-decoration-color: #00af00\">2048</span>)      │          <span style=\"color: #00af00; text-decoration-color: #00af00\">0</span> │ xception[<span style=\"color: #00af00; text-decoration-color: #00af00\">1</span>][<span style=\"color: #00af00; text-decoration-color: #00af00\">0</span>]    │\n",
       "│ (<span style=\"color: #0087ff; text-decoration-color: #0087ff\">GlobalAveragePool…</span> │                   │            │                   │\n",
       "├─────────────────────┼───────────────────┼────────────┼───────────────────┤\n",
       "│ global_average_poo… │ (<span style=\"color: #00d7ff; text-decoration-color: #00d7ff\">None</span>, <span style=\"color: #00af00; text-decoration-color: #00af00\">2048</span>)      │          <span style=\"color: #00af00; text-decoration-color: #00af00\">0</span> │ xception[<span style=\"color: #00af00; text-decoration-color: #00af00\">2</span>][<span style=\"color: #00af00; text-decoration-color: #00af00\">0</span>]    │\n",
       "│ (<span style=\"color: #0087ff; text-decoration-color: #0087ff\">GlobalAveragePool…</span> │                   │            │                   │\n",
       "├─────────────────────┼───────────────────┼────────────┼───────────────────┤\n",
       "│ global_average_poo… │ (<span style=\"color: #00d7ff; text-decoration-color: #00d7ff\">None</span>, <span style=\"color: #00af00; text-decoration-color: #00af00\">2048</span>)      │          <span style=\"color: #00af00; text-decoration-color: #00af00\">0</span> │ xception[<span style=\"color: #00af00; text-decoration-color: #00af00\">3</span>][<span style=\"color: #00af00; text-decoration-color: #00af00\">0</span>]    │\n",
       "│ (<span style=\"color: #0087ff; text-decoration-color: #0087ff\">GlobalAveragePool…</span> │                   │            │                   │\n",
       "├─────────────────────┼───────────────────┼────────────┼───────────────────┤\n",
       "│ global_average_poo… │ (<span style=\"color: #00d7ff; text-decoration-color: #00d7ff\">None</span>, <span style=\"color: #00af00; text-decoration-color: #00af00\">2048</span>)      │          <span style=\"color: #00af00; text-decoration-color: #00af00\">0</span> │ xception[<span style=\"color: #00af00; text-decoration-color: #00af00\">4</span>][<span style=\"color: #00af00; text-decoration-color: #00af00\">0</span>]    │\n",
       "│ (<span style=\"color: #0087ff; text-decoration-color: #0087ff\">GlobalAveragePool…</span> │                   │            │                   │\n",
       "├─────────────────────┼───────────────────┼────────────┼───────────────────┤\n",
       "│ global_average_poo… │ (<span style=\"color: #00d7ff; text-decoration-color: #00d7ff\">None</span>, <span style=\"color: #00af00; text-decoration-color: #00af00\">2048</span>)      │          <span style=\"color: #00af00; text-decoration-color: #00af00\">0</span> │ xception[<span style=\"color: #00af00; text-decoration-color: #00af00\">5</span>][<span style=\"color: #00af00; text-decoration-color: #00af00\">0</span>]    │\n",
       "│ (<span style=\"color: #0087ff; text-decoration-color: #0087ff\">GlobalAveragePool…</span> │                   │            │                   │\n",
       "├─────────────────────┼───────────────────┼────────────┼───────────────────┤\n",
       "│ global_average_poo… │ (<span style=\"color: #00d7ff; text-decoration-color: #00d7ff\">None</span>, <span style=\"color: #00af00; text-decoration-color: #00af00\">2048</span>)      │          <span style=\"color: #00af00; text-decoration-color: #00af00\">0</span> │ xception[<span style=\"color: #00af00; text-decoration-color: #00af00\">6</span>][<span style=\"color: #00af00; text-decoration-color: #00af00\">0</span>]    │\n",
       "│ (<span style=\"color: #0087ff; text-decoration-color: #0087ff\">GlobalAveragePool…</span> │                   │            │                   │\n",
       "├─────────────────────┼───────────────────┼────────────┼───────────────────┤\n",
       "│ stack_layer         │ (<span style=\"color: #00d7ff; text-decoration-color: #00d7ff\">None</span>, <span style=\"color: #00af00; text-decoration-color: #00af00\">7</span>, <span style=\"color: #00af00; text-decoration-color: #00af00\">2048</span>)   │          <span style=\"color: #00af00; text-decoration-color: #00af00\">0</span> │ global_average_p… │\n",
       "│ (<span style=\"color: #0087ff; text-decoration-color: #0087ff\">StackLayer</span>)        │                   │            │ global_average_p… │\n",
       "│                     │                   │            │ global_average_p… │\n",
       "│                     │                   │            │ global_average_p… │\n",
       "│                     │                   │            │ global_average_p… │\n",
       "│                     │                   │            │ global_average_p… │\n",
       "│                     │                   │            │ global_average_p… │\n",
       "├─────────────────────┼───────────────────┼────────────┼───────────────────┤\n",
       "│ attention_layer     │ (<span style=\"color: #00d7ff; text-decoration-color: #00d7ff\">None</span>, <span style=\"color: #00af00; text-decoration-color: #00af00\">2048</span>)      │  <span style=\"color: #00af00; text-decoration-color: #00af00\">4,198,401</span> │ stack_layer[<span style=\"color: #00af00; text-decoration-color: #00af00\">0</span>][<span style=\"color: #00af00; text-decoration-color: #00af00\">0</span>] │\n",
       "│ (<span style=\"color: #0087ff; text-decoration-color: #0087ff\">AttentionLayer</span>)    │                   │            │                   │\n",
       "├─────────────────────┼───────────────────┼────────────┼───────────────────┤\n",
       "│ dense_2 (<span style=\"color: #0087ff; text-decoration-color: #0087ff\">Dense</span>)     │ (<span style=\"color: #00d7ff; text-decoration-color: #00d7ff\">None</span>, <span style=\"color: #00af00; text-decoration-color: #00af00\">512</span>)       │  <span style=\"color: #00af00; text-decoration-color: #00af00\">1,049,088</span> │ attention_layer[<span style=\"color: #00af00; text-decoration-color: #00af00\">…</span> │\n",
       "├─────────────────────┼───────────────────┼────────────┼───────────────────┤\n",
       "│ batch_normalizatio… │ (<span style=\"color: #00d7ff; text-decoration-color: #00d7ff\">None</span>, <span style=\"color: #00af00; text-decoration-color: #00af00\">512</span>)       │      <span style=\"color: #00af00; text-decoration-color: #00af00\">2,048</span> │ dense_2[<span style=\"color: #00af00; text-decoration-color: #00af00\">0</span>][<span style=\"color: #00af00; text-decoration-color: #00af00\">0</span>]     │\n",
       "│ (<span style=\"color: #0087ff; text-decoration-color: #0087ff\">BatchNormalizatio…</span> │                   │            │                   │\n",
       "├─────────────────────┼───────────────────┼────────────┼───────────────────┤\n",
       "│ dropout (<span style=\"color: #0087ff; text-decoration-color: #0087ff\">Dropout</span>)   │ (<span style=\"color: #00d7ff; text-decoration-color: #00d7ff\">None</span>, <span style=\"color: #00af00; text-decoration-color: #00af00\">512</span>)       │          <span style=\"color: #00af00; text-decoration-color: #00af00\">0</span> │ batch_normalizat… │\n",
       "├─────────────────────┼───────────────────┼────────────┼───────────────────┤\n",
       "│ dense_3 (<span style=\"color: #0087ff; text-decoration-color: #0087ff\">Dense</span>)     │ (<span style=\"color: #00d7ff; text-decoration-color: #00d7ff\">None</span>, <span style=\"color: #00af00; text-decoration-color: #00af00\">5</span>)         │      <span style=\"color: #00af00; text-decoration-color: #00af00\">2,565</span> │ dropout[<span style=\"color: #00af00; text-decoration-color: #00af00\">0</span>][<span style=\"color: #00af00; text-decoration-color: #00af00\">0</span>]     │\n",
       "└─────────────────────┴───────────────────┴────────────┴───────────────────┘\n",
       "</pre>\n"
      ],
      "text/plain": [
       "┏━━━━━━━━━━━━━━━━━━━━━┳━━━━━━━━━━━━━━━━━━━┳━━━━━━━━━━━━┳━━━━━━━━━━━━━━━━━━━┓\n",
       "┃\u001b[1m \u001b[0m\u001b[1mLayer (type)       \u001b[0m\u001b[1m \u001b[0m┃\u001b[1m \u001b[0m\u001b[1mOutput Shape     \u001b[0m\u001b[1m \u001b[0m┃\u001b[1m \u001b[0m\u001b[1m   Param #\u001b[0m\u001b[1m \u001b[0m┃\u001b[1m \u001b[0m\u001b[1mConnected to     \u001b[0m\u001b[1m \u001b[0m┃\n",
       "┡━━━━━━━━━━━━━━━━━━━━━╇━━━━━━━━━━━━━━━━━━━╇━━━━━━━━━━━━╇━━━━━━━━━━━━━━━━━━━┩\n",
       "│ input_layer_1       │ (\u001b[38;5;45mNone\u001b[0m, \u001b[38;5;34m224\u001b[0m, \u001b[38;5;34m224\u001b[0m,  │          \u001b[38;5;34m0\u001b[0m │ -                 │\n",
       "│ (\u001b[38;5;33mInputLayer\u001b[0m)        │ \u001b[38;5;34m3\u001b[0m)                │            │                   │\n",
       "├─────────────────────┼───────────────────┼────────────┼───────────────────┤\n",
       "│ input_layer_2       │ (\u001b[38;5;45mNone\u001b[0m, \u001b[38;5;34m224\u001b[0m, \u001b[38;5;34m224\u001b[0m,  │          \u001b[38;5;34m0\u001b[0m │ -                 │\n",
       "│ (\u001b[38;5;33mInputLayer\u001b[0m)        │ \u001b[38;5;34m3\u001b[0m)                │            │                   │\n",
       "├─────────────────────┼───────────────────┼────────────┼───────────────────┤\n",
       "│ input_layer_3       │ (\u001b[38;5;45mNone\u001b[0m, \u001b[38;5;34m224\u001b[0m, \u001b[38;5;34m224\u001b[0m,  │          \u001b[38;5;34m0\u001b[0m │ -                 │\n",
       "│ (\u001b[38;5;33mInputLayer\u001b[0m)        │ \u001b[38;5;34m3\u001b[0m)                │            │                   │\n",
       "├─────────────────────┼───────────────────┼────────────┼───────────────────┤\n",
       "│ input_layer_4       │ (\u001b[38;5;45mNone\u001b[0m, \u001b[38;5;34m224\u001b[0m, \u001b[38;5;34m224\u001b[0m,  │          \u001b[38;5;34m0\u001b[0m │ -                 │\n",
       "│ (\u001b[38;5;33mInputLayer\u001b[0m)        │ \u001b[38;5;34m3\u001b[0m)                │            │                   │\n",
       "├─────────────────────┼───────────────────┼────────────┼───────────────────┤\n",
       "│ input_layer_5       │ (\u001b[38;5;45mNone\u001b[0m, \u001b[38;5;34m224\u001b[0m, \u001b[38;5;34m224\u001b[0m,  │          \u001b[38;5;34m0\u001b[0m │ -                 │\n",
       "│ (\u001b[38;5;33mInputLayer\u001b[0m)        │ \u001b[38;5;34m3\u001b[0m)                │            │                   │\n",
       "├─────────────────────┼───────────────────┼────────────┼───────────────────┤\n",
       "│ input_layer_6       │ (\u001b[38;5;45mNone\u001b[0m, \u001b[38;5;34m224\u001b[0m, \u001b[38;5;34m224\u001b[0m,  │          \u001b[38;5;34m0\u001b[0m │ -                 │\n",
       "│ (\u001b[38;5;33mInputLayer\u001b[0m)        │ \u001b[38;5;34m3\u001b[0m)                │            │                   │\n",
       "├─────────────────────┼───────────────────┼────────────┼───────────────────┤\n",
       "│ input_layer_7       │ (\u001b[38;5;45mNone\u001b[0m, \u001b[38;5;34m224\u001b[0m, \u001b[38;5;34m224\u001b[0m,  │          \u001b[38;5;34m0\u001b[0m │ -                 │\n",
       "│ (\u001b[38;5;33mInputLayer\u001b[0m)        │ \u001b[38;5;34m3\u001b[0m)                │            │                   │\n",
       "├─────────────────────┼───────────────────┼────────────┼───────────────────┤\n",
       "│ xception            │ (\u001b[38;5;45mNone\u001b[0m, \u001b[38;5;34m7\u001b[0m, \u001b[38;5;34m7\u001b[0m,      │ \u001b[38;5;34m20,861,480\u001b[0m │ input_layer_1[\u001b[38;5;34m0\u001b[0m]… │\n",
       "│ (\u001b[38;5;33mFunctional\u001b[0m)        │ \u001b[38;5;34m2048\u001b[0m)             │            │ input_layer_2[\u001b[38;5;34m0\u001b[0m]… │\n",
       "│                     │                   │            │ input_layer_3[\u001b[38;5;34m0\u001b[0m]… │\n",
       "│                     │                   │            │ input_layer_4[\u001b[38;5;34m0\u001b[0m]… │\n",
       "│                     │                   │            │ input_layer_5[\u001b[38;5;34m0\u001b[0m]… │\n",
       "│                     │                   │            │ input_layer_6[\u001b[38;5;34m0\u001b[0m]… │\n",
       "│                     │                   │            │ input_layer_7[\u001b[38;5;34m0\u001b[0m]… │\n",
       "├─────────────────────┼───────────────────┼────────────┼───────────────────┤\n",
       "│ global_average_poo… │ (\u001b[38;5;45mNone\u001b[0m, \u001b[38;5;34m2048\u001b[0m)      │          \u001b[38;5;34m0\u001b[0m │ xception[\u001b[38;5;34m0\u001b[0m][\u001b[38;5;34m0\u001b[0m]    │\n",
       "│ (\u001b[38;5;33mGlobalAveragePool…\u001b[0m │                   │            │                   │\n",
       "├─────────────────────┼───────────────────┼────────────┼───────────────────┤\n",
       "│ global_average_poo… │ (\u001b[38;5;45mNone\u001b[0m, \u001b[38;5;34m2048\u001b[0m)      │          \u001b[38;5;34m0\u001b[0m │ xception[\u001b[38;5;34m1\u001b[0m][\u001b[38;5;34m0\u001b[0m]    │\n",
       "│ (\u001b[38;5;33mGlobalAveragePool…\u001b[0m │                   │            │                   │\n",
       "├─────────────────────┼───────────────────┼────────────┼───────────────────┤\n",
       "│ global_average_poo… │ (\u001b[38;5;45mNone\u001b[0m, \u001b[38;5;34m2048\u001b[0m)      │          \u001b[38;5;34m0\u001b[0m │ xception[\u001b[38;5;34m2\u001b[0m][\u001b[38;5;34m0\u001b[0m]    │\n",
       "│ (\u001b[38;5;33mGlobalAveragePool…\u001b[0m │                   │            │                   │\n",
       "├─────────────────────┼───────────────────┼────────────┼───────────────────┤\n",
       "│ global_average_poo… │ (\u001b[38;5;45mNone\u001b[0m, \u001b[38;5;34m2048\u001b[0m)      │          \u001b[38;5;34m0\u001b[0m │ xception[\u001b[38;5;34m3\u001b[0m][\u001b[38;5;34m0\u001b[0m]    │\n",
       "│ (\u001b[38;5;33mGlobalAveragePool…\u001b[0m │                   │            │                   │\n",
       "├─────────────────────┼───────────────────┼────────────┼───────────────────┤\n",
       "│ global_average_poo… │ (\u001b[38;5;45mNone\u001b[0m, \u001b[38;5;34m2048\u001b[0m)      │          \u001b[38;5;34m0\u001b[0m │ xception[\u001b[38;5;34m4\u001b[0m][\u001b[38;5;34m0\u001b[0m]    │\n",
       "│ (\u001b[38;5;33mGlobalAveragePool…\u001b[0m │                   │            │                   │\n",
       "├─────────────────────┼───────────────────┼────────────┼───────────────────┤\n",
       "│ global_average_poo… │ (\u001b[38;5;45mNone\u001b[0m, \u001b[38;5;34m2048\u001b[0m)      │          \u001b[38;5;34m0\u001b[0m │ xception[\u001b[38;5;34m5\u001b[0m][\u001b[38;5;34m0\u001b[0m]    │\n",
       "│ (\u001b[38;5;33mGlobalAveragePool…\u001b[0m │                   │            │                   │\n",
       "├─────────────────────┼───────────────────┼────────────┼───────────────────┤\n",
       "│ global_average_poo… │ (\u001b[38;5;45mNone\u001b[0m, \u001b[38;5;34m2048\u001b[0m)      │          \u001b[38;5;34m0\u001b[0m │ xception[\u001b[38;5;34m6\u001b[0m][\u001b[38;5;34m0\u001b[0m]    │\n",
       "│ (\u001b[38;5;33mGlobalAveragePool…\u001b[0m │                   │            │                   │\n",
       "├─────────────────────┼───────────────────┼────────────┼───────────────────┤\n",
       "│ stack_layer         │ (\u001b[38;5;45mNone\u001b[0m, \u001b[38;5;34m7\u001b[0m, \u001b[38;5;34m2048\u001b[0m)   │          \u001b[38;5;34m0\u001b[0m │ global_average_p… │\n",
       "│ (\u001b[38;5;33mStackLayer\u001b[0m)        │                   │            │ global_average_p… │\n",
       "│                     │                   │            │ global_average_p… │\n",
       "│                     │                   │            │ global_average_p… │\n",
       "│                     │                   │            │ global_average_p… │\n",
       "│                     │                   │            │ global_average_p… │\n",
       "│                     │                   │            │ global_average_p… │\n",
       "├─────────────────────┼───────────────────┼────────────┼───────────────────┤\n",
       "│ attention_layer     │ (\u001b[38;5;45mNone\u001b[0m, \u001b[38;5;34m2048\u001b[0m)      │  \u001b[38;5;34m4,198,401\u001b[0m │ stack_layer[\u001b[38;5;34m0\u001b[0m][\u001b[38;5;34m0\u001b[0m] │\n",
       "│ (\u001b[38;5;33mAttentionLayer\u001b[0m)    │                   │            │                   │\n",
       "├─────────────────────┼───────────────────┼────────────┼───────────────────┤\n",
       "│ dense_2 (\u001b[38;5;33mDense\u001b[0m)     │ (\u001b[38;5;45mNone\u001b[0m, \u001b[38;5;34m512\u001b[0m)       │  \u001b[38;5;34m1,049,088\u001b[0m │ attention_layer[\u001b[38;5;34m…\u001b[0m │\n",
       "├─────────────────────┼───────────────────┼────────────┼───────────────────┤\n",
       "│ batch_normalizatio… │ (\u001b[38;5;45mNone\u001b[0m, \u001b[38;5;34m512\u001b[0m)       │      \u001b[38;5;34m2,048\u001b[0m │ dense_2[\u001b[38;5;34m0\u001b[0m][\u001b[38;5;34m0\u001b[0m]     │\n",
       "│ (\u001b[38;5;33mBatchNormalizatio…\u001b[0m │                   │            │                   │\n",
       "├─────────────────────┼───────────────────┼────────────┼───────────────────┤\n",
       "│ dropout (\u001b[38;5;33mDropout\u001b[0m)   │ (\u001b[38;5;45mNone\u001b[0m, \u001b[38;5;34m512\u001b[0m)       │          \u001b[38;5;34m0\u001b[0m │ batch_normalizat… │\n",
       "├─────────────────────┼───────────────────┼────────────┼───────────────────┤\n",
       "│ dense_3 (\u001b[38;5;33mDense\u001b[0m)     │ (\u001b[38;5;45mNone\u001b[0m, \u001b[38;5;34m5\u001b[0m)         │      \u001b[38;5;34m2,565\u001b[0m │ dropout[\u001b[38;5;34m0\u001b[0m][\u001b[38;5;34m0\u001b[0m]     │\n",
       "└─────────────────────┴───────────────────┴────────────┴───────────────────┘\n"
      ]
     },
     "metadata": {},
     "output_type": "display_data"
    },
    {
     "data": {
      "text/html": [
       "<pre style=\"white-space:pre;overflow-x:auto;line-height:normal;font-family:Menlo,'DejaVu Sans Mono',consolas,'Courier New',monospace\"><span style=\"font-weight: bold\"> Total params: </span><span style=\"color: #00af00; text-decoration-color: #00af00\">26,113,582</span> (99.62 MB)\n",
       "</pre>\n"
      ],
      "text/plain": [
       "\u001b[1m Total params: \u001b[0m\u001b[38;5;34m26,113,582\u001b[0m (99.62 MB)\n"
      ]
     },
     "metadata": {},
     "output_type": "display_data"
    },
    {
     "data": {
      "text/html": [
       "<pre style=\"white-space:pre;overflow-x:auto;line-height:normal;font-family:Menlo,'DejaVu Sans Mono',consolas,'Courier New',monospace\"><span style=\"font-weight: bold\"> Trainable params: </span><span style=\"color: #00af00; text-decoration-color: #00af00\">5,251,078</span> (20.03 MB)\n",
       "</pre>\n"
      ],
      "text/plain": [
       "\u001b[1m Trainable params: \u001b[0m\u001b[38;5;34m5,251,078\u001b[0m (20.03 MB)\n"
      ]
     },
     "metadata": {},
     "output_type": "display_data"
    },
    {
     "data": {
      "text/html": [
       "<pre style=\"white-space:pre;overflow-x:auto;line-height:normal;font-family:Menlo,'DejaVu Sans Mono',consolas,'Courier New',monospace\"><span style=\"font-weight: bold\"> Non-trainable params: </span><span style=\"color: #00af00; text-decoration-color: #00af00\">20,862,504</span> (79.58 MB)\n",
       "</pre>\n"
      ],
      "text/plain": [
       "\u001b[1m Non-trainable params: \u001b[0m\u001b[38;5;34m20,862,504\u001b[0m (79.58 MB)\n"
      ]
     },
     "metadata": {},
     "output_type": "display_data"
    }
   ],
   "source": [
    "from tensorflow.keras.models import Model\n",
    "#Model Architecture\n",
    "base_model = Xception(weights='imagenet', include_top=False, input_shape=image_shape)\n",
    "\n",
    "base_model.trainable = False\n",
    "\n",
    "inputs = [Input(shape=image_shape) for _ in range(num_views)]\n",
    "\n",
    "encoded_views = [base_model(view_input) for view_input in inputs]\n",
    "\n",
    "# Apply GlobalAveragePooling to each view's output\n",
    "pooled_views = [GlobalAveragePooling2D()(view_output) for view_output in encoded_views]\n",
    "\n",
    "# Stack the pooled views to apply the attention mechanism\n",
    "stacked_views = StackLayer(axis=1)(pooled_views)  # Shape: (batch_size, num_views, feature_dim)\n",
    "    \n",
    "# Apply the attention layer\n",
    "context_vector = AttentionLayer()(stacked_views)\n",
    "\n",
    "# Add custom layers on top\n",
    "x = Dense(512, activation='relu', kernel_regularizer=l2(0.001))(context_vector)\n",
    "x = BatchNormalization()(x)\n",
    "x = Dropout(0.5)(x)\n",
    "predictions = Dense(num_classes, activation=\"softmax\", kernel_regularizer=l2(0.001))(x)\n",
    "\n",
    "model = Model(inputs=inputs, outputs=predictions)\n",
    "model.compile(optimizer='nadam', loss='categorical_crossentropy', metrics=[\"accuracy\", \"recall\"])\n",
    "model.summary()"
   ]
  },
  {
   "cell_type": "code",
   "execution_count": 10,
   "id": "c501879a",
   "metadata": {
    "execution": {
     "iopub.execute_input": "2024-06-09T16:17:22.414456Z",
     "iopub.status.busy": "2024-06-09T16:17:22.414171Z",
     "iopub.status.idle": "2024-06-09T16:17:22.419568Z",
     "shell.execute_reply": "2024-06-09T16:17:22.418723Z"
    },
    "papermill": {
     "duration": 0.015228,
     "end_time": "2024-06-09T16:17:22.421432",
     "exception": false,
     "start_time": "2024-06-09T16:17:22.406204",
     "status": "completed"
    },
    "tags": []
   },
   "outputs": [
    {
     "data": {
      "text/plain": [
       "\"tuner = RandomSearch(\\n    build_model,\\n    objective='val_accuracy',\\n    max_trials=10,\\n    executions_per_trial=1,\\n    directory='/kaggle/working/results',\\n    project_name='xception_model_tuning'\\n)\""
      ]
     },
     "execution_count": 10,
     "metadata": {},
     "output_type": "execute_result"
    }
   ],
   "source": [
    "'''tuner = RandomSearch(\n",
    "    build_model,\n",
    "    objective='val_accuracy',\n",
    "    max_trials=10,\n",
    "    executions_per_trial=1,\n",
    "    directory='/kaggle/working/results',\n",
    "    project_name='xception_model_tuning'\n",
    ")'''"
   ]
  },
  {
   "cell_type": "code",
   "execution_count": 11,
   "id": "bb304a91",
   "metadata": {
    "execution": {
     "iopub.execute_input": "2024-06-09T16:17:22.436879Z",
     "iopub.status.busy": "2024-06-09T16:17:22.436574Z",
     "iopub.status.idle": "2024-06-09T16:17:22.441839Z",
     "shell.execute_reply": "2024-06-09T16:17:22.440991Z"
    },
    "papermill": {
     "duration": 0.015156,
     "end_time": "2024-06-09T16:17:22.443747",
     "exception": false,
     "start_time": "2024-06-09T16:17:22.428591",
     "status": "completed"
    },
    "tags": []
   },
   "outputs": [
    {
     "data": {
      "text/plain": [
       "'tuner.search(train_generator, validation_data=valid_generator, epochs=10)'"
      ]
     },
     "execution_count": 11,
     "metadata": {},
     "output_type": "execute_result"
    }
   ],
   "source": [
    "'''tuner.search(train_generator, validation_data=valid_generator, epochs=10)'''"
   ]
  },
  {
   "cell_type": "code",
   "execution_count": 12,
   "id": "24f7991e",
   "metadata": {
    "execution": {
     "iopub.execute_input": "2024-06-09T16:17:22.459762Z",
     "iopub.status.busy": "2024-06-09T16:17:22.459469Z",
     "iopub.status.idle": "2024-06-09T20:10:01.426827Z",
     "shell.execute_reply": "2024-06-09T20:10:01.425994Z"
    },
    "papermill": {
     "duration": 13958.978075,
     "end_time": "2024-06-09T20:10:01.429116",
     "exception": false,
     "start_time": "2024-06-09T16:17:22.451041",
     "status": "completed"
    },
    "tags": []
   },
   "outputs": [
    {
     "name": "stdout",
     "output_type": "stream",
     "text": [
      "Epoch 1/80\n"
     ]
    },
    {
     "name": "stderr",
     "output_type": "stream",
     "text": [
      "WARNING: All log messages before absl::InitializeLog() is called are written to STDERR\n",
      "I0000 00:00:1717949913.420340      69 device_compiler.h:186] Compiled cluster using XLA!  This line is logged at most once for the lifetime of the process.\n"
     ]
    },
    {
     "name": "stdout",
     "output_type": "stream",
     "text": [
      "\n",
      "Epoch 1: val_loss improved from inf to 10.69344, saving model to /kaggle/working/multiple_view_shoulder_v2.keras\n",
      "299/299 - 701s - 2s/step - accuracy: 0.5874 - loss: 1.1986 - recall: 0.4044 - val_accuracy: 0.1579 - val_loss: 10.6934 - val_recall: 0.1579 - learning_rate: 0.0010\n",
      "Epoch 2/80\n",
      "\n",
      "Epoch 2: val_loss did not improve from 10.69344\n",
      "299/299 - 418s - 1s/step - accuracy: 0.6722 - loss: 0.9772 - recall: 0.5013 - val_accuracy: 0.1415 - val_loss: 13.8899 - val_recall: 0.1415 - learning_rate: 0.0010\n",
      "Epoch 3/80\n",
      "\n",
      "Epoch 3: val_loss did not improve from 10.69344\n",
      "299/299 - 427s - 1s/step - accuracy: 0.6826 - loss: 0.9646 - recall: 0.5069 - val_accuracy: 0.2445 - val_loss: 12.2122 - val_recall: 0.2445 - learning_rate: 0.0010\n",
      "Epoch 4/80\n",
      "\n",
      "Epoch 4: val_loss did not improve from 10.69344\n",
      "299/299 - 414s - 1s/step - accuracy: 0.6847 - loss: 0.9441 - recall: 0.5312 - val_accuracy: 0.1427 - val_loss: 13.6281 - val_recall: 0.1427 - learning_rate: 0.0010\n",
      "Epoch 5/80\n",
      "\n",
      "Epoch 5: val_loss did not improve from 10.69344\n",
      "\n",
      "Epoch 5: ReduceLROnPlateau reducing learning rate to 0.00020000000949949026.\n",
      "299/299 - 427s - 1s/step - accuracy: 0.6325 - loss: 1.0461 - recall: 0.4514 - val_accuracy: 0.1575 - val_loss: 13.6426 - val_recall: 0.1575 - learning_rate: 0.0010\n",
      "Epoch 6/80\n",
      "\n",
      "Epoch 6: val_loss improved from 10.69344 to 5.93928, saving model to /kaggle/working/multiple_view_shoulder_v2.keras\n",
      "299/299 - 412s - 1s/step - accuracy: 0.2867 - loss: 1.6436 - recall: 3.1355e-04 - val_accuracy: 0.1579 - val_loss: 5.9393 - val_recall: 0.1579 - learning_rate: 2.0000e-04\n",
      "Epoch 7/80\n",
      "\n",
      "Epoch 7: val_loss improved from 5.93928 to 1.72826, saving model to /kaggle/working/multiple_view_shoulder_v2.keras\n",
      "299/299 - 409s - 1s/step - accuracy: 0.2863 - loss: 1.6345 - recall: 2.0903e-04 - val_accuracy: 0.2905 - val_loss: 1.7283 - val_recall: 4.2230e-04 - learning_rate: 2.0000e-04\n",
      "Epoch 8/80\n",
      "\n",
      "Epoch 8: val_loss did not improve from 1.72826\n",
      "299/299 - 429s - 1s/step - accuracy: 0.2860 - loss: 1.6254 - recall: 6.2709e-04 - val_accuracy: 0.1423 - val_loss: 2.2739 - val_recall: 4.2230e-04 - learning_rate: 2.0000e-04\n",
      "Epoch 9/80\n",
      "\n",
      "Epoch 9: val_loss improved from 1.72826 to 1.66697, saving model to /kaggle/working/multiple_view_shoulder_v2.keras\n",
      "299/299 - 413s - 1s/step - accuracy: 0.2861 - loss: 1.6225 - recall: 3.1355e-04 - val_accuracy: 0.2458 - val_loss: 1.6670 - val_recall: 4.2230e-04 - learning_rate: 2.0000e-04\n",
      "Epoch 10/80\n",
      "\n",
      "Epoch 10: val_loss did not improve from 1.66697\n",
      "299/299 - 414s - 1s/step - accuracy: 0.2878 - loss: 1.6198 - recall: 7.3161e-04 - val_accuracy: 0.2901 - val_loss: 1.7990 - val_recall: 0.2901 - learning_rate: 2.0000e-04\n",
      "Epoch 11/80\n",
      "\n",
      "Epoch 11: val_loss did not improve from 1.66697\n",
      "299/299 - 436s - 1s/step - accuracy: 0.2855 - loss: 1.6185 - recall: 5.2258e-04 - val_accuracy: 0.2914 - val_loss: 1.8268 - val_recall: 4.2230e-04 - learning_rate: 2.0000e-04\n",
      "Epoch 12/80\n",
      "\n",
      "Epoch 12: val_loss did not improve from 1.66697\n",
      "299/299 - 418s - 1s/step - accuracy: 0.2880 - loss: 1.6129 - recall: 5.2258e-04 - val_accuracy: 0.1647 - val_loss: 1.9427 - val_recall: 4.2230e-04 - learning_rate: 2.0000e-04\n",
      "Epoch 13/80\n",
      "\n",
      "Epoch 13: val_loss did not improve from 1.66697\n",
      "\n",
      "Epoch 13: ReduceLROnPlateau reducing learning rate to 4.0000001899898055e-05.\n",
      "299/299 - 434s - 1s/step - accuracy: 0.2876 - loss: 1.6109 - recall: 4.1806e-04 - val_accuracy: 0.1634 - val_loss: 1.8741 - val_recall: 4.2230e-04 - learning_rate: 2.0000e-04\n",
      "Epoch 14/80\n",
      "\n",
      "Epoch 14: val_loss improved from 1.66697 to 1.60971, saving model to /kaggle/working/multiple_view_shoulder_v2.keras\n",
      "299/299 - 435s - 1s/step - accuracy: 0.2840 - loss: 1.6134 - recall: 4.1806e-04 - val_accuracy: 0.2905 - val_loss: 1.6097 - val_recall: 4.2230e-04 - learning_rate: 4.0000e-05\n",
      "Epoch 15/80\n",
      "\n",
      "Epoch 15: val_loss did not improve from 1.60971\n",
      "299/299 - 423s - 1s/step - accuracy: 0.2861 - loss: 1.6095 - recall: 6.2709e-04 - val_accuracy: 0.2884 - val_loss: 1.6128 - val_recall: 4.2230e-04 - learning_rate: 4.0000e-05\n",
      "Epoch 16/80\n",
      "\n",
      "Epoch 16: val_loss did not improve from 1.60971\n",
      "299/299 - 417s - 1s/step - accuracy: 0.2857 - loss: 1.6092 - recall: 5.2258e-04 - val_accuracy: 0.2918 - val_loss: 1.6162 - val_recall: 4.2230e-04 - learning_rate: 4.0000e-05\n",
      "Epoch 17/80\n",
      "\n",
      "Epoch 17: val_loss did not improve from 1.60971\n",
      "299/299 - 417s - 1s/step - accuracy: 0.2846 - loss: 1.6058 - recall: 7.3161e-04 - val_accuracy: 0.2901 - val_loss: 1.6143 - val_recall: 4.2230e-04 - learning_rate: 4.0000e-05\n",
      "Epoch 18/80\n",
      "\n",
      "Epoch 18: val_loss did not improve from 1.60971\n",
      "\n",
      "Epoch 18: ReduceLROnPlateau reducing learning rate to 8.000000525498762e-06.\n",
      "299/299 - 428s - 1s/step - accuracy: 0.2867 - loss: 1.6093 - recall: 2.0903e-04 - val_accuracy: 0.2897 - val_loss: 1.6192 - val_recall: 8.4459e-04 - learning_rate: 4.0000e-05\n",
      "Epoch 19/80\n",
      "\n",
      "Epoch 19: val_loss improved from 1.60971 to 1.60375, saving model to /kaggle/working/multiple_view_shoulder_v2.keras\n",
      "299/299 - 438s - 1s/step - accuracy: 0.2854 - loss: 1.6080 - recall: 1.0452e-04 - val_accuracy: 0.2901 - val_loss: 1.6038 - val_recall: 0.0013 - learning_rate: 8.0000e-06\n",
      "Epoch 20/80\n",
      "\n",
      "Epoch 20: val_loss improved from 1.60375 to 1.60267, saving model to /kaggle/working/multiple_view_shoulder_v2.keras\n",
      "299/299 - 450s - 2s/step - accuracy: 0.2878 - loss: 1.6044 - recall: 3.1355e-04 - val_accuracy: 0.2905 - val_loss: 1.6027 - val_recall: 4.2230e-04 - learning_rate: 8.0000e-06\n",
      "Epoch 21/80\n",
      "\n",
      "Epoch 21: val_loss did not improve from 1.60267\n",
      "299/299 - 440s - 1s/step - accuracy: 0.2860 - loss: 1.6096 - recall: 2.0903e-04 - val_accuracy: 0.2445 - val_loss: 1.6052 - val_recall: 4.2230e-04 - learning_rate: 8.0000e-06\n",
      "Epoch 22/80\n",
      "\n",
      "Epoch 22: val_loss improved from 1.60267 to 1.59772, saving model to /kaggle/working/multiple_view_shoulder_v2.keras\n",
      "299/299 - 447s - 1s/step - accuracy: 0.2865 - loss: 1.6058 - recall: 3.1355e-04 - val_accuracy: 0.2893 - val_loss: 1.5977 - val_recall: 8.4459e-04 - learning_rate: 8.0000e-06\n",
      "Epoch 23/80\n",
      "\n",
      "Epoch 23: val_loss did not improve from 1.59772\n",
      "299/299 - 422s - 1s/step - accuracy: 0.2865 - loss: 1.6057 - recall: 5.2258e-04 - val_accuracy: 0.2901 - val_loss: 1.6017 - val_recall: 4.2230e-04 - learning_rate: 8.0000e-06\n",
      "Epoch 24/80\n",
      "\n",
      "Epoch 24: val_loss did not improve from 1.59772\n",
      "299/299 - 451s - 2s/step - accuracy: 0.2864 - loss: 1.6046 - recall: 6.2709e-04 - val_accuracy: 0.2910 - val_loss: 1.6019 - val_recall: 4.2230e-04 - learning_rate: 8.0000e-06\n",
      "Epoch 25/80\n",
      "\n",
      "Epoch 25: val_loss did not improve from 1.59772\n",
      "299/299 - 438s - 1s/step - accuracy: 0.2886 - loss: 1.6038 - recall: 7.3161e-04 - val_accuracy: 0.2910 - val_loss: 1.6010 - val_recall: 4.2230e-04 - learning_rate: 8.0000e-06\n",
      "Epoch 26/80\n",
      "\n",
      "Epoch 26: val_loss did not improve from 1.59772\n",
      "\n",
      "Epoch 26: ReduceLROnPlateau reducing learning rate to 1.6000001778593287e-06.\n",
      "299/299 - 419s - 1s/step - accuracy: 0.2886 - loss: 1.6042 - recall: 3.1355e-04 - val_accuracy: 0.2922 - val_loss: 1.6005 - val_recall: 4.2230e-04 - learning_rate: 8.0000e-06\n",
      "Epoch 27/80\n",
      "\n",
      "Epoch 27: val_loss did not improve from 1.59772\n",
      "299/299 - 438s - 1s/step - accuracy: 0.2877 - loss: 1.6018 - recall: 8.3612e-04 - val_accuracy: 0.2905 - val_loss: 1.5998 - val_recall: 4.2230e-04 - learning_rate: 1.6000e-06\n",
      "Epoch 28/80\n",
      "\n",
      "Epoch 28: val_loss did not improve from 1.59772\n",
      "299/299 - 427s - 1s/step - accuracy: 0.2851 - loss: 1.6029 - recall: 7.3161e-04 - val_accuracy: 0.2901 - val_loss: 1.6013 - val_recall: 4.2230e-04 - learning_rate: 1.6000e-06\n",
      "Epoch 29/80\n",
      "\n",
      "Epoch 29: val_loss did not improve from 1.59772\n",
      "299/299 - 436s - 1s/step - accuracy: 0.2870 - loss: 1.6035 - recall: 3.1355e-04 - val_accuracy: 0.2905 - val_loss: 1.6010 - val_recall: 4.2230e-04 - learning_rate: 1.6000e-06\n",
      "Epoch 30/80\n",
      "\n",
      "Epoch 30: val_loss did not improve from 1.59772\n",
      "\n",
      "Epoch 30: ReduceLROnPlateau reducing learning rate to 3.200000264769187e-07.\n",
      "299/299 - 427s - 1s/step - accuracy: 0.2872 - loss: 1.6033 - recall: 4.1806e-04 - val_accuracy: 0.2901 - val_loss: 1.6008 - val_recall: 4.2230e-04 - learning_rate: 1.6000e-06\n",
      "Epoch 31/80\n",
      "\n",
      "Epoch 31: val_loss did not improve from 1.59772\n",
      "299/299 - 420s - 1s/step - accuracy: 0.2884 - loss: 1.6028 - recall: 5.2258e-04 - val_accuracy: 0.2910 - val_loss: 1.6005 - val_recall: 4.2230e-04 - learning_rate: 3.2000e-07\n",
      "Epoch 32/80\n",
      "\n",
      "Epoch 32: val_loss did not improve from 1.59772\n",
      "299/299 - 430s - 1s/step - accuracy: 0.2865 - loss: 1.6046 - recall: 3.1355e-04 - val_accuracy: 0.2914 - val_loss: 1.5997 - val_recall: 4.2230e-04 - learning_rate: 3.2000e-07\n",
      "Epoch 32: early stopping\n",
      "Restoring model weights from the end of the best epoch: 22.\n"
     ]
    }
   ],
   "source": [
    "history = model.fit(train_generator,\n",
    "                    validation_data=valid_generator,\n",
    "                    callbacks=[early_stopping,model_checkpoint, learn_control],\n",
    "                    epochs=80,\n",
    "                    verbose=2)"
   ]
  },
  {
   "cell_type": "code",
   "execution_count": 13,
   "id": "153d41a2",
   "metadata": {
    "execution": {
     "iopub.execute_input": "2024-06-09T20:10:01.462945Z",
     "iopub.status.busy": "2024-06-09T20:10:01.462635Z",
     "iopub.status.idle": "2024-06-09T20:10:02.022031Z",
     "shell.execute_reply": "2024-06-09T20:10:02.021127Z"
    },
    "papermill": {
     "duration": 0.577547,
     "end_time": "2024-06-09T20:10:02.023937",
     "exception": false,
     "start_time": "2024-06-09T20:10:01.446390",
     "status": "completed"
    },
    "tags": []
   },
   "outputs": [
    {
     "data": {
      "text/plain": [
       "<Axes: >"
      ]
     },
     "execution_count": 13,
     "metadata": {},
     "output_type": "execute_result"
    },
    {
     "data": {
      "image/png": "[encoded data removed]",
      "text/plain": [
       "<Figure size 640x480 with 1 Axes>"
      ]
     },
     "metadata": {},
     "output_type": "display_data"
    },
    {
     "data": {
      "image/png": "[encoded data removed]",
      "text/plain": [
       "<Figure size 640x480 with 1 Axes>"
      ]
     },
     "metadata": {},
     "output_type": "display_data"
    }
   ],
   "source": [
    "history_df = pd.DataFrame(history.history)\n",
    "history_df[['loss', 'val_loss']].plot()\n",
    "history_df[['accuracy','recall']].plot()"
   ]
  },
  {
   "cell_type": "code",
   "execution_count": 14,
   "id": "0813675e",
   "metadata": {
    "execution": {
     "iopub.execute_input": "2024-06-09T20:10:02.057657Z",
     "iopub.status.busy": "2024-06-09T20:10:02.057336Z",
     "iopub.status.idle": "2024-06-09T20:10:51.094717Z",
     "shell.execute_reply": "2024-06-09T20:10:51.093685Z"
    },
    "papermill": {
     "duration": 49.056234,
     "end_time": "2024-06-09T20:10:51.096634",
     "exception": false,
     "start_time": "2024-06-09T20:10:02.040400",
     "status": "completed"
    },
    "tags": []
   },
   "outputs": [
    {
     "name": "stdout",
     "output_type": "stream",
     "text": [
      "\u001b[1m29/29\u001b[0m \u001b[32m━━━━━━━━━━━━━━━━━━━━\u001b[0m\u001b[37m\u001b[0m \u001b[1m46s\u001b[0m 2s/step - accuracy: 0.2663 - loss: 1.6192 - recall: 0.0000e+00\n",
      "Loss: 1.6299785375595093\n",
      "Accuracy: 0.2532327473163605\n"
     ]
    }
   ],
   "source": [
    "loss, accuracy,recall = model.evaluate(test_generator)\n",
    "print(f\"Loss: {loss}\")\n",
    "print(f\"Accuracy: {accuracy}\")"
   ]
  }
 ],
 "metadata": {
  "kaggle": {
   "accelerator": "gpu",
   "dataSources": [
    {
     "datasetId": 427555,
     "sourceId": 813639,
     "sourceType": "datasetVersion"
    },
    {
     "datasetId": 4776881,
     "sourceId": 8091050,
     "sourceType": "datasetVersion"
    },
    {
     "datasetId": 5064664,
     "sourceId": 8489424,
     "sourceType": "datasetVersion"
    }
   ],
   "dockerImageVersionId": 30699,
   "isGpuEnabled": true,
   "isInternetEnabled": true,
   "language": "python",
   "sourceType": "notebook"
  },
  "kernelspec": {
   "display_name": "Python 3",
   "language": "python",
   "name": "python3"
  },
  "language_info": {
   "codemirror_mode": {
    "name": "ipython",
    "version": 3
   },
   "file_extension": ".py",
   "mimetype": "text/x-python",
   "name": "python",
   "nbconvert_exporter": "python",
   "pygments_lexer": "ipython3",
   "version": "3.10.13"
  },
  "papermill": {
   "default_parameters": {},
   "duration": 14030.761711,
   "end_time": "2024-06-09T20:10:54.116889",
   "environment_variables": {},
   "exception": null,
   "input_path": "__notebook__.ipynb",
   "output_path": "__notebook__.ipynb",
   "parameters": {},
   "start_time": "2024-06-09T16:17:03.355178",
   "version": "2.5.0"
  }
 },
 "nbformat": 4,
 "nbformat_minor": 5
}
